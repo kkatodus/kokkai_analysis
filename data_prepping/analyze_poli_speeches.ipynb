{
 "cells": [
  {
   "cell_type": "code",
   "execution_count": 5,
   "metadata": {},
   "outputs": [],
   "source": [
    "import torch"
   ]
  },
  {
   "cell_type": "code",
   "execution_count": 2,
   "metadata": {},
   "outputs": [],
   "source": [
    "from transformers import AutoTokenizer, BertForSequenceClassification\n",
    "\n",
    "model_name = \"kkatodus/jp-speech-classifier\"\n",
    "tokenizer = AutoTokenizer.from_pretrained(model_name)\n",
    "model = BertForSequenceClassification.from_pretrained(model_name)\n"
   ]
  },
  {
   "cell_type": "code",
   "execution_count": 16,
   "metadata": {},
   "outputs": [
    {
     "name": "stdout",
     "output_type": "stream",
     "text": [
      "こうしたルールをやめて、住民の命と暮らしを支えるための財政需要に応えた地方財政の在り方へと根本的に転換すべきではありませんか => 意見文\n",
      "バナナはおやつに入りますか => 質問文\n"
     ]
    }
   ],
   "source": [
    "example_sentence = \"こうしたルールをやめて、住民の命と暮らしを支えるための財政需要に応えた地方財政の在り方へと根本的に転換すべきではありませんか\"\n",
    "example_sentence2 = \"バナナはおやつに入りますか\"\n",
    "sentences = [example_sentence, example_sentence2]\n",
    "encoded = tokenizer(sentences, return_tensors=\"pt\", padding=True, truncation=True, max_length=512)\n",
    "\n",
    "with torch.no_grad():\n",
    "\tlogits = model(**encoded).logits\n",
    "predicted_class_id = logits.argmax(dim=1)\n",
    "for idx, pred_id in enumerate(list(predicted_class_id)):\n",
    "\tprint(f\"{sentences[idx]} => {model.config.id2label[pred_id.item()]}\")"
   ]
  },
  {
   "cell_type": "code",
   "execution_count": null,
   "metadata": {},
   "outputs": [],
   "source": []
  }
 ],
 "metadata": {
  "kernelspec": {
   "display_name": "kokkai_venv",
   "language": "python",
   "name": "python3"
  },
  "language_info": {
   "codemirror_mode": {
    "name": "ipython",
    "version": 3
   },
   "file_extension": ".py",
   "mimetype": "text/x-python",
   "name": "python",
   "nbconvert_exporter": "python",
   "pygments_lexer": "ipython3",
   "version": "3.10.9"
  },
  "orig_nbformat": 4
 },
 "nbformat": 4,
 "nbformat_minor": 2
}
