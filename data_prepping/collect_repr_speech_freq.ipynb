{
 "cells": [
  {
   "cell_type": "code",
   "execution_count": null,
   "metadata": {},
   "outputs": [],
   "source": [
    "import os\n",
    "import re\n",
    "from params.paths import ROOT_DIR\n",
    "from api_requests.meeting_convo_collector import MeetingConvoCollector\n",
    "from file_handling.file_read_writer import read_json, write_json, create_dir, write_file\n",
    "#paths\n",
    "LOWER_HOUSE_DATA_DIR = os.path.join(ROOT_DIR, 'data', 'data_shugiin')\n",
    "UPPER_HOUSE_DATA_DIR = os.path.join(ROOT_DIR, 'data', 'data_sangiin')\n",
    "\n",
    "#reading the reprentative data for lower and upper house\n",
    "lower_repr_dir = os.path.join(LOWER_HOUSE_DATA_DIR, 'repr_list')\n",
    "lower_repr_file = os.listdir(lower_repr_dir)[0]\n",
    "lower_house_member_list = read_json(os.path.join(lower_repr_dir, lower_repr_file))\n",
    "speech_freq_file_path = os.path.join(LOWER_HOUSE_DATA_DIR, 'speech_freq.json')\n",
    "\n",
    "upper_repr_dir = os.path.join(UPPER_HOUSE_DATA_DIR, 'repr_list')\n",
    "upper_repr_file = os.listdir(upper_repr_dir)[0]\n",
    "upper_house_member_list = read_json(os.path.join(upper_repr_dir, upper_repr_file))\n",
    "# %%\n",
    "mcc = MeetingConvoCollector(\"https://kokkai.ndl.go.jp/api/speech?\")"
   ]
  },
  {
   "cell_type": "code",
   "execution_count": null,
   "metadata": {},
   "outputs": [],
   "source": [
    "def clean_repr_name(repr_name):\n",
    "\trepr_name = re.sub('\\s|君|\\[(.*?)\\]', '', repr_name)\n",
    "\treturn repr_name\n",
    "def get_total_speech_freq_from_api(responses):\n",
    "\tfreq = 0\n",
    "\tfor response in responses:\n",
    "\t\tfreq += response['numberOfRecords']\n",
    "\treturn freq\n",
    "\n",
    "def get_speech_freq_for_repr_for_year(repr_name, start_year):\n",
    "\tconditions_list = [\n",
    "\t\t\tf\"speaker={repr_name}\",\n",
    "\t\t\tf\"from={start_year}-01-01\",\n",
    "\t\t\tf\"until={start_year}-12-31\",\n",
    "\t\t\t# f\"nameOfHouse=両院\",\n",
    "\t\t\t'recordPacking=json'\n",
    "\t]\n",
    "\tsearch_requests = mcc.make_requests(conditions_list=conditions_list)\n",
    "\treturn get_total_speech_freq_from_api(search_requests)\n"
   ]
  },
  {
   "cell_type": "code",
   "execution_count": null,
   "metadata": {},
   "outputs": [],
   "source": [
    "while True:\n",
    "\ttry:\n",
    "\t\toutput_arr = []\n",
    "\t\tif os.path.exists(speech_freq_file_path):\n",
    "\t\t\toutput_arr = read_json(speech_freq_file_path)\n",
    "\t\tfor idx, year in enumerate(range(1990, 2023)):\n",
    "\t\t\tif idx < len(output_arr):\n",
    "\t\t\t\tcontinue\n",
    "\t\t\tyear_dict = {\n",
    "\t\t\t\t'year': year,\n",
    "\t\t\t}\n",
    "\t\t\tfor party, members in lower_house_member_list['reprs'].items():\n",
    "\t\t\t\tfor member in members:\n",
    "\t\t\t\t\tname = member['name']\n",
    "\t\t\t\t\tname = clean_repr_name(name)\n",
    "\t\t\t\t\tfreq = get_speech_freq_for_repr_for_year(name, year)\n",
    "\t\t\t\t\tyear_dict[f'{party} {name}'] = freq\n",
    "\t\t\t\t\t\n",
    "\t\t\toutput_arr.append(year_dict)\t\n",
    "\t\t\twrite_json(output_arr, speech_freq_file_path)\n",
    "\texcept Exception as e:\n",
    "\t\tprint(e)\n",
    "\t\tprint('Exception occured trying again')"
   ]
  }
 ],
 "metadata": {
  "kernelspec": {
   "display_name": "kokkai_venv",
   "language": "python",
   "name": "python3"
  },
  "language_info": {
   "codemirror_mode": {
    "name": "ipython",
    "version": 3
   },
   "file_extension": ".py",
   "mimetype": "text/x-python",
   "name": "python",
   "nbconvert_exporter": "python",
   "pygments_lexer": "ipython3",
   "version": "3.10.12"
  }
 },
 "nbformat": 4,
 "nbformat_minor": 2
}
