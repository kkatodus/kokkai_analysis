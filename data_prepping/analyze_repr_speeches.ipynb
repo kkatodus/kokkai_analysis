{
 "cells": [
  {
   "cell_type": "code",
   "execution_count": 47,
   "metadata": {},
   "outputs": [],
   "source": [
    "import os\n",
    "from params.paths import ROOT_DIR, CHROMEDRIVER_PATH\n",
    "from file_handling.file_read_writer import read_json, write_json, create_dir, write_file\n",
    "from data_process.string_processor import StringProcessor\n",
    "from collections import Counter, OrderedDict\n",
    "import pandas as pd\n",
    "import numpy as np"
   ]
  },
  {
   "cell_type": "code",
   "execution_count": 48,
   "metadata": {},
   "outputs": [],
   "source": [
    "# params and paths\n",
    "DATA_DIR = os.path.join(ROOT_DIR, 'data_prepping', 'data')\n",
    "SPEECHES_DIR = os.path.join(DATA_DIR, 'data_repr')"
   ]
  },
  {
   "attachments": {},
   "cell_type": "markdown",
   "metadata": {},
   "source": [
    "# Testing out mecab and unidic"
   ]
  },
  {
   "cell_type": "code",
   "execution_count": 49,
   "metadata": {},
   "outputs": [
    {
     "name": "stdout",
     "output_type": "stream",
     "text": [
      "['生', '国務', '大臣', '\\u3000', '一', '九', '五', '一', '年', '、', '朝鮮', '事変', '勃発', '、', 'その', 'とき', 'に', 'この', '日米', '安保', '条約', 'と', 'いう', 'の', 'は', '結ば', 'れ', 'た', 'の', 'が', '最初', 'だ', 'と', '思い', 'ます', 'が', '、', 'その', 'とき', 'に', '、', 'サンフランシスコ', 'の', '講和', '条約', '、', 'まあ', '、', 'あの', 'ころ', 'みんな', 'がちゃがちゃ', 'と', '始まっ', 'た', 'ん', 'です', 'けれど', 'も', '。', '\\r', '\\u3000', '記憶', 'に', 'ある', 'の', 'は', '、', 'あの', 'とき', 'は', '、', '単独', '講和', 'か', '全面', '講和', 'か', 'と', 'いう', '言葉', 'が', 'えらく', '新聞', 'に', '躍っ', 'て', 'い', 'まし', 'た', 'けれど', 'も', '、', '日本', 'の', '加盟', 'に', '賛成', 'し', 'た', 'の', 'は', '四十', '三', 'カ国', 'が', '単独', 'で', '、', '反対', 'し', 'た', 'の', 'は', 'ソ連', '、', 'ポーランド', '、', 'ハンガリー', 'だっ', 'た', 'か', 'な', '、', 'その', '三', 'カ国', 'は', '反対', 'と', 'いう', 'こと', 'で', '、', 'これ', 'は', '、', '四十', '三', '対', '三', 'だっ', 'たら', '、', '単独', '講和', 'じゃ', 'なく', 'て', '多数', '講和', 'か', '全面', '講和', 'か', 'の', '違い', 'な', 'ん', 'じゃ', 'ない', 'の', 'と', '、', '子供', '心', 'に', 'そう', '思っ', 'た', '記憶', 'が', 'あり', 'ます', 'けれど', 'も', '。', '\\r', '\\u3000', 'あの', '時代', 'から', '七十', '年', '近く', 'が', 'たち', 'まし', 'て', '、', '今', 'は', '、', '米ソ', '冷戦', 'と', 'いう', 'の', 'は', '、', '三十', '年', '前', '、', '八', '九', '年', 'に', '終わっ', 'て', 'おり', 'ます', '。', 'ベルリン', 'の', '壁', '崩壊', 'と', 'とも', 'に', '終わっ', 'て', 'おり', 'ます', 'の', 'で', '。', '\\r', '\\u3000', '今', 'は', '、', '新た', 'に', '、', '米中', 'みたい', 'な', '形', 'に', 'なっ', 'て', 'き', 'て', '、', '間違い', 'なく', '、', '日本', 'の', '周辺', '水域', 'や', '何', 'か', 'に', 'おい', 'て', 'も', '、', '北', 'の', '守り', 'より', 'は', '、', 'むしろ', '、', '我々', 'の', '方', 'の', '南', 'の', 'ところ', 'で', '、', '南', 'シナ', '海', 'の', '話', 'と', 'か', '東', 'シナ', '海', 'の', '話', 'と', 'か', '北朝鮮', 'の', '話', 'に', 'なっ', 'て', 'き', 'て', '、', '状況', 'は', '随分', '変わっ', 'て', 'き', 'た', 'と', '思い', 'ます', 'が', '、', 'この', '日米', '安全', '保障', '条約', 'と', 'いう', 'もの', 'が', '日本', 'の', '防衛', '、', '安保', '、', '外交', '等々', 'の', '中', 'に', 'おい', 'て', '非常', 'に', '大きな', '役割', 'を', '果たし', 'て', 'おり', 'ます', 'の', 'で', '、', '今後', 'とも', 'この', '日米', '安全', '保障', '条約', 'と', 'いう', 'もの', 'が', '日本', 'の', '防衛', '、', '外交', '上', '極めて', '重要', 'な', 'もの', 'で', 'あり', '続ける', 'で', 'あろう', 'と', 'いう', 'の', 'は', '、', 'この', '間', 'の', '六十', '周年', 'に', '行っ', 'て', '、', '改めて', 'そう', '感じ', 'た', 'ところ', 'です', 'EOS', '']\n",
      "['接頭辞,,,,,,生,ナマ,ナマ', '名詞,普通名詞,一般,,,,国務,コクム,コクム', '名詞,普通名詞,一般,,,,大臣,ダイジン,ダイジン', '空白,,,,,,\\u3000,,', '名詞,数詞,,,,,一,イチ,イチ', '名詞,数詞,,,,,九,キュー,キュー', '名詞,数詞,,,,,五,ゴ,ゴ', '名詞,数詞,,,,,一,イチ,イチ', '名詞,普通名詞,助数詞可能,,,,年,ネン,ネン', '補助記号,読点,,,,,、,,', '名詞,固有名詞,地名,国,,,朝鮮,チョーセン,チョーセン', '名詞,普通名詞,一般,,,,事変,ジヘン,ジヘン', '名詞,普通名詞,サ変可能,,,,勃発,ボッパツ,ボッパツ', '補助記号,読点,,,,,、,,', '連体詞,,,,,,その,ソノ,ソノ', '名詞,普通名詞,副詞可能,,,,とき,トキ,トキ', '助詞,格助詞,,,,,に,ニ,ニ', '連体詞,,,,,,この,コノ,コノ', '名詞,普通名詞,一般,,,,日米,ニチベー,ニチベー', '名詞,普通名詞,一般,,,,安保,アンポ,アンポ', '名詞,普通名詞,一般,,,,条約,ジョーヤク,ジョーヤク', '助詞,格助詞,,,,,と,ト,ト', '動詞,一般,,,五段-ワア行,連体形-一般,いう,ユー,ユー', '助詞,準体助詞,,,,,の,ノ,ノ', '助詞,係助詞,,,,,は,ワ,ワ', '動詞,一般,,,五段-バ行,未然形-一般,結ぶ,ムスバ,ムスブ', '助動詞,,,,助動詞-レル,連用形-一般,れる,レ,レル', '助動詞,,,,助動詞-タ,連体形-一般,た,タ,タ', '助詞,準体助詞,,,,,の,ノ,ノ', '助詞,格助詞,,,,,が,ガ,ガ', '名詞,普通名詞,副詞可能,,,,最初,サイショ,サイショ', '助動詞,,,,助動詞-ダ,終止形-一般,だ,ダ,ダ', '助詞,格助詞,,,,,と,ト,ト', '動詞,一般,,,五段-ワア行,連用形-一般,思う,オモイ,オモウ', '助動詞,,,,助動詞-マス,終止形-一般,ます,マス,マス', '助詞,接続助詞,,,,,が,ガ,ガ', '補助記号,読点,,,,,、,,', '連体詞,,,,,,その,ソノ,ソノ', '名詞,普通名詞,副詞可能,,,,とき,トキ,トキ', '助詞,格助詞,,,,,に,ニ,ニ', '補助記号,読点,,,,,、,,', '名詞,固有名詞,地名,一般,,,サンフランシスコ,サンフランシスコ,サンフランシスコ', '助詞,格助詞,,,,,の,ノ,ノ', '名詞,普通名詞,サ変可能,,,,講和,コーワ,コーワ', '名詞,普通名詞,一般,,,,条約,ジョーヤク,ジョーヤク', '補助記号,読点,,,,,、,,', '副詞,,,,,,まあ,マー,マー', '補助記号,読点,,,,,、,,', '連体詞,,,,,,あの,アノ,アノ', '名詞,普通名詞,副詞可能,,,,ころ,コロ,コロ', '名詞,普通名詞,副詞可能,,,,みんな,ミンナ,ミンナ', '副詞,,,,,,がちゃがちゃ,ガチャガチャ,ガチャガチャ', '助詞,格助詞,,,,,と,ト,ト', '動詞,一般,,,五段-ラ行,連用形-促音便,始まる,ハジマッ,ハジマル', '助動詞,,,,助動詞-タ,連体形-一般,た,タ,タ', '助詞,準体助詞,,,,,ん,ン,ン', '助動詞,,,,助動詞-デス,終止形-一般,です,デス,デス', '助詞,接続助詞,,,,,けれど,ケレド,ケレド', '助詞,係助詞,,,,,も,モ,モ', '補助記号,句点,,,,,。,,', '補助記号,一般,,,,', '空白,,,,,,\\u3000,,', '名詞,普通名詞,サ変可能,,,,記憶,キオク,キオク', '助詞,格助詞,,,,,に,ニ,ニ', '動詞,非自立可能,,,五段-ラ行,連体形-一般,ある,アル,アル', '助詞,準体助詞,,,,,の,ノ,ノ', '助詞,係助詞,,,,,は,ワ,ワ', '補助記号,読点,,,,,、,,', '連体詞,,,,,,あの,アノ,アノ', '名詞,普通名詞,副詞可能,,,,とき,トキ,トキ', '助詞,係助詞,,,,,は,ワ,ワ', '補助記号,読点,,,,,、,,', '形状詞,一般,,,,,単独,タンドク,タンドク', '名詞,普通名詞,サ変可能,,,,講和,コーワ,コーワ', '助詞,副助詞,,,,,か,カ,カ', '名詞,普通名詞,一般,,,,全面,ゼンメン,ゼンメン', '名詞,普通名詞,サ変可能,,,,講和,コーワ,コーワ', '助詞,終助詞,,,,,か,カ,カ', '助詞,格助詞,,,,,と,ト,ト', '動詞,一般,,,五段-ワア行,連体形-一般,いう,ユー,ユー', '名詞,普通名詞,一般,,,,言葉,コトバ,コトバ', '助詞,格助詞,,,,,が,ガ,ガ', '形容詞,一般,,,形容詞,連用形-一般,えらい,エラク,エライ', '名詞,普通名詞,一般,,,,新聞,シンブン,シンブン', '助詞,格助詞,,,,,に,ニ,ニ', '動詞,一般,,,五段-ラ行,連用形-促音便,躍る,オドッ,オドル', '助詞,接続助詞,,,,,て,テ,テ', '動詞,非自立可能,,,上一段-ア行,連用形-一般,いる,イ,イル', '助動詞,,,,助動詞-マス,連用形-一般,ます,マシ,マス', '助動詞,,,,助動詞-タ,終止形-一般,た,タ,タ', '助詞,接続助詞,,,,,けれど,ケレド,ケレド', '助詞,係助詞,,,,,も,モ,モ', '補助記号,読点,,,,,、,,', '名詞,固有名詞,地名,国,,,日本,ニッポン,ニッポン', '助詞,格助詞,,,,,の,ノ,ノ', '名詞,普通名詞,サ変可能,,,,加盟,カメー,カメー', '助詞,格助詞,,,,,に,ニ,ニ', '名詞,普通名詞,サ変可能,,,,賛成,サンセー,サンセー', '動詞,非自立可能,,,サ行変格,連用形-一般,する,シ,スル', '助動詞,,,,助動詞-タ,連体形-一般,た,タ,タ', '助詞,準体助詞,,,,,の,ノ,ノ', '助詞,係助詞,,,,,は,ワ,ワ', '名詞,数詞,,,,,四十,ヨンジュー,ヨンジュー', '名詞,数詞,,,,,三,サン,サン', '名詞,普通名詞,助数詞可能,,,,カ国,カコク,カコク', '助詞,格助詞,,,,,が,ガ,ガ', '形状詞,一般,,,,,単独,タンドク,タンドク', '助動詞,,,,助動詞-ダ,連用形-一般,だ,デ,ダ', '補助記号,読点,,,,,、,,', '名詞,普通名詞,サ変形状詞可能,,,,反対,ハンタイ,ハンタイ', '動詞,非自立可能,,,サ行変格,連用形-一般,する,シ,スル', '助動詞,,,,助動詞-タ,連体形-一般,た,タ,タ', '助詞,準体助詞,,,,,の,ノ,ノ', '助詞,係助詞,,,,,は,ワ,ワ', '名詞,固有名詞,地名,国,,,ソ連,ソレン,ソレン', '補助記号,読点,,,,,、,,', '名詞,固有名詞,地名,国,,,ポーランド,ポーランド,ポーランド', '補助記号,読点,,,,,、,,', '名詞,固有名詞,地名,国,,,ハンガリー,ハンガリー,ハンガリー', '助動詞,,,,助動詞-ダ,連用形-促音便,だ,ダッ,ダ', '助動詞,,,,助動詞-タ,終止形-一般,た,タ,タ', '助詞,終助詞,,,,,か,カ,カ', '助詞,終助詞,,,,,な,ナ,ナ', '補助記号,読点,,,,,、,,', '連体詞,,,,,,その,ソノ,ソノ', '名詞,数詞,,,,,三,サン,サン', '名詞,普通名詞,助数詞可能,,,,カ国,カコク,カコク', '助詞,係助詞,,,,,は,ワ,ワ', '名詞,普通名詞,サ変形状詞可能,,,,反対,ハンタイ,ハンタイ', '助詞,格助詞,,,,,と,ト,ト', '動詞,一般,,,五段-ワア行,連体形-一般,いう,ユー,ユー', '名詞,普通名詞,一般,,,,こと,コト,コト', '助動詞,,,,助動詞-ダ,連用形-一般,だ,デ,ダ', '補助記号,読点,,,,,、,,', '代名詞,,,,,,これ,コレ,コレ', '助詞,係助詞,,,,,は,ワ,ワ', '補助記号,読点,,,,,、,,', '名詞,数詞,,,,,四十,ヨンジュー,ヨンジュー', '名詞,数詞,,,,,三,サン,サン', '名詞,普通名詞,一般,,,,対,タイ,タイ', '名詞,数詞,,,,,三,サン,サン', '助動詞,,,,助動詞-ダ,連用形-促音便,だ,ダッ,ダ', '助動詞,,,,助動詞-タ,仮定形-一般,た,タラ,タ', '補助記号,読点,,,,,、,,', '形状詞,一般,,,,,単独,タンドク,タンドク', '名詞,普通名詞,サ変可能,,,,講和,コーワ,コーワ', '助動詞,,,,助動詞-ダ,連用形-融合,だ,ジャ,ダ', '形容詞,非自立可能,,,形容詞,連用形-一般,ない,ナク,ナイ', '助詞,接続助詞,,,,,て,テ,テ', '名詞,普通名詞,副詞可能,,,,多数,タスー,タスー', '名詞,普通名詞,サ変可能,,,,講和,コーワ,コーワ', '助詞,副助詞,,,,,か,カ,カ', '名詞,普通名詞,一般,,,,全面,ゼンメン,ゼンメン', '名詞,普通名詞,サ変可能,,,,講和,コーワ,コーワ', '助詞,副助詞,,,,,か,カ,カ', '助詞,格助詞,,,,,の,ノ,ノ', '名詞,普通名詞,一般,,,,違い,チガイ,チガイ', '助動詞,,,,助動詞-ダ,連体形-一般,だ,ナ,ダ', '助詞,準体助詞,,,,,ん,ン,ン', '助動詞,,,,助動詞-ダ,連用形-融合,だ,ジャ,ダ', '形容詞,非自立可能,,,形容詞,連体形-一般,ない,ナイ,ナイ', '助詞,準体助詞,,,,,の,ノ,ノ', '助詞,格助詞,,,,,と,ト,ト', '補助記号,読点,,,,,、,,', '名詞,普通名詞,一般,,,,子供,コドモ,コドモ', '名詞,普通名詞,サ変可能,,,,心,ココロ,ココロ', '助詞,格助詞,,,,,に,ニ,ニ', '副詞,,,,,,そう,ソー,ソー', '動詞,一般,,,五段-ワア行,連用形-促音便,思う,オモッ,オモウ', '助動詞,,,,助動詞-タ,連体形-一般,た,タ,タ', '名詞,普通名詞,サ変可能,,,,記憶,キオク,キオク', '助詞,格助詞,,,,,が,ガ,ガ', '動詞,非自立可能,,,五段-ラ行,連用形-一般,ある,アリ,アル', '助動詞,,,,助動詞-マス,終止形-一般,ます,マス,マス', '助詞,接続助詞,,,,,けれど,ケレド,ケレド', '助詞,係助詞,,,,,も,モ,モ', '補助記号,句点,,,,,。,,', '補助記号,一般,,,,', '空白,,,,,,\\u3000,,', '連体詞,,,,,,あの,アノ,アノ', '名詞,普通名詞,一般,,,,時代,ジダイ,ジダイ', '助詞,格助詞,,,,,から,カラ,カラ', '名詞,数詞,,,,,七十,ナナジュー,ナナジュー', '名詞,普通名詞,助数詞可能,,,,年,ネン,ネン', '名詞,普通名詞,副詞可能,,,,近く,チカク,チカク', '助詞,格助詞,,,,,が,ガ,ガ', '動詞,一般,,,五段-タ行,連用形-一般,たつ,タチ,タツ', '助動詞,,,,助動詞-マス,連用形-一般,ます,マシ,マス', '助詞,接続助詞,,,,,て,テ,テ', '補助記号,読点,,,,,、,,', '名詞,普通名詞,副詞可能,,,,今,イマ,イマ', '助詞,係助詞,,,,,は,ワ,ワ', '補助記号,読点,,,,,、,,', '名詞,普通名詞,一般,,,,米ソ,ベーソ,ベーソ', '名詞,普通名詞,一般,,,,冷戦,レーセン,レーセン', '助詞,格助詞,,,,,と,ト,ト', '動詞,一般,,,五段-ワア行,連体形-一般,いう,ユー,ユー', '助詞,準体助詞,,,,,の,ノ,ノ', '助詞,係助詞,,,,,は,ワ,ワ', '補助記号,読点,,,,,、,,', '名詞,数詞,,,,,三十,サンジュー,サンジュー', '名詞,普通名詞,助数詞可能,,,,年,ネン,ネン', '名詞,普通名詞,副詞可能,,,,前,マエ,マエ', '補助記号,読点,,,,,、,,', '名詞,数詞,,,,,八,ハチ,ハチ', '名詞,数詞,,,,,九,キュー,キュー', '名詞,普通名詞,助数詞可能,,,,年,ネン,ネン', '助詞,格助詞,,,,,に,ニ,ニ', '動詞,非自立可能,,,五段-ラ行,連用形-促音便,終わる,オワッ,オワル', '助詞,接続助詞,,,,,て,テ,テ', '動詞,非自立可能,,,五段-ラ行,連用形-一般,おる,オリ,オル', '助動詞,,,,助動詞-マス,終止形-一般,ます,マス,マス', '補助記号,句点,,,,,。,,', '名詞,固有名詞,地名,一般,,,ベルリン,ベルリン,ベルリン', '助詞,格助詞,,,,,の,ノ,ノ', '名詞,普通名詞,一般,,,,壁,カベ,カベ', '名詞,普通名詞,サ変可能,,,,崩壊,ホーカイ,ホーカイ', '助詞,格助詞,,,,,と,ト,ト', '名詞,普通名詞,一般,,,,とも,トモ,トモ', '助詞,格助詞,,,,,に,ニ,ニ', '動詞,非自立可能,,,五段-ラ行,連用形-促音便,終わる,オワッ,オワル', '助詞,接続助詞,,,,,て,テ,テ', '動詞,非自立可能,,,五段-ラ行,連用形-一般,おる,オリ,オル', '助動詞,,,,助動詞-マス,連体形-一般,ます,マス,マス', '助詞,準体助詞,,,,,の,ノ,ノ', '助動詞,,,,助動詞-ダ,連用形-一般,だ,デ,ダ', '補助記号,句点,,,,,。,,', '補助記号,一般,,,,', '空白,,,,,,\\u3000,,', '名詞,普通名詞,副詞可能,,,,今,イマ,イマ', '助詞,係助詞,,,,,は,ワ,ワ', '補助記号,読点,,,,,、,,', '形状詞,一般,,,,,新た,アラタ,アラタ', '助動詞,,,,助動詞-ダ,連用形-ニ,だ,ニ,ダ', '補助記号,読点,,,,,、,,', '名詞,普通名詞,一般,,,,米中,ベーチュー,ベーチュー', '形状詞,助動詞語幹,,,,,みたい,ミタイ,ミタイ', '助動詞,,,,助動詞-ダ,連体形-一般,だ,ナ,ダ', '名詞,普通名詞,一般,,,,形,カタチ,カタチ', '助詞,格助詞,,,,,に,ニ,ニ', '動詞,非自立可能,,,五段-ラ行,連用形-促音便,なる,ナッ,ナル', '助詞,接続助詞,,,,,て,テ,テ', '動詞,非自立可能,,,カ行変格,連用形-一般,くる,キ,クル', '助詞,接続助詞,,,,,て,テ,テ', '補助記号,読点,,,,,、,,', '名詞,普通名詞,一般,,,,間違い,マチガイ,マチガイ', '形容詞,非自立可能,,,形容詞,連用形-一般,ない,ナク,ナイ', '補助記号,読点,,,,,、,,', '名詞,固有名詞,地名,国,,,日本,ニッポン,ニッポン', '助詞,格助詞,,,,,の,ノ,ノ', '名詞,普通名詞,一般,,,,周辺,シューヘン,シューヘン', '名詞,普通名詞,一般,,,,水域,スイイキ,スイイキ', '助詞,副助詞,,,,,や,ヤ,ヤ', '代名詞,,,,,,何,ナン,ナン', '助詞,副助詞,,,,,か,カ,カ', '助詞,格助詞,,,,,に,ニ,ニ', '動詞,一般,,,五段-カ行,連用形-イ音便,おく,オイ,オク', '助詞,接続助詞,,,,,て,テ,テ', '助詞,係助詞,,,,,も,モ,モ', '補助記号,読点,,,,,、,,', '名詞,普通名詞,一般,,,,北,キタ,キタ', '助詞,格助詞,,,,,の,ノ,ノ', '名詞,普通名詞,一般,,,,守り,マモリ,マモリ', '助詞,格助詞,,,,,より,ヨリ,ヨリ', '助詞,係助詞,,,,,は,ワ,ワ', '補助記号,読点,,,,,、,,', '副詞,,,,,,むしろ,ムシロ,ムシロ', '補助記号,読点,,,,,、,,', '代名詞,,,,,,我々,ワレワレ,ワレワレ', '助詞,格助詞,,,,,の,ノ,ノ', '名詞,普通名詞,一般,,,,方,ホー,ホー', '助詞,格助詞,,,,,の,ノ,ノ', '名詞,普通名詞,一般,,,,南,ミナミ,ミナミ', '助詞,格助詞,,,,,の,ノ,ノ', '名詞,普通名詞,副詞可能,,,,ところ,トコロ,トコロ', '助詞,格助詞,,,,,で,デ,デ', '補助記号,読点,,,,,、,,', '名詞,普通名詞,一般,,,,南,ミナミ,ミナミ', '名詞,固有名詞,地名,国,,,シナ,シナ,シナ', '接尾辞,名詞的,一般,,,,海,カイ,カイ', '助詞,格助詞,,,,,の,ノ,ノ', '名詞,普通名詞,サ変可能,,,,話,ハナシ,ハナシ', '助詞,格助詞,,,,,と,ト,ト', '助詞,副助詞,,,,,か,カ,カ', '名詞,普通名詞,一般,,,,東,ヒガシ,ヒガシ', '名詞,固有名詞,地名,国,,,シナ,シナ,シナ', '接尾辞,名詞的,一般,,,,海,カイ,カイ', '助詞,格助詞,,,,,の,ノ,ノ', '名詞,普通名詞,サ変可能,,,,話,ハナシ,ハナシ', '助詞,格助詞,,,,,と,ト,ト', '助詞,副助詞,,,,,か,カ,カ', '名詞,固有名詞,地名,国,,,北朝鮮,キタチョーセン,キタチョーセン', '助詞,格助詞,,,,,の,ノ,ノ', '名詞,普通名詞,サ変可能,,,,話,ハナシ,ハナシ', '助詞,格助詞,,,,,に,ニ,ニ', '動詞,非自立可能,,,五段-ラ行,連用形-促音便,なる,ナッ,ナル', '助詞,接続助詞,,,,,て,テ,テ', '動詞,非自立可能,,,カ行変格,連用形-一般,くる,キ,クル', '助詞,接続助詞,,,,,て,テ,テ', '補助記号,読点,,,,,、,,', '名詞,普通名詞,一般,,,,状況,ジョーキョー,ジョーキョー', '助詞,係助詞,,,,,は,ワ,ワ', '副詞,,,,,,随分,ズイブン,ズイブン', '動詞,一般,,,五段-ラ行,連用形-促音便,変わる,カワッ,カワル', '助詞,接続助詞,,,,,て,テ,テ', '動詞,非自立可能,,,カ行変格,連用形-一般,くる,キ,クル', '助動詞,,,,助動詞-タ,終止形-一般,た,タ,タ', '助詞,格助詞,,,,,と,ト,ト', '動詞,一般,,,五段-ワア行,連用形-一般,思う,オモイ,オモウ', '助動詞,,,,助動詞-マス,終止形-一般,ます,マス,マス', '助詞,接続助詞,,,,,が,ガ,ガ', '補助記号,読点,,,,,、,,', '連体詞,,,,,,この,コノ,コノ', '名詞,普通名詞,一般,,,,日米,ニチベー,ニチベー', '名詞,普通名詞,形状詞可能,,,,安全,アンゼン,アンゼン', '名詞,普通名詞,サ変可能,,,,保障,ホショー,ホショー', '名詞,普通名詞,一般,,,,条約,ジョーヤク,ジョーヤク', '助詞,格助詞,,,,,と,ト,ト', '動詞,一般,,,五段-ワア行,連体形-一般,いう,ユー,ユー', '名詞,普通名詞,サ変可能,,,,もの,モノ,モノ', '助詞,格助詞,,,,,が,ガ,ガ', '名詞,固有名詞,地名,国,,,日本,ニッポン,ニッポン', '助詞,格助詞,,,,,の,ノ,ノ', '名詞,普通名詞,サ変可能,,,,防衛,ボーエー,ボーエー', '補助記号,読点,,,,,、,,', '名詞,普通名詞,一般,,,,安保,アンポ,アンポ', '補助記号,読点,,,,,、,,', '名詞,普通名詞,一般,,,,外交,ガイコー,ガイコー', '接尾辞,名詞的,一般,,,,等々,トートー,トートー', '助詞,格助詞,,,,,の,ノ,ノ', '名詞,普通名詞,副詞可能,,,,中,ナカ,ナカ', '助詞,格助詞,,,,,に,ニ,ニ', '動詞,一般,,,五段-カ行,連用形-イ音便,おく,オイ,オク', '助詞,接続助詞,,,,,て,テ,テ', '形状詞,一般,,,,,非常,ヒジョー,ヒジョー', '助動詞,,,,助動詞-ダ,連用形-ニ,だ,ニ,ダ', '連体詞,,,,,,大きな,オーキナ,オーキナ', '名詞,普通名詞,一般,,,,役割,ヤクワリ,ヤクワリ', '助詞,格助詞,,,,,を,オ,オ', '動詞,非自立可能,,,五段-サ行,連用形-一般,果たす,ハタシ,ハタス', '助詞,接続助詞,,,,,て,テ,テ', '動詞,非自立可能,,,五段-ラ行,連用形-一般,おる,オリ,オル', '助動詞,,,,助動詞-マス,連体形-一般,ます,マス,マス', '助詞,準体助詞,,,,,の,ノ,ノ', '助動詞,,,,助動詞-ダ,連用形-一般,だ,デ,ダ', '補助記号,読点,,,,,、,,', '名詞,普通名詞,副詞可能,,,,今後,コンゴ,コンゴ', '接尾辞,名詞的,副詞可能,,,,とも,トモ,トモ', '連体詞,,,,,,この,コノ,コノ', '名詞,普通名詞,一般,,,,日米,ニチベー,ニチベー', '名詞,普通名詞,形状詞可能,,,,安全,アンゼン,アンゼン', '名詞,普通名詞,サ変可能,,,,保障,ホショー,ホショー', '名詞,普通名詞,一般,,,,条約,ジョーヤク,ジョーヤク', '助詞,格助詞,,,,,と,ト,ト', '動詞,一般,,,五段-ワア行,連体形-一般,いう,ユー,ユー', '名詞,普通名詞,サ変可能,,,,もの,モノ,モノ', '助詞,格助詞,,,,,が,ガ,ガ', '名詞,固有名詞,地名,国,,,日本,ニッポン,ニッポン', '助詞,格助詞,,,,,の,ノ,ノ', '名詞,普通名詞,サ変可能,,,,防衛,ボーエー,ボーエー', '補助記号,読点,,,,,、,,', '名詞,普通名詞,一般,,,,外交,ガイコー,ガイコー', '接尾辞,名詞的,副詞可能,,,,上,ジョー,ジョー', '副詞,,,,,,極めて,キワメテ,キワメテ', '形状詞,一般,,,,,重要,ジューヨー,ジューヨー', '助動詞,,,,助動詞-ダ,連体形-一般,だ,ナ,ダ', '名詞,普通名詞,サ変可能,,,,もの,モノ,モノ', '助動詞,,,,助動詞-ダ,連用形-一般,だ,デ,ダ', '動詞,非自立可能,,,五段-ラ行,連用形-一般,ある,アリ,アル', '動詞,非自立可能,,,下一段-カ行,終止形-一般,続ける,ツズケル,ツズケル', '助動詞,,,,助動詞-ダ,連用形-一般,だ,デ,ダ', '動詞,非自立可能,,,五段-ラ行,意志推量形,ある,アロー,アル', '助詞,格助詞,,,,,と,ト,ト', '動詞,一般,,,五段-ワア行,連体形-一般,いう,ユー,ユー', '助詞,準体助詞,,,,,の,ノ,ノ', '助詞,係助詞,,,,,は,ワ,ワ', '補助記号,読点,,,,,、,,', '連体詞,,,,,,この,コノ,コノ', '名詞,普通名詞,副詞可能,,,,間,アイダ,アイダ', '助詞,格助詞,,,,,の,ノ,ノ', '名詞,数詞,,,,,六十,ロクジュー,ロクジュー', '名詞,普通名詞,助数詞可能,,,,周年,シューネン,シューネン', '助詞,格助詞,,,,,に,ニ,ニ', '動詞,非自立可能,,,五段-カ行,連用形-促音便,行く,イッ,イク', '助詞,接続助詞,,,,,て,テ,テ', '補助記号,読点,,,,,、,,', '副詞,,,,,,改めて,アラタメテ,アラタメテ', '副詞,,,,,,そう,ソー,ソー', '動詞,一般,,,サ行変格,連用形-一般,感ずる,カンジ,カンズル', '助動詞,,,,助動詞-タ,連体形-一般,た,タ,タ', '名詞,普通名詞,副詞可能,,,,ところ,トコロ,トコロ', '助動詞,,,,助動詞-デス,終止形-一般,です,デス,デス', 'EOS', '']\n",
      "Counter({'、': 74, 'の': 52, 'に': 30, 'と': 28, 'て': 28, 'は': 26, 'た': 18, 'が': 18, 'か': 16, 'いう': 14, 'で': 14, 'ます': 12, '講和': 12, '\\u3000': 8, '年': 8, 'この': 8, '条約': 8, 'も': 8, '。': 8, '日本': 8, '三': 8, 'な': 8, 'その': 6, 'とき': 6, '日米': 6, 'あの': 6, 'けれど': 6, '\\r': 6, '単独': 6, 'おり': 6, 'き': 6, '話': 6, 'もの': 6, '一': 4, '九': 4, '安保': 4, '思い': 4, 'ん': 4, 'です': 4, '記憶': 4, '全面': 4, 'まし': 4, 'し': 4, '四十': 4, 'カ国': 4, '反対': 4, 'だっ': 4, 'じゃ': 4, 'なく': 4, 'そう': 4, 'あり': 4, '今': 4, '終わっ': 4, 'とも': 4, 'なっ': 4, 'おい': 4, '南': 4, 'ところ': 4, 'シナ': 4, '海': 4, '安全': 4, '保障': 4, '防衛': 4, '外交': 4, '生': 2, '国務': 2, '大臣': 2, '五': 2, '朝鮮': 2, '事変': 2, '勃発': 2, '結ば': 2, 'れ': 2, '最初': 2, 'だ': 2, 'サンフランシスコ': 2, 'まあ': 2, 'ころ': 2, 'みんな': 2, 'がちゃがちゃ': 2, '始まっ': 2, 'ある': 2, '言葉': 2, 'えらく': 2, '新聞': 2, '躍っ': 2, 'い': 2, '加盟': 2, '賛成': 2, 'ソ連': 2, 'ポーランド': 2, 'ハンガリー': 2, 'こと': 2, 'これ': 2, '対': 2, 'たら': 2, '多数': 2, '違い': 2, 'ない': 2, '子供': 2, '心': 2, '思っ': 2, '時代': 2, 'から': 2, '七十': 2, '近く': 2, 'たち': 2, '米ソ': 2, '冷戦': 2, '三十': 2, '前': 2, '八': 2, 'ベルリン': 2, '壁': 2, '崩壊': 2, '新た': 2, '米中': 2, 'みたい': 2, '形': 2, '間違い': 2, '周辺': 2, '水域': 2, 'や': 2, '何': 2, '北': 2, '守り': 2, 'より': 2, 'むしろ': 2, '我々': 2, '方': 2, '東': 2, '北朝鮮': 2, '状況': 2, '随分': 2, '変わっ': 2, '等々': 2, '中': 2, '非常': 2, '大きな': 2, '役割': 2, 'を': 2, '果たし': 2, '今後': 2, '上': 2, '極めて': 2, '重要': 2, '続ける': 2, 'あろう': 2, '間': 2, '六十': 2, '周年': 2, '行っ': 2, '改めて': 2, '感じ': 2, 'EOS': 2, '': 2})\n"
     ]
    }
   ],
   "source": [
    "sp = StringProcessor()\n",
    "split_string_words, extra = sp.divide_string(\"生国務大臣　一九五一年、朝鮮事変勃発、そのときにこの日米安保条約というのは結ばれたのが最初だと思いますが、そのときに、サンフランシスコの講和条約、まあ、あのころみんながちゃがちゃと始まったんですけれども。\\r\\n　記憶にあるのは、あのときは、単独講和か全面講和かという言葉がえらく新聞に躍っていましたけれども、日本の加盟に賛成したのは四十三カ国が単独で、反対したのはソ連、ポーランド、ハンガリーだったかな、その三カ国は反対ということで、これは、四十三対三だったら、単独講和じゃなくて多数講和か全面講和かの違いなんじゃないのと、子供心にそう思った記憶がありますけれども。\\r\\n　あの時代から七十年近くがたちまして、今は、米ソ冷戦というのは、三十年前、八九年に終わっております。ベルリンの壁崩壊とともに終わっておりますので。\\r\\n　今は、新たに、米中みたいな形になってきて、間違いなく、日本の周辺水域や何かにおいても、北の守りよりは、むしろ、我々の方の南のところで、南シナ海の話とか東シナ海の話とか北朝鮮の話になってきて、状況は随分変わってきたと思いますが、この日米安全保障条約というものが日本の防衛、安保、外交等々の中において非常に大きな役割を果たしておりますので、今後ともこの日米安全保障条約というものが日本の防衛、外交上極めて重要なものであり続けるであろうというのは、この間の六十周年に行って、改めてそう感じたところです\")\n",
    "print(split_string_words)\n",
    "print(extra)\n",
    "to_df = pd.DataFrame({\"word\": split_string_words, \"extra\": extra})\n",
    "to_df.to_csv(\"test.csv\", index=False)\n",
    "print(Counter(split_string_words)+Counter(split_string_words))"
   ]
  },
  {
   "attachments": {},
   "cell_type": "markdown",
   "metadata": {},
   "source": [
    "## Seeing whether there is value to be gained from counting the words in the speeches"
   ]
  },
  {
   "cell_type": "code",
   "execution_count": 50,
   "metadata": {},
   "outputs": [],
   "source": [
    "defence_speech_dir = os.path.join(SPEECHES_DIR, '安全保障・安保・防衛')\n",
    "asuo_file = os.path.join(defence_speech_dir, 'asuo_tarou.json') \n",
    "asuo_json = read_json(asuo_file)\n",
    "speeches = asuo_json['speechRecord']\n",
    "asuo_counting = Counter()\n",
    "exclusions = ['助動詞', '補助記号','助詞','空白','連体詞','動詞']\n",
    "for speech in speeches:\n",
    "    speech_string = speech['speech']\n",
    "    split_string, extra = sp.divide_string(speech_string, exclusions)\n",
    "    \n",
    "    # print(extra)\n",
    "    counted = Counter(split_string)\n",
    "    asuo_counting += counted\n",
    "\n",
    "# print(asuo_counting)\n",
    "# print(sorted(asuo_counting.items(), key=lambda x: x[1], reverse=True)[:10])\n",
    "asuo_df = pd.DataFrame(sorted(asuo_counting.items(), key=lambda x: x[1], reverse=True), columns=['word', 'count'])\n",
    "asuo_df.to_csv(os.path.join(defence_speech_dir, 'asuo_counting.csv'), index=False)"
   ]
  },
  {
   "attachments": {},
   "cell_type": "markdown",
   "metadata": {},
   "source": [
    "# Using bert models to embed the speeches"
   ]
  },
  {
   "cell_type": "code",
   "execution_count": 51,
   "metadata": {},
   "outputs": [
    {
     "name": "stdout",
     "output_type": "stream",
     "text": [
      "Using device:cuda\n"
     ]
    }
   ],
   "source": [
    "import torch\n",
    "from transformers import AutoTokenizer, AutoModel\n",
    "device = torch.device(\"cuda\" if torch.cuda.is_available() else \"cpu\")\n",
    "print(f\"Using device:{device}\")"
   ]
  },
  {
   "cell_type": "code",
   "execution_count": 52,
   "metadata": {},
   "outputs": [
    {
     "name": "stderr",
     "output_type": "stream",
     "text": [
      "Some weights of the model checkpoint at cl-tohoku/bert-base-japanese were not used when initializing BertModel: ['cls.seq_relationship.weight', 'cls.predictions.decoder.weight', 'cls.predictions.transform.dense.weight', 'cls.seq_relationship.bias', 'cls.predictions.bias', 'cls.predictions.transform.LayerNorm.bias', 'cls.predictions.transform.dense.bias', 'cls.predictions.transform.LayerNorm.weight']\n",
      "- This IS expected if you are initializing BertModel from the checkpoint of a model trained on another task or with another architecture (e.g. initializing a BertForSequenceClassification model from a BertForPreTraining model).\n",
      "- This IS NOT expected if you are initializing BertModel from the checkpoint of a model that you expect to be exactly identical (initializing a BertForSequenceClassification model from a BertForSequenceClassification model).\n"
     ]
    }
   ],
   "source": [
    "model_name = \"cl-tohoku/bert-base-japanese\"\n",
    "bert_model_jp = AutoModel.from_pretrained(model_name)\n",
    "tokenizer = AutoTokenizer.from_pretrained(model_name)"
   ]
  },
  {
   "cell_type": "code",
   "execution_count": 53,
   "metadata": {},
   "outputs": [
    {
     "name": "stdout",
     "output_type": "stream",
     "text": [
      "encoded shape torch.Size([170])\n",
      "[CLS] 朝鮮 事変 勃発 、 その とき に この 日 米 安保 条約 という の は 結ば れ た の が 最初 だ と 思い ます が 、 その とき に 、 サンフランシスコ の 講和 条約 、 まあ 、 あの ころ みんな がちゃがちゃ と 始まっ た ん です けれども 。 記憶 に ある の は 、 あの とき は 、 単独 講和 か 全面 講和 か という 言葉 が えらく 新聞 に 躍っ て い まし た けれども 、 日本 の 加盟 に 賛成 し た の は 四 十 三 カ国 が 単独 で 、 反対 し た の は ソ連 、 ポーランド 、 ハンガリー だっ た か な 、 その 三 カ国 は 反対 という こと で 、 これ は 、 四 十 三 対 三 だっ たら 、 単独 講和 じゃ なく て 多数 講和 か 全面 講和 か の 違い な ん じゃ ない の と 、 子供 心 に そう 思っ た 記憶 が あり ます けれども 。 [SEP]\n",
      "torch.Size([1, 170, 768])\n"
     ]
    }
   ],
   "source": [
    "# testing tokenizer and model\n",
    "example_sentence = \"朝鮮事変勃発、そのときにこの日米安保条約というのは結ばれたのが最初だと思いますが、そのときに、サンフランシスコの講和条約、まあ、あのころみんながちゃがちゃと始まったんですけれども。\\r\\n　記憶にあるのは、あのときは、単独講和か全面講和かという言葉がえらく新聞に躍っていましたけれども、日本の加盟に賛成したのは四十三カ国が単独で、反対したのはソ連、ポーランド、ハンガリーだったかな、その三カ国は反対ということで、これは、四十三対三だったら、単独講和じゃなくて多数講和か全面講和かの違いなんじゃないのと、子供心にそう思った記憶がありますけれども。\"\n",
    "encoded = tokenizer(example_sentence, return_tensors=\"pt\")\n",
    "print('encoded shape', encoded['input_ids'][0].shape)\n",
    "print(tokenizer.decode(encoded['input_ids'][0]))\n",
    "embedded = bert_model_jp(**encoded)\n",
    "print(embedded.last_hidden_state.shape)"
   ]
  },
  {
   "cell_type": "code",
   "execution_count": 54,
   "metadata": {},
   "outputs": [
    {
     "name": "stderr",
     "output_type": "stream",
     "text": [
      "No sentence-transformers model found with name /root/.cache/torch/sentence_transformers/cl-tohoku_bert-base-japanese. Creating a new one with MEAN pooling.\n",
      "Some weights of the model checkpoint at /root/.cache/torch/sentence_transformers/cl-tohoku_bert-base-japanese were not used when initializing BertModel: ['cls.seq_relationship.weight', 'cls.predictions.decoder.weight', 'cls.predictions.transform.dense.weight', 'cls.seq_relationship.bias', 'cls.predictions.bias', 'cls.predictions.transform.LayerNorm.bias', 'cls.predictions.transform.dense.bias', 'cls.predictions.transform.LayerNorm.weight']\n",
      "- This IS expected if you are initializing BertModel from the checkpoint of a model trained on another task or with another architecture (e.g. initializing a BertForSequenceClassification model from a BertForPreTraining model).\n",
      "- This IS NOT expected if you are initializing BertModel from the checkpoint of a model that you expect to be exactly identical (initializing a BertForSequenceClassification model from a BertForSequenceClassification model).\n"
     ]
    },
    {
     "name": "stdout",
     "output_type": "stream",
     "text": [
      "sentence embedding shape (768,)\n"
     ]
    }
   ],
   "source": [
    "#testing sentence transformer\n",
    "from sentence_transformers import SentenceTransformer\n",
    "sentence_transformer = SentenceTransformer(model_name)\n",
    "sentence_embedding = sentence_transformer.encode(example_sentence)\n",
    "print('sentence embedding shape', sentence_embedding.shape)"
   ]
  },
  {
   "cell_type": "code",
   "execution_count": 55,
   "metadata": {},
   "outputs": [
    {
     "name": "stdout",
     "output_type": "stream",
     "text": [
      "エネルギー・原発・原子力\n",
      "speech length of file shii_kazuo.json 18384\n",
      "speech length of file asuo_tarou.json 1213\n",
      "speech length of file izumi_kenta.json 18223\n",
      "speech length of file tamaki_yuichiro.json 15482\n",
      "安全保障・安保・防衛\n",
      "speech length of file shii_kazuo.json 25586\n",
      "speech length of file asuo_tarou.json 93950\n",
      "speech length of file izumi_kenta.json 17948\n",
      "speech length of file tamaki_yuichiro.json 27873\n"
     ]
    }
   ],
   "source": [
    "embedded_texts = []\n",
    "for topic_dir in os.listdir(SPEECHES_DIR):\n",
    "    print(topic_dir)\n",
    "    dir_path = os.path.join(SPEECHES_DIR, topic_dir)\n",
    "    files = os.listdir(dir_path)\n",
    "    for file in files:\n",
    "        if not file.endswith('json'):\n",
    "            continue\n",
    "        file_path = os.path.join(dir_path, file)\n",
    "        json_obj = read_json(file_path)\n",
    "        speeches = json_obj['speechRecord']\n",
    "        speech_cocat = ''\n",
    "        for speech in speeches:\n",
    "            speech_string = speech['speech']\n",
    "            speech_cocat += speech_string\n",
    "        print('speech length of file', file, len(speech_cocat))\n",
    "        embedded = sentence_transformer.encode(speech_cocat)\n",
    "        embedded_texts.append(embedded)"
   ]
  },
  {
   "cell_type": "code",
   "execution_count": 57,
   "metadata": {},
   "outputs": [
    {
     "name": "stdout",
     "output_type": "stream",
     "text": [
      "(8, 2)\n"
     ]
    },
    {
     "data": {
      "text/plain": [
       "<matplotlib.collections.PathCollection at 0x7f3214555db0>"
      ]
     },
     "execution_count": 57,
     "metadata": {},
     "output_type": "execute_result"
    },
    {
     "data": {
      "image/png": "[encoded data removed]",
      "text/plain": [
       "<Figure size 640x480 with 1 Axes>"
      ]
     },
     "metadata": {},
     "output_type": "display_data"
    }
   ],
   "source": [
    "# doing PCA decomposition and plotting\n",
    "\n",
    "from sklearn.decomposition import PCA\n",
    "import matplotlib.pyplot as plt\n",
    "embedded_texts = np.array(embedded_texts)\n",
    "pca = PCA(n_components=2)\n",
    "pca.fit(embedded_texts)\n",
    "pca_transformed = pca.transform(embedded_texts)\n",
    "xs = pca_transformed[:,0]\n",
    "ys = pca_transformed[:,1]\n",
    "print(pca_transformed.shape)\n",
    "plt.scatter(xs, ys, alpha=0.5, color=['red' for _ in range(4)] + ['blue' for _ in range(4)])\n"
   ]
  },
  {
   "cell_type": "code",
   "execution_count": null,
   "metadata": {},
   "outputs": [],
   "source": []
  }
 ],
 "metadata": {
  "kernelspec": {
   "display_name": "kokkai_venv",
   "language": "python",
   "name": "python3"
  },
  "language_info": {
   "codemirror_mode": {
    "name": "ipython",
    "version": 3
   },
   "file_extension": ".py",
   "mimetype": "text/x-python",
   "name": "python",
   "nbconvert_exporter": "python",
   "pygments_lexer": "ipython3",
   "version": "3.10.9"
  },
  "orig_nbformat": 4
 },
 "nbformat": 4,
 "nbformat_minor": 2
}
