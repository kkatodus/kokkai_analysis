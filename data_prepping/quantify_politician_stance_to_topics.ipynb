{
 "cells": [
  {
   "cell_type": "markdown",
   "metadata": {},
   "source": [
    "# About the code\n",
    "This code is going to be the main to collect and create analysis output to answer the question \"Quantifying political stance of Japanese Diet members regards specific political topics through the use of LLMs and statistical methods.\" (Tentative) \n",
    "\n",
    "## Part 1: Procedure for measuring embeddings\n",
    "1. Create embeddings for each opinion-based sentence in regards to different topics and store it in a retrievable manner.\n",
    "2. Create one single \"opinion-embedding\" for each politician and store it in a retrievable manner.\n",
    "3. Create a stance axis vector by either generating two reference points or picking two points \"opinion-embeddings\" from the data\n",
    "4. Collapse all the other vectors onto this axis by projecting them onto the axis\n",
    "5. Create a scalar measurement for how far each politician is from the two reference points\n",
    "\n",
    "## Part 2: Creating groups of politicians based on where their embeddings lie on an axis \n",
    "This is to get an idea of the ideas mentioned by politicians in a axis group within each topic using BERTopic. \n",
    "1. Divide politicians into n groups based on where they lie on the axis.\n",
    "2. Extract opinion sentences of each group made. \n",
    "3. Run each group through topic modelling techniques.\n",
    "\n",
    "### Notes\n",
    "- Data is stored under `data/data_repr` directory\n",
    "- We will attempt the procedure with different models to seek the best output"
   ]
  },
  {
   "cell_type": "code",
   "execution_count": 1,
   "metadata": {},
   "outputs": [
    {
     "name": "stderr",
     "output_type": "stream",
     "text": [
      "/Users/annabellepurnomo/miniforge3/envs/torch-nightly/lib/python3.8/site-packages/tqdm/auto.py:21: TqdmWarning: IProgress not found. Please update jupyter and ipywidgets. See https://ipywidgets.readthedocs.io/en/stable/user_install.html\n",
      "  from .autonotebook import tqdm as notebook_tqdm\n"
     ]
    },
    {
     "name": "stdout",
     "output_type": "stream",
     "text": [
      "-----------------------------------\n",
      "DATA_DIR:  /Users/annabellepurnomo/git/kokkai_analysis/data_prepping/params/../data\n",
      "DATA_REPR_SPEECHES_DIR:  /Users/annabellepurnomo/git/kokkai_analysis/data_prepping/params/../data/data_repr\n",
      "PARTIES:  ['公明', '立憲', '有志', '共産', '維新', 'れ新', '自民', '無', '国民']\n",
      "-----------------------------------\n"
     ]
    }
   ],
   "source": [
    "import os\n",
    "from sentence_transformers import models, SentenceTransformer\n",
    "import h5py\n",
    "import numpy as np\n",
    "import torch\n",
    "from params.paths import ROOT_DIR\n",
    "import japanize_matplotlib \n",
    "import matplotlib.pyplot as plt\n",
    "from logger.Logger import Logger\n",
    "from file_handling.file_read_writer import read_json, write_json, create_dir, write_file, read_hdf5_file\n",
    "\n",
    "VERBOSE = True\n",
    "logger = Logger(verbose=VERBOSE)\n",
    "DATA_DIR = os.path.join(ROOT_DIR, 'data')\n",
    "DATA_REPR_SPEECHES_DIR = os.path.join(DATA_DIR, 'data_repr')\n",
    "PARTIES = [party for party in os.listdir(DATA_REPR_SPEECHES_DIR) if not '.' in party]\n",
    "PARTY_TO_COLOR = {\n",
    "\t'自民': 'black',\n",
    "\t'国民': 'blue',\n",
    "\t'立憲': 'orange',\n",
    "\t'公明': 'lightblue',\n",
    "\t'共産': 'red',\n",
    "\t'維新': 'gold',\n",
    "\t'れ新': 'green',\n",
    "\t'無': 'purple',\n",
    "\t'有志': 'grey'\n",
    "}\n",
    "PARTY_TO_IDX = {party: idx for idx, party in enumerate(PARTIES)}\n",
    "IDX_TO_PARTY = {idx: party for idx, party in enumerate(PARTIES)}\n",
    "if len(PARTIES) != len(PARTY_TO_COLOR):\n",
    "\traise ValueError('PARTIES and PARTY_TO_COLOR must have the same length.')\n",
    "MODEL_NAME = \"cl-tohoku/bert-base-japanese-v3\"\n",
    "print('-----------------------------------')\n",
    "print('DATA_DIR: ', DATA_DIR)\n",
    "print('DATA_REPR_SPEECHES_DIR: ', DATA_REPR_SPEECHES_DIR)\n",
    "print('PARTIES: ', PARTIES)\n",
    "print('-----------------------------------')"
   ]
  },
  {
   "cell_type": "code",
   "execution_count": 2,
   "metadata": {},
   "outputs": [],
   "source": [
    "# adapted from: https://osima.jp/posts/sentence-bert/\n",
    "\n",
    "sentence_transformer = models.Transformer(MODEL_NAME)\n",
    "\n",
    "pooling = models.Pooling(\n",
    "    sentence_transformer.get_word_embedding_dimension(),\n",
    "    pooling_mode_mean_tokens=False,\n",
    "    pooling_mode_cls_token=True,\n",
    "    pooling_mode_max_tokens=False)\n",
    "\n",
    "st = SentenceTransformer(modules=[sentence_transformer, pooling])"
   ]
  },
  {
   "cell_type": "markdown",
   "metadata": {},
   "source": [
    "## 1. Creating the embeddings for each opinion-based sentence"
   ]
  },
  {
   "cell_type": "code",
   "execution_count": 3,
   "metadata": {},
   "outputs": [
    {
     "name": "stdout",
     "output_type": "stream",
     "text": [
      "--------------------------\n",
      "公明 ----- 斉藤鉄夫\n",
      "--------------------------\n",
      "--------------------------\n",
      "Working on 少子化\n",
      "--------------------------\n",
      "--------------------------\n",
      "Reading /Users/annabellepurnomo/git/kokkai_analysis/data_prepping/params/../data/data_repr/公明/斉藤鉄夫/少子化/1.json\n",
      "--------------------------\n"
     ]
    },
    {
     "name": "stderr",
     "output_type": "stream",
     "text": [
      "Batches: 100%|██████████| 8/8 [00:52<00:00,  6.54s/it]\n"
     ]
    },
    {
     "name": "stdout",
     "output_type": "stream",
     "text": [
      "--------------------------\n",
      "Number of dates 227\n",
      "Number of opinions 227 \n",
      "Number of embeddings 227\n",
      "--------------------------\n",
      "--------------------------\n",
      "Working on LGBT\n",
      "--------------------------\n",
      "--------------------------\n",
      "Reading /Users/annabellepurnomo/git/kokkai_analysis/data_prepping/params/../data/data_repr/公明/斉藤鉄夫/LGBT/1.json\n",
      "--------------------------\n"
     ]
    },
    {
     "name": "stderr",
     "output_type": "stream",
     "text": [
      "Batches: 100%|██████████| 1/1 [00:01<00:00,  1.07s/it]\n"
     ]
    },
    {
     "name": "stdout",
     "output_type": "stream",
     "text": [
      "--------------------------\n",
      "Number of dates 2\n",
      "Number of opinions 2 \n",
      "Number of embeddings 2\n",
      "--------------------------\n",
      "--------------------------\n",
      "公明 ----- 佐藤茂樹\n",
      "--------------------------\n",
      "--------------------------\n",
      "Working on 少子化\n",
      "--------------------------\n",
      "--------------------------\n",
      "Reading /Users/annabellepurnomo/git/kokkai_analysis/data_prepping/params/../data/data_repr/公明/佐藤茂樹/少子化/1.json\n",
      "--------------------------\n"
     ]
    },
    {
     "name": "stderr",
     "output_type": "stream",
     "text": [
      "Batches: 100%|██████████| 2/2 [00:32<00:00, 16.29s/it]\n"
     ]
    },
    {
     "name": "stdout",
     "output_type": "stream",
     "text": [
      "--------------------------\n",
      "Number of dates 42\n",
      "Number of opinions 42 \n",
      "Number of embeddings 42\n",
      "--------------------------\n",
      "--------------------------\n",
      "公明 ----- 浮島智子\n",
      "--------------------------\n",
      "--------------------------\n",
      "Working on 少子化\n",
      "--------------------------\n",
      "--------------------------\n",
      "Reading /Users/annabellepurnomo/git/kokkai_analysis/data_prepping/params/../data/data_repr/公明/浮島智子/少子化/1.json\n",
      "--------------------------\n"
     ]
    },
    {
     "name": "stderr",
     "output_type": "stream",
     "text": [
      "Batches: 100%|██████████| 1/1 [00:14<00:00, 14.75s/it]\n"
     ]
    },
    {
     "name": "stdout",
     "output_type": "stream",
     "text": [
      "--------------------------\n",
      "Number of dates 32\n",
      "Number of opinions 32 \n",
      "Number of embeddings 32\n",
      "--------------------------\n",
      "--------------------------\n",
      "公明 ----- 佐藤英道\n",
      "--------------------------\n",
      "--------------------------\n",
      "Working on 少子化\n",
      "--------------------------\n",
      "--------------------------\n",
      "Reading /Users/annabellepurnomo/git/kokkai_analysis/data_prepping/params/../data/data_repr/公明/佐藤英道/少子化/1.json\n",
      "--------------------------\n"
     ]
    },
    {
     "name": "stderr",
     "output_type": "stream",
     "text": [
      "Batches: 100%|██████████| 2/2 [00:15<00:00,  7.54s/it]\n"
     ]
    },
    {
     "name": "stdout",
     "output_type": "stream",
     "text": [
      "--------------------------\n",
      "Number of dates 33\n",
      "Number of opinions 33 \n",
      "Number of embeddings 33\n",
      "--------------------------\n",
      "--------------------------\n",
      "Working on LGBT\n",
      "--------------------------\n",
      "--------------------------\n",
      "Reading /Users/annabellepurnomo/git/kokkai_analysis/data_prepping/params/../data/data_repr/公明/佐藤英道/LGBT/1.json\n",
      "--------------------------\n"
     ]
    },
    {
     "name": "stderr",
     "output_type": "stream",
     "text": [
      "Batches: 100%|██████████| 1/1 [00:00<00:00,  4.20it/s]\n"
     ]
    },
    {
     "name": "stdout",
     "output_type": "stream",
     "text": [
      "--------------------------\n",
      "Number of dates 1\n",
      "Number of opinions 1 \n",
      "Number of embeddings 1\n",
      "--------------------------\n",
      "--------------------------\n",
      "公明 ----- 日下正喜\n",
      "--------------------------\n",
      "--------------------------\n",
      "Working on 少子化\n",
      "--------------------------\n",
      "--------------------------\n",
      "Reading /Users/annabellepurnomo/git/kokkai_analysis/data_prepping/params/../data/data_repr/公明/日下正喜/少子化/1.json\n",
      "--------------------------\n"
     ]
    },
    {
     "name": "stderr",
     "output_type": "stream",
     "text": [
      "Batches: 100%|██████████| 1/1 [00:01<00:00,  1.23s/it]\n"
     ]
    },
    {
     "name": "stdout",
     "output_type": "stream",
     "text": [
      "--------------------------\n",
      "Number of dates 3\n",
      "Number of opinions 3 \n",
      "Number of embeddings 3\n",
      "--------------------------\n",
      "--------------------------\n",
      "Working on LGBT\n",
      "--------------------------\n",
      "--------------------------\n",
      "Reading /Users/annabellepurnomo/git/kokkai_analysis/data_prepping/params/../data/data_repr/公明/日下正喜/LGBT/1.json\n",
      "--------------------------\n"
     ]
    },
    {
     "name": "stderr",
     "output_type": "stream",
     "text": [
      "Batches: 100%|██████████| 1/1 [00:00<00:00,  1.40it/s]\n"
     ]
    },
    {
     "name": "stdout",
     "output_type": "stream",
     "text": [
      "--------------------------\n",
      "Number of dates 2\n",
      "Number of opinions 2 \n",
      "Number of embeddings 2\n",
      "--------------------------\n",
      "--------------------------\n",
      "公明 ----- 吉田宣弘\n",
      "--------------------------\n",
      "--------------------------\n",
      "Working on 少子化\n",
      "--------------------------\n",
      "--------------------------\n",
      "Reading /Users/annabellepurnomo/git/kokkai_analysis/data_prepping/params/../data/data_repr/公明/吉田宣弘/少子化/1.json\n",
      "--------------------------\n"
     ]
    },
    {
     "name": "stderr",
     "output_type": "stream",
     "text": [
      "Batches: 100%|██████████| 1/1 [00:02<00:00,  2.33s/it]\n"
     ]
    },
    {
     "name": "stdout",
     "output_type": "stream",
     "text": [
      "--------------------------\n",
      "Number of dates 5\n",
      "Number of opinions 5 \n",
      "Number of embeddings 5\n",
      "--------------------------\n",
      "--------------------------\n",
      "公明 ----- 福重隆浩\n",
      "--------------------------\n",
      "--------------------------\n",
      "公明 ----- 吉田久美子\n",
      "--------------------------\n",
      "--------------------------\n",
      "Working on 少子化\n",
      "--------------------------\n",
      "--------------------------\n",
      "Reading /Users/annabellepurnomo/git/kokkai_analysis/data_prepping/params/../data/data_repr/公明/吉田久美子/少子化/1.json\n",
      "--------------------------\n"
     ]
    },
    {
     "name": "stderr",
     "output_type": "stream",
     "text": [
      "Batches: 100%|██████████| 2/2 [00:31<00:00, 15.90s/it]\n"
     ]
    },
    {
     "name": "stdout",
     "output_type": "stream",
     "text": [
      "--------------------------\n",
      "Number of dates 46\n",
      "Number of opinions 46 \n",
      "Number of embeddings 46\n",
      "--------------------------\n",
      "--------------------------\n",
      "Working on LGBT\n",
      "--------------------------\n",
      "--------------------------\n",
      "Reading /Users/annabellepurnomo/git/kokkai_analysis/data_prepping/params/../data/data_repr/公明/吉田久美子/LGBT/1.json\n",
      "--------------------------\n"
     ]
    },
    {
     "name": "stderr",
     "output_type": "stream",
     "text": [
      "Batches: 100%|██████████| 1/1 [00:01<00:00,  1.82s/it]\n"
     ]
    },
    {
     "name": "stdout",
     "output_type": "stream",
     "text": [
      "--------------------------\n",
      "Number of dates 4\n",
      "Number of opinions 4 \n",
      "Number of embeddings 4\n",
      "--------------------------\n",
      "--------------------------\n",
      "公明 ----- 岡本三成\n",
      "--------------------------\n",
      "--------------------------\n",
      "Working on 少子化\n",
      "--------------------------\n",
      "--------------------------\n",
      "Reading /Users/annabellepurnomo/git/kokkai_analysis/data_prepping/params/../data/data_repr/公明/岡本三成/少子化/1.json\n",
      "--------------------------\n"
     ]
    },
    {
     "name": "stderr",
     "output_type": "stream",
     "text": [
      "Batches: 100%|██████████| 2/2 [00:20<00:00, 10.10s/it]\n"
     ]
    },
    {
     "name": "stdout",
     "output_type": "stream",
     "text": [
      "--------------------------\n",
      "Number of dates 57\n",
      "Number of opinions 57 \n",
      "Number of embeddings 57\n",
      "--------------------------\n",
      "--------------------------\n",
      "公明 ----- 輿水恵一\n",
      "--------------------------\n",
      "--------------------------\n",
      "Working on 少子化\n",
      "--------------------------\n",
      "--------------------------\n",
      "Reading /Users/annabellepurnomo/git/kokkai_analysis/data_prepping/params/../data/data_repr/公明/輿水恵一/少子化/1.json\n",
      "--------------------------\n"
     ]
    },
    {
     "name": "stderr",
     "output_type": "stream",
     "text": [
      "Batches: 100%|██████████| 1/1 [00:09<00:00,  9.96s/it]\n"
     ]
    },
    {
     "name": "stdout",
     "output_type": "stream",
     "text": [
      "--------------------------\n",
      "Number of dates 20\n",
      "Number of opinions 20 \n",
      "Number of embeddings 20\n",
      "--------------------------\n",
      "--------------------------\n",
      "公明 ----- 角田秀穂\n",
      "--------------------------\n",
      "--------------------------\n",
      "Working on 少子化\n",
      "--------------------------\n",
      "--------------------------\n",
      "Reading /Users/annabellepurnomo/git/kokkai_analysis/data_prepping/params/../data/data_repr/公明/角田秀穂/少子化/1.json\n",
      "--------------------------\n"
     ]
    },
    {
     "name": "stderr",
     "output_type": "stream",
     "text": [
      "Batches: 100%|██████████| 1/1 [00:09<00:00,  9.45s/it]\n"
     ]
    },
    {
     "name": "stdout",
     "output_type": "stream",
     "text": [
      "--------------------------\n",
      "Number of dates 18\n",
      "Number of opinions 18 \n",
      "Number of embeddings 18\n",
      "--------------------------\n",
      "--------------------------\n",
      "公明 ----- 河西宏一\n",
      "--------------------------\n",
      "--------------------------\n",
      "Working on 少子化\n",
      "--------------------------\n",
      "--------------------------\n",
      "Reading /Users/annabellepurnomo/git/kokkai_analysis/data_prepping/params/../data/data_repr/公明/河西宏一/少子化/1.json\n",
      "--------------------------\n"
     ]
    },
    {
     "name": "stderr",
     "output_type": "stream",
     "text": [
      "Batches: 100%|██████████| 1/1 [00:02<00:00,  2.68s/it]\n"
     ]
    },
    {
     "name": "stdout",
     "output_type": "stream",
     "text": [
      "--------------------------\n",
      "Number of dates 8\n",
      "Number of opinions 8 \n",
      "Number of embeddings 8\n",
      "--------------------------\n",
      "--------------------------\n",
      "公明 ----- 國重徹\n",
      "--------------------------\n",
      "--------------------------\n",
      "Working on 少子化\n",
      "--------------------------\n",
      "--------------------------\n",
      "Reading /Users/annabellepurnomo/git/kokkai_analysis/data_prepping/params/../data/data_repr/公明/國重徹/少子化/1.json\n",
      "--------------------------\n"
     ]
    },
    {
     "name": "stderr",
     "output_type": "stream",
     "text": [
      "Batches: 100%|██████████| 2/2 [00:12<00:00,  6.25s/it]\n"
     ]
    },
    {
     "name": "stdout",
     "output_type": "stream",
     "text": [
      "--------------------------\n",
      "Number of dates 38\n",
      "Number of opinions 38 \n",
      "Number of embeddings 38\n",
      "--------------------------\n",
      "--------------------------\n",
      "Working on LGBT\n",
      "--------------------------\n",
      "--------------------------\n",
      "Reading /Users/annabellepurnomo/git/kokkai_analysis/data_prepping/params/../data/data_repr/公明/國重徹/LGBT/1.json\n",
      "--------------------------\n"
     ]
    },
    {
     "name": "stderr",
     "output_type": "stream",
     "text": [
      "Batches: 100%|██████████| 1/1 [00:12<00:00, 12.15s/it]\n"
     ]
    },
    {
     "name": "stdout",
     "output_type": "stream",
     "text": [
      "--------------------------\n",
      "Number of dates 27\n",
      "Number of opinions 27 \n",
      "Number of embeddings 27\n",
      "--------------------------\n",
      "--------------------------\n",
      "公明 ----- 大口善徳\n",
      "--------------------------\n",
      "--------------------------\n",
      "Working on 少子化\n",
      "--------------------------\n",
      "--------------------------\n",
      "Reading /Users/annabellepurnomo/git/kokkai_analysis/data_prepping/params/../data/data_repr/公明/大口善徳/少子化/1.json\n",
      "--------------------------\n"
     ]
    },
    {
     "name": "stderr",
     "output_type": "stream",
     "text": [
      "Batches: 100%|██████████| 4/4 [00:39<00:00,  9.85s/it]\n"
     ]
    },
    {
     "name": "stdout",
     "output_type": "stream",
     "text": [
      "--------------------------\n",
      "Number of dates 101\n",
      "Number of opinions 101 \n",
      "Number of embeddings 101\n",
      "--------------------------\n",
      "--------------------------\n",
      "公明 ----- 浜地雅一\n",
      "--------------------------\n",
      "--------------------------\n",
      "Working on 少子化\n",
      "--------------------------\n",
      "--------------------------\n",
      "Reading /Users/annabellepurnomo/git/kokkai_analysis/data_prepping/params/../data/data_repr/公明/浜地雅一/少子化/1.json\n",
      "--------------------------\n"
     ]
    },
    {
     "name": "stderr",
     "output_type": "stream",
     "text": [
      "Batches: 100%|██████████| 1/1 [00:12<00:00, 12.30s/it]\n"
     ]
    },
    {
     "name": "stdout",
     "output_type": "stream",
     "text": [
      "--------------------------\n",
      "Number of dates 18\n",
      "Number of opinions 18 \n",
      "Number of embeddings 18\n",
      "--------------------------\n",
      "--------------------------\n",
      "公明 ----- 金城泰邦\n",
      "--------------------------\n",
      "--------------------------\n",
      "公明 ----- 石井啓一\n",
      "--------------------------\n",
      "--------------------------\n",
      "Working on 少子化\n",
      "--------------------------\n",
      "--------------------------\n",
      "Reading /Users/annabellepurnomo/git/kokkai_analysis/data_prepping/params/../data/data_repr/公明/石井啓一/少子化/1.json\n",
      "--------------------------\n"
     ]
    },
    {
     "name": "stderr",
     "output_type": "stream",
     "text": [
      "Batches: 100%|██████████| 13/13 [01:22<00:00,  6.32s/it]\n"
     ]
    },
    {
     "name": "stdout",
     "output_type": "stream",
     "text": [
      "--------------------------\n",
      "Number of dates 388\n",
      "Number of opinions 388 \n",
      "Number of embeddings 388\n",
      "--------------------------\n",
      "--------------------------\n",
      "公明 ----- 鰐淵洋子\n",
      "--------------------------\n",
      "--------------------------\n",
      "Working on 少子化\n",
      "--------------------------\n",
      "--------------------------\n",
      "Reading /Users/annabellepurnomo/git/kokkai_analysis/data_prepping/params/../data/data_repr/公明/鰐淵洋子/少子化/1.json\n",
      "--------------------------\n"
     ]
    },
    {
     "name": "stderr",
     "output_type": "stream",
     "text": [
      "Batches: 100%|██████████| 6/6 [01:16<00:00, 12.73s/it]\n"
     ]
    },
    {
     "name": "stdout",
     "output_type": "stream",
     "text": [
      "--------------------------\n",
      "Number of dates 192\n",
      "Number of opinions 192 \n",
      "Number of embeddings 192\n",
      "--------------------------\n",
      "--------------------------\n",
      "Working on LGBT\n",
      "--------------------------\n",
      "--------------------------\n",
      "Reading /Users/annabellepurnomo/git/kokkai_analysis/data_prepping/params/../data/data_repr/公明/鰐淵洋子/LGBT/1.json\n",
      "--------------------------\n"
     ]
    },
    {
     "name": "stderr",
     "output_type": "stream",
     "text": [
      "Batches: 100%|██████████| 1/1 [00:10<00:00, 10.89s/it]\n"
     ]
    },
    {
     "name": "stdout",
     "output_type": "stream",
     "text": [
      "--------------------------\n",
      "Number of dates 26\n",
      "Number of opinions 26 \n",
      "Number of embeddings 26\n",
      "--------------------------\n",
      "--------------------------\n",
      "公明 ----- 竹内譲\n",
      "--------------------------\n",
      "--------------------------\n",
      "Working on 少子化\n",
      "--------------------------\n",
      "--------------------------\n",
      "Reading /Users/annabellepurnomo/git/kokkai_analysis/data_prepping/params/../data/data_repr/公明/竹内譲/少子化/1.json\n",
      "--------------------------\n"
     ]
    },
    {
     "name": "stderr",
     "output_type": "stream",
     "text": [
      "Batches: 100%|██████████| 3/3 [00:23<00:00,  7.95s/it]\n"
     ]
    },
    {
     "name": "stdout",
     "output_type": "stream",
     "text": [
      "--------------------------\n",
      "Number of dates 80\n",
      "Number of opinions 80 \n",
      "Number of embeddings 80\n",
      "--------------------------\n",
      "--------------------------\n",
      "公明 ----- 中野洋昌\n",
      "--------------------------\n",
      "--------------------------\n",
      "Working on 少子化\n",
      "--------------------------\n",
      "--------------------------\n",
      "Reading /Users/annabellepurnomo/git/kokkai_analysis/data_prepping/params/../data/data_repr/公明/中野洋昌/少子化/1.json\n",
      "--------------------------\n"
     ]
    },
    {
     "name": "stderr",
     "output_type": "stream",
     "text": [
      "Batches: 100%|██████████| 3/3 [00:37<00:00, 12.49s/it]\n"
     ]
    },
    {
     "name": "stdout",
     "output_type": "stream",
     "text": [
      "--------------------------\n",
      "Number of dates 82\n",
      "Number of opinions 82 \n",
      "Number of embeddings 82\n",
      "--------------------------\n",
      "--------------------------\n",
      "公明 ----- 中川康洋\n",
      "--------------------------\n",
      "--------------------------\n",
      "Working on 少子化\n",
      "--------------------------\n",
      "--------------------------\n",
      "Reading /Users/annabellepurnomo/git/kokkai_analysis/data_prepping/params/../data/data_repr/公明/中川康洋/少子化/1.json\n",
      "--------------------------\n"
     ]
    },
    {
     "name": "stderr",
     "output_type": "stream",
     "text": [
      "Batches: 100%|██████████| 1/1 [00:03<00:00,  3.32s/it]\n"
     ]
    },
    {
     "name": "stdout",
     "output_type": "stream",
     "text": [
      "--------------------------\n",
      "Number of dates 7\n",
      "Number of opinions 7 \n",
      "Number of embeddings 7\n",
      "--------------------------\n",
      "--------------------------\n",
      "公明 ----- 庄子賢一\n",
      "--------------------------\n",
      "--------------------------\n",
      "公明 ----- 赤羽一嘉\n",
      "--------------------------\n",
      "--------------------------\n",
      "Working on 少子化\n",
      "--------------------------\n",
      "--------------------------\n",
      "Reading /Users/annabellepurnomo/git/kokkai_analysis/data_prepping/params/../data/data_repr/公明/赤羽一嘉/少子化/1.json\n",
      "--------------------------\n"
     ]
    },
    {
     "name": "stderr",
     "output_type": "stream",
     "text": [
      "Batches: 100%|██████████| 2/2 [00:26<00:00, 13.32s/it]\n"
     ]
    },
    {
     "name": "stdout",
     "output_type": "stream",
     "text": [
      "--------------------------\n",
      "Number of dates 38\n",
      "Number of opinions 38 \n",
      "Number of embeddings 38\n",
      "--------------------------\n",
      "--------------------------\n",
      "公明 ----- 伊佐進一\n",
      "--------------------------\n",
      "--------------------------\n",
      "Working on 少子化\n",
      "--------------------------\n",
      "--------------------------\n",
      "Reading /Users/annabellepurnomo/git/kokkai_analysis/data_prepping/params/../data/data_repr/公明/伊佐進一/少子化/1.json\n",
      "--------------------------\n"
     ]
    },
    {
     "name": "stderr",
     "output_type": "stream",
     "text": [
      "Batches: 100%|██████████| 1/1 [00:18<00:00, 18.23s/it]\n"
     ]
    },
    {
     "name": "stdout",
     "output_type": "stream",
     "text": [
      "--------------------------\n",
      "Number of dates 30\n",
      "Number of opinions 30 \n",
      "Number of embeddings 30\n",
      "--------------------------\n",
      "--------------------------\n",
      "公明 ----- 稲津久\n",
      "--------------------------\n",
      "--------------------------\n",
      "Working on 少子化\n",
      "--------------------------\n",
      "--------------------------\n",
      "Reading /Users/annabellepurnomo/git/kokkai_analysis/data_prepping/params/../data/data_repr/公明/稲津久/少子化/1.json\n",
      "--------------------------\n"
     ]
    },
    {
     "name": "stderr",
     "output_type": "stream",
     "text": [
      "Batches: 100%|██████████| 1/1 [00:15<00:00, 15.05s/it]\n"
     ]
    },
    {
     "name": "stdout",
     "output_type": "stream",
     "text": [
      "--------------------------\n",
      "Number of dates 24\n",
      "Number of opinions 24 \n",
      "Number of embeddings 24\n",
      "--------------------------\n",
      "--------------------------\n",
      "公明 ----- 平林晃\n",
      "--------------------------\n",
      "--------------------------\n",
      "Working on 少子化\n",
      "--------------------------\n",
      "--------------------------\n",
      "Reading /Users/annabellepurnomo/git/kokkai_analysis/data_prepping/params/../data/data_repr/公明/平林晃/少子化/1.json\n",
      "--------------------------\n"
     ]
    },
    {
     "name": "stderr",
     "output_type": "stream",
     "text": [
      "Batches: 100%|██████████| 1/1 [00:06<00:00,  6.76s/it]\n"
     ]
    },
    {
     "name": "stdout",
     "output_type": "stream",
     "text": [
      "--------------------------\n",
      "Number of dates 14\n",
      "Number of opinions 14 \n",
      "Number of embeddings 14\n",
      "--------------------------\n",
      "--------------------------\n",
      "公明 ----- 高木陽介\n",
      "--------------------------\n",
      "--------------------------\n",
      "Working on 少子化\n",
      "--------------------------\n",
      "--------------------------\n",
      "Reading /Users/annabellepurnomo/git/kokkai_analysis/data_prepping/params/../data/data_repr/公明/高木陽介/少子化/1.json\n",
      "--------------------------\n"
     ]
    },
    {
     "name": "stderr",
     "output_type": "stream",
     "text": [
      "Batches: 100%|██████████| 2/2 [00:21<00:00, 10.74s/it]\n"
     ]
    },
    {
     "name": "stdout",
     "output_type": "stream",
     "text": [
      "--------------------------\n",
      "Number of dates 38\n",
      "Number of opinions 38 \n",
      "Number of embeddings 38\n",
      "--------------------------\n",
      "--------------------------\n",
      "公明 ----- 中川宏昌\n",
      "--------------------------\n",
      "--------------------------\n",
      "Working on 少子化\n",
      "--------------------------\n",
      "--------------------------\n",
      "Reading /Users/annabellepurnomo/git/kokkai_analysis/data_prepping/params/../data/data_repr/公明/中川宏昌/少子化/1.json\n",
      "--------------------------\n"
     ]
    },
    {
     "name": "stderr",
     "output_type": "stream",
     "text": [
      "Batches: 100%|██████████| 1/1 [00:00<00:00,  3.03it/s]\n"
     ]
    },
    {
     "name": "stdout",
     "output_type": "stream",
     "text": [
      "--------------------------\n",
      "Number of dates 1\n",
      "Number of opinions 1 \n",
      "Number of embeddings 1\n",
      "--------------------------\n",
      "--------------------------\n",
      "公明 ----- 山崎正恭\n",
      "--------------------------\n",
      "--------------------------\n",
      "Working on 少子化\n",
      "--------------------------\n",
      "--------------------------\n",
      "Reading /Users/annabellepurnomo/git/kokkai_analysis/data_prepping/params/../data/data_repr/公明/山崎正恭/少子化/1.json\n",
      "--------------------------\n"
     ]
    },
    {
     "name": "stderr",
     "output_type": "stream",
     "text": [
      "Batches: 100%|██████████| 1/1 [00:18<00:00, 18.04s/it]\n"
     ]
    },
    {
     "name": "stdout",
     "output_type": "stream",
     "text": [
      "--------------------------\n",
      "Number of dates 21\n",
      "Number of opinions 21 \n",
      "Number of embeddings 21\n",
      "--------------------------\n",
      "--------------------------\n",
      "公明 ----- 古屋範子\n",
      "--------------------------\n",
      "--------------------------\n",
      "Working on 少子化\n",
      "--------------------------\n",
      "--------------------------\n",
      "Reading /Users/annabellepurnomo/git/kokkai_analysis/data_prepping/params/../data/data_repr/公明/古屋範子/少子化/1.json\n",
      "--------------------------\n",
      "--------------------------\n",
      "Reading /Users/annabellepurnomo/git/kokkai_analysis/data_prepping/params/../data/data_repr/公明/古屋範子/少子化/2.json\n",
      "--------------------------\n"
     ]
    },
    {
     "name": "stderr",
     "output_type": "stream",
     "text": [
      "Batches: 100%|██████████| 10/10 [01:08<00:00,  6.90s/it]\n"
     ]
    },
    {
     "name": "stdout",
     "output_type": "stream",
     "text": [
      "--------------------------\n",
      "Number of dates 306\n",
      "Number of opinions 306 \n",
      "Number of embeddings 306\n",
      "--------------------------\n",
      "--------------------------\n",
      "公明 ----- 伊藤渉\n",
      "--------------------------\n",
      "--------------------------\n",
      "Working on 少子化\n",
      "--------------------------\n",
      "--------------------------\n",
      "Reading /Users/annabellepurnomo/git/kokkai_analysis/data_prepping/params/../data/data_repr/公明/伊藤渉/少子化/1.json\n",
      "--------------------------\n"
     ]
    },
    {
     "name": "stderr",
     "output_type": "stream",
     "text": [
      "Batches: 100%|██████████| 2/2 [00:29<00:00, 14.87s/it]\n"
     ]
    },
    {
     "name": "stdout",
     "output_type": "stream",
     "text": [
      "--------------------------\n",
      "Number of dates 42\n",
      "Number of opinions 42 \n",
      "Number of embeddings 42\n",
      "--------------------------\n",
      "--------------------------\n",
      "公明 ----- 北側一雄\n",
      "--------------------------\n",
      "--------------------------\n",
      "Working on 少子化\n",
      "--------------------------\n",
      "--------------------------\n",
      "Reading /Users/annabellepurnomo/git/kokkai_analysis/data_prepping/params/../data/data_repr/公明/北側一雄/少子化/1.json\n",
      "--------------------------\n"
     ]
    },
    {
     "name": "stderr",
     "output_type": "stream",
     "text": [
      "Batches: 100%|██████████| 4/4 [00:42<00:00, 10.68s/it]\n"
     ]
    },
    {
     "name": "stdout",
     "output_type": "stream",
     "text": [
      "--------------------------\n",
      "Number of dates 114\n",
      "Number of opinions 114 \n",
      "Number of embeddings 114\n",
      "--------------------------\n",
      "--------------------------\n",
      "立憲 ----- 玄葉光一郎\n",
      "--------------------------\n",
      "--------------------------\n",
      "Working on 少子化\n",
      "--------------------------\n",
      "--------------------------\n",
      "Reading /Users/annabellepurnomo/git/kokkai_analysis/data_prepping/params/../data/data_repr/立憲/玄葉光一郎/少子化/1.json\n",
      "--------------------------\n"
     ]
    },
    {
     "name": "stderr",
     "output_type": "stream",
     "text": [
      "Batches: 100%|██████████| 1/1 [00:20<00:00, 20.30s/it]\n"
     ]
    },
    {
     "name": "stdout",
     "output_type": "stream",
     "text": [
      "--------------------------\n",
      "Number of dates 27\n",
      "Number of opinions 27 \n",
      "Number of embeddings 27\n",
      "--------------------------\n",
      "--------------------------\n",
      "立憲 ----- 白石洋一\n",
      "--------------------------\n",
      "--------------------------\n",
      "Working on 少子化\n",
      "--------------------------\n",
      "--------------------------\n",
      "Reading /Users/annabellepurnomo/git/kokkai_analysis/data_prepping/params/../data/data_repr/立憲/白石洋一/少子化/1.json\n",
      "--------------------------\n"
     ]
    },
    {
     "name": "stderr",
     "output_type": "stream",
     "text": [
      "Batches: 100%|██████████| 1/1 [00:02<00:00,  2.36s/it]\n"
     ]
    },
    {
     "name": "stdout",
     "output_type": "stream",
     "text": [
      "--------------------------\n",
      "Number of dates 7\n",
      "Number of opinions 7 \n",
      "Number of embeddings 7\n",
      "--------------------------\n",
      "--------------------------\n",
      "立憲 ----- 大串博志\n",
      "--------------------------\n",
      "--------------------------\n",
      "Working on 少子化\n",
      "--------------------------\n",
      "--------------------------\n",
      "Reading /Users/annabellepurnomo/git/kokkai_analysis/data_prepping/params/../data/data_repr/立憲/大串博志/少子化/1.json\n",
      "--------------------------\n"
     ]
    },
    {
     "name": "stderr",
     "output_type": "stream",
     "text": [
      "Batches: 100%|██████████| 1/1 [00:13<00:00, 13.21s/it]\n"
     ]
    },
    {
     "name": "stdout",
     "output_type": "stream",
     "text": [
      "--------------------------\n",
      "Number of dates 26\n",
      "Number of opinions 26 \n",
      "Number of embeddings 26\n",
      "--------------------------\n",
      "--------------------------\n",
      "Working on LGBT\n",
      "--------------------------\n",
      "--------------------------\n",
      "Reading /Users/annabellepurnomo/git/kokkai_analysis/data_prepping/params/../data/data_repr/立憲/大串博志/LGBT/1.json\n",
      "--------------------------\n"
     ]
    },
    {
     "name": "stderr",
     "output_type": "stream",
     "text": [
      "Batches: 100%|██████████| 1/1 [00:03<00:00,  3.14s/it]\n"
     ]
    },
    {
     "name": "stdout",
     "output_type": "stream",
     "text": [
      "--------------------------\n",
      "Number of dates 9\n",
      "Number of opinions 9 \n",
      "Number of embeddings 9\n",
      "--------------------------\n",
      "--------------------------\n",
      "立憲 ----- 牧義夫\n",
      "--------------------------\n",
      "--------------------------\n",
      "Working on 少子化\n",
      "--------------------------\n",
      "--------------------------\n",
      "Reading /Users/annabellepurnomo/git/kokkai_analysis/data_prepping/params/../data/data_repr/立憲/牧義夫/少子化/1.json\n",
      "--------------------------\n"
     ]
    },
    {
     "name": "stderr",
     "output_type": "stream",
     "text": [
      "Batches: 100%|██████████| 2/2 [00:26<00:00, 13.42s/it]\n"
     ]
    },
    {
     "name": "stdout",
     "output_type": "stream",
     "text": [
      "--------------------------\n",
      "Number of dates 56\n",
      "Number of opinions 56 \n",
      "Number of embeddings 56\n",
      "--------------------------\n",
      "--------------------------\n",
      "立憲 ----- 岡田克也\n",
      "--------------------------\n",
      "--------------------------\n",
      "Working on 少子化\n",
      "--------------------------\n",
      "--------------------------\n",
      "Reading /Users/annabellepurnomo/git/kokkai_analysis/data_prepping/params/../data/data_repr/立憲/岡田克也/少子化/1.json\n",
      "--------------------------\n"
     ]
    },
    {
     "name": "stderr",
     "output_type": "stream",
     "text": [
      "Batches: 100%|██████████| 10/10 [00:56<00:00,  5.60s/it]\n"
     ]
    },
    {
     "name": "stdout",
     "output_type": "stream",
     "text": [
      "--------------------------\n",
      "Number of dates 294\n",
      "Number of opinions 294 \n",
      "Number of embeddings 294\n",
      "--------------------------\n",
      "--------------------------\n",
      "Working on LGBT\n",
      "--------------------------\n",
      "--------------------------\n",
      "Reading /Users/annabellepurnomo/git/kokkai_analysis/data_prepping/params/../data/data_repr/立憲/岡田克也/LGBT/1.json\n",
      "--------------------------\n"
     ]
    },
    {
     "name": "stderr",
     "output_type": "stream",
     "text": [
      "Batches: 100%|██████████| 3/3 [00:12<00:00,  4.22s/it]\n"
     ]
    },
    {
     "name": "stdout",
     "output_type": "stream",
     "text": [
      "--------------------------\n",
      "Number of dates 71\n",
      "Number of opinions 71 \n",
      "Number of embeddings 71\n",
      "--------------------------\n",
      "--------------------------\n",
      "立憲 ----- 岡本あき子\n",
      "--------------------------\n",
      "--------------------------\n",
      "Working on 少子化\n",
      "--------------------------\n",
      "--------------------------\n",
      "Reading /Users/annabellepurnomo/git/kokkai_analysis/data_prepping/params/../data/data_repr/立憲/岡本あき子/少子化/1.json\n",
      "--------------------------\n"
     ]
    },
    {
     "name": "stderr",
     "output_type": "stream",
     "text": [
      "Batches: 100%|██████████| 2/2 [00:18<00:00,  9.07s/it]\n"
     ]
    },
    {
     "name": "stdout",
     "output_type": "stream",
     "text": [
      "--------------------------\n",
      "Number of dates 42\n",
      "Number of opinions 42 \n",
      "Number of embeddings 42\n",
      "--------------------------\n",
      "--------------------------\n",
      "Working on LGBT\n",
      "--------------------------\n",
      "--------------------------\n",
      "Reading /Users/annabellepurnomo/git/kokkai_analysis/data_prepping/params/../data/data_repr/立憲/岡本あき子/LGBT/1.json\n",
      "--------------------------\n"
     ]
    },
    {
     "name": "stderr",
     "output_type": "stream",
     "text": [
      "Batches: 100%|██████████| 1/1 [00:02<00:00,  2.69s/it]\n"
     ]
    },
    {
     "name": "stdout",
     "output_type": "stream",
     "text": [
      "--------------------------\n",
      "Number of dates 7\n",
      "Number of opinions 7 \n",
      "Number of embeddings 7\n",
      "--------------------------\n",
      "--------------------------\n",
      "立憲 ----- 梅谷守\n",
      "--------------------------\n",
      "--------------------------\n",
      "Working on 少子化\n",
      "--------------------------\n",
      "--------------------------\n",
      "Reading /Users/annabellepurnomo/git/kokkai_analysis/data_prepping/params/../data/data_repr/立憲/梅谷守/少子化/1.json\n",
      "--------------------------\n"
     ]
    },
    {
     "name": "stderr",
     "output_type": "stream",
     "text": [
      "Batches: 100%|██████████| 1/1 [00:00<00:00,  4.65it/s]\n"
     ]
    },
    {
     "name": "stdout",
     "output_type": "stream",
     "text": [
      "--------------------------\n",
      "Number of dates 1\n",
      "Number of opinions 1 \n",
      "Number of embeddings 1\n",
      "--------------------------\n",
      "--------------------------\n",
      "立憲 ----- 江田憲司\n",
      "--------------------------\n",
      "--------------------------\n",
      "Working on 少子化\n",
      "--------------------------\n",
      "--------------------------\n",
      "Reading /Users/annabellepurnomo/git/kokkai_analysis/data_prepping/params/../data/data_repr/立憲/江田憲司/少子化/1.json\n",
      "--------------------------\n"
     ]
    },
    {
     "name": "stderr",
     "output_type": "stream",
     "text": [
      "Batches: 100%|██████████| 5/5 [00:35<00:00,  7.07s/it]\n"
     ]
    },
    {
     "name": "stdout",
     "output_type": "stream",
     "text": [
      "--------------------------\n",
      "Number of dates 137\n",
      "Number of opinions 137 \n",
      "Number of embeddings 137\n",
      "--------------------------\n",
      "--------------------------\n",
      "立憲 ----- 谷田川元\n",
      "--------------------------\n",
      "--------------------------\n",
      "Working on 少子化\n",
      "--------------------------\n",
      "--------------------------\n",
      "Reading /Users/annabellepurnomo/git/kokkai_analysis/data_prepping/params/../data/data_repr/立憲/谷田川元/少子化/1.json\n",
      "--------------------------\n"
     ]
    },
    {
     "name": "stderr",
     "output_type": "stream",
     "text": [
      "Batches: 100%|██████████| 1/1 [00:00<00:00,  2.18it/s]\n"
     ]
    },
    {
     "name": "stdout",
     "output_type": "stream",
     "text": [
      "--------------------------\n",
      "Number of dates 1\n",
      "Number of opinions 1 \n",
      "Number of embeddings 1\n",
      "--------------------------\n",
      "--------------------------\n",
      "立憲 ----- 大河原まさこ\n",
      "--------------------------\n",
      "--------------------------\n",
      "Working on 少子化\n",
      "--------------------------\n",
      "--------------------------\n",
      "Reading /Users/annabellepurnomo/git/kokkai_analysis/data_prepping/params/../data/data_repr/立憲/大河原まさこ/少子化/1.json\n",
      "--------------------------\n"
     ]
    },
    {
     "name": "stderr",
     "output_type": "stream",
     "text": [
      "Batches: 100%|██████████| 3/3 [00:22<00:00,  7.61s/it]\n"
     ]
    },
    {
     "name": "stdout",
     "output_type": "stream",
     "text": [
      "--------------------------\n",
      "Number of dates 68\n",
      "Number of opinions 68 \n",
      "Number of embeddings 68\n",
      "--------------------------\n",
      "--------------------------\n",
      "Working on LGBT\n",
      "--------------------------\n",
      "--------------------------\n",
      "Reading /Users/annabellepurnomo/git/kokkai_analysis/data_prepping/params/../data/data_repr/立憲/大河原まさこ/LGBT/1.json\n",
      "--------------------------\n"
     ]
    },
    {
     "name": "stderr",
     "output_type": "stream",
     "text": [
      "Batches: 100%|██████████| 1/1 [00:00<00:00,  1.42it/s]\n"
     ]
    },
    {
     "name": "stdout",
     "output_type": "stream",
     "text": [
      "--------------------------\n",
      "Number of dates 2\n",
      "Number of opinions 2 \n",
      "Number of embeddings 2\n",
      "--------------------------\n",
      "--------------------------\n",
      "立憲 ----- 小熊慎司\n",
      "--------------------------\n",
      "--------------------------\n",
      "Working on 少子化\n",
      "--------------------------\n",
      "--------------------------\n",
      "Reading /Users/annabellepurnomo/git/kokkai_analysis/data_prepping/params/../data/data_repr/立憲/小熊慎司/少子化/1.json\n",
      "--------------------------\n"
     ]
    },
    {
     "name": "stderr",
     "output_type": "stream",
     "text": [
      "Batches: 100%|██████████| 3/3 [00:46<00:00, 15.46s/it]\n"
     ]
    },
    {
     "name": "stdout",
     "output_type": "stream",
     "text": [
      "--------------------------\n",
      "Number of dates 78\n",
      "Number of opinions 78 \n",
      "Number of embeddings 78\n",
      "--------------------------\n",
      "--------------------------\n",
      "立憲 ----- 中谷一馬\n",
      "--------------------------\n",
      "--------------------------\n",
      "Working on 少子化\n",
      "--------------------------\n",
      "--------------------------\n",
      "Reading /Users/annabellepurnomo/git/kokkai_analysis/data_prepping/params/../data/data_repr/立憲/中谷一馬/少子化/1.json\n",
      "--------------------------\n"
     ]
    },
    {
     "name": "stderr",
     "output_type": "stream",
     "text": [
      "Batches: 100%|██████████| 2/2 [00:27<00:00, 13.99s/it]\n"
     ]
    },
    {
     "name": "stdout",
     "output_type": "stream",
     "text": [
      "--------------------------\n",
      "Number of dates 38\n",
      "Number of opinions 38 \n",
      "Number of embeddings 38\n",
      "--------------------------\n",
      "--------------------------\n",
      "Working on LGBT\n",
      "--------------------------\n",
      "--------------------------\n",
      "Reading /Users/annabellepurnomo/git/kokkai_analysis/data_prepping/params/../data/data_repr/立憲/中谷一馬/LGBT/1.json\n",
      "--------------------------\n"
     ]
    },
    {
     "name": "stderr",
     "output_type": "stream",
     "text": [
      "Batches: 100%|██████████| 1/1 [00:05<00:00,  5.19s/it]\n"
     ]
    },
    {
     "name": "stdout",
     "output_type": "stream",
     "text": [
      "--------------------------\n",
      "Number of dates 9\n",
      "Number of opinions 9 \n",
      "Number of embeddings 9\n",
      "--------------------------\n",
      "--------------------------\n",
      "立憲 ----- 緑川貴士\n",
      "--------------------------\n",
      "--------------------------\n",
      "Working on 少子化\n",
      "--------------------------\n",
      "--------------------------\n",
      "Reading /Users/annabellepurnomo/git/kokkai_analysis/data_prepping/params/../data/data_repr/立憲/緑川貴士/少子化/1.json\n",
      "--------------------------\n"
     ]
    },
    {
     "name": "stderr",
     "output_type": "stream",
     "text": [
      "Batches: 100%|██████████| 2/2 [00:32<00:00, 16.02s/it]\n"
     ]
    },
    {
     "name": "stdout",
     "output_type": "stream",
     "text": [
      "--------------------------\n",
      "Number of dates 54\n",
      "Number of opinions 54 \n",
      "Number of embeddings 54\n",
      "--------------------------\n",
      "--------------------------\n",
      "立憲 ----- 野間健\n",
      "--------------------------\n",
      "--------------------------\n",
      "Working on 少子化\n",
      "--------------------------\n",
      "--------------------------\n",
      "Reading /Users/annabellepurnomo/git/kokkai_analysis/data_prepping/params/../data/data_repr/立憲/野間健/少子化/1.json\n",
      "--------------------------\n"
     ]
    },
    {
     "name": "stderr",
     "output_type": "stream",
     "text": [
      "Batches: 100%|██████████| 2/2 [00:30<00:00, 15.18s/it]\n"
     ]
    },
    {
     "name": "stdout",
     "output_type": "stream",
     "text": [
      "--------------------------\n",
      "Number of dates 49\n",
      "Number of opinions 49 \n",
      "Number of embeddings 49\n",
      "--------------------------\n",
      "--------------------------\n",
      "Working on LGBT\n",
      "--------------------------\n",
      "--------------------------\n",
      "Reading /Users/annabellepurnomo/git/kokkai_analysis/data_prepping/params/../data/data_repr/立憲/野間健/LGBT/1.json\n",
      "--------------------------\n"
     ]
    },
    {
     "name": "stderr",
     "output_type": "stream",
     "text": [
      "Batches: 100%|██████████| 2/2 [00:12<00:00,  6.04s/it]\n"
     ]
    },
    {
     "name": "stdout",
     "output_type": "stream",
     "text": [
      "--------------------------\n",
      "Number of dates 41\n",
      "Number of opinions 41 \n",
      "Number of embeddings 41\n",
      "--------------------------\n",
      "--------------------------\n",
      "立憲 ----- 山崎誠\n",
      "--------------------------\n",
      "--------------------------\n",
      "Working on 少子化\n",
      "--------------------------\n",
      "--------------------------\n",
      "Reading /Users/annabellepurnomo/git/kokkai_analysis/data_prepping/params/../data/data_repr/立憲/山崎誠/少子化/1.json\n",
      "--------------------------\n"
     ]
    },
    {
     "name": "stderr",
     "output_type": "stream",
     "text": [
      "Batches: 100%|██████████| 1/1 [00:09<00:00,  9.11s/it]\n"
     ]
    },
    {
     "name": "stdout",
     "output_type": "stream",
     "text": [
      "--------------------------\n",
      "Number of dates 23\n",
      "Number of opinions 23 \n",
      "Number of embeddings 23\n",
      "--------------------------\n",
      "--------------------------\n",
      "立憲 ----- 重徳和彦\n",
      "--------------------------\n",
      "--------------------------\n",
      "Working on 少子化\n",
      "--------------------------\n",
      "--------------------------\n",
      "Reading /Users/annabellepurnomo/git/kokkai_analysis/data_prepping/params/../data/data_repr/立憲/重徳和彦/少子化/1.json\n",
      "--------------------------\n"
     ]
    },
    {
     "name": "stderr",
     "output_type": "stream",
     "text": [
      "Batches: 100%|██████████| 8/8 [01:30<00:00, 11.32s/it]\n"
     ]
    },
    {
     "name": "stdout",
     "output_type": "stream",
     "text": [
      "--------------------------\n",
      "Number of dates 237\n",
      "Number of opinions 237 \n",
      "Number of embeddings 237\n",
      "--------------------------\n",
      "--------------------------\n",
      "立憲 ----- 城井崇\n",
      "--------------------------\n",
      "--------------------------\n",
      "Working on 少子化\n",
      "--------------------------\n",
      "--------------------------\n",
      "Reading /Users/annabellepurnomo/git/kokkai_analysis/data_prepping/params/../data/data_repr/立憲/城井崇/少子化/1.json\n",
      "--------------------------\n"
     ]
    },
    {
     "name": "stderr",
     "output_type": "stream",
     "text": [
      "Batches: 100%|██████████| 2/2 [00:19<00:00,  9.68s/it]\n"
     ]
    },
    {
     "name": "stdout",
     "output_type": "stream",
     "text": [
      "--------------------------\n",
      "Number of dates 62\n",
      "Number of opinions 62 \n",
      "Number of embeddings 62\n",
      "--------------------------\n",
      "--------------------------\n",
      "立憲 ----- 吉田はるみ\n",
      "--------------------------\n",
      "--------------------------\n",
      "Working on 少子化\n",
      "--------------------------\n",
      "--------------------------\n",
      "Reading /Users/annabellepurnomo/git/kokkai_analysis/data_prepping/params/../data/data_repr/立憲/吉田はるみ/少子化/1.json\n",
      "--------------------------\n"
     ]
    },
    {
     "name": "stderr",
     "output_type": "stream",
     "text": [
      "Batches: 100%|██████████| 1/1 [00:02<00:00,  2.57s/it]\n"
     ]
    },
    {
     "name": "stdout",
     "output_type": "stream",
     "text": [
      "--------------------------\n",
      "Number of dates 10\n",
      "Number of opinions 10 \n",
      "Number of embeddings 10\n",
      "--------------------------\n",
      "--------------------------\n",
      "Working on LGBT\n",
      "--------------------------\n",
      "--------------------------\n",
      "Reading /Users/annabellepurnomo/git/kokkai_analysis/data_prepping/params/../data/data_repr/立憲/吉田はるみ/LGBT/1.json\n",
      "--------------------------\n"
     ]
    },
    {
     "name": "stderr",
     "output_type": "stream",
     "text": [
      "Batches: 100%|██████████| 2/2 [00:18<00:00,  9.40s/it]\n"
     ]
    },
    {
     "name": "stdout",
     "output_type": "stream",
     "text": [
      "--------------------------\n",
      "Number of dates 63\n",
      "Number of opinions 63 \n",
      "Number of embeddings 63\n",
      "--------------------------\n",
      "--------------------------\n",
      "立憲 ----- 馬淵澄夫\n",
      "--------------------------\n",
      "--------------------------\n",
      "Working on 少子化\n",
      "--------------------------\n",
      "--------------------------\n",
      "Reading /Users/annabellepurnomo/git/kokkai_analysis/data_prepping/params/../data/data_repr/立憲/馬淵澄夫/少子化/1.json\n",
      "--------------------------\n"
     ]
    },
    {
     "name": "stderr",
     "output_type": "stream",
     "text": [
      "Batches: 100%|██████████| 1/1 [00:06<00:00,  6.22s/it]\n"
     ]
    },
    {
     "name": "stdout",
     "output_type": "stream",
     "text": [
      "--------------------------\n",
      "Number of dates 16\n",
      "Number of opinions 16 \n",
      "Number of embeddings 16\n",
      "--------------------------\n",
      "--------------------------\n",
      "立憲 ----- 後藤祐一\n",
      "--------------------------\n",
      "--------------------------\n",
      "Working on 少子化\n",
      "--------------------------\n",
      "--------------------------\n",
      "Reading /Users/annabellepurnomo/git/kokkai_analysis/data_prepping/params/../data/data_repr/立憲/後藤祐一/少子化/1.json\n",
      "--------------------------\n"
     ]
    },
    {
     "name": "stderr",
     "output_type": "stream",
     "text": [
      "Batches: 100%|██████████| 1/1 [00:16<00:00, 16.17s/it]\n"
     ]
    },
    {
     "name": "stdout",
     "output_type": "stream",
     "text": [
      "--------------------------\n",
      "Number of dates 24\n",
      "Number of opinions 24 \n",
      "Number of embeddings 24\n",
      "--------------------------\n",
      "--------------------------\n",
      "Working on LGBT\n",
      "--------------------------\n",
      "--------------------------\n",
      "Reading /Users/annabellepurnomo/git/kokkai_analysis/data_prepping/params/../data/data_repr/立憲/後藤祐一/LGBT/1.json\n",
      "--------------------------\n"
     ]
    },
    {
     "name": "stderr",
     "output_type": "stream",
     "text": [
      "Batches: 100%|██████████| 1/1 [00:02<00:00,  2.76s/it]\n"
     ]
    },
    {
     "name": "stdout",
     "output_type": "stream",
     "text": [
      "--------------------------\n",
      "Number of dates 3\n",
      "Number of opinions 3 \n",
      "Number of embeddings 3\n",
      "--------------------------\n",
      "--------------------------\n",
      "立憲 ----- おおつき紅葉\n",
      "--------------------------\n",
      "--------------------------\n",
      "Working on 少子化\n",
      "--------------------------\n",
      "--------------------------\n",
      "Reading /Users/annabellepurnomo/git/kokkai_analysis/data_prepping/params/../data/data_repr/立憲/おおつき紅葉/少子化/1.json\n",
      "--------------------------\n"
     ]
    },
    {
     "name": "stderr",
     "output_type": "stream",
     "text": [
      "Batches: 100%|██████████| 3/3 [00:20<00:00,  6.70s/it]\n"
     ]
    },
    {
     "name": "stdout",
     "output_type": "stream",
     "text": [
      "--------------------------\n",
      "Number of dates 75\n",
      "Number of opinions 75 \n",
      "Number of embeddings 75\n",
      "--------------------------\n",
      "--------------------------\n",
      "Working on LGBT\n",
      "--------------------------\n",
      "--------------------------\n",
      "Reading /Users/annabellepurnomo/git/kokkai_analysis/data_prepping/params/../data/data_repr/立憲/おおつき紅葉/LGBT/1.json\n",
      "--------------------------\n"
     ]
    },
    {
     "name": "stderr",
     "output_type": "stream",
     "text": [
      "Batches: 100%|██████████| 3/3 [00:16<00:00,  5.63s/it]\n"
     ]
    },
    {
     "name": "stdout",
     "output_type": "stream",
     "text": [
      "--------------------------\n",
      "Number of dates 73\n",
      "Number of opinions 73 \n",
      "Number of embeddings 73\n",
      "--------------------------\n",
      "--------------------------\n",
      "立憲 ----- 篠原豪\n",
      "--------------------------\n",
      "--------------------------\n",
      "Working on 少子化\n",
      "--------------------------\n",
      "--------------------------\n",
      "Reading /Users/annabellepurnomo/git/kokkai_analysis/data_prepping/params/../data/data_repr/立憲/篠原豪/少子化/1.json\n",
      "--------------------------\n"
     ]
    },
    {
     "name": "stderr",
     "output_type": "stream",
     "text": [
      "Batches: 100%|██████████| 1/1 [00:16<00:00, 16.50s/it]\n"
     ]
    },
    {
     "name": "stdout",
     "output_type": "stream",
     "text": [
      "--------------------------\n",
      "Number of dates 27\n",
      "Number of opinions 27 \n",
      "Number of embeddings 27\n",
      "--------------------------\n",
      "--------------------------\n",
      "立憲 ----- 金子恵美\n",
      "--------------------------\n",
      "--------------------------\n",
      "Working on 少子化\n",
      "--------------------------\n",
      "--------------------------\n",
      "Reading /Users/annabellepurnomo/git/kokkai_analysis/data_prepping/params/../data/data_repr/立憲/金子恵美/少子化/1.json\n",
      "--------------------------\n"
     ]
    },
    {
     "name": "stderr",
     "output_type": "stream",
     "text": [
      "Batches: 100%|██████████| 1/1 [00:03<00:00,  3.14s/it]\n"
     ]
    },
    {
     "name": "stdout",
     "output_type": "stream",
     "text": [
      "--------------------------\n",
      "Number of dates 8\n",
      "Number of opinions 8 \n",
      "Number of embeddings 8\n",
      "--------------------------\n",
      "--------------------------\n",
      "Working on LGBT\n",
      "--------------------------\n",
      "--------------------------\n",
      "Reading /Users/annabellepurnomo/git/kokkai_analysis/data_prepping/params/../data/data_repr/立憲/金子恵美/LGBT/1.json\n",
      "--------------------------\n"
     ]
    },
    {
     "name": "stderr",
     "output_type": "stream",
     "text": [
      "Batches: 100%|██████████| 1/1 [00:03<00:00,  3.58s/it]\n"
     ]
    },
    {
     "name": "stdout",
     "output_type": "stream",
     "text": [
      "--------------------------\n",
      "Number of dates 10\n",
      "Number of opinions 10 \n",
      "Number of embeddings 10\n",
      "--------------------------\n",
      "--------------------------\n",
      "立憲 ----- 渡辺周\n",
      "--------------------------\n",
      "--------------------------\n",
      "Working on 少子化\n",
      "--------------------------\n",
      "--------------------------\n",
      "Reading /Users/annabellepurnomo/git/kokkai_analysis/data_prepping/params/../data/data_repr/立憲/渡辺周/少子化/1.json\n",
      "--------------------------\n"
     ]
    },
    {
     "name": "stderr",
     "output_type": "stream",
     "text": [
      "Batches: 100%|██████████| 2/2 [00:24<00:00, 12.17s/it]\n"
     ]
    },
    {
     "name": "stdout",
     "output_type": "stream",
     "text": [
      "--------------------------\n",
      "Number of dates 59\n",
      "Number of opinions 59 \n",
      "Number of embeddings 59\n",
      "--------------------------\n",
      "--------------------------\n",
      "立憲 ----- 松原仁\n",
      "--------------------------\n",
      "--------------------------\n",
      "立憲 ----- 坂本祐之輔\n",
      "--------------------------\n",
      "--------------------------\n",
      "Working on 少子化\n",
      "--------------------------\n",
      "--------------------------\n",
      "Reading /Users/annabellepurnomo/git/kokkai_analysis/data_prepping/params/../data/data_repr/立憲/坂本祐之輔/少子化/1.json\n",
      "--------------------------\n"
     ]
    },
    {
     "name": "stderr",
     "output_type": "stream",
     "text": [
      "Batches: 100%|██████████| 3/3 [00:23<00:00,  7.68s/it]\n"
     ]
    },
    {
     "name": "stdout",
     "output_type": "stream",
     "text": [
      "--------------------------\n",
      "Number of dates 66\n",
      "Number of opinions 66 \n",
      "Number of embeddings 66\n",
      "--------------------------\n",
      "--------------------------\n",
      "Working on LGBT\n",
      "--------------------------\n",
      "--------------------------\n",
      "Reading /Users/annabellepurnomo/git/kokkai_analysis/data_prepping/params/../data/data_repr/立憲/坂本祐之輔/LGBT/1.json\n",
      "--------------------------\n"
     ]
    },
    {
     "name": "stderr",
     "output_type": "stream",
     "text": [
      "Batches: 100%|██████████| 1/1 [00:06<00:00,  6.20s/it]\n"
     ]
    },
    {
     "name": "stdout",
     "output_type": "stream",
     "text": [
      "--------------------------\n",
      "Number of dates 22\n",
      "Number of opinions 22 \n",
      "Number of embeddings 22\n",
      "--------------------------\n",
      "--------------------------\n",
      "立憲 ----- 柚木道義\n",
      "--------------------------\n",
      "--------------------------\n",
      "Working on 少子化\n",
      "--------------------------\n",
      "--------------------------\n",
      "Reading /Users/annabellepurnomo/git/kokkai_analysis/data_prepping/params/../data/data_repr/立憲/柚木道義/少子化/1.json\n",
      "--------------------------\n"
     ]
    },
    {
     "name": "stderr",
     "output_type": "stream",
     "text": [
      "Batches: 100%|██████████| 4/4 [00:52<00:00, 13.25s/it]\n"
     ]
    },
    {
     "name": "stdout",
     "output_type": "stream",
     "text": [
      "--------------------------\n",
      "Number of dates 110\n",
      "Number of opinions 110 \n",
      "Number of embeddings 110\n",
      "--------------------------\n",
      "--------------------------\n",
      "Working on LGBT\n",
      "--------------------------\n",
      "--------------------------\n",
      "Reading /Users/annabellepurnomo/git/kokkai_analysis/data_prepping/params/../data/data_repr/立憲/柚木道義/LGBT/1.json\n",
      "--------------------------\n"
     ]
    },
    {
     "name": "stderr",
     "output_type": "stream",
     "text": [
      "Batches: 100%|██████████| 3/3 [00:30<00:00, 10.23s/it]\n"
     ]
    },
    {
     "name": "stdout",
     "output_type": "stream",
     "text": [
      "--------------------------\n",
      "Number of dates 84\n",
      "Number of opinions 84 \n",
      "Number of embeddings 84\n",
      "--------------------------\n",
      "--------------------------\n",
      "立憲 ----- 小宮山泰子\n",
      "--------------------------\n",
      "--------------------------\n",
      "Working on 少子化\n",
      "--------------------------\n",
      "--------------------------\n",
      "Reading /Users/annabellepurnomo/git/kokkai_analysis/data_prepping/params/../data/data_repr/立憲/小宮山泰子/少子化/1.json\n",
      "--------------------------\n"
     ]
    },
    {
     "name": "stderr",
     "output_type": "stream",
     "text": [
      "Batches: 100%|██████████| 2/2 [00:16<00:00,  8.27s/it]\n"
     ]
    },
    {
     "name": "stdout",
     "output_type": "stream",
     "text": [
      "--------------------------\n",
      "Number of dates 44\n",
      "Number of opinions 44 \n",
      "Number of embeddings 44\n",
      "--------------------------\n",
      "--------------------------\n",
      "Working on LGBT\n",
      "--------------------------\n",
      "--------------------------\n",
      "Reading /Users/annabellepurnomo/git/kokkai_analysis/data_prepping/params/../data/data_repr/立憲/小宮山泰子/LGBT/1.json\n",
      "--------------------------\n"
     ]
    },
    {
     "name": "stderr",
     "output_type": "stream",
     "text": [
      "Batches: 100%|██████████| 1/1 [00:06<00:00,  6.94s/it]\n"
     ]
    },
    {
     "name": "stdout",
     "output_type": "stream",
     "text": [
      "--------------------------\n",
      "Number of dates 17\n",
      "Number of opinions 17 \n",
      "Number of embeddings 17\n",
      "--------------------------\n",
      "--------------------------\n",
      "立憲 ----- 堤かなめ\n",
      "--------------------------\n",
      "--------------------------\n",
      "Working on 少子化\n",
      "--------------------------\n",
      "--------------------------\n",
      "Reading /Users/annabellepurnomo/git/kokkai_analysis/data_prepping/params/../data/data_repr/立憲/堤かなめ/少子化/1.json\n",
      "--------------------------\n"
     ]
    },
    {
     "name": "stderr",
     "output_type": "stream",
     "text": [
      "Batches: 100%|██████████| 3/3 [00:25<00:00,  8.52s/it]\n"
     ]
    },
    {
     "name": "stdout",
     "output_type": "stream",
     "text": [
      "--------------------------\n",
      "Number of dates 67\n",
      "Number of opinions 67 \n",
      "Number of embeddings 67\n",
      "--------------------------\n",
      "--------------------------\n",
      "立憲 ----- 大西健介\n",
      "--------------------------\n",
      "--------------------------\n",
      "Working on 少子化\n",
      "--------------------------\n",
      "--------------------------\n",
      "Reading /Users/annabellepurnomo/git/kokkai_analysis/data_prepping/params/../data/data_repr/立憲/大西健介/少子化/1.json\n",
      "--------------------------\n"
     ]
    },
    {
     "name": "stderr",
     "output_type": "stream",
     "text": [
      "Batches: 100%|██████████| 5/5 [00:55<00:00, 11.12s/it]\n"
     ]
    },
    {
     "name": "stdout",
     "output_type": "stream",
     "text": [
      "--------------------------\n",
      "Number of dates 147\n",
      "Number of opinions 147 \n",
      "Number of embeddings 147\n",
      "--------------------------\n",
      "--------------------------\n",
      "Working on LGBT\n",
      "--------------------------\n",
      "--------------------------\n",
      "Reading /Users/annabellepurnomo/git/kokkai_analysis/data_prepping/params/../data/data_repr/立憲/大西健介/LGBT/1.json\n",
      "--------------------------\n"
     ]
    },
    {
     "name": "stderr",
     "output_type": "stream",
     "text": [
      "Batches: 100%|██████████| 1/1 [00:04<00:00,  4.95s/it]\n"
     ]
    },
    {
     "name": "stdout",
     "output_type": "stream",
     "text": [
      "--------------------------\n",
      "Number of dates 5\n",
      "Number of opinions 5 \n",
      "Number of embeddings 5\n",
      "--------------------------\n",
      "--------------------------\n",
      "立憲 ----- 近藤昭一\n",
      "--------------------------\n",
      "--------------------------\n",
      "Working on 少子化\n",
      "--------------------------\n",
      "--------------------------\n",
      "Reading /Users/annabellepurnomo/git/kokkai_analysis/data_prepping/params/../data/data_repr/立憲/近藤昭一/少子化/1.json\n",
      "--------------------------\n"
     ]
    },
    {
     "name": "stderr",
     "output_type": "stream",
     "text": [
      "Batches: 100%|██████████| 1/1 [00:08<00:00,  8.08s/it]\n"
     ]
    },
    {
     "name": "stdout",
     "output_type": "stream",
     "text": [
      "--------------------------\n",
      "Number of dates 19\n",
      "Number of opinions 19 \n",
      "Number of embeddings 19\n",
      "--------------------------\n",
      "--------------------------\n",
      "立憲 ----- 落合貴之\n",
      "--------------------------\n",
      "--------------------------\n",
      "Working on 少子化\n",
      "--------------------------\n",
      "--------------------------\n",
      "Reading /Users/annabellepurnomo/git/kokkai_analysis/data_prepping/params/../data/data_repr/立憲/落合貴之/少子化/1.json\n",
      "--------------------------\n"
     ]
    },
    {
     "name": "stderr",
     "output_type": "stream",
     "text": [
      "Batches: 100%|██████████| 1/1 [00:06<00:00,  6.24s/it]\n"
     ]
    },
    {
     "name": "stdout",
     "output_type": "stream",
     "text": [
      "--------------------------\n",
      "Number of dates 17\n",
      "Number of opinions 17 \n",
      "Number of embeddings 17\n",
      "--------------------------\n",
      "--------------------------\n",
      "立憲 ----- 下条みつ\n",
      "--------------------------\n",
      "--------------------------\n",
      "Working on 少子化\n",
      "--------------------------\n",
      "--------------------------\n",
      "Reading /Users/annabellepurnomo/git/kokkai_analysis/data_prepping/params/../data/data_repr/立憲/下条みつ/少子化/1.json\n",
      "--------------------------\n"
     ]
    },
    {
     "name": "stderr",
     "output_type": "stream",
     "text": [
      "Batches: 100%|██████████| 3/3 [00:24<00:00,  8.32s/it]\n"
     ]
    },
    {
     "name": "stdout",
     "output_type": "stream",
     "text": [
      "--------------------------\n",
      "Number of dates 66\n",
      "Number of opinions 66 \n",
      "Number of embeddings 66\n",
      "--------------------------\n",
      "--------------------------\n",
      "立憲 ----- 西村智奈美\n",
      "--------------------------\n",
      "--------------------------\n",
      "Working on 少子化\n",
      "--------------------------\n",
      "--------------------------\n",
      "Reading /Users/annabellepurnomo/git/kokkai_analysis/data_prepping/params/../data/data_repr/立憲/西村智奈美/少子化/1.json\n",
      "--------------------------\n"
     ]
    },
    {
     "name": "stderr",
     "output_type": "stream",
     "text": [
      "Batches: 100%|██████████| 3/3 [00:33<00:00, 11.31s/it]\n"
     ]
    },
    {
     "name": "stdout",
     "output_type": "stream",
     "text": [
      "--------------------------\n",
      "Number of dates 96\n",
      "Number of opinions 96 \n",
      "Number of embeddings 96\n",
      "--------------------------\n",
      "--------------------------\n",
      "Working on LGBT\n",
      "--------------------------\n",
      "--------------------------\n",
      "Reading /Users/annabellepurnomo/git/kokkai_analysis/data_prepping/params/../data/data_repr/立憲/西村智奈美/LGBT/1.json\n",
      "--------------------------\n"
     ]
    },
    {
     "name": "stderr",
     "output_type": "stream",
     "text": [
      "Batches: 100%|██████████| 1/1 [00:17<00:00, 17.79s/it]\n"
     ]
    },
    {
     "name": "stdout",
     "output_type": "stream",
     "text": [
      "--------------------------\n",
      "Number of dates 29\n",
      "Number of opinions 29 \n",
      "Number of embeddings 29\n",
      "--------------------------\n",
      "--------------------------\n",
      "立憲 ----- 井坂信彦\n",
      "--------------------------\n",
      "--------------------------\n",
      "Working on 少子化\n",
      "--------------------------\n",
      "--------------------------\n",
      "Reading /Users/annabellepurnomo/git/kokkai_analysis/data_prepping/params/../data/data_repr/立憲/井坂信彦/少子化/1.json\n",
      "--------------------------\n"
     ]
    },
    {
     "name": "stderr",
     "output_type": "stream",
     "text": [
      "Batches: 100%|██████████| 3/3 [00:29<00:00,  9.71s/it]\n"
     ]
    },
    {
     "name": "stdout",
     "output_type": "stream",
     "text": [
      "--------------------------\n",
      "Number of dates 76\n",
      "Number of opinions 76 \n",
      "Number of embeddings 76\n",
      "--------------------------\n",
      "--------------------------\n",
      "立憲 ----- 伴野豊\n",
      "--------------------------\n",
      "--------------------------\n",
      "Working on 少子化\n",
      "--------------------------\n",
      "--------------------------\n",
      "Reading /Users/annabellepurnomo/git/kokkai_analysis/data_prepping/params/../data/data_repr/立憲/伴野豊/少子化/1.json\n",
      "--------------------------\n"
     ]
    },
    {
     "name": "stderr",
     "output_type": "stream",
     "text": [
      "Batches: 100%|██████████| 1/1 [00:06<00:00,  6.45s/it]\n"
     ]
    },
    {
     "name": "stdout",
     "output_type": "stream",
     "text": [
      "--------------------------\n",
      "Number of dates 12\n",
      "Number of opinions 12 \n",
      "Number of embeddings 12\n",
      "--------------------------\n",
      "--------------------------\n",
      "立憲 ----- 泉健太\n",
      "--------------------------\n",
      "--------------------------\n",
      "Working on 少子化\n",
      "--------------------------\n",
      "--------------------------\n",
      "Reading /Users/annabellepurnomo/git/kokkai_analysis/data_prepping/params/../data/data_repr/立憲/泉健太/少子化/1.json\n",
      "--------------------------\n"
     ]
    },
    {
     "name": "stderr",
     "output_type": "stream",
     "text": [
      "Batches: 100%|██████████| 17/17 [01:39<00:00,  5.87s/it]\n"
     ]
    },
    {
     "name": "stdout",
     "output_type": "stream",
     "text": [
      "--------------------------\n",
      "Number of dates 522\n",
      "Number of opinions 522 \n",
      "Number of embeddings 522\n",
      "--------------------------\n",
      "--------------------------\n",
      "Working on LGBT\n",
      "--------------------------\n",
      "--------------------------\n",
      "Reading /Users/annabellepurnomo/git/kokkai_analysis/data_prepping/params/../data/data_repr/立憲/泉健太/LGBT/1.json\n",
      "--------------------------\n"
     ]
    },
    {
     "name": "stderr",
     "output_type": "stream",
     "text": [
      "Batches: 100%|██████████| 3/3 [00:21<00:00,  7.32s/it]\n"
     ]
    },
    {
     "name": "stdout",
     "output_type": "stream",
     "text": [
      "--------------------------\n",
      "Number of dates 80\n",
      "Number of opinions 80 \n",
      "Number of embeddings 80\n",
      "--------------------------\n",
      "--------------------------\n",
      "立憲 ----- 吉田統彦\n",
      "--------------------------\n",
      "--------------------------\n",
      "Working on 少子化\n",
      "--------------------------\n",
      "--------------------------\n",
      "Reading /Users/annabellepurnomo/git/kokkai_analysis/data_prepping/params/../data/data_repr/立憲/吉田統彦/少子化/1.json\n",
      "--------------------------\n"
     ]
    },
    {
     "name": "stderr",
     "output_type": "stream",
     "text": [
      "Batches: 100%|██████████| 2/2 [00:14<00:00,  7.19s/it]\n"
     ]
    },
    {
     "name": "stdout",
     "output_type": "stream",
     "text": [
      "--------------------------\n",
      "Number of dates 35\n",
      "Number of opinions 35 \n",
      "Number of embeddings 35\n",
      "--------------------------\n",
      "--------------------------\n",
      "Working on LGBT\n",
      "--------------------------\n",
      "--------------------------\n",
      "Reading /Users/annabellepurnomo/git/kokkai_analysis/data_prepping/params/../data/data_repr/立憲/吉田統彦/LGBT/1.json\n",
      "--------------------------\n"
     ]
    },
    {
     "name": "stderr",
     "output_type": "stream",
     "text": [
      "Batches: 100%|██████████| 1/1 [00:02<00:00,  2.59s/it]\n"
     ]
    },
    {
     "name": "stdout",
     "output_type": "stream",
     "text": [
      "--------------------------\n",
      "Number of dates 7\n",
      "Number of opinions 7 \n",
      "Number of embeddings 7\n",
      "--------------------------\n",
      "--------------------------\n",
      "立憲 ----- 福田昭夫\n",
      "--------------------------\n",
      "--------------------------\n",
      "Working on 少子化\n",
      "--------------------------\n",
      "--------------------------\n",
      "Reading /Users/annabellepurnomo/git/kokkai_analysis/data_prepping/params/../data/data_repr/立憲/福田昭夫/少子化/1.json\n",
      "--------------------------\n"
     ]
    },
    {
     "name": "stderr",
     "output_type": "stream",
     "text": [
      "Batches: 100%|██████████| 3/3 [00:27<00:00,  9.04s/it]\n"
     ]
    },
    {
     "name": "stdout",
     "output_type": "stream",
     "text": [
      "--------------------------\n",
      "Number of dates 89\n",
      "Number of opinions 89 \n",
      "Number of embeddings 89\n",
      "--------------------------\n",
      "--------------------------\n",
      "立憲 ----- 田嶋要\n",
      "--------------------------\n",
      "--------------------------\n",
      "Working on 少子化\n",
      "--------------------------\n",
      "--------------------------\n",
      "Reading /Users/annabellepurnomo/git/kokkai_analysis/data_prepping/params/../data/data_repr/立憲/田嶋要/少子化/1.json\n",
      "--------------------------\n"
     ]
    },
    {
     "name": "stderr",
     "output_type": "stream",
     "text": [
      "Batches: 100%|██████████| 2/2 [00:20<00:00, 10.49s/it]\n"
     ]
    },
    {
     "name": "stdout",
     "output_type": "stream",
     "text": [
      "--------------------------\n",
      "Number of dates 53\n",
      "Number of opinions 53 \n",
      "Number of embeddings 53\n",
      "--------------------------\n",
      "--------------------------\n",
      "Working on LGBT\n",
      "--------------------------\n",
      "--------------------------\n",
      "Reading /Users/annabellepurnomo/git/kokkai_analysis/data_prepping/params/../data/data_repr/立憲/田嶋要/LGBT/1.json\n",
      "--------------------------\n"
     ]
    },
    {
     "name": "stderr",
     "output_type": "stream",
     "text": [
      "Batches: 100%|██████████| 1/1 [00:02<00:00,  2.69s/it]\n"
     ]
    },
    {
     "name": "stdout",
     "output_type": "stream",
     "text": [
      "--------------------------\n",
      "Number of dates 6\n",
      "Number of opinions 6 \n",
      "Number of embeddings 6\n",
      "--------------------------\n",
      "--------------------------\n",
      "立憲 ----- 小川淳也\n",
      "--------------------------\n",
      "--------------------------\n",
      "Working on 少子化\n",
      "--------------------------\n",
      "--------------------------\n",
      "Reading /Users/annabellepurnomo/git/kokkai_analysis/data_prepping/params/../data/data_repr/立憲/小川淳也/少子化/1.json\n",
      "--------------------------\n"
     ]
    },
    {
     "name": "stderr",
     "output_type": "stream",
     "text": [
      "Batches: 100%|██████████| 4/4 [00:28<00:00,  7.15s/it]\n"
     ]
    },
    {
     "name": "stdout",
     "output_type": "stream",
     "text": [
      "--------------------------\n",
      "Number of dates 113\n",
      "Number of opinions 113 \n",
      "Number of embeddings 113\n",
      "--------------------------\n",
      "--------------------------\n",
      "立憲 ----- 末次精一\n",
      "--------------------------\n",
      "--------------------------\n",
      "Working on 少子化\n",
      "--------------------------\n",
      "--------------------------\n",
      "Reading /Users/annabellepurnomo/git/kokkai_analysis/data_prepping/params/../data/data_repr/立憲/末次精一/少子化/1.json\n",
      "--------------------------\n"
     ]
    },
    {
     "name": "stderr",
     "output_type": "stream",
     "text": [
      "Batches: 100%|██████████| 1/1 [00:03<00:00,  3.69s/it]\n"
     ]
    },
    {
     "name": "stdout",
     "output_type": "stream",
     "text": [
      "--------------------------\n",
      "Number of dates 9\n",
      "Number of opinions 9 \n",
      "Number of embeddings 9\n",
      "--------------------------\n",
      "--------------------------\n",
      "立憲 ----- 山岸一生\n",
      "--------------------------\n",
      "--------------------------\n",
      "Working on 少子化\n",
      "--------------------------\n",
      "--------------------------\n",
      "Reading /Users/annabellepurnomo/git/kokkai_analysis/data_prepping/params/../data/data_repr/立憲/山岸一生/少子化/1.json\n",
      "--------------------------\n"
     ]
    },
    {
     "name": "stderr",
     "output_type": "stream",
     "text": [
      "Batches: 100%|██████████| 1/1 [00:04<00:00,  4.25s/it]\n"
     ]
    },
    {
     "name": "stdout",
     "output_type": "stream",
     "text": [
      "--------------------------\n",
      "Number of dates 10\n",
      "Number of opinions 10 \n",
      "Number of embeddings 10\n",
      "--------------------------\n",
      "--------------------------\n",
      "Working on LGBT\n",
      "--------------------------\n",
      "--------------------------\n",
      "Reading /Users/annabellepurnomo/git/kokkai_analysis/data_prepping/params/../data/data_repr/立憲/山岸一生/LGBT/1.json\n",
      "--------------------------\n"
     ]
    },
    {
     "name": "stderr",
     "output_type": "stream",
     "text": [
      "Batches: 100%|██████████| 1/1 [00:06<00:00,  6.01s/it]\n"
     ]
    },
    {
     "name": "stdout",
     "output_type": "stream",
     "text": [
      "--------------------------\n",
      "Number of dates 18\n",
      "Number of opinions 18 \n",
      "Number of embeddings 18\n",
      "--------------------------\n",
      "--------------------------\n",
      "立憲 ----- 小沢一郎\n",
      "--------------------------\n",
      "--------------------------\n",
      "Working on 少子化\n",
      "--------------------------\n",
      "--------------------------\n",
      "Reading /Users/annabellepurnomo/git/kokkai_analysis/data_prepping/params/../data/data_repr/立憲/小沢一郎/少子化/1.json\n",
      "--------------------------\n"
     ]
    },
    {
     "name": "stderr",
     "output_type": "stream",
     "text": [
      "Batches: 100%|██████████| 3/3 [00:21<00:00,  7.22s/it]\n"
     ]
    },
    {
     "name": "stdout",
     "output_type": "stream",
     "text": [
      "--------------------------\n",
      "Number of dates 65\n",
      "Number of opinions 65 \n",
      "Number of embeddings 65\n",
      "--------------------------\n",
      "--------------------------\n",
      "立憲 ----- 伊藤俊輔\n",
      "--------------------------\n",
      "--------------------------\n",
      "立憲 ----- 野田佳彦\n",
      "--------------------------\n",
      "--------------------------\n",
      "Working on 少子化\n",
      "--------------------------\n",
      "--------------------------\n",
      "Reading /Users/annabellepurnomo/git/kokkai_analysis/data_prepping/params/../data/data_repr/立憲/野田佳彦/少子化/1.json\n",
      "--------------------------\n"
     ]
    },
    {
     "name": "stderr",
     "output_type": "stream",
     "text": [
      "Batches: 100%|██████████| 10/10 [01:19<00:00,  7.93s/it]\n"
     ]
    },
    {
     "name": "stdout",
     "output_type": "stream",
     "text": [
      "--------------------------\n",
      "Number of dates 303\n",
      "Number of opinions 303 \n",
      "Number of embeddings 303\n",
      "--------------------------\n",
      "--------------------------\n",
      "立憲 ----- 石川香織\n",
      "--------------------------\n",
      "--------------------------\n",
      "Working on 少子化\n",
      "--------------------------\n",
      "--------------------------\n",
      "Reading /Users/annabellepurnomo/git/kokkai_analysis/data_prepping/params/../data/data_repr/立憲/石川香織/少子化/1.json\n",
      "--------------------------\n"
     ]
    },
    {
     "name": "stderr",
     "output_type": "stream",
     "text": [
      "Batches: 100%|██████████| 2/2 [00:13<00:00,  6.68s/it]\n"
     ]
    },
    {
     "name": "stdout",
     "output_type": "stream",
     "text": [
      "--------------------------\n",
      "Number of dates 47\n",
      "Number of opinions 47 \n",
      "Number of embeddings 47\n",
      "--------------------------\n",
      "--------------------------\n",
      "Working on LGBT\n",
      "--------------------------\n",
      "--------------------------\n",
      "Reading /Users/annabellepurnomo/git/kokkai_analysis/data_prepping/params/../data/data_repr/立憲/石川香織/LGBT/1.json\n",
      "--------------------------\n"
     ]
    },
    {
     "name": "stderr",
     "output_type": "stream",
     "text": [
      "Batches: 100%|██████████| 2/2 [00:11<00:00,  5.60s/it]\n"
     ]
    },
    {
     "name": "stdout",
     "output_type": "stream",
     "text": [
      "--------------------------\n",
      "Number of dates 41\n",
      "Number of opinions 41 \n",
      "Number of embeddings 41\n",
      "--------------------------\n",
      "--------------------------\n",
      "立憲 ----- 篠原孝\n",
      "--------------------------\n",
      "--------------------------\n",
      "Working on 少子化\n",
      "--------------------------\n",
      "--------------------------\n",
      "Reading /Users/annabellepurnomo/git/kokkai_analysis/data_prepping/params/../data/data_repr/立憲/篠原孝/少子化/1.json\n",
      "--------------------------\n"
     ]
    },
    {
     "name": "stderr",
     "output_type": "stream",
     "text": [
      "Batches: 100%|██████████| 2/2 [00:11<00:00,  5.82s/it]\n"
     ]
    },
    {
     "name": "stdout",
     "output_type": "stream",
     "text": [
      "--------------------------\n",
      "Number of dates 40\n",
      "Number of opinions 40 \n",
      "Number of embeddings 40\n",
      "--------------------------\n",
      "--------------------------\n",
      "Working on LGBT\n",
      "--------------------------\n",
      "--------------------------\n",
      "Reading /Users/annabellepurnomo/git/kokkai_analysis/data_prepping/params/../data/data_repr/立憲/篠原孝/LGBT/1.json\n",
      "--------------------------\n"
     ]
    },
    {
     "name": "stderr",
     "output_type": "stream",
     "text": [
      "Batches: 100%|██████████| 2/2 [00:17<00:00,  8.59s/it]\n"
     ]
    },
    {
     "name": "stdout",
     "output_type": "stream",
     "text": [
      "--------------------------\n",
      "Number of dates 38\n",
      "Number of opinions 38 \n",
      "Number of embeddings 38\n",
      "--------------------------\n",
      "--------------------------\n",
      "立憲 ----- 菅直人\n",
      "--------------------------\n",
      "--------------------------\n",
      "Working on 少子化\n",
      "--------------------------\n",
      "--------------------------\n",
      "Reading /Users/annabellepurnomo/git/kokkai_analysis/data_prepping/params/../data/data_repr/立憲/菅直人/少子化/1.json\n",
      "--------------------------\n",
      "--------------------------\n",
      "Reading /Users/annabellepurnomo/git/kokkai_analysis/data_prepping/params/../data/data_repr/立憲/菅直人/少子化/2.json\n",
      "--------------------------\n"
     ]
    },
    {
     "name": "stderr",
     "output_type": "stream",
     "text": [
      "Batches: 100%|██████████| 20/20 [02:24<00:00,  7.25s/it]\n"
     ]
    },
    {
     "name": "stdout",
     "output_type": "stream",
     "text": [
      "--------------------------\n",
      "Number of dates 632\n",
      "Number of opinions 632 \n",
      "Number of embeddings 632\n",
      "--------------------------\n",
      "--------------------------\n",
      "立憲 ----- 湯原俊二\n",
      "--------------------------\n",
      "--------------------------\n",
      "Working on 少子化\n",
      "--------------------------\n",
      "--------------------------\n",
      "Reading /Users/annabellepurnomo/git/kokkai_analysis/data_prepping/params/../data/data_repr/立憲/湯原俊二/少子化/1.json\n",
      "--------------------------\n"
     ]
    },
    {
     "name": "stderr",
     "output_type": "stream",
     "text": [
      "Batches: 100%|██████████| 1/1 [00:03<00:00,  3.31s/it]\n"
     ]
    },
    {
     "name": "stdout",
     "output_type": "stream",
     "text": [
      "--------------------------\n",
      "Number of dates 10\n",
      "Number of opinions 10 \n",
      "Number of embeddings 10\n",
      "--------------------------\n",
      "--------------------------\n",
      "Working on LGBT\n",
      "--------------------------\n",
      "--------------------------\n",
      "Reading /Users/annabellepurnomo/git/kokkai_analysis/data_prepping/params/../data/data_repr/立憲/湯原俊二/LGBT/1.json\n",
      "--------------------------\n"
     ]
    },
    {
     "name": "stderr",
     "output_type": "stream",
     "text": [
      "Batches: 100%|██████████| 1/1 [00:02<00:00,  2.36s/it]\n"
     ]
    },
    {
     "name": "stdout",
     "output_type": "stream",
     "text": [
      "--------------------------\n",
      "Number of dates 3\n",
      "Number of opinions 3 \n",
      "Number of embeddings 3\n",
      "--------------------------\n",
      "--------------------------\n",
      "立憲 ----- 吉川元\n",
      "--------------------------\n",
      "--------------------------\n",
      "Working on 少子化\n",
      "--------------------------\n",
      "--------------------------\n",
      "Reading /Users/annabellepurnomo/git/kokkai_analysis/data_prepping/params/../data/data_repr/立憲/吉川元/少子化/1.json\n",
      "--------------------------\n"
     ]
    },
    {
     "name": "stderr",
     "output_type": "stream",
     "text": [
      "Batches: 100%|██████████| 2/2 [00:18<00:00,  9.37s/it]\n"
     ]
    },
    {
     "name": "stdout",
     "output_type": "stream",
     "text": [
      "--------------------------\n",
      "Number of dates 46\n",
      "Number of opinions 46 \n",
      "Number of embeddings 46\n",
      "--------------------------\n",
      "--------------------------\n",
      "立憲 ----- 藤岡隆雄\n",
      "--------------------------\n",
      "--------------------------\n",
      "Working on 少子化\n",
      "--------------------------\n",
      "--------------------------\n",
      "Reading /Users/annabellepurnomo/git/kokkai_analysis/data_prepping/params/../data/data_repr/立憲/藤岡隆雄/少子化/1.json\n",
      "--------------------------\n"
     ]
    },
    {
     "name": "stderr",
     "output_type": "stream",
     "text": [
      "Batches: 100%|██████████| 1/1 [00:06<00:00,  6.51s/it]\n"
     ]
    },
    {
     "name": "stdout",
     "output_type": "stream",
     "text": [
      "--------------------------\n",
      "Number of dates 17\n",
      "Number of opinions 17 \n",
      "Number of embeddings 17\n",
      "--------------------------\n",
      "--------------------------\n",
      "Working on LGBT\n",
      "--------------------------\n",
      "--------------------------\n",
      "Reading /Users/annabellepurnomo/git/kokkai_analysis/data_prepping/params/../data/data_repr/立憲/藤岡隆雄/LGBT/1.json\n",
      "--------------------------\n"
     ]
    },
    {
     "name": "stderr",
     "output_type": "stream",
     "text": [
      "Batches: 100%|██████████| 1/1 [00:03<00:00,  3.97s/it]\n"
     ]
    },
    {
     "name": "stdout",
     "output_type": "stream",
     "text": [
      "--------------------------\n",
      "Number of dates 12\n",
      "Number of opinions 12 \n",
      "Number of embeddings 12\n",
      "--------------------------\n",
      "--------------------------\n",
      "立憲 ----- 山井和則\n",
      "--------------------------\n",
      "--------------------------\n",
      "Working on 少子化\n",
      "--------------------------\n",
      "--------------------------\n",
      "Reading /Users/annabellepurnomo/git/kokkai_analysis/data_prepping/params/../data/data_repr/立憲/山井和則/少子化/1.json\n",
      "--------------------------\n"
     ]
    },
    {
     "name": "stderr",
     "output_type": "stream",
     "text": [
      "Batches: 100%|██████████| 4/4 [00:43<00:00, 10.98s/it]\n"
     ]
    },
    {
     "name": "stdout",
     "output_type": "stream",
     "text": [
      "--------------------------\n",
      "Number of dates 115\n",
      "Number of opinions 115 \n",
      "Number of embeddings 115\n",
      "--------------------------\n",
      "--------------------------\n",
      "立憲 ----- 稲富修二\n",
      "--------------------------\n",
      "--------------------------\n",
      "Working on 少子化\n",
      "--------------------------\n",
      "--------------------------\n",
      "Reading /Users/annabellepurnomo/git/kokkai_analysis/data_prepping/params/../data/data_repr/立憲/稲富修二/少子化/1.json\n",
      "--------------------------\n"
     ]
    },
    {
     "name": "stderr",
     "output_type": "stream",
     "text": [
      "Batches: 100%|██████████| 2/2 [00:14<00:00,  7.11s/it]\n"
     ]
    },
    {
     "name": "stdout",
     "output_type": "stream",
     "text": [
      "--------------------------\n",
      "Number of dates 53\n",
      "Number of opinions 53 \n",
      "Number of embeddings 53\n",
      "--------------------------\n",
      "--------------------------\n",
      "立憲 ----- 大島敦\n",
      "--------------------------\n",
      "--------------------------\n",
      "Working on 少子化\n",
      "--------------------------\n",
      "--------------------------\n",
      "Reading /Users/annabellepurnomo/git/kokkai_analysis/data_prepping/params/../data/data_repr/立憲/大島敦/少子化/1.json\n",
      "--------------------------\n"
     ]
    },
    {
     "name": "stderr",
     "output_type": "stream",
     "text": [
      "Batches: 100%|██████████| 2/2 [00:21<00:00, 10.87s/it]\n"
     ]
    },
    {
     "name": "stdout",
     "output_type": "stream",
     "text": [
      "--------------------------\n",
      "Number of dates 36\n",
      "Number of opinions 36 \n",
      "Number of embeddings 36\n",
      "--------------------------\n",
      "--------------------------\n",
      "立憲 ----- 太栄志\n",
      "--------------------------\n",
      "--------------------------\n",
      "Working on 少子化\n",
      "--------------------------\n",
      "--------------------------\n",
      "Reading /Users/annabellepurnomo/git/kokkai_analysis/data_prepping/params/../data/data_repr/立憲/太栄志/少子化/1.json\n",
      "--------------------------\n"
     ]
    },
    {
     "name": "stderr",
     "output_type": "stream",
     "text": [
      "Batches: 100%|██████████| 1/1 [00:01<00:00,  1.63s/it]\n"
     ]
    },
    {
     "name": "stdout",
     "output_type": "stream",
     "text": [
      "--------------------------\n",
      "Number of dates 5\n",
      "Number of opinions 5 \n",
      "Number of embeddings 5\n",
      "--------------------------\n",
      "--------------------------\n",
      "立憲 ----- 渡辺創\n",
      "--------------------------\n",
      "--------------------------\n",
      "Working on 少子化\n",
      "--------------------------\n",
      "--------------------------\n",
      "Reading /Users/annabellepurnomo/git/kokkai_analysis/data_prepping/params/../data/data_repr/立憲/渡辺創/少子化/1.json\n",
      "--------------------------\n"
     ]
    },
    {
     "name": "stderr",
     "output_type": "stream",
     "text": [
      "Batches: 100%|██████████| 1/1 [00:03<00:00,  3.16s/it]\n"
     ]
    },
    {
     "name": "stdout",
     "output_type": "stream",
     "text": [
      "--------------------------\n",
      "Number of dates 10\n",
      "Number of opinions 10 \n",
      "Number of embeddings 10\n",
      "--------------------------\n",
      "--------------------------\n",
      "立憲 ----- 森山浩行\n",
      "--------------------------\n",
      "--------------------------\n",
      "Working on 少子化\n",
      "--------------------------\n",
      "--------------------------\n",
      "Reading /Users/annabellepurnomo/git/kokkai_analysis/data_prepping/params/../data/data_repr/立憲/森山浩行/少子化/1.json\n",
      "--------------------------\n"
     ]
    },
    {
     "name": "stderr",
     "output_type": "stream",
     "text": [
      "Batches: 100%|██████████| 1/1 [00:07<00:00,  7.79s/it]\n"
     ]
    },
    {
     "name": "stdout",
     "output_type": "stream",
     "text": [
      "--------------------------\n",
      "Number of dates 14\n",
      "Number of opinions 14 \n",
      "Number of embeddings 14\n",
      "--------------------------\n",
      "--------------------------\n",
      "Working on LGBT\n",
      "--------------------------\n",
      "--------------------------\n",
      "Reading /Users/annabellepurnomo/git/kokkai_analysis/data_prepping/params/../data/data_repr/立憲/森山浩行/LGBT/1.json\n",
      "--------------------------\n"
     ]
    },
    {
     "name": "stderr",
     "output_type": "stream",
     "text": [
      "Batches: 100%|██████████| 1/1 [00:00<00:00,  2.13it/s]\n"
     ]
    },
    {
     "name": "stdout",
     "output_type": "stream",
     "text": [
      "--------------------------\n",
      "Number of dates 2\n",
      "Number of opinions 2 \n",
      "Number of embeddings 2\n",
      "--------------------------\n",
      "--------------------------\n",
      "立憲 ----- 長妻昭\n",
      "--------------------------\n",
      "--------------------------\n",
      "Working on 少子化\n",
      "--------------------------\n",
      "--------------------------\n",
      "Reading /Users/annabellepurnomo/git/kokkai_analysis/data_prepping/params/../data/data_repr/立憲/長妻昭/少子化/1.json\n",
      "--------------------------\n",
      "--------------------------\n",
      "Reading /Users/annabellepurnomo/git/kokkai_analysis/data_prepping/params/../data/data_repr/立憲/長妻昭/少子化/2.json\n",
      "--------------------------\n",
      "--------------------------\n",
      "Reading /Users/annabellepurnomo/git/kokkai_analysis/data_prepping/params/../data/data_repr/立憲/長妻昭/少子化/3.json\n",
      "--------------------------\n"
     ]
    },
    {
     "name": "stderr",
     "output_type": "stream",
     "text": [
      "Batches: 100%|██████████| 12/12 [01:47<00:00,  8.96s/it]\n"
     ]
    },
    {
     "name": "stdout",
     "output_type": "stream",
     "text": [
      "--------------------------\n",
      "Number of dates 358\n",
      "Number of opinions 358 \n",
      "Number of embeddings 358\n",
      "--------------------------\n",
      "--------------------------\n",
      "Working on LGBT\n",
      "--------------------------\n",
      "--------------------------\n",
      "Reading /Users/annabellepurnomo/git/kokkai_analysis/data_prepping/params/../data/data_repr/立憲/長妻昭/LGBT/1.json\n",
      "--------------------------\n"
     ]
    },
    {
     "name": "stderr",
     "output_type": "stream",
     "text": [
      "Batches: 100%|██████████| 1/1 [00:00<00:00,  1.23it/s]\n"
     ]
    },
    {
     "name": "stdout",
     "output_type": "stream",
     "text": [
      "--------------------------\n",
      "Number of dates 2\n",
      "Number of opinions 2 \n",
      "Number of embeddings 2\n",
      "--------------------------\n",
      "--------------------------\n",
      "立憲 ----- 鈴木庸介\n",
      "--------------------------\n",
      "--------------------------\n",
      "立憲 ----- 神津たけし\n",
      "--------------------------\n",
      "--------------------------\n",
      "立憲 ----- 菊田真紀子\n",
      "--------------------------\n",
      "--------------------------\n",
      "Working on 少子化\n",
      "--------------------------\n",
      "--------------------------\n",
      "Reading /Users/annabellepurnomo/git/kokkai_analysis/data_prepping/params/../data/data_repr/立憲/菊田真紀子/少子化/1.json\n",
      "--------------------------\n"
     ]
    },
    {
     "name": "stderr",
     "output_type": "stream",
     "text": [
      "Batches: 100%|██████████| 3/3 [00:33<00:00, 11.07s/it]\n"
     ]
    },
    {
     "name": "stdout",
     "output_type": "stream",
     "text": [
      "--------------------------\n",
      "Number of dates 85\n",
      "Number of opinions 85 \n",
      "Number of embeddings 85\n",
      "--------------------------\n",
      "--------------------------\n",
      "Working on LGBT\n",
      "--------------------------\n",
      "--------------------------\n",
      "Reading /Users/annabellepurnomo/git/kokkai_analysis/data_prepping/params/../data/data_repr/立憲/菊田真紀子/LGBT/1.json\n",
      "--------------------------\n"
     ]
    },
    {
     "name": "stderr",
     "output_type": "stream",
     "text": [
      "Batches: 100%|██████████| 1/1 [00:00<00:00,  5.43it/s]\n"
     ]
    },
    {
     "name": "stdout",
     "output_type": "stream",
     "text": [
      "--------------------------\n",
      "Number of dates 1\n",
      "Number of opinions 1 \n",
      "Number of embeddings 1\n",
      "--------------------------\n",
      "--------------------------\n",
      "立憲 ----- 鎌田さゆり\n",
      "--------------------------\n",
      "--------------------------\n",
      "Working on 少子化\n",
      "--------------------------\n",
      "--------------------------\n",
      "Reading /Users/annabellepurnomo/git/kokkai_analysis/data_prepping/params/../data/data_repr/立憲/鎌田さゆり/少子化/1.json\n",
      "--------------------------\n"
     ]
    },
    {
     "name": "stderr",
     "output_type": "stream",
     "text": [
      "Batches: 100%|██████████| 2/2 [00:28<00:00, 14.22s/it]\n"
     ]
    },
    {
     "name": "stdout",
     "output_type": "stream",
     "text": [
      "--------------------------\n",
      "Number of dates 40\n",
      "Number of opinions 40 \n",
      "Number of embeddings 40\n",
      "--------------------------\n",
      "--------------------------\n",
      "Working on LGBT\n",
      "--------------------------\n",
      "--------------------------\n",
      "Reading /Users/annabellepurnomo/git/kokkai_analysis/data_prepping/params/../data/data_repr/立憲/鎌田さゆり/LGBT/1.json\n",
      "--------------------------\n"
     ]
    },
    {
     "name": "stderr",
     "output_type": "stream",
     "text": [
      "Batches: 100%|██████████| 1/1 [00:09<00:00,  9.01s/it]\n"
     ]
    },
    {
     "name": "stdout",
     "output_type": "stream",
     "text": [
      "--------------------------\n",
      "Number of dates 15\n",
      "Number of opinions 15 \n",
      "Number of embeddings 15\n",
      "--------------------------\n",
      "--------------------------\n",
      "立憲 ----- 新垣邦男\n",
      "--------------------------\n",
      "--------------------------\n",
      "立憲 ----- 青山大人\n",
      "--------------------------\n",
      "--------------------------\n",
      "Working on 少子化\n",
      "--------------------------\n",
      "--------------------------\n",
      "Reading /Users/annabellepurnomo/git/kokkai_analysis/data_prepping/params/../data/data_repr/立憲/青山大人/少子化/1.json\n",
      "--------------------------\n"
     ]
    },
    {
     "name": "stderr",
     "output_type": "stream",
     "text": [
      "Batches: 100%|██████████| 1/1 [00:11<00:00, 11.16s/it]\n"
     ]
    },
    {
     "name": "stdout",
     "output_type": "stream",
     "text": [
      "--------------------------\n",
      "Number of dates 20\n",
      "Number of opinions 20 \n",
      "Number of embeddings 20\n",
      "--------------------------\n",
      "--------------------------\n",
      "Working on LGBT\n",
      "--------------------------\n",
      "--------------------------\n",
      "Reading /Users/annabellepurnomo/git/kokkai_analysis/data_prepping/params/../data/data_repr/立憲/青山大人/LGBT/1.json\n",
      "--------------------------\n"
     ]
    },
    {
     "name": "stderr",
     "output_type": "stream",
     "text": [
      "Batches: 100%|██████████| 1/1 [00:00<00:00,  2.27it/s]\n"
     ]
    },
    {
     "name": "stdout",
     "output_type": "stream",
     "text": [
      "--------------------------\n",
      "Number of dates 2\n",
      "Number of opinions 2 \n",
      "Number of embeddings 2\n",
      "--------------------------\n",
      "--------------------------\n",
      "立憲 ----- 安住淳\n",
      "--------------------------\n",
      "--------------------------\n",
      "Working on 少子化\n",
      "--------------------------\n",
      "--------------------------\n",
      "Reading /Users/annabellepurnomo/git/kokkai_analysis/data_prepping/params/../data/data_repr/立憲/安住淳/少子化/1.json\n",
      "--------------------------\n"
     ]
    },
    {
     "name": "stderr",
     "output_type": "stream",
     "text": [
      "Batches: 100%|██████████| 4/4 [00:45<00:00, 11.43s/it]\n"
     ]
    },
    {
     "name": "stdout",
     "output_type": "stream",
     "text": [
      "--------------------------\n",
      "Number of dates 117\n",
      "Number of opinions 117 \n",
      "Number of embeddings 117\n",
      "--------------------------\n",
      "--------------------------\n",
      "立憲 ----- 米山隆一\n",
      "--------------------------\n",
      "--------------------------\n",
      "Working on 少子化\n",
      "--------------------------\n",
      "--------------------------\n",
      "Reading /Users/annabellepurnomo/git/kokkai_analysis/data_prepping/params/../data/data_repr/立憲/米山隆一/少子化/1.json\n",
      "--------------------------\n"
     ]
    },
    {
     "name": "stderr",
     "output_type": "stream",
     "text": [
      "Batches: 100%|██████████| 1/1 [00:01<00:00,  1.02s/it]\n"
     ]
    },
    {
     "name": "stdout",
     "output_type": "stream",
     "text": [
      "--------------------------\n",
      "Number of dates 4\n",
      "Number of opinions 4 \n",
      "Number of embeddings 4\n",
      "--------------------------\n",
      "--------------------------\n",
      "Working on LGBT\n",
      "--------------------------\n",
      "--------------------------\n",
      "Reading /Users/annabellepurnomo/git/kokkai_analysis/data_prepping/params/../data/data_repr/立憲/米山隆一/LGBT/1.json\n",
      "--------------------------\n"
     ]
    },
    {
     "name": "stderr",
     "output_type": "stream",
     "text": [
      "Batches: 100%|██████████| 1/1 [00:11<00:00, 11.11s/it]\n"
     ]
    },
    {
     "name": "stdout",
     "output_type": "stream",
     "text": [
      "--------------------------\n",
      "Number of dates 18\n",
      "Number of opinions 18 \n",
      "Number of embeddings 18\n",
      "--------------------------\n",
      "--------------------------\n",
      "立憲 ----- 近藤和也\n",
      "--------------------------\n",
      "--------------------------\n",
      "Working on 少子化\n",
      "--------------------------\n",
      "--------------------------\n",
      "Reading /Users/annabellepurnomo/git/kokkai_analysis/data_prepping/params/../data/data_repr/立憲/近藤和也/少子化/1.json\n",
      "--------------------------\n"
     ]
    },
    {
     "name": "stderr",
     "output_type": "stream",
     "text": [
      "Batches: 100%|██████████| 1/1 [00:10<00:00, 10.46s/it]\n"
     ]
    },
    {
     "name": "stdout",
     "output_type": "stream",
     "text": [
      "--------------------------\n",
      "Number of dates 30\n",
      "Number of opinions 30 \n",
      "Number of embeddings 30\n",
      "--------------------------\n",
      "--------------------------\n",
      "立憲 ----- 逢坂誠二\n",
      "--------------------------\n",
      "--------------------------\n",
      "Working on 少子化\n",
      "--------------------------\n",
      "--------------------------\n",
      "Reading /Users/annabellepurnomo/git/kokkai_analysis/data_prepping/params/../data/data_repr/立憲/逢坂誠二/少子化/1.json\n",
      "--------------------------\n"
     ]
    },
    {
     "name": "stderr",
     "output_type": "stream",
     "text": [
      "Batches: 100%|██████████| 8/8 [06:23<00:00, 47.97s/it] \n"
     ]
    },
    {
     "name": "stdout",
     "output_type": "stream",
     "text": [
      "--------------------------\n",
      "Number of dates 236\n",
      "Number of opinions 236 \n",
      "Number of embeddings 236\n",
      "--------------------------\n",
      "--------------------------\n",
      "Working on LGBT\n",
      "--------------------------\n",
      "--------------------------\n",
      "Reading /Users/annabellepurnomo/git/kokkai_analysis/data_prepping/params/../data/data_repr/立憲/逢坂誠二/LGBT/1.json\n",
      "--------------------------\n"
     ]
    },
    {
     "name": "stderr",
     "output_type": "stream",
     "text": [
      "Batches: 100%|██████████| 1/1 [00:00<00:00,  1.52it/s]\n"
     ]
    },
    {
     "name": "stdout",
     "output_type": "stream",
     "text": [
      "--------------------------\n",
      "Number of dates 2\n",
      "Number of opinions 2 \n",
      "Number of embeddings 2\n",
      "--------------------------\n",
      "--------------------------\n",
      "立憲 ----- 阿部知子\n",
      "--------------------------\n",
      "--------------------------\n",
      "Working on 少子化\n",
      "--------------------------\n",
      "--------------------------\n",
      "Reading /Users/annabellepurnomo/git/kokkai_analysis/data_prepping/params/../data/data_repr/立憲/阿部知子/少子化/1.json\n",
      "--------------------------\n",
      "--------------------------\n",
      "Reading /Users/annabellepurnomo/git/kokkai_analysis/data_prepping/params/../data/data_repr/立憲/阿部知子/少子化/2.json\n",
      "--------------------------\n",
      "--------------------------\n",
      "Reading /Users/annabellepurnomo/git/kokkai_analysis/data_prepping/params/../data/data_repr/立憲/阿部知子/少子化/3.json\n",
      "--------------------------\n"
     ]
    },
    {
     "name": "stderr",
     "output_type": "stream",
     "text": [
      "Batches: 100%|██████████| 14/14 [01:53<00:00,  8.08s/it]\n"
     ]
    },
    {
     "name": "stdout",
     "output_type": "stream",
     "text": [
      "--------------------------\n",
      "Number of dates 442\n",
      "Number of opinions 442 \n",
      "Number of embeddings 442\n",
      "--------------------------\n",
      "--------------------------\n",
      "立憲 ----- 中島克仁\n",
      "--------------------------\n",
      "--------------------------\n",
      "Working on 少子化\n",
      "--------------------------\n",
      "--------------------------\n",
      "Reading /Users/annabellepurnomo/git/kokkai_analysis/data_prepping/params/../data/data_repr/立憲/中島克仁/少子化/1.json\n",
      "--------------------------\n"
     ]
    },
    {
     "name": "stderr",
     "output_type": "stream",
     "text": [
      "Batches: 100%|██████████| 3/3 [00:27<00:00,  9.24s/it]\n"
     ]
    },
    {
     "name": "stdout",
     "output_type": "stream",
     "text": [
      "--------------------------\n",
      "Number of dates 72\n",
      "Number of opinions 72 \n",
      "Number of embeddings 72\n",
      "--------------------------\n",
      "--------------------------\n",
      "有志 ----- 緒方林太郎\n",
      "--------------------------\n",
      "--------------------------\n",
      "Working on 移民\n",
      "--------------------------\n",
      "--------------------------\n",
      "Embeddings already exist for 移民 in /root/projects/kokkai_analysis/data_prepping/params/../data/data_repr/有志/緒方林太郎\n",
      "--------------------------\n",
      "--------------------------\n",
      "Working on 消費税\n",
      "--------------------------\n",
      "--------------------------\n",
      "Embeddings already exist for 消費税 in /root/projects/kokkai_analysis/data_prepping/params/../data/data_repr/有志/緒方林太郎\n",
      "--------------------------\n",
      "--------------------------\n",
      "Working on エネルギー\n",
      "--------------------------\n",
      "--------------------------\n",
      "Embeddings already exist for エネルギー in /root/projects/kokkai_analysis/data_prepping/params/../data/data_repr/有志/緒方林太郎\n",
      "--------------------------\n",
      "--------------------------\n",
      "Working on 防衛予算\n",
      "--------------------------\n",
      "--------------------------\n",
      "Embeddings already exist for 防衛予算 in /root/projects/kokkai_analysis/data_prepping/params/../data/data_repr/有志/緒方林太郎\n",
      "--------------------------\n",
      "--------------------------\n",
      "Working on 国債\n",
      "--------------------------\n",
      "--------------------------\n",
      "Reading /root/projects/kokkai_analysis/data_prepping/params/../data/data_repr/有志/緒方林太郎/国債/1.json\n",
      "立憲 ----- 寺田学\n",
      "--------------------------\n",
      "--------------------------\n",
      "Working on 少子化\n",
      "--------------------------\n",
      "--------------------------\n",
      "Reading /Users/annabellepurnomo/git/kokkai_analysis/data_prepping/params/../data/data_repr/立憲/寺田学/少子化/1.json\n",
      "--------------------------\n"
     ]
    },
    {
     "name": "stderr",
     "output_type": "stream",
     "text": [
      "Batches: 100%|██████████| 1/1 [00:09<00:00,  9.50s/it]\n"
     ]
    },
    {
     "name": "stdout",
     "output_type": "stream",
     "text": [
      "--------------------------\n",
      "Number of dates 19\n",
      "Number of opinions 19 \n",
      "Number of embeddings 19\n",
      "--------------------------\n",
      "--------------------------\n",
      "立憲 ----- 森田俊和\n",
      "--------------------------\n",
      "--------------------------\n",
      "Working on 少子化\n",
      "--------------------------\n",
      "--------------------------\n",
      "Reading /Users/annabellepurnomo/git/kokkai_analysis/data_prepping/params/../data/data_repr/立憲/森田俊和/少子化/1.json\n",
      "--------------------------\n"
     ]
    },
    {
     "name": "stderr",
     "output_type": "stream",
     "text": [
      "Batches: 100%|██████████| 1/1 [00:14<00:00, 14.04s/it]\n"
     ]
    },
    {
     "name": "stdout",
     "output_type": "stream",
     "text": [
      "--------------------------\n",
      "Number of dates 13\n",
      "Number of opinions 13 \n",
      "Number of embeddings 13\n",
      "--------------------------\n",
      "--------------------------\n",
      "立憲 ----- 佐藤公治\n",
      "--------------------------\n",
      "--------------------------\n",
      "Working on 少子化\n",
      "--------------------------\n",
      "--------------------------\n",
      "Reading /Users/annabellepurnomo/git/kokkai_analysis/data_prepping/params/../data/data_repr/立憲/佐藤公治/少子化/1.json\n",
      "--------------------------\n"
     ]
    },
    {
     "name": "stderr",
     "output_type": "stream",
     "text": [
      "Batches: 100%|██████████| 3/3 [00:38<00:00, 12.73s/it]\n"
     ]
    },
    {
     "name": "stdout",
     "output_type": "stream",
     "text": [
      "--------------------------\n",
      "Number of dates 82\n",
      "Number of opinions 82 \n",
      "Number of embeddings 82\n",
      "--------------------------\n",
      "--------------------------\n",
      "立憲 ----- 青柳陽一郎\n",
      "--------------------------\n",
      "--------------------------\n",
      "Working on 少子化\n",
      "--------------------------\n",
      "--------------------------\n",
      "Reading /Users/annabellepurnomo/git/kokkai_analysis/data_prepping/params/../data/data_repr/立憲/青柳陽一郎/少子化/1.json\n",
      "--------------------------\n"
     ]
    },
    {
     "name": "stderr",
     "output_type": "stream",
     "text": [
      "Batches: 100%|██████████| 1/1 [00:08<00:00,  8.91s/it]\n"
     ]
    },
    {
     "name": "stdout",
     "output_type": "stream",
     "text": [
      "--------------------------\n",
      "Number of dates 17\n",
      "Number of opinions 17 \n",
      "Number of embeddings 17\n",
      "--------------------------\n",
      "--------------------------\n",
      "立憲 ----- 枝野幸男\n",
      "--------------------------\n",
      "--------------------------\n",
      "Working on 少子化\n",
      "--------------------------\n",
      "--------------------------\n",
      "Reading /Users/annabellepurnomo/git/kokkai_analysis/data_prepping/params/../data/data_repr/立憲/枝野幸男/少子化/1.json\n",
      "--------------------------\n"
     ]
    },
    {
     "name": "stderr",
     "output_type": "stream",
     "text": [
      "Batches: 100%|██████████| 26/26 [03:11<00:00,  7.35s/it]\n"
     ]
    },
    {
     "name": "stdout",
     "output_type": "stream",
     "text": [
      "--------------------------\n",
      "Number of dates 810\n",
      "Number of opinions 810 \n",
      "Number of embeddings 810\n",
      "--------------------------\n",
      "--------------------------\n",
      "Working on LGBT\n",
      "--------------------------\n",
      "--------------------------\n",
      "Reading /Users/annabellepurnomo/git/kokkai_analysis/data_prepping/params/../data/data_repr/立憲/枝野幸男/LGBT/1.json\n",
      "--------------------------\n"
     ]
    },
    {
     "name": "stderr",
     "output_type": "stream",
     "text": [
      "Batches: 100%|██████████| 18/18 [01:46<00:00,  5.91s/it]\n"
     ]
    },
    {
     "name": "stdout",
     "output_type": "stream",
     "text": [
      "--------------------------\n",
      "Number of dates 562\n",
      "Number of opinions 562 \n",
      "Number of embeddings 562\n",
      "--------------------------\n",
      "--------------------------\n",
      "立憲 ----- 小山展弘\n",
      "--------------------------\n",
      "--------------------------\n",
      "立憲 ----- 奥野総一郎\n",
      "--------------------------\n",
      "--------------------------\n",
      "Working on 少子化\n",
      "--------------------------\n",
      "--------------------------\n",
      "Reading /Users/annabellepurnomo/git/kokkai_analysis/data_prepping/params/../data/data_repr/立憲/奥野総一郎/少子化/1.json\n",
      "--------------------------\n"
     ]
    },
    {
     "name": "stderr",
     "output_type": "stream",
     "text": [
      "Batches: 100%|██████████| 1/1 [00:01<00:00,  1.35s/it]\n"
     ]
    },
    {
     "name": "stdout",
     "output_type": "stream",
     "text": [
      "--------------------------\n",
      "Number of dates 5\n",
      "Number of opinions 5 \n",
      "Number of embeddings 5\n",
      "--------------------------\n",
      "--------------------------\n",
      "Working on LGBT\n",
      "--------------------------\n",
      "--------------------------\n",
      "Reading /Users/annabellepurnomo/git/kokkai_analysis/data_prepping/params/../data/data_repr/立憲/奥野総一郎/LGBT/1.json\n",
      "--------------------------\n"
     ]
    },
    {
     "name": "stderr",
     "output_type": "stream",
     "text": [
      "Batches: 100%|██████████| 1/1 [00:02<00:00,  2.91s/it]\n"
     ]
    },
    {
     "name": "stdout",
     "output_type": "stream",
     "text": [
      "--------------------------\n",
      "Number of dates 4\n",
      "Number of opinions 4 \n",
      "Number of embeddings 4\n",
      "--------------------------\n",
      "--------------------------\n",
      "立憲 ----- 中村喜四郎\n",
      "--------------------------\n",
      "--------------------------\n",
      "立憲 ----- 手塚仁雄\n",
      "--------------------------\n",
      "--------------------------\n",
      "立憲 ----- 階猛\n",
      "--------------------------\n",
      "--------------------------\n",
      "Working on 少子化\n",
      "--------------------------\n",
      "--------------------------\n",
      "Reading /Users/annabellepurnomo/git/kokkai_analysis/data_prepping/params/../data/data_repr/立憲/階猛/少子化/1.json\n",
      "--------------------------\n"
     ]
    },
    {
     "name": "stderr",
     "output_type": "stream",
     "text": [
      "Batches: 100%|██████████| 3/3 [00:24<00:00,  8.04s/it]\n"
     ]
    },
    {
     "name": "stdout",
     "output_type": "stream",
     "text": [
      "--------------------------\n",
      "Number of dates 86\n",
      "Number of opinions 86 \n",
      "Number of embeddings 86\n",
      "--------------------------\n",
      "--------------------------\n",
      "立憲 ----- 徳永久志\n",
      "--------------------------\n",
      "--------------------------\n",
      "立憲 ----- 松木けんこう\n",
      "--------------------------\n",
      "--------------------------\n",
      "Working on 少子化\n",
      "--------------------------\n",
      "--------------------------\n",
      "Reading /Users/annabellepurnomo/git/kokkai_analysis/data_prepping/params/../data/data_repr/立憲/松木けんこう/少子化/1.json\n",
      "--------------------------\n"
     ]
    },
    {
     "name": "stderr",
     "output_type": "stream",
     "text": [
      "Batches: 100%|██████████| 1/1 [00:03<00:00,  3.01s/it]\n"
     ]
    },
    {
     "name": "stdout",
     "output_type": "stream",
     "text": [
      "--------------------------\n",
      "Number of dates 8\n",
      "Number of opinions 8 \n",
      "Number of embeddings 8\n",
      "--------------------------\n",
      "--------------------------\n",
      "立憲 ----- 櫻井周\n",
      "--------------------------\n",
      "--------------------------\n",
      "Working on 少子化\n",
      "--------------------------\n",
      "--------------------------\n",
      "Reading /Users/annabellepurnomo/git/kokkai_analysis/data_prepping/params/../data/data_repr/立憲/櫻井周/少子化/1.json\n",
      "--------------------------\n"
     ]
    },
    {
     "name": "stderr",
     "output_type": "stream",
     "text": [
      "Batches: 100%|██████████| 6/6 [00:52<00:00,  8.70s/it]\n"
     ]
    },
    {
     "name": "stdout",
     "output_type": "stream",
     "text": [
      "--------------------------\n",
      "Number of dates 191\n",
      "Number of opinions 191 \n",
      "Number of embeddings 191\n",
      "--------------------------\n",
      "--------------------------\n",
      "Working on LGBT\n",
      "--------------------------\n",
      "--------------------------\n",
      "Reading /Users/annabellepurnomo/git/kokkai_analysis/data_prepping/params/../data/data_repr/立憲/櫻井周/LGBT/1.json\n",
      "--------------------------\n"
     ]
    },
    {
     "name": "stderr",
     "output_type": "stream",
     "text": [
      "Batches: 100%|██████████| 1/1 [00:11<00:00, 11.55s/it]\n"
     ]
    },
    {
     "name": "stdout",
     "output_type": "stream",
     "text": [
      "--------------------------\n",
      "Number of dates 31\n",
      "Number of opinions 31 \n",
      "Number of embeddings 31\n",
      "--------------------------\n",
      "--------------------------\n",
      "立憲 ----- 早稲田ゆき\n",
      "--------------------------\n",
      "--------------------------\n",
      "Working on 少子化\n",
      "--------------------------\n",
      "--------------------------\n",
      "Reading /Users/annabellepurnomo/git/kokkai_analysis/data_prepping/params/../data/data_repr/立憲/早稲田ゆき/少子化/1.json\n",
      "--------------------------\n"
     ]
    },
    {
     "name": "stderr",
     "output_type": "stream",
     "text": [
      "Batches: 100%|██████████| 3/3 [00:30<00:00, 10.01s/it]\n"
     ]
    },
    {
     "name": "stdout",
     "output_type": "stream",
     "text": [
      "--------------------------\n",
      "Number of dates 82\n",
      "Number of opinions 82 \n",
      "Number of embeddings 82\n",
      "--------------------------\n",
      "--------------------------\n",
      "立憲 ----- 道下大樹\n",
      "--------------------------\n",
      "--------------------------\n",
      "Working on 少子化\n",
      "--------------------------\n",
      "--------------------------\n",
      "Reading /Users/annabellepurnomo/git/kokkai_analysis/data_prepping/params/../data/data_repr/立憲/道下大樹/少子化/1.json\n",
      "--------------------------\n"
     ]
    },
    {
     "name": "stderr",
     "output_type": "stream",
     "text": [
      "Batches: 100%|██████████| 1/1 [00:03<00:00,  3.54s/it]\n"
     ]
    },
    {
     "name": "stdout",
     "output_type": "stream",
     "text": [
      "--------------------------\n",
      "Number of dates 7\n",
      "Number of opinions 7 \n",
      "Number of embeddings 7\n",
      "--------------------------\n",
      "--------------------------\n",
      "Working on LGBT\n",
      "--------------------------\n",
      "--------------------------\n",
      "Reading /Users/annabellepurnomo/git/kokkai_analysis/data_prepping/params/../data/data_repr/立憲/道下大樹/LGBT/1.json\n",
      "--------------------------\n"
     ]
    },
    {
     "name": "stderr",
     "output_type": "stream",
     "text": [
      "Batches: 100%|██████████| 2/2 [00:22<00:00, 11.10s/it]\n"
     ]
    },
    {
     "name": "stdout",
     "output_type": "stream",
     "text": [
      "--------------------------\n",
      "Number of dates 36\n",
      "Number of opinions 36 \n",
      "Number of embeddings 36\n",
      "--------------------------\n",
      "--------------------------\n",
      "立憲 ----- 山田勝彦\n",
      "--------------------------\n",
      "--------------------------\n",
      "Working on 少子化\n",
      "--------------------------\n",
      "--------------------------\n",
      "Reading /Users/annabellepurnomo/git/kokkai_analysis/data_prepping/params/../data/data_repr/立憲/山田勝彦/少子化/1.json\n",
      "--------------------------\n"
     ]
    },
    {
     "name": "stderr",
     "output_type": "stream",
     "text": [
      "Batches: 100%|██████████| 1/1 [00:01<00:00,  1.53s/it]\n"
     ]
    },
    {
     "name": "stdout",
     "output_type": "stream",
     "text": [
      "--------------------------\n",
      "Number of dates 5\n",
      "Number of opinions 5 \n",
      "Number of embeddings 5\n",
      "--------------------------\n",
      "--------------------------\n",
      "Working on LGBT\n",
      "--------------------------\n",
      "--------------------------\n",
      "Reading /Users/annabellepurnomo/git/kokkai_analysis/data_prepping/params/../data/data_repr/立憲/山田勝彦/LGBT/1.json\n",
      "--------------------------\n"
     ]
    },
    {
     "name": "stderr",
     "output_type": "stream",
     "text": [
      "Batches: 100%|██████████| 1/1 [00:00<00:00,  1.72it/s]\n"
     ]
    },
    {
     "name": "stdout",
     "output_type": "stream",
     "text": [
      "--------------------------\n",
      "Number of dates 2\n",
      "Number of opinions 2 \n",
      "Number of embeddings 2\n",
      "--------------------------\n",
      "--------------------------\n",
      "立憲 ----- 神谷裕\n",
      "--------------------------\n",
      "--------------------------\n",
      "立憲 ----- 中川正春\n",
      "--------------------------\n",
      "--------------------------\n",
      "Working on 少子化\n",
      "--------------------------\n",
      "--------------------------\n",
      "Reading /Users/annabellepurnomo/git/kokkai_analysis/data_prepping/params/../data/data_repr/立憲/中川正春/少子化/1.json\n",
      "--------------------------\n"
     ]
    },
    {
     "name": "stderr",
     "output_type": "stream",
     "text": [
      "Batches: 100%|██████████| 4/4 [00:38<00:00,  9.65s/it]\n"
     ]
    },
    {
     "name": "stdout",
     "output_type": "stream",
     "text": [
      "--------------------------\n",
      "Number of dates 100\n",
      "Number of opinions 100 \n",
      "Number of embeddings 100\n",
      "--------------------------\n",
      "--------------------------\n",
      "Working on LGBT\n",
      "--------------------------\n",
      "--------------------------\n",
      "Reading /Users/annabellepurnomo/git/kokkai_analysis/data_prepping/params/../data/data_repr/立憲/中川正春/LGBT/1.json\n",
      "--------------------------\n"
     ]
    },
    {
     "name": "stderr",
     "output_type": "stream",
     "text": [
      "Batches: 100%|██████████| 1/1 [00:08<00:00,  8.09s/it]\n"
     ]
    },
    {
     "name": "stdout",
     "output_type": "stream",
     "text": [
      "--------------------------\n",
      "Number of dates 26\n",
      "Number of opinions 26 \n",
      "Number of embeddings 26\n",
      "--------------------------\n",
      "--------------------------\n",
      "立憲 ----- 山岡達丸\n",
      "--------------------------\n",
      "--------------------------\n",
      "Working on 少子化\n",
      "--------------------------\n",
      "--------------------------\n",
      "Reading /Users/annabellepurnomo/git/kokkai_analysis/data_prepping/params/../data/data_repr/立憲/山岡達丸/少子化/1.json\n",
      "--------------------------\n"
     ]
    },
    {
     "name": "stderr",
     "output_type": "stream",
     "text": [
      "Batches: 100%|██████████| 1/1 [00:04<00:00,  4.74s/it]\n"
     ]
    },
    {
     "name": "stdout",
     "output_type": "stream",
     "text": [
      "--------------------------\n",
      "Number of dates 9\n",
      "Number of opinions 9 \n",
      "Number of embeddings 9\n",
      "--------------------------\n",
      "--------------------------\n",
      "立憲 ----- 馬場雄基\n",
      "--------------------------\n",
      "--------------------------\n",
      "Working on 少子化\n",
      "--------------------------\n",
      "--------------------------\n",
      "Reading /Users/annabellepurnomo/git/kokkai_analysis/data_prepping/params/../data/data_repr/立憲/馬場雄基/少子化/1.json\n",
      "--------------------------\n"
     ]
    },
    {
     "name": "stderr",
     "output_type": "stream",
     "text": [
      "Batches: 100%|██████████| 2/2 [00:12<00:00,  6.39s/it]\n"
     ]
    },
    {
     "name": "stdout",
     "output_type": "stream",
     "text": [
      "--------------------------\n",
      "Number of dates 42\n",
      "Number of opinions 42 \n",
      "Number of embeddings 42\n",
      "--------------------------\n",
      "--------------------------\n",
      "立憲 ----- 荒井優\n",
      "--------------------------\n",
      "--------------------------\n",
      "Working on 少子化\n",
      "--------------------------\n",
      "--------------------------\n",
      "Reading /Users/annabellepurnomo/git/kokkai_analysis/data_prepping/params/../data/data_repr/立憲/荒井優/少子化/1.json\n",
      "--------------------------\n"
     ]
    },
    {
     "name": "stderr",
     "output_type": "stream",
     "text": [
      "Batches: 100%|██████████| 1/1 [00:07<00:00,  7.52s/it]\n"
     ]
    },
    {
     "name": "stdout",
     "output_type": "stream",
     "text": [
      "--------------------------\n",
      "Number of dates 11\n",
      "Number of opinions 11 \n",
      "Number of embeddings 11\n",
      "--------------------------\n",
      "--------------------------\n",
      "Working on LGBT\n",
      "--------------------------\n",
      "--------------------------\n",
      "Reading /Users/annabellepurnomo/git/kokkai_analysis/data_prepping/params/../data/data_repr/立憲/荒井優/LGBT/1.json\n",
      "--------------------------\n"
     ]
    },
    {
     "name": "stderr",
     "output_type": "stream",
     "text": [
      "Batches: 100%|██████████| 1/1 [00:08<00:00,  8.95s/it]\n"
     ]
    },
    {
     "name": "stdout",
     "output_type": "stream",
     "text": [
      "--------------------------\n",
      "Number of dates 9\n",
      "Number of opinions 9 \n",
      "Number of embeddings 9\n",
      "--------------------------\n",
      "--------------------------\n",
      "立憲 ----- 源馬謙太郎\n",
      "--------------------------\n",
      "--------------------------\n",
      "Working on 少子化\n",
      "--------------------------\n",
      "--------------------------\n",
      "Reading /Users/annabellepurnomo/git/kokkai_analysis/data_prepping/params/../data/data_repr/立憲/源馬謙太郎/少子化/1.json\n",
      "--------------------------\n"
     ]
    },
    {
     "name": "stderr",
     "output_type": "stream",
     "text": [
      "Batches: 100%|██████████| 3/3 [00:24<00:00,  8.32s/it]\n"
     ]
    },
    {
     "name": "stdout",
     "output_type": "stream",
     "text": [
      "--------------------------\n",
      "Number of dates 65\n",
      "Number of opinions 65 \n",
      "Number of embeddings 65\n",
      "--------------------------\n",
      "--------------------------\n",
      "Working on LGBT\n",
      "--------------------------\n",
      "--------------------------\n",
      "Reading /Users/annabellepurnomo/git/kokkai_analysis/data_prepping/params/../data/data_repr/立憲/源馬謙太郎/LGBT/1.json\n",
      "--------------------------\n"
     ]
    },
    {
     "name": "stderr",
     "output_type": "stream",
     "text": [
      "Batches: 100%|██████████| 1/1 [00:03<00:00,  3.74s/it]\n"
     ]
    },
    {
     "name": "stdout",
     "output_type": "stream",
     "text": [
      "--------------------------\n",
      "Number of dates 11\n",
      "Number of opinions 11 \n",
      "Number of embeddings 11\n",
      "--------------------------\n",
      "--------------------------\n",
      "立憲 ----- 本庄知史\n",
      "--------------------------\n",
      "--------------------------\n",
      "Working on LGBT\n",
      "--------------------------\n",
      "--------------------------\n",
      "Reading /Users/annabellepurnomo/git/kokkai_analysis/data_prepping/params/../data/data_repr/立憲/本庄知史/LGBT/1.json\n",
      "--------------------------\n"
     ]
    },
    {
     "name": "stderr",
     "output_type": "stream",
     "text": [
      "Batches: 100%|██████████| 1/1 [00:01<00:00,  1.56s/it]\n"
     ]
    },
    {
     "name": "stdout",
     "output_type": "stream",
     "text": [
      "--------------------------\n",
      "Number of dates 4\n",
      "Number of opinions 4 \n",
      "Number of embeddings 4\n",
      "--------------------------\n",
      "--------------------------\n",
      "立憲 ----- 原口一博\n",
      "--------------------------\n",
      "--------------------------\n",
      "Working on 少子化\n",
      "--------------------------\n",
      "--------------------------\n",
      "Reading /Users/annabellepurnomo/git/kokkai_analysis/data_prepping/params/../data/data_repr/立憲/原口一博/少子化/1.json\n",
      "--------------------------\n"
     ]
    },
    {
     "name": "stderr",
     "output_type": "stream",
     "text": [
      "Batches: 100%|██████████| 1/1 [00:04<00:00,  4.74s/it]\n"
     ]
    },
    {
     "name": "stdout",
     "output_type": "stream",
     "text": [
      "--------------------------\n",
      "Number of dates 20\n",
      "Number of opinions 20 \n",
      "Number of embeddings 20\n",
      "--------------------------\n",
      "--------------------------\n",
      "Working on LGBT\n",
      "--------------------------\n",
      "--------------------------\n",
      "Reading /Users/annabellepurnomo/git/kokkai_analysis/data_prepping/params/../data/data_repr/立憲/原口一博/LGBT/1.json\n",
      "--------------------------\n"
     ]
    },
    {
     "name": "stderr",
     "output_type": "stream",
     "text": [
      "Batches: 100%|██████████| 2/2 [00:08<00:00,  4.40s/it]\n"
     ]
    },
    {
     "name": "stdout",
     "output_type": "stream",
     "text": [
      "--------------------------\n",
      "Number of dates 47\n",
      "Number of opinions 47 \n",
      "Number of embeddings 47\n",
      "--------------------------\n",
      "--------------------------\n",
      "立憲 ----- 末松義規\n",
      "--------------------------\n",
      "--------------------------\n",
      "Working on 少子化\n",
      "--------------------------\n",
      "--------------------------\n",
      "Reading /Users/annabellepurnomo/git/kokkai_analysis/data_prepping/params/../data/data_repr/立憲/末松義規/少子化/1.json\n",
      "--------------------------\n"
     ]
    },
    {
     "name": "stderr",
     "output_type": "stream",
     "text": [
      "Batches: 100%|██████████| 1/1 [00:14<00:00, 14.91s/it]\n"
     ]
    },
    {
     "name": "stdout",
     "output_type": "stream",
     "text": [
      "--------------------------\n",
      "Number of dates 21\n",
      "Number of opinions 21 \n",
      "Number of embeddings 21\n",
      "--------------------------\n",
      "--------------------------\n",
      "立憲 ----- 笠浩史\n",
      "--------------------------\n",
      "--------------------------\n",
      "Working on 少子化\n",
      "--------------------------\n",
      "--------------------------\n",
      "Reading /Users/annabellepurnomo/git/kokkai_analysis/data_prepping/params/../data/data_repr/立憲/笠浩史/少子化/1.json\n",
      "--------------------------\n"
     ]
    },
    {
     "name": "stderr",
     "output_type": "stream",
     "text": [
      "Batches: 100%|██████████| 1/1 [00:07<00:00,  7.41s/it]\n"
     ]
    },
    {
     "name": "stdout",
     "output_type": "stream",
     "text": [
      "--------------------------\n",
      "Number of dates 10\n",
      "Number of opinions 10 \n",
      "Number of embeddings 10\n",
      "--------------------------\n",
      "--------------------------\n",
      "有志 ----- 緒方林太郎\n",
      "--------------------------\n",
      "--------------------------\n",
      "Working on 少子化\n",
      "--------------------------\n",
      "--------------------------\n",
      "Reading /Users/annabellepurnomo/git/kokkai_analysis/data_prepping/params/../data/data_repr/有志/緒方林太郎/少子化/1.json\n",
      "--------------------------\n"
     ]
    },
    {
     "name": "stderr",
     "output_type": "stream",
     "text": [
      "Batches: 100%|██████████| 2/2 [00:33<00:00, 16.98s/it]\n"
     ]
    },
    {
     "name": "stdout",
     "output_type": "stream",
     "text": [
      "--------------------------\n",
      "Number of dates 62\n",
      "Number of opinions 62 \n",
      "Number of embeddings 62\n",
      "--------------------------\n",
      "--------------------------\n",
      "Working on LGBT\n",
      "--------------------------\n",
      "--------------------------\n",
      "Embeddings already exist for LGBT in /Users/annabellepurnomo/git/kokkai_analysis/data_prepping/params/../data/data_repr/有志/緒方林太郎\n",
      "--------------------------\n",
      "--------------------------\n",
      "有志 ----- 北神圭朗\n",
      "--------------------------\n",
      "--------------------------\n",
      "Working on 少子化\n",
      "--------------------------\n",
      "--------------------------\n",
      "Reading /Users/annabellepurnomo/git/kokkai_analysis/data_prepping/params/../data/data_repr/有志/北神圭朗/少子化/1.json\n",
      "--------------------------\n"
     ]
    },
    {
     "name": "stderr",
     "output_type": "stream",
     "text": [
      "Batches: 100%|██████████| 2/2 [00:21<00:00, 10.69s/it]\n"
     ]
    },
    {
     "name": "stdout",
     "output_type": "stream",
     "text": [
      "--------------------------\n",
      "Number of dates 35\n",
      "Number of opinions 35 \n",
      "Number of embeddings 35\n",
      "--------------------------\n",
      "--------------------------\n",
      "有志 ----- 仁木博文\n",
      "--------------------------\n",
      "--------------------------\n",
      "Working on 少子化\n",
      "--------------------------\n",
      "--------------------------\n",
      "Reading /Users/annabellepurnomo/git/kokkai_analysis/data_prepping/params/../data/data_repr/有志/仁木博文/少子化/1.json\n",
      "--------------------------\n"
     ]
    },
    {
     "name": "stderr",
     "output_type": "stream",
     "text": [
      "Batches: 100%|██████████| 1/1 [00:21<00:00, 21.86s/it]\n"
     ]
    },
    {
     "name": "stdout",
     "output_type": "stream",
     "text": [
      "--------------------------\n",
      "Number of dates 26\n",
      "Number of opinions 26 \n",
      "Number of embeddings 26\n",
      "--------------------------\n",
      "--------------------------\n",
      "Working on LGBT\n",
      "--------------------------\n",
      "--------------------------\n",
      "Embeddings already exist for LGBT in /Users/annabellepurnomo/git/kokkai_analysis/data_prepping/params/../data/data_repr/有志/仁木博文\n",
      "--------------------------\n",
      "--------------------------\n",
      "有志 ----- 福島伸享\n",
      "--------------------------\n",
      "--------------------------\n",
      "Working on 少子化\n",
      "--------------------------\n",
      "--------------------------\n",
      "Reading /Users/annabellepurnomo/git/kokkai_analysis/data_prepping/params/../data/data_repr/有志/福島伸享/少子化/1.json\n",
      "--------------------------\n"
     ]
    },
    {
     "name": "stderr",
     "output_type": "stream",
     "text": [
      "Batches: 100%|██████████| 1/1 [00:02<00:00,  2.45s/it]\n"
     ]
    },
    {
     "name": "stdout",
     "output_type": "stream",
     "text": [
      "--------------------------\n",
      "Number of dates 8\n",
      "Number of opinions 8 \n",
      "Number of embeddings 8\n",
      "--------------------------\n",
      "--------------------------\n",
      "有志 ----- 吉良州司\n",
      "--------------------------\n",
      "--------------------------\n",
      "Working on 少子化\n",
      "--------------------------\n",
      "--------------------------\n",
      "Reading /Users/annabellepurnomo/git/kokkai_analysis/data_prepping/params/../data/data_repr/有志/吉良州司/少子化/1.json\n",
      "--------------------------\n"
     ]
    },
    {
     "name": "stderr",
     "output_type": "stream",
     "text": [
      "Batches: 100%|██████████| 2/2 [00:25<00:00, 12.80s/it]\n"
     ]
    },
    {
     "name": "stdout",
     "output_type": "stream",
     "text": [
      "--------------------------\n",
      "Number of dates 56\n",
      "Number of opinions 56 \n",
      "Number of embeddings 56\n",
      "--------------------------\n",
      "--------------------------\n",
      "共産 ----- 本村伸子\n",
      "--------------------------\n",
      "--------------------------\n",
      "Working on 少子化\n",
      "--------------------------\n",
      "--------------------------\n",
      "Reading /Users/annabellepurnomo/git/kokkai_analysis/data_prepping/params/../data/data_repr/共産/本村伸子/少子化/1.json\n",
      "--------------------------\n"
     ]
    },
    {
     "name": "stderr",
     "output_type": "stream",
     "text": [
      "Batches: 100%|██████████| 1/1 [00:00<00:00,  1.31it/s]\n"
     ]
    },
    {
     "name": "stdout",
     "output_type": "stream",
     "text": [
      "--------------------------\n",
      "Number of dates 3\n",
      "Number of opinions 3 \n",
      "Number of embeddings 3\n",
      "--------------------------\n",
      "--------------------------\n",
      "Working on LGBT\n",
      "--------------------------\n",
      "--------------------------\n",
      "Embeddings already exist for LGBT in /Users/annabellepurnomo/git/kokkai_analysis/data_prepping/params/../data/data_repr/共産/本村伸子\n",
      "--------------------------\n",
      "--------------------------\n",
      "共産 ----- 穀田恵二\n",
      "--------------------------\n",
      "--------------------------\n",
      "Working on 少子化\n",
      "--------------------------\n",
      "--------------------------\n",
      "Reading /Users/annabellepurnomo/git/kokkai_analysis/data_prepping/params/../data/data_repr/共産/穀田恵二/少子化/1.json\n",
      "--------------------------\n"
     ]
    },
    {
     "name": "stderr",
     "output_type": "stream",
     "text": [
      "Batches: 100%|██████████| 2/2 [00:16<00:00,  8.09s/it]\n"
     ]
    },
    {
     "name": "stdout",
     "output_type": "stream",
     "text": [
      "--------------------------\n",
      "Number of dates 52\n",
      "Number of opinions 52 \n",
      "Number of embeddings 52\n",
      "--------------------------\n",
      "--------------------------\n",
      "Working on LGBT\n",
      "--------------------------\n",
      "--------------------------\n",
      "Embeddings already exist for LGBT in /Users/annabellepurnomo/git/kokkai_analysis/data_prepping/params/../data/data_repr/共産/穀田恵二\n",
      "--------------------------\n",
      "--------------------------\n",
      "共産 ----- 宮本岳志\n",
      "--------------------------\n",
      "--------------------------\n",
      "Working on 少子化\n",
      "--------------------------\n",
      "--------------------------\n",
      "Reading /Users/annabellepurnomo/git/kokkai_analysis/data_prepping/params/../data/data_repr/共産/宮本岳志/少子化/1.json\n",
      "--------------------------\n"
     ]
    },
    {
     "name": "stderr",
     "output_type": "stream",
     "text": [
      "Batches: 100%|██████████| 2/2 [00:22<00:00, 11.45s/it]\n"
     ]
    },
    {
     "name": "stdout",
     "output_type": "stream",
     "text": [
      "--------------------------\n",
      "Number of dates 48\n",
      "Number of opinions 48 \n",
      "Number of embeddings 48\n",
      "--------------------------\n",
      "--------------------------\n",
      "Working on LGBT\n",
      "--------------------------\n",
      "--------------------------\n",
      "Embeddings already exist for LGBT in /Users/annabellepurnomo/git/kokkai_analysis/data_prepping/params/../data/data_repr/共産/宮本岳志\n",
      "--------------------------\n",
      "--------------------------\n",
      "共産 ----- 田村貴昭\n",
      "--------------------------\n",
      "--------------------------\n",
      "Working on 少子化\n",
      "--------------------------\n",
      "--------------------------\n",
      "Reading /Users/annabellepurnomo/git/kokkai_analysis/data_prepping/params/../data/data_repr/共産/田村貴昭/少子化/1.json\n",
      "--------------------------\n"
     ]
    },
    {
     "name": "stderr",
     "output_type": "stream",
     "text": [
      "Batches: 100%|██████████| 1/1 [00:13<00:00, 13.20s/it]\n"
     ]
    },
    {
     "name": "stdout",
     "output_type": "stream",
     "text": [
      "--------------------------\n",
      "Number of dates 31\n",
      "Number of opinions 31 \n",
      "Number of embeddings 31\n",
      "--------------------------\n",
      "--------------------------\n",
      "Working on LGBT\n",
      "--------------------------\n",
      "--------------------------\n",
      "Embeddings already exist for LGBT in /Users/annabellepurnomo/git/kokkai_analysis/data_prepping/params/../data/data_repr/共産/田村貴昭\n",
      "--------------------------\n",
      "--------------------------\n",
      "共産 ----- 宮本徹\n",
      "--------------------------\n",
      "--------------------------\n",
      "Working on 少子化\n",
      "--------------------------\n",
      "--------------------------\n",
      "Reading /Users/annabellepurnomo/git/kokkai_analysis/data_prepping/params/../data/data_repr/共産/宮本徹/少子化/1.json\n",
      "--------------------------\n"
     ]
    },
    {
     "name": "stderr",
     "output_type": "stream",
     "text": [
      "Batches: 100%|██████████| 4/4 [00:28<00:00,  7.15s/it]\n"
     ]
    },
    {
     "name": "stdout",
     "output_type": "stream",
     "text": [
      "--------------------------\n",
      "Number of dates 123\n",
      "Number of opinions 123 \n",
      "Number of embeddings 123\n",
      "--------------------------\n",
      "--------------------------\n",
      "Working on LGBT\n",
      "--------------------------\n",
      "--------------------------\n",
      "Embeddings already exist for LGBT in /Users/annabellepurnomo/git/kokkai_analysis/data_prepping/params/../data/data_repr/共産/宮本徹\n",
      "--------------------------\n",
      "--------------------------\n",
      "共産 ----- 塩川鉄也\n",
      "--------------------------\n",
      "--------------------------\n",
      "Working on 少子化\n",
      "--------------------------\n",
      "--------------------------\n",
      "Reading /Users/annabellepurnomo/git/kokkai_analysis/data_prepping/params/../data/data_repr/共産/塩川鉄也/少子化/1.json\n",
      "--------------------------\n"
     ]
    },
    {
     "name": "stderr",
     "output_type": "stream",
     "text": [
      "Batches: 100%|██████████| 1/1 [00:16<00:00, 16.84s/it]\n"
     ]
    },
    {
     "name": "stdout",
     "output_type": "stream",
     "text": [
      "--------------------------\n",
      "Number of dates 28\n",
      "Number of opinions 28 \n",
      "Number of embeddings 28\n",
      "--------------------------\n",
      "--------------------------\n",
      "Working on LGBT\n",
      "--------------------------\n",
      "--------------------------\n",
      "Embeddings already exist for LGBT in /Users/annabellepurnomo/git/kokkai_analysis/data_prepping/params/../data/data_repr/共産/塩川鉄也\n",
      "--------------------------\n",
      "--------------------------\n",
      "共産 ----- 高橋千鶴子\n",
      "--------------------------\n",
      "--------------------------\n",
      "Working on 少子化\n",
      "--------------------------\n",
      "--------------------------\n",
      "Reading /Users/annabellepurnomo/git/kokkai_analysis/data_prepping/params/../data/data_repr/共産/高橋千鶴子/少子化/1.json\n",
      "--------------------------\n"
     ]
    },
    {
     "name": "stderr",
     "output_type": "stream",
     "text": [
      "Batches: 100%|██████████| 6/6 [00:40<00:00,  6.73s/it]\n"
     ]
    },
    {
     "name": "stdout",
     "output_type": "stream",
     "text": [
      "--------------------------\n",
      "Number of dates 178\n",
      "Number of opinions 178 \n",
      "Number of embeddings 178\n",
      "--------------------------\n",
      "--------------------------\n",
      "Working on LGBT\n",
      "--------------------------\n",
      "--------------------------\n",
      "Embeddings already exist for LGBT in /Users/annabellepurnomo/git/kokkai_analysis/data_prepping/params/../data/data_repr/共産/高橋千鶴子\n",
      "--------------------------\n",
      "--------------------------\n",
      "共産 ----- 赤嶺政賢\n",
      "--------------------------\n",
      "--------------------------\n",
      "Working on LGBT\n",
      "--------------------------\n",
      "--------------------------\n",
      "Embeddings already exist for LGBT in /Users/annabellepurnomo/git/kokkai_analysis/data_prepping/params/../data/data_repr/共産/赤嶺政賢\n",
      "--------------------------\n",
      "--------------------------\n",
      "共産 ----- 志位和夫\n",
      "--------------------------\n",
      "--------------------------\n",
      "Working on 少子化\n",
      "--------------------------\n",
      "--------------------------\n",
      "Reading /Users/annabellepurnomo/git/kokkai_analysis/data_prepping/params/../data/data_repr/共産/志位和夫/少子化/1.json\n",
      "--------------------------\n"
     ]
    },
    {
     "name": "stderr",
     "output_type": "stream",
     "text": [
      "Batches: 100%|██████████| 1/1 [00:06<00:00,  6.53s/it]\n"
     ]
    },
    {
     "name": "stdout",
     "output_type": "stream",
     "text": [
      "--------------------------\n",
      "Number of dates 21\n",
      "Number of opinions 21 \n",
      "Number of embeddings 21\n",
      "--------------------------\n",
      "--------------------------\n",
      "Working on LGBT\n",
      "--------------------------\n",
      "--------------------------\n",
      "Embeddings already exist for LGBT in /Users/annabellepurnomo/git/kokkai_analysis/data_prepping/params/../data/data_repr/共産/志位和夫\n",
      "--------------------------\n",
      "--------------------------\n",
      "共産 ----- 笠井亮\n",
      "--------------------------\n",
      "--------------------------\n",
      "Working on 少子化\n",
      "--------------------------\n",
      "--------------------------\n",
      "Reading /Users/annabellepurnomo/git/kokkai_analysis/data_prepping/params/../data/data_repr/共産/笠井亮/少子化/1.json\n",
      "--------------------------\n"
     ]
    },
    {
     "name": "stderr",
     "output_type": "stream",
     "text": [
      "Batches: 100%|██████████| 1/1 [00:09<00:00,  9.50s/it]\n"
     ]
    },
    {
     "name": "stdout",
     "output_type": "stream",
     "text": [
      "--------------------------\n",
      "Number of dates 24\n",
      "Number of opinions 24 \n",
      "Number of embeddings 24\n",
      "--------------------------\n",
      "--------------------------\n",
      "維新 ----- 前川清成\n",
      "--------------------------\n",
      "--------------------------\n",
      "Working on 少子化\n",
      "--------------------------\n",
      "--------------------------\n",
      "Reading /Users/annabellepurnomo/git/kokkai_analysis/data_prepping/params/../data/data_repr/維新/前川清成/少子化/1.json\n",
      "--------------------------\n"
     ]
    },
    {
     "name": "stderr",
     "output_type": "stream",
     "text": [
      "Batches: 100%|██████████| 1/1 [00:01<00:00,  1.11s/it]\n"
     ]
    },
    {
     "name": "stdout",
     "output_type": "stream",
     "text": [
      "--------------------------\n",
      "Number of dates 2\n",
      "Number of opinions 2 \n",
      "Number of embeddings 2\n",
      "--------------------------\n",
      "--------------------------\n",
      "維新 ----- 守島正\n",
      "--------------------------\n",
      "--------------------------\n",
      "維新 ----- 足立康史\n",
      "--------------------------\n",
      "--------------------------\n",
      "Working on 少子化\n",
      "--------------------------\n",
      "--------------------------\n",
      "Reading /Users/annabellepurnomo/git/kokkai_analysis/data_prepping/params/../data/data_repr/維新/足立康史/少子化/1.json\n",
      "--------------------------\n"
     ]
    },
    {
     "name": "stderr",
     "output_type": "stream",
     "text": [
      "Batches: 100%|██████████| 6/6 [00:51<00:00,  8.65s/it]\n"
     ]
    },
    {
     "name": "stdout",
     "output_type": "stream",
     "text": [
      "--------------------------\n",
      "Number of dates 184\n",
      "Number of opinions 184 \n",
      "Number of embeddings 184\n",
      "--------------------------\n",
      "--------------------------\n",
      "維新 ----- 岬麻紀\n",
      "--------------------------\n",
      "--------------------------\n",
      "Working on 少子化\n",
      "--------------------------\n",
      "--------------------------\n",
      "Reading /Users/annabellepurnomo/git/kokkai_analysis/data_prepping/params/../data/data_repr/維新/岬麻紀/少子化/1.json\n",
      "--------------------------\n"
     ]
    },
    {
     "name": "stderr",
     "output_type": "stream",
     "text": [
      "Batches: 100%|██████████| 2/2 [00:22<00:00, 11.26s/it]\n"
     ]
    },
    {
     "name": "stdout",
     "output_type": "stream",
     "text": [
      "--------------------------\n",
      "Number of dates 42\n",
      "Number of opinions 42 \n",
      "Number of embeddings 42\n",
      "--------------------------\n",
      "--------------------------\n",
      "維新 ----- 岩谷良平\n",
      "--------------------------\n",
      "--------------------------\n",
      "Working on 少子化\n",
      "--------------------------\n",
      "--------------------------\n",
      "Reading /Users/annabellepurnomo/git/kokkai_analysis/data_prepping/params/../data/data_repr/維新/岩谷良平/少子化/1.json\n",
      "--------------------------\n"
     ]
    },
    {
     "name": "stderr",
     "output_type": "stream",
     "text": [
      "Batches: 100%|██████████| 1/1 [00:05<00:00,  5.93s/it]\n"
     ]
    },
    {
     "name": "stdout",
     "output_type": "stream",
     "text": [
      "--------------------------\n",
      "Number of dates 15\n",
      "Number of opinions 15 \n",
      "Number of embeddings 15\n",
      "--------------------------\n",
      "--------------------------\n",
      "Working on LGBT\n",
      "--------------------------\n",
      "--------------------------\n",
      "Embeddings already exist for LGBT in /Users/annabellepurnomo/git/kokkai_analysis/data_prepping/params/../data/data_repr/維新/岩谷良平\n",
      "--------------------------\n",
      "--------------------------\n",
      "維新 ----- 遠藤良太\n",
      "--------------------------\n",
      "--------------------------\n",
      "Working on 少子化\n",
      "--------------------------\n",
      "--------------------------\n",
      "Reading /Users/annabellepurnomo/git/kokkai_analysis/data_prepping/params/../data/data_repr/維新/遠藤良太/少子化/1.json\n",
      "--------------------------\n"
     ]
    },
    {
     "name": "stderr",
     "output_type": "stream",
     "text": [
      "Batches: 100%|██████████| 1/1 [00:00<00:00,  1.68it/s]\n"
     ]
    },
    {
     "name": "stdout",
     "output_type": "stream",
     "text": [
      "--------------------------\n",
      "Number of dates 3\n",
      "Number of opinions 3 \n",
      "Number of embeddings 3\n",
      "--------------------------\n",
      "--------------------------\n",
      "維新 ----- 住吉寛紀\n",
      "--------------------------\n",
      "--------------------------\n",
      "Working on 少子化\n",
      "--------------------------\n",
      "--------------------------\n",
      "Reading /Users/annabellepurnomo/git/kokkai_analysis/data_prepping/params/../data/data_repr/維新/住吉寛紀/少子化/1.json\n",
      "--------------------------\n"
     ]
    },
    {
     "name": "stderr",
     "output_type": "stream",
     "text": [
      "Batches: 100%|██████████| 3/3 [00:32<00:00, 10.67s/it]\n"
     ]
    },
    {
     "name": "stdout",
     "output_type": "stream",
     "text": [
      "--------------------------\n",
      "Number of dates 92\n",
      "Number of opinions 92 \n",
      "Number of embeddings 92\n",
      "--------------------------\n",
      "--------------------------\n",
      "維新 ----- 池下卓\n",
      "--------------------------\n",
      "--------------------------\n",
      "Working on 少子化\n",
      "--------------------------\n",
      "--------------------------\n",
      "Reading /Users/annabellepurnomo/git/kokkai_analysis/data_prepping/params/../data/data_repr/維新/池下卓/少子化/1.json\n",
      "--------------------------\n"
     ]
    },
    {
     "name": "stderr",
     "output_type": "stream",
     "text": [
      "Batches: 100%|██████████| 2/2 [00:24<00:00, 12.22s/it]\n"
     ]
    },
    {
     "name": "stdout",
     "output_type": "stream",
     "text": [
      "--------------------------\n",
      "Number of dates 44\n",
      "Number of opinions 44 \n",
      "Number of embeddings 44\n",
      "--------------------------\n",
      "--------------------------\n",
      "維新 ----- 阿部弘樹\n",
      "--------------------------\n",
      "--------------------------\n",
      "維新 ----- 山本剛正\n",
      "--------------------------\n",
      "--------------------------\n",
      "Working on 少子化\n",
      "--------------------------\n",
      "--------------------------\n",
      "Reading /Users/annabellepurnomo/git/kokkai_analysis/data_prepping/params/../data/data_repr/維新/山本剛正/少子化/1.json\n",
      "--------------------------\n"
     ]
    },
    {
     "name": "stderr",
     "output_type": "stream",
     "text": [
      "Batches: 100%|██████████| 1/1 [00:06<00:00,  6.57s/it]\n"
     ]
    },
    {
     "name": "stdout",
     "output_type": "stream",
     "text": [
      "--------------------------\n",
      "Number of dates 21\n",
      "Number of opinions 21 \n",
      "Number of embeddings 21\n",
      "--------------------------\n",
      "--------------------------\n",
      "維新 ----- 堀場幸子\n",
      "--------------------------\n",
      "--------------------------\n",
      "Working on 少子化\n",
      "--------------------------\n",
      "--------------------------\n",
      "Reading /Users/annabellepurnomo/git/kokkai_analysis/data_prepping/params/../data/data_repr/維新/堀場幸子/少子化/1.json\n",
      "--------------------------\n"
     ]
    },
    {
     "name": "stderr",
     "output_type": "stream",
     "text": [
      "Batches: 100%|██████████| 4/4 [00:39<00:00,  9.76s/it]\n"
     ]
    },
    {
     "name": "stdout",
     "output_type": "stream",
     "text": [
      "--------------------------\n",
      "Number of dates 118\n",
      "Number of opinions 118 \n",
      "Number of embeddings 118\n",
      "--------------------------\n",
      "--------------------------\n",
      "Working on LGBT\n",
      "--------------------------\n",
      "--------------------------\n",
      "Reading /Users/annabellepurnomo/git/kokkai_analysis/data_prepping/params/../data/data_repr/維新/堀場幸子/LGBT/1.json\n",
      "--------------------------\n"
     ]
    },
    {
     "name": "stderr",
     "output_type": "stream",
     "text": [
      "Batches: 100%|██████████| 2/2 [00:22<00:00, 11.06s/it]\n"
     ]
    },
    {
     "name": "stdout",
     "output_type": "stream",
     "text": [
      "--------------------------\n",
      "Number of dates 39\n",
      "Number of opinions 39 \n",
      "Number of embeddings 39\n",
      "--------------------------\n",
      "--------------------------\n",
      "維新 ----- 馬場伸幸\n",
      "--------------------------\n",
      "--------------------------\n",
      "Working on 少子化\n",
      "--------------------------\n",
      "--------------------------\n",
      "Reading /Users/annabellepurnomo/git/kokkai_analysis/data_prepping/params/../data/data_repr/維新/馬場伸幸/少子化/1.json\n",
      "--------------------------\n"
     ]
    },
    {
     "name": "stderr",
     "output_type": "stream",
     "text": [
      "Batches: 100%|██████████| 7/7 [00:57<00:00,  8.28s/it]\n"
     ]
    },
    {
     "name": "stdout",
     "output_type": "stream",
     "text": [
      "--------------------------\n",
      "Number of dates 223\n",
      "Number of opinions 223 \n",
      "Number of embeddings 223\n",
      "--------------------------\n",
      "--------------------------\n",
      "Working on LGBT\n",
      "--------------------------\n",
      "--------------------------\n",
      "Reading /Users/annabellepurnomo/git/kokkai_analysis/data_prepping/params/../data/data_repr/維新/馬場伸幸/LGBT/1.json\n",
      "--------------------------\n"
     ]
    },
    {
     "name": "stderr",
     "output_type": "stream",
     "text": [
      "Batches: 100%|██████████| 1/1 [00:11<00:00, 11.72s/it]\n"
     ]
    },
    {
     "name": "stdout",
     "output_type": "stream",
     "text": [
      "--------------------------\n",
      "Number of dates 14\n",
      "Number of opinions 14 \n",
      "Number of embeddings 14\n",
      "--------------------------\n",
      "--------------------------\n",
      "維新 ----- 金村龍那\n",
      "--------------------------\n",
      "--------------------------\n",
      "Working on 少子化\n",
      "--------------------------\n",
      "--------------------------\n",
      "Reading /Users/annabellepurnomo/git/kokkai_analysis/data_prepping/params/../data/data_repr/維新/金村龍那/少子化/1.json\n",
      "--------------------------\n"
     ]
    },
    {
     "name": "stderr",
     "output_type": "stream",
     "text": [
      "Batches: 100%|██████████| 3/3 [00:23<00:00,  7.79s/it]\n"
     ]
    },
    {
     "name": "stdout",
     "output_type": "stream",
     "text": [
      "--------------------------\n",
      "Number of dates 67\n",
      "Number of opinions 67 \n",
      "Number of embeddings 67\n",
      "--------------------------\n",
      "--------------------------\n",
      "維新 ----- 浅川義治\n",
      "--------------------------\n",
      "--------------------------\n",
      "維新 ----- 井上英孝\n",
      "--------------------------\n",
      "--------------------------\n",
      "Working on 少子化\n",
      "--------------------------\n",
      "--------------------------\n",
      "Reading /Users/annabellepurnomo/git/kokkai_analysis/data_prepping/params/../data/data_repr/維新/井上英孝/少子化/1.json\n",
      "--------------------------\n"
     ]
    },
    {
     "name": "stderr",
     "output_type": "stream",
     "text": [
      "Batches: 100%|██████████| 2/2 [00:30<00:00, 15.25s/it]\n"
     ]
    },
    {
     "name": "stdout",
     "output_type": "stream",
     "text": [
      "--------------------------\n",
      "Number of dates 47\n",
      "Number of opinions 47 \n",
      "Number of embeddings 47\n",
      "--------------------------\n",
      "--------------------------\n",
      "維新 ----- 和田有一朗\n",
      "--------------------------\n",
      "--------------------------\n",
      "Working on 少子化\n",
      "--------------------------\n",
      "--------------------------\n",
      "Reading /Users/annabellepurnomo/git/kokkai_analysis/data_prepping/params/../data/data_repr/維新/和田有一朗/少子化/1.json\n",
      "--------------------------\n"
     ]
    },
    {
     "name": "stderr",
     "output_type": "stream",
     "text": [
      "Batches: 100%|██████████| 1/1 [00:10<00:00, 10.78s/it]\n"
     ]
    },
    {
     "name": "stdout",
     "output_type": "stream",
     "text": [
      "--------------------------\n",
      "Number of dates 27\n",
      "Number of opinions 27 \n",
      "Number of embeddings 27\n",
      "--------------------------\n",
      "--------------------------\n",
      "維新 ----- 浦野靖人\n",
      "--------------------------\n",
      "--------------------------\n",
      "Working on 少子化\n",
      "--------------------------\n",
      "--------------------------\n",
      "Reading /Users/annabellepurnomo/git/kokkai_analysis/data_prepping/params/../data/data_repr/維新/浦野靖人/少子化/1.json\n",
      "--------------------------\n"
     ]
    },
    {
     "name": "stderr",
     "output_type": "stream",
     "text": [
      "Batches: 100%|██████████| 3/3 [00:27<00:00,  9.12s/it]\n"
     ]
    },
    {
     "name": "stdout",
     "output_type": "stream",
     "text": [
      "--------------------------\n",
      "Number of dates 87\n",
      "Number of opinions 87 \n",
      "Number of embeddings 87\n",
      "--------------------------\n",
      "--------------------------\n",
      "維新 ----- 掘井健智\n",
      "--------------------------\n",
      "--------------------------\n",
      "Working on 少子化\n",
      "--------------------------\n",
      "--------------------------\n",
      "Reading /Users/annabellepurnomo/git/kokkai_analysis/data_prepping/params/../data/data_repr/維新/掘井健智/少子化/1.json\n",
      "--------------------------\n"
     ]
    },
    {
     "name": "stderr",
     "output_type": "stream",
     "text": [
      "Batches: 100%|██████████| 1/1 [00:04<00:00,  4.26s/it]\n"
     ]
    },
    {
     "name": "stdout",
     "output_type": "stream",
     "text": [
      "--------------------------\n",
      "Number of dates 13\n",
      "Number of opinions 13 \n",
      "Number of embeddings 13\n",
      "--------------------------\n",
      "--------------------------\n",
      "維新 ----- 奥下剛光\n",
      "--------------------------\n",
      "--------------------------\n",
      "維新 ----- 赤木正幸\n",
      "--------------------------\n",
      "--------------------------\n",
      "維新 ----- 早坂敦\n",
      "--------------------------\n",
      "--------------------------\n",
      "Working on 少子化\n",
      "--------------------------\n",
      "--------------------------\n",
      "Reading /Users/annabellepurnomo/git/kokkai_analysis/data_prepping/params/../data/data_repr/維新/早坂敦/少子化/1.json\n",
      "--------------------------\n"
     ]
    },
    {
     "name": "stderr",
     "output_type": "stream",
     "text": [
      "Batches: 100%|██████████| 1/1 [00:02<00:00,  2.74s/it]\n"
     ]
    },
    {
     "name": "stdout",
     "output_type": "stream",
     "text": [
      "--------------------------\n",
      "Number of dates 11\n",
      "Number of opinions 11 \n",
      "Number of embeddings 11\n",
      "--------------------------\n",
      "--------------------------\n",
      "維新 ----- 吉田とも代\n",
      "--------------------------\n",
      "--------------------------\n",
      "Working on 少子化\n",
      "--------------------------\n",
      "--------------------------\n",
      "Reading /Users/annabellepurnomo/git/kokkai_analysis/data_prepping/params/../data/data_repr/維新/吉田とも代/少子化/1.json\n",
      "--------------------------\n"
     ]
    },
    {
     "name": "stderr",
     "output_type": "stream",
     "text": [
      "Batches: 100%|██████████| 2/2 [00:14<00:00,  7.18s/it]\n"
     ]
    },
    {
     "name": "stdout",
     "output_type": "stream",
     "text": [
      "--------------------------\n",
      "Number of dates 36\n",
      "Number of opinions 36 \n",
      "Number of embeddings 36\n",
      "--------------------------\n",
      "--------------------------\n",
      "維新 ----- 杉本和巳\n",
      "--------------------------\n",
      "--------------------------\n",
      "Working on 少子化\n",
      "--------------------------\n",
      "--------------------------\n",
      "Reading /Users/annabellepurnomo/git/kokkai_analysis/data_prepping/params/../data/data_repr/維新/杉本和巳/少子化/1.json\n",
      "--------------------------\n"
     ]
    },
    {
     "name": "stderr",
     "output_type": "stream",
     "text": [
      "Batches: 100%|██████████| 5/5 [01:13<00:00, 14.66s/it]\n"
     ]
    },
    {
     "name": "stdout",
     "output_type": "stream",
     "text": [
      "--------------------------\n",
      "Number of dates 140\n",
      "Number of opinions 140 \n",
      "Number of embeddings 140\n",
      "--------------------------\n",
      "--------------------------\n",
      "維新 ----- 中司宏\n",
      "--------------------------\n",
      "--------------------------\n",
      "Working on 少子化\n",
      "--------------------------\n",
      "--------------------------\n",
      "Reading /Users/annabellepurnomo/git/kokkai_analysis/data_prepping/params/../data/data_repr/維新/中司宏/少子化/1.json\n",
      "--------------------------\n"
     ]
    },
    {
     "name": "stderr",
     "output_type": "stream",
     "text": [
      "Batches: 100%|██████████| 1/1 [00:08<00:00,  8.50s/it]\n"
     ]
    },
    {
     "name": "stdout",
     "output_type": "stream",
     "text": [
      "--------------------------\n",
      "Number of dates 18\n",
      "Number of opinions 18 \n",
      "Number of embeddings 18\n",
      "--------------------------\n",
      "--------------------------\n",
      "維新 ----- 沢田良\n",
      "--------------------------\n",
      "--------------------------\n",
      "Working on 少子化\n",
      "--------------------------\n",
      "--------------------------\n",
      "Reading /Users/annabellepurnomo/git/kokkai_analysis/data_prepping/params/../data/data_repr/維新/沢田良/少子化/1.json\n",
      "--------------------------\n"
     ]
    },
    {
     "name": "stderr",
     "output_type": "stream",
     "text": [
      "Batches: 100%|██████████| 1/1 [00:11<00:00, 11.32s/it]\n"
     ]
    },
    {
     "name": "stdout",
     "output_type": "stream",
     "text": [
      "--------------------------\n",
      "Number of dates 27\n",
      "Number of opinions 27 \n",
      "Number of embeddings 27\n",
      "--------------------------\n",
      "--------------------------\n",
      "Working on LGBT\n",
      "--------------------------\n",
      "--------------------------\n",
      "Reading /Users/annabellepurnomo/git/kokkai_analysis/data_prepping/params/../data/data_repr/維新/沢田良/LGBT/1.json\n",
      "--------------------------\n"
     ]
    },
    {
     "name": "stderr",
     "output_type": "stream",
     "text": [
      "Batches: 100%|██████████| 1/1 [00:09<00:00,  9.86s/it]\n"
     ]
    },
    {
     "name": "stdout",
     "output_type": "stream",
     "text": [
      "--------------------------\n",
      "Number of dates 30\n",
      "Number of opinions 30 \n",
      "Number of embeddings 30\n",
      "--------------------------\n",
      "--------------------------\n",
      "維新 ----- 高橋英明\n",
      "--------------------------\n",
      "--------------------------\n",
      "Working on 少子化\n",
      "--------------------------\n",
      "--------------------------\n",
      "Reading /Users/annabellepurnomo/git/kokkai_analysis/data_prepping/params/../data/data_repr/維新/高橋英明/少子化/1.json\n",
      "--------------------------\n"
     ]
    },
    {
     "name": "stderr",
     "output_type": "stream",
     "text": [
      "Batches: 100%|██████████| 1/1 [00:03<00:00,  3.09s/it]\n"
     ]
    },
    {
     "name": "stdout",
     "output_type": "stream",
     "text": [
      "--------------------------\n",
      "Number of dates 7\n",
      "Number of opinions 7 \n",
      "Number of embeddings 7\n",
      "--------------------------\n",
      "--------------------------\n",
      "維新 ----- 藤巻健太\n",
      "--------------------------\n",
      "--------------------------\n",
      "維新 ----- 空本誠喜\n",
      "--------------------------\n",
      "--------------------------\n",
      "維新 ----- 美延映夫\n",
      "--------------------------\n",
      "--------------------------\n",
      "Working on 少子化\n",
      "--------------------------\n",
      "--------------------------\n",
      "Reading /Users/annabellepurnomo/git/kokkai_analysis/data_prepping/params/../data/data_repr/維新/美延映夫/少子化/1.json\n",
      "--------------------------\n"
     ]
    },
    {
     "name": "stderr",
     "output_type": "stream",
     "text": [
      "Batches: 100%|██████████| 1/1 [00:04<00:00,  4.96s/it]\n"
     ]
    },
    {
     "name": "stdout",
     "output_type": "stream",
     "text": [
      "--------------------------\n",
      "Number of dates 13\n",
      "Number of opinions 13 \n",
      "Number of embeddings 13\n",
      "--------------------------\n",
      "--------------------------\n",
      "維新 ----- 阿部司\n",
      "--------------------------\n",
      "--------------------------\n",
      "Working on 少子化\n",
      "--------------------------\n",
      "--------------------------\n",
      "Reading /Users/annabellepurnomo/git/kokkai_analysis/data_prepping/params/../data/data_repr/維新/阿部司/少子化/1.json\n",
      "--------------------------\n"
     ]
    },
    {
     "name": "stderr",
     "output_type": "stream",
     "text": [
      "Batches: 100%|██████████| 2/2 [00:28<00:00, 14.20s/it]\n"
     ]
    },
    {
     "name": "stdout",
     "output_type": "stream",
     "text": [
      "--------------------------\n",
      "Number of dates 63\n",
      "Number of opinions 63 \n",
      "Number of embeddings 63\n",
      "--------------------------\n",
      "--------------------------\n",
      "Working on LGBT\n",
      "--------------------------\n",
      "--------------------------\n",
      "Reading /Users/annabellepurnomo/git/kokkai_analysis/data_prepping/params/../data/data_repr/維新/阿部司/LGBT/1.json\n",
      "--------------------------\n"
     ]
    },
    {
     "name": "stderr",
     "output_type": "stream",
     "text": [
      "Batches: 100%|██████████| 1/1 [00:07<00:00,  7.37s/it]\n"
     ]
    },
    {
     "name": "stdout",
     "output_type": "stream",
     "text": [
      "--------------------------\n",
      "Number of dates 16\n",
      "Number of opinions 16 \n",
      "Number of embeddings 16\n",
      "--------------------------\n",
      "--------------------------\n",
      "維新 ----- 伊東信久\n",
      "--------------------------\n",
      "--------------------------\n",
      "Working on 少子化\n",
      "--------------------------\n",
      "--------------------------\n",
      "Reading /Users/annabellepurnomo/git/kokkai_analysis/data_prepping/params/../data/data_repr/維新/伊東信久/少子化/1.json\n",
      "--------------------------\n"
     ]
    },
    {
     "name": "stderr",
     "output_type": "stream",
     "text": [
      "Batches: 100%|██████████| 2/2 [00:24<00:00, 12.11s/it]\n"
     ]
    },
    {
     "name": "stdout",
     "output_type": "stream",
     "text": [
      "--------------------------\n",
      "Number of dates 56\n",
      "Number of opinions 56 \n",
      "Number of embeddings 56\n",
      "--------------------------\n",
      "--------------------------\n",
      "維新 ----- 市村浩一郎\n",
      "--------------------------\n",
      "--------------------------\n",
      "Working on 少子化\n",
      "--------------------------\n",
      "--------------------------\n",
      "Reading /Users/annabellepurnomo/git/kokkai_analysis/data_prepping/params/../data/data_repr/維新/市村浩一郎/少子化/1.json\n",
      "--------------------------\n"
     ]
    },
    {
     "name": "stderr",
     "output_type": "stream",
     "text": [
      "Batches: 100%|██████████| 1/1 [00:21<00:00, 21.23s/it]\n"
     ]
    },
    {
     "name": "stdout",
     "output_type": "stream",
     "text": [
      "--------------------------\n",
      "Number of dates 28\n",
      "Number of opinions 28 \n",
      "Number of embeddings 28\n",
      "--------------------------\n",
      "--------------------------\n",
      "維新 ----- 遠藤敬\n",
      "--------------------------\n",
      "--------------------------\n",
      "Working on 少子化\n",
      "--------------------------\n",
      "--------------------------\n",
      "Reading /Users/annabellepurnomo/git/kokkai_analysis/data_prepping/params/../data/data_repr/維新/遠藤敬/少子化/1.json\n",
      "--------------------------\n"
     ]
    },
    {
     "name": "stderr",
     "output_type": "stream",
     "text": [
      "Batches: 100%|██████████| 1/1 [00:15<00:00, 15.17s/it]\n"
     ]
    },
    {
     "name": "stdout",
     "output_type": "stream",
     "text": [
      "--------------------------\n",
      "Number of dates 29\n",
      "Number of opinions 29 \n",
      "Number of embeddings 29\n",
      "--------------------------\n",
      "--------------------------\n",
      "維新 ----- 藤田文武\n",
      "--------------------------\n",
      "--------------------------\n",
      "Working on 少子化\n",
      "--------------------------\n",
      "--------------------------\n",
      "Reading /Users/annabellepurnomo/git/kokkai_analysis/data_prepping/params/../data/data_repr/維新/藤田文武/少子化/1.json\n",
      "--------------------------\n"
     ]
    },
    {
     "name": "stderr",
     "output_type": "stream",
     "text": [
      "Batches: 100%|██████████| 2/2 [00:12<00:00,  6.42s/it]\n"
     ]
    },
    {
     "name": "stdout",
     "output_type": "stream",
     "text": [
      "--------------------------\n",
      "Number of dates 36\n",
      "Number of opinions 36 \n",
      "Number of embeddings 36\n",
      "--------------------------\n",
      "--------------------------\n",
      "維新 ----- 三木圭恵\n",
      "--------------------------\n",
      "--------------------------\n",
      "Working on 少子化\n",
      "--------------------------\n",
      "--------------------------\n",
      "Reading /Users/annabellepurnomo/git/kokkai_analysis/data_prepping/params/../data/data_repr/維新/三木圭恵/少子化/1.json\n",
      "--------------------------\n"
     ]
    },
    {
     "name": "stderr",
     "output_type": "stream",
     "text": [
      "Batches: 100%|██████████| 1/1 [00:08<00:00,  8.32s/it]\n"
     ]
    },
    {
     "name": "stdout",
     "output_type": "stream",
     "text": [
      "--------------------------\n",
      "Number of dates 18\n",
      "Number of opinions 18 \n",
      "Number of embeddings 18\n",
      "--------------------------\n",
      "--------------------------\n",
      "維新 ----- 小野泰輔\n",
      "--------------------------\n",
      "--------------------------\n",
      "Working on 少子化\n",
      "--------------------------\n",
      "--------------------------\n",
      "Reading /Users/annabellepurnomo/git/kokkai_analysis/data_prepping/params/../data/data_repr/維新/小野泰輔/少子化/1.json\n",
      "--------------------------\n"
     ]
    },
    {
     "name": "stderr",
     "output_type": "stream",
     "text": [
      "Batches: 100%|██████████| 1/1 [00:05<00:00,  5.34s/it]\n"
     ]
    },
    {
     "name": "stdout",
     "output_type": "stream",
     "text": [
      "--------------------------\n",
      "Number of dates 14\n",
      "Number of opinions 14 \n",
      "Number of embeddings 14\n",
      "--------------------------\n",
      "--------------------------\n",
      "維新 ----- 漆間譲司\n",
      "--------------------------\n",
      "--------------------------\n",
      "Working on 少子化\n",
      "--------------------------\n",
      "--------------------------\n",
      "Reading /Users/annabellepurnomo/git/kokkai_analysis/data_prepping/params/../data/data_repr/維新/漆間譲司/少子化/1.json\n",
      "--------------------------\n"
     ]
    },
    {
     "name": "stderr",
     "output_type": "stream",
     "text": [
      "Batches: 100%|██████████| 1/1 [00:04<00:00,  4.90s/it]\n"
     ]
    },
    {
     "name": "stdout",
     "output_type": "stream",
     "text": [
      "--------------------------\n",
      "Number of dates 12\n",
      "Number of opinions 12 \n",
      "Number of embeddings 12\n",
      "--------------------------\n",
      "--------------------------\n",
      "維新 ----- 一谷勇一郎\n",
      "--------------------------\n",
      "--------------------------\n",
      "Working on 少子化\n",
      "--------------------------\n",
      "--------------------------\n",
      "Reading /Users/annabellepurnomo/git/kokkai_analysis/data_prepping/params/../data/data_repr/維新/一谷勇一郎/少子化/1.json\n",
      "--------------------------\n"
     ]
    },
    {
     "name": "stderr",
     "output_type": "stream",
     "text": [
      "Batches: 100%|██████████| 2/2 [00:27<00:00, 13.52s/it]\n"
     ]
    },
    {
     "name": "stdout",
     "output_type": "stream",
     "text": [
      "--------------------------\n",
      "Number of dates 47\n",
      "Number of opinions 47 \n",
      "Number of embeddings 47\n",
      "--------------------------\n",
      "--------------------------\n",
      "維新 ----- 青柳仁士\n",
      "--------------------------\n",
      "--------------------------\n",
      "Working on 少子化\n",
      "--------------------------\n",
      "--------------------------\n",
      "Reading /Users/annabellepurnomo/git/kokkai_analysis/data_prepping/params/../data/data_repr/維新/青柳仁士/少子化/1.json\n",
      "--------------------------\n"
     ]
    },
    {
     "name": "stderr",
     "output_type": "stream",
     "text": [
      "Batches: 100%|██████████| 2/2 [00:14<00:00,  7.22s/it]\n"
     ]
    },
    {
     "name": "stdout",
     "output_type": "stream",
     "text": [
      "--------------------------\n",
      "Number of dates 52\n",
      "Number of opinions 52 \n",
      "Number of embeddings 52\n",
      "--------------------------\n",
      "--------------------------\n",
      "維新 ----- 池畑浩太朗\n",
      "--------------------------\n",
      "--------------------------\n",
      "Working on 少子化\n",
      "--------------------------\n",
      "--------------------------\n",
      "Reading /Users/annabellepurnomo/git/kokkai_analysis/data_prepping/params/../data/data_repr/維新/池畑浩太朗/少子化/1.json\n",
      "--------------------------\n"
     ]
    },
    {
     "name": "stderr",
     "output_type": "stream",
     "text": [
      "Batches: 100%|██████████| 1/1 [00:05<00:00,  5.32s/it]\n"
     ]
    },
    {
     "name": "stdout",
     "output_type": "stream",
     "text": [
      "--------------------------\n",
      "Number of dates 16\n",
      "Number of opinions 16 \n",
      "Number of embeddings 16\n",
      "--------------------------\n",
      "--------------------------\n",
      "れ新 ----- 大石あきこ\n",
      "--------------------------\n",
      "--------------------------\n",
      "Working on 少子化\n",
      "--------------------------\n",
      "--------------------------\n",
      "Reading /Users/annabellepurnomo/git/kokkai_analysis/data_prepping/params/../data/data_repr/れ新/大石あきこ/少子化/1.json\n",
      "--------------------------\n"
     ]
    },
    {
     "name": "stderr",
     "output_type": "stream",
     "text": [
      "Batches: 100%|██████████| 1/1 [00:13<00:00, 13.88s/it]\n"
     ]
    },
    {
     "name": "stdout",
     "output_type": "stream",
     "text": [
      "--------------------------\n",
      "Number of dates 31\n",
      "Number of opinions 31 \n",
      "Number of embeddings 31\n",
      "--------------------------\n",
      "--------------------------\n",
      "Working on LGBT\n",
      "--------------------------\n",
      "--------------------------\n",
      "Embeddings already exist for LGBT in /Users/annabellepurnomo/git/kokkai_analysis/data_prepping/params/../data/data_repr/れ新/大石あきこ\n",
      "--------------------------\n",
      "--------------------------\n",
      "れ新 ----- 櫛渕万里\n",
      "--------------------------\n",
      "--------------------------\n",
      "Working on 少子化\n",
      "--------------------------\n",
      "--------------------------\n",
      "Reading /Users/annabellepurnomo/git/kokkai_analysis/data_prepping/params/../data/data_repr/れ新/櫛渕万里/少子化/1.json\n",
      "--------------------------\n"
     ]
    },
    {
     "name": "stderr",
     "output_type": "stream",
     "text": [
      "Batches: 100%|██████████| 5/5 [00:33<00:00,  6.71s/it]\n"
     ]
    },
    {
     "name": "stdout",
     "output_type": "stream",
     "text": [
      "--------------------------\n",
      "Number of dates 136\n",
      "Number of opinions 136 \n",
      "Number of embeddings 136\n",
      "--------------------------\n",
      "--------------------------\n",
      "Working on LGBT\n",
      "--------------------------\n",
      "--------------------------\n",
      "Embeddings already exist for LGBT in /Users/annabellepurnomo/git/kokkai_analysis/data_prepping/params/../data/data_repr/れ新/櫛渕万里\n",
      "--------------------------\n",
      "--------------------------\n",
      "れ新 ----- たがや亮\n",
      "--------------------------\n",
      "--------------------------\n",
      "自民 ----- 神田憲次\n",
      "--------------------------\n",
      "--------------------------\n",
      "自民 ----- 中谷真一\n",
      "--------------------------\n",
      "--------------------------\n",
      "自民 ----- 細田健一\n",
      "--------------------------\n",
      "--------------------------\n",
      "Working on 少子化\n",
      "--------------------------\n",
      "--------------------------\n",
      "Reading /Users/annabellepurnomo/git/kokkai_analysis/data_prepping/params/../data/data_repr/自民/細田健一/少子化/1.json\n",
      "--------------------------\n"
     ]
    },
    {
     "name": "stderr",
     "output_type": "stream",
     "text": [
      "Batches: 100%|██████████| 1/1 [00:01<00:00,  1.04s/it]\n"
     ]
    },
    {
     "name": "stdout",
     "output_type": "stream",
     "text": [
      "--------------------------\n",
      "Number of dates 3\n",
      "Number of opinions 3 \n",
      "Number of embeddings 3\n",
      "--------------------------\n",
      "--------------------------\n",
      "自民 ----- 谷公一\n",
      "--------------------------\n",
      "--------------------------\n",
      "自民 ----- 熊田裕通\n",
      "--------------------------\n",
      "--------------------------\n",
      "自民 ----- 山本有二\n",
      "--------------------------\n",
      "--------------------------\n",
      "Working on 少子化\n",
      "--------------------------\n",
      "--------------------------\n",
      "Reading /Users/annabellepurnomo/git/kokkai_analysis/data_prepping/params/../data/data_repr/自民/山本有二/少子化/1.json\n",
      "--------------------------\n"
     ]
    },
    {
     "name": "stderr",
     "output_type": "stream",
     "text": [
      "Batches: 100%|██████████| 1/1 [00:02<00:00,  2.69s/it]\n"
     ]
    },
    {
     "name": "stdout",
     "output_type": "stream",
     "text": [
      "--------------------------\n",
      "Number of dates 4\n",
      "Number of opinions 4 \n",
      "Number of embeddings 4\n",
      "--------------------------\n",
      "--------------------------\n",
      "自民 ----- 二階俊博\n",
      "--------------------------\n",
      "--------------------------\n",
      "Working on 少子化\n",
      "--------------------------\n",
      "--------------------------\n",
      "Reading /Users/annabellepurnomo/git/kokkai_analysis/data_prepping/params/../data/data_repr/自民/二階俊博/少子化/1.json\n",
      "--------------------------\n"
     ]
    },
    {
     "name": "stderr",
     "output_type": "stream",
     "text": [
      "Batches: 100%|██████████| 1/1 [00:14<00:00, 14.76s/it]\n"
     ]
    },
    {
     "name": "stdout",
     "output_type": "stream",
     "text": [
      "--------------------------\n",
      "Number of dates 23\n",
      "Number of opinions 23 \n",
      "Number of embeddings 23\n",
      "--------------------------\n",
      "--------------------------\n",
      "自民 ----- 新谷正義\n",
      "--------------------------\n",
      "--------------------------\n",
      "Working on 少子化\n",
      "--------------------------\n",
      "--------------------------\n",
      "Reading /Users/annabellepurnomo/git/kokkai_analysis/data_prepping/params/../data/data_repr/自民/新谷正義/少子化/1.json\n",
      "--------------------------\n"
     ]
    },
    {
     "name": "stderr",
     "output_type": "stream",
     "text": [
      "Batches: 100%|██████████| 1/1 [00:09<00:00,  9.67s/it]\n"
     ]
    },
    {
     "name": "stdout",
     "output_type": "stream",
     "text": [
      "--------------------------\n",
      "Number of dates 23\n",
      "Number of opinions 23 \n",
      "Number of embeddings 23\n",
      "--------------------------\n",
      "--------------------------\n",
      "自民 ----- 井野俊郎\n",
      "--------------------------\n",
      "--------------------------\n",
      "Working on 少子化\n",
      "--------------------------\n",
      "--------------------------\n",
      "Reading /Users/annabellepurnomo/git/kokkai_analysis/data_prepping/params/../data/data_repr/自民/井野俊郎/少子化/1.json\n",
      "--------------------------\n"
     ]
    },
    {
     "name": "stderr",
     "output_type": "stream",
     "text": [
      "Batches: 100%|██████████| 1/1 [00:02<00:00,  2.06s/it]\n"
     ]
    },
    {
     "name": "stdout",
     "output_type": "stream",
     "text": [
      "--------------------------\n",
      "Number of dates 7\n",
      "Number of opinions 7 \n",
      "Number of embeddings 7\n",
      "--------------------------\n",
      "--------------------------\n",
      "自民 ----- 義家弘介\n",
      "--------------------------\n",
      "--------------------------\n",
      "Working on 少子化\n",
      "--------------------------\n",
      "--------------------------\n",
      "Reading /Users/annabellepurnomo/git/kokkai_analysis/data_prepping/params/../data/data_repr/自民/義家弘介/少子化/1.json\n",
      "--------------------------\n"
     ]
    },
    {
     "name": "stderr",
     "output_type": "stream",
     "text": [
      "Batches: 100%|██████████| 2/2 [00:23<00:00, 11.99s/it]\n"
     ]
    },
    {
     "name": "stdout",
     "output_type": "stream",
     "text": [
      "--------------------------\n",
      "Number of dates 50\n",
      "Number of opinions 50 \n",
      "Number of embeddings 50\n",
      "--------------------------\n",
      "--------------------------\n",
      "自民 ----- 高階恵美子\n",
      "--------------------------\n",
      "--------------------------\n",
      "Working on 少子化\n",
      "--------------------------\n",
      "--------------------------\n",
      "Reading /Users/annabellepurnomo/git/kokkai_analysis/data_prepping/params/../data/data_repr/自民/高階恵美子/少子化/1.json\n",
      "--------------------------\n"
     ]
    },
    {
     "name": "stderr",
     "output_type": "stream",
     "text": [
      "Batches: 100%|██████████| 1/1 [00:02<00:00,  2.49s/it]\n"
     ]
    },
    {
     "name": "stdout",
     "output_type": "stream",
     "text": [
      "--------------------------\n",
      "Number of dates 6\n",
      "Number of opinions 6 \n",
      "Number of embeddings 6\n",
      "--------------------------\n",
      "--------------------------\n",
      "自民 ----- 梶山弘志\n",
      "--------------------------\n",
      "--------------------------\n",
      "Working on 少子化\n",
      "--------------------------\n",
      "--------------------------\n",
      "Reading /Users/annabellepurnomo/git/kokkai_analysis/data_prepping/params/../data/data_repr/自民/梶山弘志/少子化/1.json\n",
      "--------------------------\n"
     ]
    },
    {
     "name": "stderr",
     "output_type": "stream",
     "text": [
      "Batches: 100%|██████████| 4/4 [00:42<00:00, 10.57s/it]\n"
     ]
    },
    {
     "name": "stdout",
     "output_type": "stream",
     "text": [
      "--------------------------\n",
      "Number of dates 108\n",
      "Number of opinions 108 \n",
      "Number of embeddings 108\n",
      "--------------------------\n",
      "--------------------------\n",
      "Working on LGBT\n",
      "--------------------------\n",
      "--------------------------\n",
      "Reading /Users/annabellepurnomo/git/kokkai_analysis/data_prepping/params/../data/data_repr/自民/梶山弘志/LGBT/1.json\n",
      "--------------------------\n"
     ]
    },
    {
     "name": "stderr",
     "output_type": "stream",
     "text": [
      "Batches: 100%|██████████| 1/1 [00:00<00:00,  1.98it/s]\n"
     ]
    },
    {
     "name": "stdout",
     "output_type": "stream",
     "text": [
      "--------------------------\n",
      "Number of dates 1\n",
      "Number of opinions 1 \n",
      "Number of embeddings 1\n",
      "--------------------------\n",
      "--------------------------\n",
      "自民 ----- 大岡敏孝\n",
      "--------------------------\n",
      "--------------------------\n",
      "Working on 少子化\n",
      "--------------------------\n",
      "--------------------------\n",
      "Reading /Users/annabellepurnomo/git/kokkai_analysis/data_prepping/params/../data/data_repr/自民/大岡敏孝/少子化/1.json\n",
      "--------------------------\n"
     ]
    },
    {
     "name": "stderr",
     "output_type": "stream",
     "text": [
      "Batches: 100%|██████████| 1/1 [00:01<00:00,  1.94s/it]\n"
     ]
    },
    {
     "name": "stdout",
     "output_type": "stream",
     "text": [
      "--------------------------\n",
      "Number of dates 4\n",
      "Number of opinions 4 \n",
      "Number of embeddings 4\n",
      "--------------------------\n",
      "--------------------------\n",
      "自民 ----- 井上信治\n",
      "--------------------------\n",
      "--------------------------\n",
      "Working on 少子化\n",
      "--------------------------\n",
      "--------------------------\n",
      "Reading /Users/annabellepurnomo/git/kokkai_analysis/data_prepping/params/../data/data_repr/自民/井上信治/少子化/1.json\n",
      "--------------------------\n"
     ]
    },
    {
     "name": "stderr",
     "output_type": "stream",
     "text": [
      "Batches: 100%|██████████| 1/1 [00:05<00:00,  5.35s/it]\n"
     ]
    },
    {
     "name": "stdout",
     "output_type": "stream",
     "text": [
      "--------------------------\n",
      "Number of dates 10\n",
      "Number of opinions 10 \n",
      "Number of embeddings 10\n",
      "--------------------------\n",
      "--------------------------\n",
      "自民 ----- 石井拓\n",
      "--------------------------\n",
      "--------------------------\n",
      "自民 ----- 小倉將信\n",
      "--------------------------\n",
      "--------------------------\n",
      "Working on 少子化\n",
      "--------------------------\n",
      "--------------------------\n",
      "Reading /Users/annabellepurnomo/git/kokkai_analysis/data_prepping/params/../data/data_repr/自民/小倉將信/少子化/1.json\n",
      "--------------------------\n",
      "--------------------------\n",
      "Reading /Users/annabellepurnomo/git/kokkai_analysis/data_prepping/params/../data/data_repr/自民/小倉將信/少子化/2.json\n",
      "--------------------------\n",
      "--------------------------\n",
      "Reading /Users/annabellepurnomo/git/kokkai_analysis/data_prepping/params/../data/data_repr/自民/小倉將信/少子化/3.json\n",
      "--------------------------\n"
     ]
    },
    {
     "name": "stderr",
     "output_type": "stream",
     "text": [
      "Batches: 100%|██████████| 9/9 [01:31<00:00, 10.21s/it]\n"
     ]
    },
    {
     "name": "stdout",
     "output_type": "stream",
     "text": [
      "--------------------------\n",
      "Number of dates 270\n",
      "Number of opinions 270 \n",
      "Number of embeddings 270\n",
      "--------------------------\n",
      "--------------------------\n",
      "Working on LGBT\n",
      "--------------------------\n",
      "--------------------------\n",
      "Reading /Users/annabellepurnomo/git/kokkai_analysis/data_prepping/params/../data/data_repr/自民/小倉將信/LGBT/1.json\n",
      "--------------------------\n"
     ]
    },
    {
     "name": "stderr",
     "output_type": "stream",
     "text": [
      "Batches: 100%|██████████| 1/1 [00:16<00:00, 16.11s/it]\n"
     ]
    },
    {
     "name": "stdout",
     "output_type": "stream",
     "text": [
      "--------------------------\n",
      "Number of dates 31\n",
      "Number of opinions 31 \n",
      "Number of embeddings 31\n",
      "--------------------------\n",
      "--------------------------\n",
      "自民 ----- 小泉進次郎\n",
      "--------------------------\n",
      "--------------------------\n",
      "Working on 少子化\n",
      "--------------------------\n",
      "--------------------------\n",
      "Reading /Users/annabellepurnomo/git/kokkai_analysis/data_prepping/params/../data/data_repr/自民/小泉進次郎/少子化/1.json\n",
      "--------------------------\n"
     ]
    },
    {
     "name": "stderr",
     "output_type": "stream",
     "text": [
      "Batches: 100%|██████████| 1/1 [00:06<00:00,  6.53s/it]\n"
     ]
    },
    {
     "name": "stdout",
     "output_type": "stream",
     "text": [
      "--------------------------\n",
      "Number of dates 12\n",
      "Number of opinions 12 \n",
      "Number of embeddings 12\n",
      "--------------------------\n",
      "--------------------------\n",
      "Working on LGBT\n",
      "--------------------------\n",
      "--------------------------\n",
      "Reading /Users/annabellepurnomo/git/kokkai_analysis/data_prepping/params/../data/data_repr/自民/小泉進次郎/LGBT/1.json\n",
      "--------------------------\n"
     ]
    },
    {
     "name": "stderr",
     "output_type": "stream",
     "text": [
      "Batches: 100%|██████████| 1/1 [00:00<00:00,  2.23it/s]\n"
     ]
    },
    {
     "name": "stdout",
     "output_type": "stream",
     "text": [
      "--------------------------\n",
      "Number of dates 2\n",
      "Number of opinions 2 \n",
      "Number of embeddings 2\n",
      "--------------------------\n",
      "--------------------------\n",
      "自民 ----- 金子恭之\n",
      "--------------------------\n",
      "--------------------------\n",
      "Working on 少子化\n",
      "--------------------------\n",
      "--------------------------\n",
      "Reading /Users/annabellepurnomo/git/kokkai_analysis/data_prepping/params/../data/data_repr/自民/金子恭之/少子化/1.json\n",
      "--------------------------\n"
     ]
    },
    {
     "name": "stderr",
     "output_type": "stream",
     "text": [
      "Batches: 100%|██████████| 1/1 [00:00<00:00,  1.52it/s]\n"
     ]
    },
    {
     "name": "stdout",
     "output_type": "stream",
     "text": [
      "--------------------------\n",
      "Number of dates 2\n",
      "Number of opinions 2 \n",
      "Number of embeddings 2\n",
      "--------------------------\n",
      "--------------------------\n",
      "自民 ----- 山口俊一\n",
      "--------------------------\n",
      "--------------------------\n",
      "Working on 少子化\n",
      "--------------------------\n",
      "--------------------------\n",
      "Reading /Users/annabellepurnomo/git/kokkai_analysis/data_prepping/params/../data/data_repr/自民/山口俊一/少子化/1.json\n",
      "--------------------------\n"
     ]
    },
    {
     "name": "stderr",
     "output_type": "stream",
     "text": [
      "Batches: 100%|██████████| 1/1 [00:06<00:00,  6.45s/it]\n"
     ]
    },
    {
     "name": "stdout",
     "output_type": "stream",
     "text": [
      "--------------------------\n",
      "Number of dates 14\n",
      "Number of opinions 14 \n",
      "Number of embeddings 14\n",
      "--------------------------\n",
      "--------------------------\n",
      "自民 ----- 船田元\n",
      "--------------------------\n",
      "--------------------------\n",
      "Working on 少子化\n",
      "--------------------------\n",
      "--------------------------\n",
      "Reading /Users/annabellepurnomo/git/kokkai_analysis/data_prepping/params/../data/data_repr/自民/船田元/少子化/1.json\n",
      "--------------------------\n"
     ]
    },
    {
     "name": "stderr",
     "output_type": "stream",
     "text": [
      "Batches: 100%|██████████| 1/1 [00:11<00:00, 11.63s/it]\n"
     ]
    },
    {
     "name": "stdout",
     "output_type": "stream",
     "text": [
      "--------------------------\n",
      "Number of dates 23\n",
      "Number of opinions 23 \n",
      "Number of embeddings 23\n",
      "--------------------------\n",
      "--------------------------\n",
      "自民 ----- 大西英男\n",
      "--------------------------\n",
      "--------------------------\n",
      "Working on 少子化\n",
      "--------------------------\n",
      "--------------------------\n",
      "Reading /Users/annabellepurnomo/git/kokkai_analysis/data_prepping/params/../data/data_repr/自民/大西英男/少子化/1.json\n",
      "--------------------------\n"
     ]
    },
    {
     "name": "stderr",
     "output_type": "stream",
     "text": [
      "Batches: 100%|██████████| 1/1 [00:12<00:00, 12.60s/it]\n"
     ]
    },
    {
     "name": "stdout",
     "output_type": "stream",
     "text": [
      "--------------------------\n",
      "Number of dates 30\n",
      "Number of opinions 30 \n",
      "Number of embeddings 30\n",
      "--------------------------\n",
      "--------------------------\n",
      "自民 ----- 大串正樹\n",
      "--------------------------\n",
      "--------------------------\n",
      "Working on 少子化\n",
      "--------------------------\n",
      "--------------------------\n",
      "Reading /Users/annabellepurnomo/git/kokkai_analysis/data_prepping/params/../data/data_repr/自民/大串正樹/少子化/1.json\n",
      "--------------------------\n"
     ]
    },
    {
     "name": "stderr",
     "output_type": "stream",
     "text": [
      "Batches: 100%|██████████| 1/1 [00:01<00:00,  1.23s/it]\n"
     ]
    },
    {
     "name": "stdout",
     "output_type": "stream",
     "text": [
      "--------------------------\n",
      "Number of dates 3\n",
      "Number of opinions 3 \n",
      "Number of embeddings 3\n",
      "--------------------------\n",
      "--------------------------\n",
      "自民 ----- 井林辰憲\n",
      "--------------------------\n",
      "--------------------------\n",
      "Working on 少子化\n",
      "--------------------------\n",
      "--------------------------\n",
      "Reading /Users/annabellepurnomo/git/kokkai_analysis/data_prepping/params/../data/data_repr/自民/井林辰憲/少子化/1.json\n",
      "--------------------------\n"
     ]
    },
    {
     "name": "stderr",
     "output_type": "stream",
     "text": [
      "Batches: 100%|██████████| 1/1 [00:01<00:00,  1.38s/it]\n"
     ]
    },
    {
     "name": "stdout",
     "output_type": "stream",
     "text": [
      "--------------------------\n",
      "Number of dates 3\n",
      "Number of opinions 3 \n",
      "Number of embeddings 3\n",
      "--------------------------\n",
      "--------------------------\n",
      "自民 ----- 林幹雄\n",
      "--------------------------\n",
      "--------------------------\n",
      "Working on 少子化\n",
      "--------------------------\n",
      "--------------------------\n",
      "Reading /Users/annabellepurnomo/git/kokkai_analysis/data_prepping/params/../data/data_repr/自民/林幹雄/少子化/1.json\n",
      "--------------------------\n"
     ]
    },
    {
     "name": "stderr",
     "output_type": "stream",
     "text": [
      "Batches: 100%|██████████| 1/1 [00:16<00:00, 16.26s/it]\n"
     ]
    },
    {
     "name": "stdout",
     "output_type": "stream",
     "text": [
      "--------------------------\n",
      "Number of dates 14\n",
      "Number of opinions 14 \n",
      "Number of embeddings 14\n",
      "--------------------------\n",
      "--------------------------\n",
      "自民 ----- 土屋品子\n",
      "--------------------------\n",
      "--------------------------\n",
      "Working on 少子化\n",
      "--------------------------\n",
      "--------------------------\n",
      "Reading /Users/annabellepurnomo/git/kokkai_analysis/data_prepping/params/../data/data_repr/自民/土屋品子/少子化/1.json\n",
      "--------------------------\n"
     ]
    },
    {
     "name": "stderr",
     "output_type": "stream",
     "text": [
      "Batches: 100%|██████████| 1/1 [00:07<00:00,  7.77s/it]\n"
     ]
    },
    {
     "name": "stdout",
     "output_type": "stream",
     "text": [
      "--------------------------\n",
      "Number of dates 9\n",
      "Number of opinions 9 \n",
      "Number of embeddings 9\n",
      "--------------------------\n",
      "--------------------------\n",
      "自民 ----- 五十嵐清\n",
      "--------------------------\n",
      "--------------------------\n",
      "自民 ----- 石原正敬\n",
      "--------------------------\n",
      "--------------------------\n",
      "Working on 少子化\n",
      "--------------------------\n",
      "--------------------------\n",
      "Reading /Users/annabellepurnomo/git/kokkai_analysis/data_prepping/params/../data/data_repr/自民/石原正敬/少子化/1.json\n",
      "--------------------------\n"
     ]
    },
    {
     "name": "stderr",
     "output_type": "stream",
     "text": [
      "Batches: 100%|██████████| 1/1 [00:01<00:00,  1.97s/it]\n"
     ]
    },
    {
     "name": "stdout",
     "output_type": "stream",
     "text": [
      "--------------------------\n",
      "Number of dates 4\n",
      "Number of opinions 4 \n",
      "Number of embeddings 4\n",
      "--------------------------\n",
      "--------------------------\n",
      "自民 ----- 木原稔\n",
      "--------------------------\n",
      "--------------------------\n",
      "Working on 少子化\n",
      "--------------------------\n",
      "--------------------------\n",
      "Reading /Users/annabellepurnomo/git/kokkai_analysis/data_prepping/params/../data/data_repr/自民/木原稔/少子化/1.json\n",
      "--------------------------\n"
     ]
    },
    {
     "name": "stderr",
     "output_type": "stream",
     "text": [
      "Batches: 100%|██████████| 1/1 [00:07<00:00,  7.37s/it]\n"
     ]
    },
    {
     "name": "stdout",
     "output_type": "stream",
     "text": [
      "--------------------------\n",
      "Number of dates 12\n",
      "Number of opinions 12 \n",
      "Number of embeddings 12\n",
      "--------------------------\n",
      "--------------------------\n",
      "自民 ----- 山下貴司\n",
      "--------------------------\n",
      "--------------------------\n",
      "Working on 少子化\n",
      "--------------------------\n",
      "--------------------------\n",
      "Reading /Users/annabellepurnomo/git/kokkai_analysis/data_prepping/params/../data/data_repr/自民/山下貴司/少子化/1.json\n",
      "--------------------------\n"
     ]
    },
    {
     "name": "stderr",
     "output_type": "stream",
     "text": [
      "Batches: 100%|██████████| 1/1 [00:03<00:00,  3.13s/it]\n"
     ]
    },
    {
     "name": "stdout",
     "output_type": "stream",
     "text": [
      "--------------------------\n",
      "Number of dates 5\n",
      "Number of opinions 5 \n",
      "Number of embeddings 5\n",
      "--------------------------\n",
      "--------------------------\n",
      "Working on LGBT\n",
      "--------------------------\n",
      "--------------------------\n",
      "Reading /Users/annabellepurnomo/git/kokkai_analysis/data_prepping/params/../data/data_repr/自民/山下貴司/LGBT/1.json\n",
      "--------------------------\n"
     ]
    },
    {
     "name": "stderr",
     "output_type": "stream",
     "text": [
      "Batches: 100%|██████████| 1/1 [00:02<00:00,  2.07s/it]\n"
     ]
    },
    {
     "name": "stdout",
     "output_type": "stream",
     "text": [
      "--------------------------\n",
      "Number of dates 5\n",
      "Number of opinions 5 \n",
      "Number of embeddings 5\n",
      "--------------------------\n",
      "--------------------------\n",
      "自民 ----- 宮下一郎\n",
      "--------------------------\n",
      "--------------------------\n",
      "Working on 少子化\n",
      "--------------------------\n",
      "--------------------------\n",
      "Reading /Users/annabellepurnomo/git/kokkai_analysis/data_prepping/params/../data/data_repr/自民/宮下一郎/少子化/1.json\n",
      "--------------------------\n"
     ]
    },
    {
     "name": "stderr",
     "output_type": "stream",
     "text": [
      "Batches: 100%|██████████| 1/1 [00:06<00:00,  6.39s/it]\n"
     ]
    },
    {
     "name": "stdout",
     "output_type": "stream",
     "text": [
      "--------------------------\n",
      "Number of dates 12\n",
      "Number of opinions 12 \n",
      "Number of embeddings 12\n",
      "--------------------------\n",
      "--------------------------\n",
      "Working on LGBT\n",
      "--------------------------\n",
      "--------------------------\n",
      "Reading /Users/annabellepurnomo/git/kokkai_analysis/data_prepping/params/../data/data_repr/自民/宮下一郎/LGBT/1.json\n",
      "--------------------------\n"
     ]
    },
    {
     "name": "stderr",
     "output_type": "stream",
     "text": [
      "Batches: 100%|██████████| 1/1 [00:00<00:00,  3.03it/s]\n"
     ]
    },
    {
     "name": "stdout",
     "output_type": "stream",
     "text": [
      "--------------------------\n",
      "Number of dates 1\n",
      "Number of opinions 1 \n",
      "Number of embeddings 1\n",
      "--------------------------\n",
      "--------------------------\n",
      "自民 ----- 伊藤信太郎\n",
      "--------------------------\n",
      "--------------------------\n",
      "自民 ----- 中山展宏\n",
      "--------------------------\n",
      "--------------------------\n",
      "Working on 少子化\n",
      "--------------------------\n",
      "--------------------------\n",
      "Reading /Users/annabellepurnomo/git/kokkai_analysis/data_prepping/params/../data/data_repr/自民/中山展宏/少子化/1.json\n",
      "--------------------------\n"
     ]
    },
    {
     "name": "stderr",
     "output_type": "stream",
     "text": [
      "Batches: 100%|██████████| 1/1 [00:03<00:00,  3.49s/it]\n"
     ]
    },
    {
     "name": "stdout",
     "output_type": "stream",
     "text": [
      "--------------------------\n",
      "Number of dates 9\n",
      "Number of opinions 9 \n",
      "Number of embeddings 9\n",
      "--------------------------\n",
      "--------------------------\n",
      "自民 ----- 橘慶一郎\n",
      "--------------------------\n",
      "--------------------------\n",
      "Working on 少子化\n",
      "--------------------------\n",
      "--------------------------\n",
      "Reading /Users/annabellepurnomo/git/kokkai_analysis/data_prepping/params/../data/data_repr/自民/橘慶一郎/少子化/1.json\n",
      "--------------------------\n"
     ]
    },
    {
     "name": "stderr",
     "output_type": "stream",
     "text": [
      "Batches: 100%|██████████| 1/1 [00:07<00:00,  7.49s/it]\n"
     ]
    },
    {
     "name": "stdout",
     "output_type": "stream",
     "text": [
      "--------------------------\n",
      "Number of dates 15\n",
      "Number of opinions 15 \n",
      "Number of embeddings 15\n",
      "--------------------------\n",
      "--------------------------\n",
      "自民 ----- 柴山昌彦\n",
      "--------------------------\n",
      "--------------------------\n",
      "Working on 少子化\n",
      "--------------------------\n",
      "--------------------------\n",
      "Reading /Users/annabellepurnomo/git/kokkai_analysis/data_prepping/params/../data/data_repr/自民/柴山昌彦/少子化/1.json\n",
      "--------------------------\n"
     ]
    },
    {
     "name": "stderr",
     "output_type": "stream",
     "text": [
      "Batches: 100%|██████████| 5/5 [01:13<00:00, 14.68s/it]\n"
     ]
    },
    {
     "name": "stdout",
     "output_type": "stream",
     "text": [
      "--------------------------\n",
      "Number of dates 150\n",
      "Number of opinions 150 \n",
      "Number of embeddings 150\n",
      "--------------------------\n",
      "--------------------------\n",
      "自民 ----- 西村康稔\n",
      "--------------------------\n",
      "--------------------------\n",
      "Working on 少子化\n",
      "--------------------------\n",
      "--------------------------\n",
      "Reading /Users/annabellepurnomo/git/kokkai_analysis/data_prepping/params/../data/data_repr/自民/西村康稔/少子化/1.json\n",
      "--------------------------\n"
     ]
    },
    {
     "name": "stderr",
     "output_type": "stream",
     "text": [
      "Batches: 100%|██████████| 6/6 [00:57<00:00,  9.57s/it]\n"
     ]
    },
    {
     "name": "stdout",
     "output_type": "stream",
     "text": [
      "--------------------------\n",
      "Number of dates 168\n",
      "Number of opinions 168 \n",
      "Number of embeddings 168\n",
      "--------------------------\n",
      "--------------------------\n",
      "Working on LGBT\n",
      "--------------------------\n",
      "--------------------------\n",
      "Reading /Users/annabellepurnomo/git/kokkai_analysis/data_prepping/params/../data/data_repr/自民/西村康稔/LGBT/1.json\n",
      "--------------------------\n"
     ]
    },
    {
     "name": "stderr",
     "output_type": "stream",
     "text": [
      "Batches: 100%|██████████| 1/1 [00:12<00:00, 12.78s/it]\n"
     ]
    },
    {
     "name": "stdout",
     "output_type": "stream",
     "text": [
      "--------------------------\n",
      "Number of dates 18\n",
      "Number of opinions 18 \n",
      "Number of embeddings 18\n",
      "--------------------------\n",
      "--------------------------\n",
      "自民 ----- 田中和徳\n",
      "--------------------------\n",
      "--------------------------\n",
      "Working on 少子化\n",
      "--------------------------\n",
      "--------------------------\n",
      "Reading /Users/annabellepurnomo/git/kokkai_analysis/data_prepping/params/../data/data_repr/自民/田中和徳/少子化/1.json\n",
      "--------------------------\n"
     ]
    },
    {
     "name": "stderr",
     "output_type": "stream",
     "text": [
      "Batches: 100%|██████████| 2/2 [00:15<00:00,  7.98s/it]\n"
     ]
    },
    {
     "name": "stdout",
     "output_type": "stream",
     "text": [
      "--------------------------\n",
      "Number of dates 37\n",
      "Number of opinions 37 \n",
      "Number of embeddings 37\n",
      "--------------------------\n",
      "--------------------------\n",
      "自民 ----- 坂本哲志\n",
      "--------------------------\n",
      "--------------------------\n",
      "Working on 少子化\n",
      "--------------------------\n",
      "--------------------------\n",
      "Reading /Users/annabellepurnomo/git/kokkai_analysis/data_prepping/params/../data/data_repr/自民/坂本哲志/少子化/1.json\n",
      "--------------------------\n",
      "--------------------------\n",
      "Reading /Users/annabellepurnomo/git/kokkai_analysis/data_prepping/params/../data/data_repr/自民/坂本哲志/少子化/2.json\n",
      "--------------------------\n",
      "--------------------------\n",
      "Reading /Users/annabellepurnomo/git/kokkai_analysis/data_prepping/params/../data/data_repr/自民/坂本哲志/少子化/3.json\n",
      "--------------------------\n",
      "--------------------------\n",
      "Reading /Users/annabellepurnomo/git/kokkai_analysis/data_prepping/params/../data/data_repr/自民/坂本哲志/少子化/4.json\n",
      "--------------------------\n"
     ]
    },
    {
     "name": "stderr",
     "output_type": "stream",
     "text": [
      "Batches: 100%|██████████| 11/11 [01:34<00:00,  8.55s/it]\n"
     ]
    },
    {
     "name": "stdout",
     "output_type": "stream",
     "text": [
      "--------------------------\n",
      "Number of dates 322\n",
      "Number of opinions 322 \n",
      "Number of embeddings 322\n",
      "--------------------------\n",
      "--------------------------\n",
      "自民 ----- 谷川とむ\n",
      "--------------------------\n",
      "--------------------------\n",
      "自民 ----- 棚橋泰文\n",
      "--------------------------\n",
      "--------------------------\n",
      "Working on 少子化\n",
      "--------------------------\n",
      "--------------------------\n",
      "Reading /Users/annabellepurnomo/git/kokkai_analysis/data_prepping/params/../data/data_repr/自民/棚橋泰文/少子化/1.json\n",
      "--------------------------\n"
     ]
    },
    {
     "name": "stderr",
     "output_type": "stream",
     "text": [
      "Batches: 100%|██████████| 1/1 [00:04<00:00,  4.62s/it]\n"
     ]
    },
    {
     "name": "stdout",
     "output_type": "stream",
     "text": [
      "--------------------------\n",
      "Number of dates 9\n",
      "Number of opinions 9 \n",
      "Number of embeddings 9\n",
      "--------------------------\n",
      "--------------------------\n",
      "自民 ----- 森山裕\n",
      "--------------------------\n",
      "--------------------------\n",
      "Working on 少子化\n",
      "--------------------------\n",
      "--------------------------\n",
      "Reading /Users/annabellepurnomo/git/kokkai_analysis/data_prepping/params/../data/data_repr/自民/森山裕/少子化/1.json\n",
      "--------------------------\n"
     ]
    },
    {
     "name": "stderr",
     "output_type": "stream",
     "text": [
      "Batches: 100%|██████████| 1/1 [00:04<00:00,  4.97s/it]\n"
     ]
    },
    {
     "name": "stdout",
     "output_type": "stream",
     "text": [
      "--------------------------\n",
      "Number of dates 14\n",
      "Number of opinions 14 \n",
      "Number of embeddings 14\n",
      "--------------------------\n",
      "--------------------------\n",
      "自民 ----- 三ッ林裕巳\n",
      "--------------------------\n",
      "--------------------------\n",
      "Working on 少子化\n",
      "--------------------------\n",
      "--------------------------\n",
      "Reading /Users/annabellepurnomo/git/kokkai_analysis/data_prepping/params/../data/data_repr/自民/三ッ林裕巳/少子化/1.json\n",
      "--------------------------\n"
     ]
    },
    {
     "name": "stderr",
     "output_type": "stream",
     "text": [
      "Batches: 100%|██████████| 2/2 [00:31<00:00, 15.80s/it]\n"
     ]
    },
    {
     "name": "stdout",
     "output_type": "stream",
     "text": [
      "--------------------------\n",
      "Number of dates 36\n",
      "Number of opinions 36 \n",
      "Number of embeddings 36\n",
      "--------------------------\n",
      "--------------------------\n",
      "自民 ----- 松本尚\n",
      "--------------------------\n",
      "--------------------------\n",
      "自民 ----- 簗和生\n",
      "--------------------------\n",
      "--------------------------\n",
      "Working on 少子化\n",
      "--------------------------\n",
      "--------------------------\n",
      "Reading /Users/annabellepurnomo/git/kokkai_analysis/data_prepping/params/../data/data_repr/自民/簗和生/少子化/1.json\n",
      "--------------------------\n"
     ]
    },
    {
     "name": "stderr",
     "output_type": "stream",
     "text": [
      "Batches: 100%|██████████| 1/1 [00:02<00:00,  2.02s/it]\n"
     ]
    },
    {
     "name": "stdout",
     "output_type": "stream",
     "text": [
      "--------------------------\n",
      "Number of dates 5\n",
      "Number of opinions 5 \n",
      "Number of embeddings 5\n",
      "--------------------------\n",
      "--------------------------\n",
      "自民 ----- 田畑裕明\n",
      "--------------------------\n",
      "--------------------------\n",
      "Working on 少子化\n",
      "--------------------------\n",
      "--------------------------\n",
      "Reading /Users/annabellepurnomo/git/kokkai_analysis/data_prepping/params/../data/data_repr/自民/田畑裕明/少子化/1.json\n",
      "--------------------------\n"
     ]
    },
    {
     "name": "stderr",
     "output_type": "stream",
     "text": [
      "Batches: 100%|██████████| 1/1 [00:17<00:00, 17.16s/it]\n"
     ]
    },
    {
     "name": "stdout",
     "output_type": "stream",
     "text": [
      "--------------------------\n",
      "Number of dates 28\n",
      "Number of opinions 28 \n",
      "Number of embeddings 28\n",
      "--------------------------\n",
      "--------------------------\n",
      "自民 ----- 斎藤洋明\n",
      "--------------------------\n",
      "--------------------------\n",
      "Working on 少子化\n",
      "--------------------------\n",
      "--------------------------\n",
      "Reading /Users/annabellepurnomo/git/kokkai_analysis/data_prepping/params/../data/data_repr/自民/斎藤洋明/少子化/1.json\n",
      "--------------------------\n"
     ]
    },
    {
     "name": "stderr",
     "output_type": "stream",
     "text": [
      "Batches: 100%|██████████| 1/1 [00:00<00:00,  1.28it/s]\n"
     ]
    },
    {
     "name": "stdout",
     "output_type": "stream",
     "text": [
      "--------------------------\n",
      "Number of dates 2\n",
      "Number of opinions 2 \n",
      "Number of embeddings 2\n",
      "--------------------------\n",
      "--------------------------\n",
      "自民 ----- 堀井学\n",
      "--------------------------\n",
      "--------------------------\n",
      "Working on 少子化\n",
      "--------------------------\n",
      "--------------------------\n",
      "Reading /Users/annabellepurnomo/git/kokkai_analysis/data_prepping/params/../data/data_repr/自民/堀井学/少子化/1.json\n",
      "--------------------------\n"
     ]
    },
    {
     "name": "stderr",
     "output_type": "stream",
     "text": [
      "Batches: 100%|██████████| 1/1 [00:11<00:00, 11.44s/it]\n"
     ]
    },
    {
     "name": "stdout",
     "output_type": "stream",
     "text": [
      "--------------------------\n",
      "Number of dates 29\n",
      "Number of opinions 29 \n",
      "Number of embeddings 29\n",
      "--------------------------\n",
      "--------------------------\n",
      "自民 ----- 高木啓\n",
      "--------------------------\n",
      "--------------------------\n",
      "Working on 少子化\n",
      "--------------------------\n",
      "--------------------------\n",
      "Reading /Users/annabellepurnomo/git/kokkai_analysis/data_prepping/params/../data/data_repr/自民/高木啓/少子化/1.json\n",
      "--------------------------\n"
     ]
    },
    {
     "name": "stderr",
     "output_type": "stream",
     "text": [
      "Batches: 100%|██████████| 1/1 [00:05<00:00,  5.63s/it]\n"
     ]
    },
    {
     "name": "stdout",
     "output_type": "stream",
     "text": [
      "--------------------------\n",
      "Number of dates 16\n",
      "Number of opinions 16 \n",
      "Number of embeddings 16\n",
      "--------------------------\n",
      "--------------------------\n",
      "自民 ----- あかま二郎\n",
      "--------------------------\n",
      "--------------------------\n",
      "Working on 少子化\n",
      "--------------------------\n",
      "--------------------------\n",
      "Reading /Users/annabellepurnomo/git/kokkai_analysis/data_prepping/params/../data/data_repr/自民/あかま二郎/少子化/1.json\n",
      "--------------------------\n"
     ]
    },
    {
     "name": "stderr",
     "output_type": "stream",
     "text": [
      "Batches: 100%|██████████| 1/1 [00:00<00:00,  1.64it/s]\n"
     ]
    },
    {
     "name": "stdout",
     "output_type": "stream",
     "text": [
      "--------------------------\n",
      "Number of dates 1\n",
      "Number of opinions 1 \n",
      "Number of embeddings 1\n",
      "--------------------------\n",
      "--------------------------\n",
      "自民 ----- 高木毅\n",
      "--------------------------\n",
      "--------------------------\n",
      "Working on 少子化\n",
      "--------------------------\n",
      "--------------------------\n",
      "Reading /Users/annabellepurnomo/git/kokkai_analysis/data_prepping/params/../data/data_repr/自民/高木毅/少子化/1.json\n",
      "--------------------------\n"
     ]
    },
    {
     "name": "stderr",
     "output_type": "stream",
     "text": [
      "Batches: 100%|██████████| 1/1 [00:01<00:00,  1.66s/it]\n"
     ]
    },
    {
     "name": "stdout",
     "output_type": "stream",
     "text": [
      "--------------------------\n",
      "Number of dates 2\n",
      "Number of opinions 2 \n",
      "Number of embeddings 2\n",
      "--------------------------\n",
      "--------------------------\n",
      "自民 ----- 中西健治\n",
      "--------------------------\n",
      "--------------------------\n",
      "自民 ----- 若宮健嗣\n",
      "--------------------------\n",
      "--------------------------\n",
      "Working on 少子化\n",
      "--------------------------\n",
      "--------------------------\n",
      "Reading /Users/annabellepurnomo/git/kokkai_analysis/data_prepping/params/../data/data_repr/自民/若宮健嗣/少子化/1.json\n",
      "--------------------------\n"
     ]
    },
    {
     "name": "stderr",
     "output_type": "stream",
     "text": [
      "Batches: 100%|██████████| 1/1 [00:04<00:00,  4.22s/it]\n"
     ]
    },
    {
     "name": "stdout",
     "output_type": "stream",
     "text": [
      "--------------------------\n",
      "Number of dates 9\n",
      "Number of opinions 9 \n",
      "Number of embeddings 9\n",
      "--------------------------\n",
      "--------------------------\n",
      "Working on LGBT\n",
      "--------------------------\n",
      "--------------------------\n",
      "Reading /Users/annabellepurnomo/git/kokkai_analysis/data_prepping/params/../data/data_repr/自民/若宮健嗣/LGBT/1.json\n",
      "--------------------------\n"
     ]
    },
    {
     "name": "stderr",
     "output_type": "stream",
     "text": [
      "Batches: 100%|██████████| 1/1 [00:01<00:00,  1.15s/it]\n"
     ]
    },
    {
     "name": "stdout",
     "output_type": "stream",
     "text": [
      "--------------------------\n",
      "Number of dates 4\n",
      "Number of opinions 4 \n",
      "Number of embeddings 4\n",
      "--------------------------\n",
      "--------------------------\n",
      "自民 ----- 田野瀬太道\n",
      "--------------------------\n",
      "--------------------------\n",
      "Working on 少子化\n",
      "--------------------------\n",
      "--------------------------\n",
      "Reading /Users/annabellepurnomo/git/kokkai_analysis/data_prepping/params/../data/data_repr/自民/田野瀬太道/少子化/1.json\n",
      "--------------------------\n"
     ]
    },
    {
     "name": "stderr",
     "output_type": "stream",
     "text": [
      "Batches: 100%|██████████| 1/1 [00:06<00:00,  6.70s/it]\n"
     ]
    },
    {
     "name": "stdout",
     "output_type": "stream",
     "text": [
      "--------------------------\n",
      "Number of dates 14\n",
      "Number of opinions 14 \n",
      "Number of embeddings 14\n",
      "--------------------------\n",
      "--------------------------\n",
      "自民 ----- 稲田朋美\n",
      "--------------------------\n",
      "--------------------------\n",
      "Working on 少子化\n",
      "--------------------------\n",
      "--------------------------\n",
      "Reading /Users/annabellepurnomo/git/kokkai_analysis/data_prepping/params/../data/data_repr/自民/稲田朋美/少子化/1.json\n",
      "--------------------------\n"
     ]
    },
    {
     "name": "stderr",
     "output_type": "stream",
     "text": [
      "Batches: 100%|██████████| 1/1 [00:01<00:00,  1.24s/it]\n"
     ]
    },
    {
     "name": "stdout",
     "output_type": "stream",
     "text": [
      "--------------------------\n",
      "Number of dates 3\n",
      "Number of opinions 3 \n",
      "Number of embeddings 3\n",
      "--------------------------\n",
      "--------------------------\n",
      "Working on LGBT\n",
      "--------------------------\n",
      "--------------------------\n",
      "Reading /Users/annabellepurnomo/git/kokkai_analysis/data_prepping/params/../data/data_repr/自民/稲田朋美/LGBT/1.json\n",
      "--------------------------\n"
     ]
    },
    {
     "name": "stderr",
     "output_type": "stream",
     "text": [
      "Batches: 100%|██████████| 2/2 [00:21<00:00, 10.71s/it]\n"
     ]
    },
    {
     "name": "stdout",
     "output_type": "stream",
     "text": [
      "--------------------------\n",
      "Number of dates 59\n",
      "Number of opinions 59 \n",
      "Number of embeddings 59\n",
      "--------------------------\n",
      "--------------------------\n",
      "自民 ----- 務台俊介\n",
      "--------------------------\n",
      "--------------------------\n",
      "Working on 少子化\n",
      "--------------------------\n",
      "--------------------------\n",
      "Reading /Users/annabellepurnomo/git/kokkai_analysis/data_prepping/params/../data/data_repr/自民/務台俊介/少子化/1.json\n",
      "--------------------------\n"
     ]
    },
    {
     "name": "stderr",
     "output_type": "stream",
     "text": [
      "Batches: 100%|██████████| 1/1 [00:09<00:00,  9.18s/it]\n"
     ]
    },
    {
     "name": "stdout",
     "output_type": "stream",
     "text": [
      "--------------------------\n",
      "Number of dates 31\n",
      "Number of opinions 31 \n",
      "Number of embeddings 31\n",
      "--------------------------\n",
      "--------------------------\n",
      "自民 ----- 門山宏哲\n",
      "--------------------------\n",
      "--------------------------\n",
      "Working on 少子化\n",
      "--------------------------\n",
      "--------------------------\n",
      "Reading /Users/annabellepurnomo/git/kokkai_analysis/data_prepping/params/../data/data_repr/自民/門山宏哲/少子化/1.json\n",
      "--------------------------\n"
     ]
    },
    {
     "name": "stderr",
     "output_type": "stream",
     "text": [
      "Batches: 100%|██████████| 1/1 [00:00<00:00,  1.11it/s]\n"
     ]
    },
    {
     "name": "stdout",
     "output_type": "stream",
     "text": [
      "--------------------------\n",
      "Number of dates 2\n",
      "Number of opinions 2 \n",
      "Number of embeddings 2\n",
      "--------------------------\n",
      "--------------------------\n",
      "自民 ----- 岩田和親\n",
      "--------------------------\n",
      "--------------------------\n",
      "自民 ----- 木原誠二\n",
      "--------------------------\n",
      "--------------------------\n",
      "Working on 少子化\n",
      "--------------------------\n",
      "--------------------------\n",
      "Reading /Users/annabellepurnomo/git/kokkai_analysis/data_prepping/params/../data/data_repr/自民/木原誠二/少子化/1.json\n",
      "--------------------------\n"
     ]
    },
    {
     "name": "stderr",
     "output_type": "stream",
     "text": [
      "Batches: 100%|██████████| 1/1 [00:10<00:00, 10.25s/it]\n"
     ]
    },
    {
     "name": "stdout",
     "output_type": "stream",
     "text": [
      "--------------------------\n",
      "Number of dates 18\n",
      "Number of opinions 18 \n",
      "Number of embeddings 18\n",
      "--------------------------\n",
      "--------------------------\n",
      "自民 ----- 田所嘉徳\n",
      "--------------------------\n",
      "--------------------------\n",
      "Working on 少子化\n",
      "--------------------------\n",
      "--------------------------\n",
      "Reading /Users/annabellepurnomo/git/kokkai_analysis/data_prepping/params/../data/data_repr/自民/田所嘉徳/少子化/1.json\n",
      "--------------------------\n"
     ]
    },
    {
     "name": "stderr",
     "output_type": "stream",
     "text": [
      "Batches: 100%|██████████| 1/1 [00:01<00:00,  1.66s/it]\n"
     ]
    },
    {
     "name": "stdout",
     "output_type": "stream",
     "text": [
      "--------------------------\n",
      "Number of dates 4\n",
      "Number of opinions 4 \n",
      "Number of embeddings 4\n",
      "--------------------------\n",
      "--------------------------\n",
      "自民 ----- 深澤陽一\n",
      "--------------------------\n",
      "--------------------------\n",
      "Working on 少子化\n",
      "--------------------------\n",
      "--------------------------\n",
      "Reading /Users/annabellepurnomo/git/kokkai_analysis/data_prepping/params/../data/data_repr/自民/深澤陽一/少子化/1.json\n",
      "--------------------------\n"
     ]
    },
    {
     "name": "stderr",
     "output_type": "stream",
     "text": [
      "Batches: 100%|██████████| 1/1 [00:04<00:00,  4.53s/it]\n"
     ]
    },
    {
     "name": "stdout",
     "output_type": "stream",
     "text": [
      "--------------------------\n",
      "Number of dates 8\n",
      "Number of opinions 8 \n",
      "Number of embeddings 8\n",
      "--------------------------\n",
      "--------------------------\n",
      "自民 ----- 武部新\n",
      "--------------------------\n",
      "--------------------------\n",
      "自民 ----- 坂井学\n",
      "--------------------------\n",
      "--------------------------\n",
      "自民 ----- 赤澤亮正\n",
      "--------------------------\n",
      "--------------------------\n",
      "Working on 少子化\n",
      "--------------------------\n",
      "--------------------------\n",
      "Reading /Users/annabellepurnomo/git/kokkai_analysis/data_prepping/params/../data/data_repr/自民/赤澤亮正/少子化/1.json\n",
      "--------------------------\n"
     ]
    },
    {
     "name": "stderr",
     "output_type": "stream",
     "text": [
      "Batches: 100%|██████████| 2/2 [00:40<00:00, 20.28s/it]\n"
     ]
    },
    {
     "name": "stdout",
     "output_type": "stream",
     "text": [
      "--------------------------\n",
      "Number of dates 63\n",
      "Number of opinions 63 \n",
      "Number of embeddings 63\n",
      "--------------------------\n",
      "--------------------------\n",
      "Working on LGBT\n",
      "--------------------------\n",
      "--------------------------\n",
      "Reading /Users/annabellepurnomo/git/kokkai_analysis/data_prepping/params/../data/data_repr/自民/赤澤亮正/LGBT/1.json\n",
      "--------------------------\n"
     ]
    },
    {
     "name": "stderr",
     "output_type": "stream",
     "text": [
      "Batches: 100%|██████████| 1/1 [00:01<00:00,  1.28s/it]\n"
     ]
    },
    {
     "name": "stdout",
     "output_type": "stream",
     "text": [
      "--------------------------\n",
      "Number of dates 3\n",
      "Number of opinions 3 \n",
      "Number of embeddings 3\n",
      "--------------------------\n",
      "--------------------------\n",
      "自民 ----- 山口晋\n",
      "--------------------------\n",
      "--------------------------\n",
      "自民 ----- 武田良太\n",
      "--------------------------\n",
      "--------------------------\n",
      "Working on 少子化\n",
      "--------------------------\n",
      "--------------------------\n",
      "Reading /Users/annabellepurnomo/git/kokkai_analysis/data_prepping/params/../data/data_repr/自民/武田良太/少子化/1.json\n",
      "--------------------------\n"
     ]
    },
    {
     "name": "stderr",
     "output_type": "stream",
     "text": [
      "Batches: 100%|██████████| 1/1 [00:03<00:00,  3.42s/it]\n"
     ]
    },
    {
     "name": "stdout",
     "output_type": "stream",
     "text": [
      "--------------------------\n",
      "Number of dates 5\n",
      "Number of opinions 5 \n",
      "Number of embeddings 5\n",
      "--------------------------\n",
      "--------------------------\n",
      "自民 ----- 中村裕之\n",
      "--------------------------\n",
      "--------------------------\n",
      "Working on 少子化\n",
      "--------------------------\n",
      "--------------------------\n",
      "Reading /Users/annabellepurnomo/git/kokkai_analysis/data_prepping/params/../data/data_repr/自民/中村裕之/少子化/1.json\n",
      "--------------------------\n"
     ]
    },
    {
     "name": "stderr",
     "output_type": "stream",
     "text": [
      "Batches: 100%|██████████| 1/1 [00:08<00:00,  8.78s/it]\n"
     ]
    },
    {
     "name": "stdout",
     "output_type": "stream",
     "text": [
      "--------------------------\n",
      "Number of dates 18\n",
      "Number of opinions 18 \n",
      "Number of embeddings 18\n",
      "--------------------------\n",
      "--------------------------\n",
      "自民 ----- 牧原秀樹\n",
      "--------------------------\n",
      "--------------------------\n",
      "Working on 少子化\n",
      "--------------------------\n",
      "--------------------------\n",
      "Reading /Users/annabellepurnomo/git/kokkai_analysis/data_prepping/params/../data/data_repr/自民/牧原秀樹/少子化/1.json\n",
      "--------------------------\n"
     ]
    },
    {
     "name": "stderr",
     "output_type": "stream",
     "text": [
      "Batches: 100%|██████████| 2/2 [00:20<00:00, 10.29s/it]\n"
     ]
    },
    {
     "name": "stdout",
     "output_type": "stream",
     "text": [
      "--------------------------\n",
      "Number of dates 55\n",
      "Number of opinions 55 \n",
      "Number of embeddings 55\n",
      "--------------------------\n",
      "--------------------------\n",
      "自民 ----- 工藤彰三\n",
      "--------------------------\n",
      "--------------------------\n",
      "Working on 少子化\n",
      "--------------------------\n",
      "--------------------------\n",
      "Reading /Users/annabellepurnomo/git/kokkai_analysis/data_prepping/params/../data/data_repr/自民/工藤彰三/少子化/1.json\n",
      "--------------------------\n"
     ]
    },
    {
     "name": "stderr",
     "output_type": "stream",
     "text": [
      "Batches: 100%|██████████| 1/1 [00:03<00:00,  3.60s/it]\n"
     ]
    },
    {
     "name": "stdout",
     "output_type": "stream",
     "text": [
      "--------------------------\n",
      "Number of dates 5\n",
      "Number of opinions 5 \n",
      "Number of embeddings 5\n",
      "--------------------------\n",
      "--------------------------\n",
      "自民 ----- 保岡宏武\n",
      "--------------------------\n",
      "--------------------------\n",
      "Working on 少子化\n",
      "--------------------------\n",
      "--------------------------\n",
      "Reading /Users/annabellepurnomo/git/kokkai_analysis/data_prepping/params/../data/data_repr/自民/保岡宏武/少子化/1.json\n",
      "--------------------------\n"
     ]
    },
    {
     "name": "stderr",
     "output_type": "stream",
     "text": [
      "Batches: 100%|██████████| 1/1 [00:16<00:00, 16.49s/it]\n"
     ]
    },
    {
     "name": "stdout",
     "output_type": "stream",
     "text": [
      "--------------------------\n",
      "Number of dates 22\n",
      "Number of opinions 22 \n",
      "Number of embeddings 22\n",
      "--------------------------\n",
      "--------------------------\n",
      "自民 ----- 武藤容治\n",
      "--------------------------\n",
      "--------------------------\n",
      "Working on 少子化\n",
      "--------------------------\n",
      "--------------------------\n",
      "Reading /Users/annabellepurnomo/git/kokkai_analysis/data_prepping/params/../data/data_repr/自民/武藤容治/少子化/1.json\n",
      "--------------------------\n"
     ]
    },
    {
     "name": "stderr",
     "output_type": "stream",
     "text": [
      "Batches: 100%|██████████| 1/1 [00:03<00:00,  3.72s/it]\n"
     ]
    },
    {
     "name": "stdout",
     "output_type": "stream",
     "text": [
      "--------------------------\n",
      "Number of dates 8\n",
      "Number of opinions 8 \n",
      "Number of embeddings 8\n",
      "--------------------------\n",
      "--------------------------\n",
      "自民 ----- 越智隆雄\n",
      "--------------------------\n",
      "--------------------------\n",
      "Working on 少子化\n",
      "--------------------------\n",
      "--------------------------\n",
      "Reading /Users/annabellepurnomo/git/kokkai_analysis/data_prepping/params/../data/data_repr/自民/越智隆雄/少子化/1.json\n",
      "--------------------------\n"
     ]
    },
    {
     "name": "stderr",
     "output_type": "stream",
     "text": [
      "Batches: 100%|██████████| 1/1 [00:19<00:00, 19.66s/it]\n"
     ]
    },
    {
     "name": "stdout",
     "output_type": "stream",
     "text": [
      "--------------------------\n",
      "Number of dates 30\n",
      "Number of opinions 30 \n",
      "Number of embeddings 30\n",
      "--------------------------\n",
      "--------------------------\n",
      "自民 ----- 河野太郎\n",
      "--------------------------\n",
      "--------------------------\n",
      "Working on 少子化\n",
      "--------------------------\n",
      "--------------------------\n",
      "Reading /Users/annabellepurnomo/git/kokkai_analysis/data_prepping/params/../data/data_repr/自民/河野太郎/少子化/1.json\n",
      "--------------------------\n"
     ]
    },
    {
     "name": "stderr",
     "output_type": "stream",
     "text": [
      "Batches: 100%|██████████| 1/1 [00:16<00:00, 16.88s/it]\n"
     ]
    },
    {
     "name": "stdout",
     "output_type": "stream",
     "text": [
      "--------------------------\n",
      "Number of dates 30\n",
      "Number of opinions 30 \n",
      "Number of embeddings 30\n",
      "--------------------------\n",
      "--------------------------\n",
      "Working on LGBT\n",
      "--------------------------\n",
      "--------------------------\n",
      "Reading /Users/annabellepurnomo/git/kokkai_analysis/data_prepping/params/../data/data_repr/自民/河野太郎/LGBT/1.json\n",
      "--------------------------\n"
     ]
    },
    {
     "name": "stderr",
     "output_type": "stream",
     "text": [
      "Batches: 100%|██████████| 1/1 [00:02<00:00,  2.74s/it]\n"
     ]
    },
    {
     "name": "stdout",
     "output_type": "stream",
     "text": [
      "--------------------------\n",
      "Number of dates 9\n",
      "Number of opinions 9 \n",
      "Number of embeddings 9\n",
      "--------------------------\n",
      "--------------------------\n",
      "自民 ----- 西銘恒三郎\n",
      "--------------------------\n",
      "--------------------------\n",
      "自民 ----- 大塚拓\n",
      "--------------------------\n",
      "--------------------------\n",
      "Working on 少子化\n",
      "--------------------------\n",
      "--------------------------\n",
      "Reading /Users/annabellepurnomo/git/kokkai_analysis/data_prepping/params/../data/data_repr/自民/大塚拓/少子化/1.json\n",
      "--------------------------\n"
     ]
    },
    {
     "name": "stderr",
     "output_type": "stream",
     "text": [
      "Batches: 100%|██████████| 1/1 [00:01<00:00,  1.44s/it]\n"
     ]
    },
    {
     "name": "stdout",
     "output_type": "stream",
     "text": [
      "--------------------------\n",
      "Number of dates 2\n",
      "Number of opinions 2 \n",
      "Number of embeddings 2\n",
      "--------------------------\n",
      "--------------------------\n",
      "自民 ----- 橋本岳\n",
      "--------------------------\n",
      "--------------------------\n",
      "Working on 少子化\n",
      "--------------------------\n",
      "--------------------------\n",
      "Reading /Users/annabellepurnomo/git/kokkai_analysis/data_prepping/params/../data/data_repr/自民/橋本岳/少子化/1.json\n",
      "--------------------------\n"
     ]
    },
    {
     "name": "stderr",
     "output_type": "stream",
     "text": [
      "Batches: 100%|██████████| 1/1 [00:20<00:00, 20.94s/it]\n"
     ]
    },
    {
     "name": "stdout",
     "output_type": "stream",
     "text": [
      "--------------------------\n",
      "Number of dates 25\n",
      "Number of opinions 25 \n",
      "Number of embeddings 25\n",
      "--------------------------\n",
      "--------------------------\n",
      "Working on LGBT\n",
      "--------------------------\n",
      "--------------------------\n",
      "Reading /Users/annabellepurnomo/git/kokkai_analysis/data_prepping/params/../data/data_repr/自民/橋本岳/LGBT/1.json\n",
      "--------------------------\n"
     ]
    },
    {
     "name": "stderr",
     "output_type": "stream",
     "text": [
      "Batches: 100%|██████████| 1/1 [00:05<00:00,  5.75s/it]\n"
     ]
    },
    {
     "name": "stdout",
     "output_type": "stream",
     "text": [
      "--------------------------\n",
      "Number of dates 11\n",
      "Number of opinions 11 \n",
      "Number of embeddings 11\n",
      "--------------------------\n",
      "--------------------------\n",
      "自民 ----- 黄川田仁志\n",
      "--------------------------\n",
      "--------------------------\n",
      "Working on 少子化\n",
      "--------------------------\n",
      "--------------------------\n",
      "Reading /Users/annabellepurnomo/git/kokkai_analysis/data_prepping/params/../data/data_repr/自民/黄川田仁志/少子化/1.json\n",
      "--------------------------\n"
     ]
    },
    {
     "name": "stderr",
     "output_type": "stream",
     "text": [
      "Batches: 100%|██████████| 1/1 [00:00<00:00,  1.05it/s]\n"
     ]
    },
    {
     "name": "stdout",
     "output_type": "stream",
     "text": [
      "--------------------------\n",
      "Number of dates 2\n",
      "Number of opinions 2 \n",
      "Number of embeddings 2\n",
      "--------------------------\n",
      "--------------------------\n",
      "自民 ----- 小里泰弘\n",
      "--------------------------\n",
      "--------------------------\n",
      "自民 ----- 尾身朝子\n",
      "--------------------------\n",
      "--------------------------\n",
      "Working on 少子化\n",
      "--------------------------\n",
      "--------------------------\n",
      "Reading /Users/annabellepurnomo/git/kokkai_analysis/data_prepping/params/../data/data_repr/自民/尾身朝子/少子化/1.json\n",
      "--------------------------\n"
     ]
    },
    {
     "name": "stderr",
     "output_type": "stream",
     "text": [
      "Batches: 100%|██████████| 1/1 [00:02<00:00,  2.46s/it]\n"
     ]
    },
    {
     "name": "stdout",
     "output_type": "stream",
     "text": [
      "--------------------------\n",
      "Number of dates 6\n",
      "Number of opinions 6 \n",
      "Number of embeddings 6\n",
      "--------------------------\n",
      "--------------------------\n",
      "自民 ----- 古川直季\n",
      "--------------------------\n",
      "--------------------------\n",
      "Working on 少子化\n",
      "--------------------------\n",
      "--------------------------\n",
      "Reading /Users/annabellepurnomo/git/kokkai_analysis/data_prepping/params/../data/data_repr/自民/古川直季/少子化/1.json\n",
      "--------------------------\n"
     ]
    },
    {
     "name": "stderr",
     "output_type": "stream",
     "text": [
      "Batches: 100%|██████████| 1/1 [00:00<00:00,  1.15it/s]\n"
     ]
    },
    {
     "name": "stdout",
     "output_type": "stream",
     "text": [
      "--------------------------\n",
      "Number of dates 2\n",
      "Number of opinions 2 \n",
      "Number of embeddings 2\n",
      "--------------------------\n",
      "--------------------------\n",
      "自民 ----- 本田太郎\n",
      "--------------------------\n",
      "--------------------------\n",
      "自民 ----- 森英介\n",
      "--------------------------\n",
      "--------------------------\n",
      "Working on 少子化\n",
      "--------------------------\n",
      "--------------------------\n",
      "Reading /Users/annabellepurnomo/git/kokkai_analysis/data_prepping/params/../data/data_repr/自民/森英介/少子化/1.json\n",
      "--------------------------\n"
     ]
    },
    {
     "name": "stderr",
     "output_type": "stream",
     "text": [
      "Batches: 100%|██████████| 1/1 [00:14<00:00, 14.99s/it]\n"
     ]
    },
    {
     "name": "stdout",
     "output_type": "stream",
     "text": [
      "--------------------------\n",
      "Number of dates 20\n",
      "Number of opinions 20 \n",
      "Number of embeddings 20\n",
      "--------------------------\n",
      "--------------------------\n",
      "自民 ----- 渡海紀三朗\n",
      "--------------------------\n",
      "--------------------------\n",
      "Working on 少子化\n",
      "--------------------------\n",
      "--------------------------\n",
      "Reading /Users/annabellepurnomo/git/kokkai_analysis/data_prepping/params/../data/data_repr/自民/渡海紀三朗/少子化/1.json\n",
      "--------------------------\n"
     ]
    },
    {
     "name": "stderr",
     "output_type": "stream",
     "text": [
      "Batches: 100%|██████████| 1/1 [00:09<00:00,  9.82s/it]\n"
     ]
    },
    {
     "name": "stdout",
     "output_type": "stream",
     "text": [
      "--------------------------\n",
      "Number of dates 15\n",
      "Number of opinions 15 \n",
      "Number of embeddings 15\n",
      "--------------------------\n",
      "--------------------------\n",
      "自民 ----- 鈴木貴子\n",
      "--------------------------\n",
      "--------------------------\n",
      "Working on 少子化\n",
      "--------------------------\n",
      "--------------------------\n",
      "Reading /Users/annabellepurnomo/git/kokkai_analysis/data_prepping/params/../data/data_repr/自民/鈴木貴子/少子化/1.json\n",
      "--------------------------\n"
     ]
    },
    {
     "name": "stderr",
     "output_type": "stream",
     "text": [
      "Batches: 100%|██████████| 1/1 [00:01<00:00,  1.15s/it]\n"
     ]
    },
    {
     "name": "stdout",
     "output_type": "stream",
     "text": [
      "--------------------------\n",
      "Number of dates 3\n",
      "Number of opinions 3 \n",
      "Number of embeddings 3\n",
      "--------------------------\n",
      "--------------------------\n",
      "自民 ----- 平将明\n",
      "--------------------------\n",
      "--------------------------\n",
      "自民 ----- 丹羽秀樹\n",
      "--------------------------\n",
      "--------------------------\n",
      "Working on 少子化\n",
      "--------------------------\n",
      "--------------------------\n",
      "Reading /Users/annabellepurnomo/git/kokkai_analysis/data_prepping/params/../data/data_repr/自民/丹羽秀樹/少子化/1.json\n",
      "--------------------------\n"
     ]
    },
    {
     "name": "stderr",
     "output_type": "stream",
     "text": [
      "Batches: 100%|██████████| 1/1 [00:09<00:00,  9.86s/it]\n"
     ]
    },
    {
     "name": "stdout",
     "output_type": "stream",
     "text": [
      "--------------------------\n",
      "Number of dates 22\n",
      "Number of opinions 22 \n",
      "Number of embeddings 22\n",
      "--------------------------\n",
      "--------------------------\n",
      "Working on LGBT\n",
      "--------------------------\n",
      "--------------------------\n",
      "Reading /Users/annabellepurnomo/git/kokkai_analysis/data_prepping/params/../data/data_repr/自民/丹羽秀樹/LGBT/1.json\n",
      "--------------------------\n"
     ]
    },
    {
     "name": "stderr",
     "output_type": "stream",
     "text": [
      "Batches: 100%|██████████| 1/1 [00:00<00:00,  3.27it/s]\n"
     ]
    },
    {
     "name": "stdout",
     "output_type": "stream",
     "text": [
      "--------------------------\n",
      "Number of dates 1\n",
      "Number of opinions 1 \n",
      "Number of embeddings 1\n",
      "--------------------------\n",
      "--------------------------\n",
      "自民 ----- 中谷元\n",
      "--------------------------\n",
      "--------------------------\n",
      "Working on 少子化\n",
      "--------------------------\n",
      "--------------------------\n",
      "Reading /Users/annabellepurnomo/git/kokkai_analysis/data_prepping/params/../data/data_repr/自民/中谷元/少子化/1.json\n",
      "--------------------------\n"
     ]
    },
    {
     "name": "stderr",
     "output_type": "stream",
     "text": [
      "Batches: 100%|██████████| 1/1 [00:05<00:00,  5.94s/it]\n"
     ]
    },
    {
     "name": "stdout",
     "output_type": "stream",
     "text": [
      "--------------------------\n",
      "Number of dates 11\n",
      "Number of opinions 11 \n",
      "Number of embeddings 11\n",
      "--------------------------\n",
      "--------------------------\n",
      "自民 ----- 鈴木馨祐\n",
      "--------------------------\n",
      "--------------------------\n",
      "自民 ----- 萩生田光一\n",
      "--------------------------\n",
      "--------------------------\n",
      "Working on 少子化\n",
      "--------------------------\n",
      "--------------------------\n",
      "Reading /Users/annabellepurnomo/git/kokkai_analysis/data_prepping/params/../data/data_repr/自民/萩生田光一/少子化/1.json\n",
      "--------------------------\n"
     ]
    },
    {
     "name": "stderr",
     "output_type": "stream",
     "text": [
      "Batches: 100%|██████████| 3/3 [00:35<00:00, 11.86s/it]\n"
     ]
    },
    {
     "name": "stdout",
     "output_type": "stream",
     "text": [
      "--------------------------\n",
      "Number of dates 96\n",
      "Number of opinions 96 \n",
      "Number of embeddings 96\n",
      "--------------------------\n",
      "--------------------------\n",
      "自民 ----- 山本ともひろ\n",
      "--------------------------\n",
      "--------------------------\n",
      "自民 ----- 福田達夫\n",
      "--------------------------\n",
      "--------------------------\n",
      "Working on 少子化\n",
      "--------------------------\n",
      "--------------------------\n",
      "Reading /Users/annabellepurnomo/git/kokkai_analysis/data_prepping/params/../data/data_repr/自民/福田達夫/少子化/1.json\n",
      "--------------------------\n"
     ]
    },
    {
     "name": "stderr",
     "output_type": "stream",
     "text": [
      "Batches: 100%|██████████| 1/1 [00:03<00:00,  3.09s/it]\n"
     ]
    },
    {
     "name": "stdout",
     "output_type": "stream",
     "text": [
      "--------------------------\n",
      "Number of dates 9\n",
      "Number of opinions 9 \n",
      "Number of embeddings 9\n",
      "--------------------------\n",
      "--------------------------\n",
      "自民 ----- 江藤拓\n",
      "--------------------------\n",
      "--------------------------\n",
      "Working on 少子化\n",
      "--------------------------\n",
      "--------------------------\n",
      "Reading /Users/annabellepurnomo/git/kokkai_analysis/data_prepping/params/../data/data_repr/自民/江藤拓/少子化/1.json\n",
      "--------------------------\n"
     ]
    },
    {
     "name": "stderr",
     "output_type": "stream",
     "text": [
      "Batches: 100%|██████████| 1/1 [00:07<00:00,  7.63s/it]\n"
     ]
    },
    {
     "name": "stdout",
     "output_type": "stream",
     "text": [
      "--------------------------\n",
      "Number of dates 21\n",
      "Number of opinions 21 \n",
      "Number of embeddings 21\n",
      "--------------------------\n",
      "--------------------------\n",
      "自民 ----- 亀岡偉民\n",
      "--------------------------\n",
      "--------------------------\n",
      "Working on 少子化\n",
      "--------------------------\n",
      "--------------------------\n",
      "Reading /Users/annabellepurnomo/git/kokkai_analysis/data_prepping/params/../data/data_repr/自民/亀岡偉民/少子化/1.json\n",
      "--------------------------\n"
     ]
    },
    {
     "name": "stderr",
     "output_type": "stream",
     "text": [
      "Batches: 100%|██████████| 1/1 [00:00<00:00,  3.98it/s]\n"
     ]
    },
    {
     "name": "stdout",
     "output_type": "stream",
     "text": [
      "--------------------------\n",
      "Number of dates 1\n",
      "Number of opinions 1 \n",
      "Number of embeddings 1\n",
      "--------------------------\n",
      "--------------------------\n",
      "自民 ----- 辻清人\n",
      "--------------------------\n",
      "--------------------------\n",
      "自民 ----- 井原巧\n",
      "--------------------------\n",
      "--------------------------\n",
      "Working on 少子化\n",
      "--------------------------\n",
      "--------------------------\n",
      "Reading /Users/annabellepurnomo/git/kokkai_analysis/data_prepping/params/../data/data_repr/自民/井原巧/少子化/1.json\n",
      "--------------------------\n"
     ]
    },
    {
     "name": "stderr",
     "output_type": "stream",
     "text": [
      "Batches: 100%|██████████| 1/1 [00:05<00:00,  5.37s/it]\n"
     ]
    },
    {
     "name": "stdout",
     "output_type": "stream",
     "text": [
      "--------------------------\n",
      "Number of dates 11\n",
      "Number of opinions 11 \n",
      "Number of embeddings 11\n",
      "--------------------------\n",
      "--------------------------\n",
      "自民 ----- 小林史明\n",
      "--------------------------\n",
      "--------------------------\n",
      "自民 ----- 衛藤征士郎\n",
      "--------------------------\n",
      "--------------------------\n",
      "自民 ----- 秋本真利\n",
      "--------------------------\n",
      "--------------------------\n",
      "自民 ----- 城内実\n",
      "--------------------------\n",
      "--------------------------\n",
      "自民 ----- 岸田文雄\n",
      "--------------------------\n",
      "--------------------------\n",
      "Working on 少子化\n",
      "--------------------------\n",
      "--------------------------\n",
      "Reading /Users/annabellepurnomo/git/kokkai_analysis/data_prepping/params/../data/data_repr/自民/岸田文雄/少子化/1.json\n",
      "--------------------------\n",
      "--------------------------\n",
      "Reading /Users/annabellepurnomo/git/kokkai_analysis/data_prepping/params/../data/data_repr/自民/岸田文雄/少子化/2.json\n",
      "--------------------------\n",
      "--------------------------\n",
      "Reading /Users/annabellepurnomo/git/kokkai_analysis/data_prepping/params/../data/data_repr/自民/岸田文雄/少子化/3.json\n",
      "--------------------------\n",
      "--------------------------\n",
      "Reading /Users/annabellepurnomo/git/kokkai_analysis/data_prepping/params/../data/data_repr/自民/岸田文雄/少子化/4.json\n",
      "--------------------------\n"
     ]
    },
    {
     "name": "stderr",
     "output_type": "stream",
     "text": [
      "Batches: 100%|██████████| 51/51 [06:33<00:00,  7.72s/it]\n"
     ]
    },
    {
     "name": "stdout",
     "output_type": "stream",
     "text": [
      "--------------------------\n",
      "Number of dates 1627\n",
      "Number of opinions 1627 \n",
      "Number of embeddings 1627\n",
      "--------------------------\n",
      "--------------------------\n",
      "Working on LGBT\n",
      "--------------------------\n",
      "--------------------------\n",
      "Reading /Users/annabellepurnomo/git/kokkai_analysis/data_prepping/params/../data/data_repr/自民/岸田文雄/LGBT/1.json\n",
      "--------------------------\n"
     ]
    },
    {
     "name": "stderr",
     "output_type": "stream",
     "text": [
      "Batches: 100%|██████████| 2/2 [00:21<00:00, 10.67s/it]\n"
     ]
    },
    {
     "name": "stdout",
     "output_type": "stream",
     "text": [
      "--------------------------\n",
      "Number of dates 38\n",
      "Number of opinions 38 \n",
      "Number of embeddings 38\n",
      "--------------------------\n",
      "--------------------------\n",
      "自民 ----- 松島みどり\n",
      "--------------------------\n",
      "--------------------------\n",
      "Working on 少子化\n",
      "--------------------------\n",
      "--------------------------\n",
      "Reading /Users/annabellepurnomo/git/kokkai_analysis/data_prepping/params/../data/data_repr/自民/松島みどり/少子化/1.json\n",
      "--------------------------\n"
     ]
    },
    {
     "name": "stderr",
     "output_type": "stream",
     "text": [
      "Batches: 100%|██████████| 2/2 [00:25<00:00, 12.69s/it]\n"
     ]
    },
    {
     "name": "stdout",
     "output_type": "stream",
     "text": [
      "--------------------------\n",
      "Number of dates 42\n",
      "Number of opinions 42 \n",
      "Number of embeddings 42\n",
      "--------------------------\n",
      "--------------------------\n",
      "自民 ----- 中川郁子\n",
      "--------------------------\n",
      "--------------------------\n",
      "Working on 少子化\n",
      "--------------------------\n",
      "--------------------------\n",
      "Reading /Users/annabellepurnomo/git/kokkai_analysis/data_prepping/params/../data/data_repr/自民/中川郁子/少子化/1.json\n",
      "--------------------------\n"
     ]
    },
    {
     "name": "stderr",
     "output_type": "stream",
     "text": [
      "Batches: 100%|██████████| 1/1 [00:02<00:00,  2.71s/it]\n"
     ]
    },
    {
     "name": "stdout",
     "output_type": "stream",
     "text": [
      "--------------------------\n",
      "Number of dates 7\n",
      "Number of opinions 7 \n",
      "Number of embeddings 7\n",
      "--------------------------\n",
      "--------------------------\n",
      "自民 ----- 吉野正芳\n",
      "--------------------------\n",
      "--------------------------\n",
      "Working on 少子化\n",
      "--------------------------\n",
      "--------------------------\n",
      "Reading /Users/annabellepurnomo/git/kokkai_analysis/data_prepping/params/../data/data_repr/自民/吉野正芳/少子化/1.json\n",
      "--------------------------\n"
     ]
    },
    {
     "name": "stderr",
     "output_type": "stream",
     "text": [
      "Batches: 100%|██████████| 1/1 [00:01<00:00,  1.45s/it]\n"
     ]
    },
    {
     "name": "stdout",
     "output_type": "stream",
     "text": [
      "--------------------------\n",
      "Number of dates 5\n",
      "Number of opinions 5 \n",
      "Number of embeddings 5\n",
      "--------------------------\n",
      "--------------------------\n",
      "自民 ----- 江崎鐵磨\n",
      "--------------------------\n",
      "--------------------------\n",
      "自民 ----- 新藤義孝\n",
      "--------------------------\n",
      "--------------------------\n",
      "Working on 少子化\n",
      "--------------------------\n",
      "--------------------------\n",
      "Reading /Users/annabellepurnomo/git/kokkai_analysis/data_prepping/params/../data/data_repr/自民/新藤義孝/少子化/1.json\n",
      "--------------------------\n"
     ]
    },
    {
     "name": "stderr",
     "output_type": "stream",
     "text": [
      "Batches: 100%|██████████| 3/3 [00:30<00:00, 10.09s/it]\n"
     ]
    },
    {
     "name": "stdout",
     "output_type": "stream",
     "text": [
      "--------------------------\n",
      "Number of dates 96\n",
      "Number of opinions 96 \n",
      "Number of embeddings 96\n",
      "--------------------------\n",
      "--------------------------\n",
      "Working on LGBT\n",
      "--------------------------\n",
      "--------------------------\n",
      "Reading /Users/annabellepurnomo/git/kokkai_analysis/data_prepping/params/../data/data_repr/自民/新藤義孝/LGBT/1.json\n",
      "--------------------------\n"
     ]
    },
    {
     "name": "stderr",
     "output_type": "stream",
     "text": [
      "Batches: 100%|██████████| 1/1 [00:09<00:00,  9.55s/it]\n"
     ]
    },
    {
     "name": "stdout",
     "output_type": "stream",
     "text": [
      "--------------------------\n",
      "Number of dates 18\n",
      "Number of opinions 18 \n",
      "Number of embeddings 18\n",
      "--------------------------\n",
      "--------------------------\n",
      "自民 ----- 甘利明\n",
      "--------------------------\n",
      "--------------------------\n",
      "Working on 少子化\n",
      "--------------------------\n",
      "--------------------------\n",
      "Reading /Users/annabellepurnomo/git/kokkai_analysis/data_prepping/params/../data/data_repr/自民/甘利明/少子化/1.json\n",
      "--------------------------\n"
     ]
    },
    {
     "name": "stderr",
     "output_type": "stream",
     "text": [
      "Batches: 100%|██████████| 2/2 [00:21<00:00, 10.90s/it]\n"
     ]
    },
    {
     "name": "stdout",
     "output_type": "stream",
     "text": [
      "--------------------------\n",
      "Number of dates 47\n",
      "Number of opinions 47 \n",
      "Number of embeddings 47\n",
      "--------------------------\n",
      "--------------------------\n",
      "自民 ----- 鈴木憲和\n",
      "--------------------------\n",
      "--------------------------\n",
      "自民 ----- 平沼正二郎\n",
      "--------------------------\n",
      "--------------------------\n",
      "Working on 少子化\n",
      "--------------------------\n",
      "--------------------------\n",
      "Reading /Users/annabellepurnomo/git/kokkai_analysis/data_prepping/params/../data/data_repr/自民/平沼正二郎/少子化/1.json\n",
      "--------------------------\n"
     ]
    },
    {
     "name": "stderr",
     "output_type": "stream",
     "text": [
      "Batches: 100%|██████████| 1/1 [00:07<00:00,  7.75s/it]\n"
     ]
    },
    {
     "name": "stdout",
     "output_type": "stream",
     "text": [
      "--------------------------\n",
      "Number of dates 17\n",
      "Number of opinions 17 \n",
      "Number of embeddings 17\n",
      "--------------------------\n",
      "--------------------------\n",
      "自民 ----- 山際大志郎\n",
      "--------------------------\n",
      "--------------------------\n",
      "Working on 少子化\n",
      "--------------------------\n",
      "--------------------------\n",
      "Reading /Users/annabellepurnomo/git/kokkai_analysis/data_prepping/params/../data/data_repr/自民/山際大志郎/少子化/1.json\n",
      "--------------------------\n"
     ]
    },
    {
     "name": "stderr",
     "output_type": "stream",
     "text": [
      "Batches: 100%|██████████| 1/1 [00:08<00:00,  8.63s/it]\n"
     ]
    },
    {
     "name": "stdout",
     "output_type": "stream",
     "text": [
      "--------------------------\n",
      "Number of dates 19\n",
      "Number of opinions 19 \n",
      "Number of embeddings 19\n",
      "--------------------------\n",
      "--------------------------\n",
      "自民 ----- 和田義明\n",
      "--------------------------\n",
      "--------------------------\n",
      "Working on 少子化\n",
      "--------------------------\n",
      "--------------------------\n",
      "Reading /Users/annabellepurnomo/git/kokkai_analysis/data_prepping/params/../data/data_repr/自民/和田義明/少子化/1.json\n",
      "--------------------------\n"
     ]
    },
    {
     "name": "stderr",
     "output_type": "stream",
     "text": [
      "Batches: 100%|██████████| 1/1 [00:18<00:00, 18.91s/it]\n"
     ]
    },
    {
     "name": "stdout",
     "output_type": "stream",
     "text": [
      "--------------------------\n",
      "Number of dates 29\n",
      "Number of opinions 29 \n",
      "Number of embeddings 29\n",
      "--------------------------\n",
      "--------------------------\n",
      "自民 ----- 上杉謙太郎\n",
      "--------------------------\n",
      "--------------------------\n",
      "Working on 少子化\n",
      "--------------------------\n",
      "--------------------------\n",
      "Reading /Users/annabellepurnomo/git/kokkai_analysis/data_prepping/params/../data/data_repr/自民/上杉謙太郎/少子化/1.json\n",
      "--------------------------\n"
     ]
    },
    {
     "name": "stderr",
     "output_type": "stream",
     "text": [
      "Batches: 100%|██████████| 1/1 [00:02<00:00,  2.08s/it]\n"
     ]
    },
    {
     "name": "stdout",
     "output_type": "stream",
     "text": [
      "--------------------------\n",
      "Number of dates 4\n",
      "Number of opinions 4 \n",
      "Number of embeddings 4\n",
      "--------------------------\n",
      "--------------------------\n",
      "自民 ----- 小寺裕雄\n",
      "--------------------------\n",
      "--------------------------\n",
      "Working on 少子化\n",
      "--------------------------\n",
      "--------------------------\n",
      "Reading /Users/annabellepurnomo/git/kokkai_analysis/data_prepping/params/../data/data_repr/自民/小寺裕雄/少子化/1.json\n",
      "--------------------------\n"
     ]
    },
    {
     "name": "stderr",
     "output_type": "stream",
     "text": [
      "Batches: 100%|██████████| 1/1 [00:04<00:00,  4.14s/it]\n"
     ]
    },
    {
     "name": "stdout",
     "output_type": "stream",
     "text": [
      "--------------------------\n",
      "Number of dates 7\n",
      "Number of opinions 7 \n",
      "Number of embeddings 7\n",
      "--------------------------\n",
      "--------------------------\n",
      "自民 ----- 小渕優子\n",
      "--------------------------\n",
      "--------------------------\n",
      "Working on 少子化\n",
      "--------------------------\n",
      "--------------------------\n",
      "Reading /Users/annabellepurnomo/git/kokkai_analysis/data_prepping/params/../data/data_repr/自民/小渕優子/少子化/1.json\n",
      "--------------------------\n",
      "--------------------------\n",
      "Reading /Users/annabellepurnomo/git/kokkai_analysis/data_prepping/params/../data/data_repr/自民/小渕優子/少子化/2.json\n",
      "--------------------------\n"
     ]
    },
    {
     "name": "stderr",
     "output_type": "stream",
     "text": [
      "Batches: 100%|██████████| 12/12 [01:49<00:00,  9.09s/it]\n"
     ]
    },
    {
     "name": "stdout",
     "output_type": "stream",
     "text": [
      "--------------------------\n",
      "Number of dates 360\n",
      "Number of opinions 360 \n",
      "Number of embeddings 360\n",
      "--------------------------\n",
      "--------------------------\n",
      "自民 ----- 津島淳\n",
      "--------------------------\n",
      "--------------------------\n",
      "Working on 少子化\n",
      "--------------------------\n",
      "--------------------------\n",
      "Reading /Users/annabellepurnomo/git/kokkai_analysis/data_prepping/params/../data/data_repr/自民/津島淳/少子化/1.json\n",
      "--------------------------\n"
     ]
    },
    {
     "name": "stderr",
     "output_type": "stream",
     "text": [
      "Batches: 100%|██████████| 1/1 [00:04<00:00,  4.24s/it]\n"
     ]
    },
    {
     "name": "stdout",
     "output_type": "stream",
     "text": [
      "--------------------------\n",
      "Number of dates 8\n",
      "Number of opinions 8 \n",
      "Number of embeddings 8\n",
      "--------------------------\n",
      "--------------------------\n",
      "Working on LGBT\n",
      "--------------------------\n",
      "--------------------------\n",
      "Reading /Users/annabellepurnomo/git/kokkai_analysis/data_prepping/params/../data/data_repr/自民/津島淳/LGBT/1.json\n",
      "--------------------------\n"
     ]
    },
    {
     "name": "stderr",
     "output_type": "stream",
     "text": [
      "Batches: 100%|██████████| 1/1 [00:02<00:00,  2.29s/it]\n"
     ]
    },
    {
     "name": "stdout",
     "output_type": "stream",
     "text": [
      "--------------------------\n",
      "Number of dates 6\n",
      "Number of opinions 6 \n",
      "Number of embeddings 6\n",
      "--------------------------\n",
      "--------------------------\n",
      "自民 ----- 松野博一\n",
      "--------------------------\n",
      "--------------------------\n",
      "Working on 少子化\n",
      "--------------------------\n",
      "--------------------------\n",
      "Reading /Users/annabellepurnomo/git/kokkai_analysis/data_prepping/params/../data/data_repr/自民/松野博一/少子化/1.json\n",
      "--------------------------\n"
     ]
    },
    {
     "name": "stderr",
     "output_type": "stream",
     "text": [
      "Batches: 100%|██████████| 2/2 [00:31<00:00, 15.57s/it]\n"
     ]
    },
    {
     "name": "stdout",
     "output_type": "stream",
     "text": [
      "--------------------------\n",
      "Number of dates 63\n",
      "Number of opinions 63 \n",
      "Number of embeddings 63\n",
      "--------------------------\n",
      "--------------------------\n",
      "Working on LGBT\n",
      "--------------------------\n",
      "--------------------------\n",
      "Reading /Users/annabellepurnomo/git/kokkai_analysis/data_prepping/params/../data/data_repr/自民/松野博一/LGBT/1.json\n",
      "--------------------------\n"
     ]
    },
    {
     "name": "stderr",
     "output_type": "stream",
     "text": [
      "Batches: 100%|██████████| 1/1 [00:02<00:00,  2.44s/it]\n"
     ]
    },
    {
     "name": "stdout",
     "output_type": "stream",
     "text": [
      "--------------------------\n",
      "Number of dates 6\n",
      "Number of opinions 6 \n",
      "Number of embeddings 6\n",
      "--------------------------\n",
      "--------------------------\n",
      "自民 ----- 逢沢一郎\n",
      "--------------------------\n",
      "--------------------------\n",
      "Working on 少子化\n",
      "--------------------------\n",
      "--------------------------\n",
      "Reading /Users/annabellepurnomo/git/kokkai_analysis/data_prepping/params/../data/data_repr/自民/逢沢一郎/少子化/1.json\n",
      "--------------------------\n"
     ]
    },
    {
     "name": "stderr",
     "output_type": "stream",
     "text": [
      "Batches: 100%|██████████| 1/1 [00:04<00:00,  4.97s/it]\n"
     ]
    },
    {
     "name": "stdout",
     "output_type": "stream",
     "text": [
      "--------------------------\n",
      "Number of dates 8\n",
      "Number of opinions 8 \n",
      "Number of embeddings 8\n",
      "--------------------------\n",
      "--------------------------\n",
      "自民 ----- 石田真敏\n",
      "--------------------------\n",
      "--------------------------\n",
      "Working on 少子化\n",
      "--------------------------\n",
      "--------------------------\n",
      "Reading /Users/annabellepurnomo/git/kokkai_analysis/data_prepping/params/../data/data_repr/自民/石田真敏/少子化/1.json\n",
      "--------------------------\n"
     ]
    },
    {
     "name": "stderr",
     "output_type": "stream",
     "text": [
      "Batches: 100%|██████████| 2/2 [00:20<00:00, 10.27s/it]\n"
     ]
    },
    {
     "name": "stdout",
     "output_type": "stream",
     "text": [
      "--------------------------\n",
      "Number of dates 38\n",
      "Number of opinions 38 \n",
      "Number of embeddings 38\n",
      "--------------------------\n",
      "--------------------------\n",
      "自民 ----- 高村正大\n",
      "--------------------------\n",
      "--------------------------\n",
      "Working on 少子化\n",
      "--------------------------\n",
      "--------------------------\n",
      "Reading /Users/annabellepurnomo/git/kokkai_analysis/data_prepping/params/../data/data_repr/自民/高村正大/少子化/1.json\n",
      "--------------------------\n"
     ]
    },
    {
     "name": "stderr",
     "output_type": "stream",
     "text": [
      "Batches: 100%|██████████| 1/1 [00:01<00:00,  1.68s/it]\n"
     ]
    },
    {
     "name": "stdout",
     "output_type": "stream",
     "text": [
      "--------------------------\n",
      "Number of dates 5\n",
      "Number of opinions 5 \n",
      "Number of embeddings 5\n",
      "--------------------------\n",
      "--------------------------\n",
      "自民 ----- 鈴木淳司\n",
      "--------------------------\n",
      "--------------------------\n",
      "自民 ----- 上野賢一郎\n",
      "--------------------------\n",
      "--------------------------\n",
      "Working on 少子化\n",
      "--------------------------\n",
      "--------------------------\n",
      "Reading /Users/annabellepurnomo/git/kokkai_analysis/data_prepping/params/../data/data_repr/自民/上野賢一郎/少子化/1.json\n",
      "--------------------------\n"
     ]
    },
    {
     "name": "stderr",
     "output_type": "stream",
     "text": [
      "Batches: 100%|██████████| 1/1 [00:16<00:00, 16.64s/it]\n"
     ]
    },
    {
     "name": "stdout",
     "output_type": "stream",
     "text": [
      "--------------------------\n",
      "Number of dates 28\n",
      "Number of opinions 28 \n",
      "Number of embeddings 28\n",
      "--------------------------\n",
      "--------------------------\n",
      "自民 ----- 石川昭政\n",
      "--------------------------\n",
      "--------------------------\n",
      "自民 ----- 宗清皇一\n",
      "--------------------------\n",
      "--------------------------\n",
      "Working on 少子化\n",
      "--------------------------\n",
      "--------------------------\n",
      "Reading /Users/annabellepurnomo/git/kokkai_analysis/data_prepping/params/../data/data_repr/自民/宗清皇一/少子化/1.json\n",
      "--------------------------\n"
     ]
    },
    {
     "name": "stderr",
     "output_type": "stream",
     "text": [
      "Batches: 100%|██████████| 2/2 [00:25<00:00, 12.91s/it]\n"
     ]
    },
    {
     "name": "stdout",
     "output_type": "stream",
     "text": [
      "--------------------------\n",
      "Number of dates 43\n",
      "Number of opinions 43 \n",
      "Number of embeddings 43\n",
      "--------------------------\n",
      "--------------------------\n",
      "自民 ----- 櫻田義孝\n",
      "--------------------------\n",
      "--------------------------\n",
      "Working on 少子化\n",
      "--------------------------\n",
      "--------------------------\n",
      "Reading /Users/annabellepurnomo/git/kokkai_analysis/data_prepping/params/../data/data_repr/自民/櫻田義孝/少子化/1.json\n",
      "--------------------------\n"
     ]
    },
    {
     "name": "stderr",
     "output_type": "stream",
     "text": [
      "Batches: 100%|██████████| 1/1 [00:05<00:00,  5.84s/it]\n"
     ]
    },
    {
     "name": "stdout",
     "output_type": "stream",
     "text": [
      "--------------------------\n",
      "Number of dates 9\n",
      "Number of opinions 9 \n",
      "Number of embeddings 9\n",
      "--------------------------\n",
      "--------------------------\n",
      "自民 ----- 鈴木俊一\n",
      "--------------------------\n",
      "--------------------------\n",
      "Working on 少子化\n",
      "--------------------------\n",
      "--------------------------\n",
      "Reading /Users/annabellepurnomo/git/kokkai_analysis/data_prepping/params/../data/data_repr/自民/鈴木俊一/少子化/1.json\n",
      "--------------------------\n"
     ]
    },
    {
     "name": "stderr",
     "output_type": "stream",
     "text": [
      "Batches: 100%|██████████| 4/4 [00:42<00:00, 10.72s/it]\n"
     ]
    },
    {
     "name": "stdout",
     "output_type": "stream",
     "text": [
      "--------------------------\n",
      "Number of dates 115\n",
      "Number of opinions 115 \n",
      "Number of embeddings 115\n",
      "--------------------------\n",
      "--------------------------\n",
      "自民 ----- 茂木敏充\n",
      "--------------------------\n",
      "--------------------------\n",
      "Working on 少子化\n",
      "--------------------------\n",
      "--------------------------\n",
      "Reading /Users/annabellepurnomo/git/kokkai_analysis/data_prepping/params/../data/data_repr/自民/茂木敏充/少子化/1.json\n",
      "--------------------------\n"
     ]
    },
    {
     "name": "stderr",
     "output_type": "stream",
     "text": [
      "Batches: 100%|██████████| 4/4 [00:44<00:00, 11.20s/it]\n"
     ]
    },
    {
     "name": "stdout",
     "output_type": "stream",
     "text": [
      "--------------------------\n",
      "Number of dates 119\n",
      "Number of opinions 119 \n",
      "Number of embeddings 119\n",
      "--------------------------\n",
      "--------------------------\n",
      "自民 ----- 永岡桂子\n",
      "--------------------------\n",
      "--------------------------\n",
      "Working on 少子化\n",
      "--------------------------\n",
      "--------------------------\n",
      "Reading /Users/annabellepurnomo/git/kokkai_analysis/data_prepping/params/../data/data_repr/自民/永岡桂子/少子化/1.json\n",
      "--------------------------\n"
     ]
    },
    {
     "name": "stderr",
     "output_type": "stream",
     "text": [
      "Batches: 100%|██████████| 4/4 [00:35<00:00,  8.97s/it]\n"
     ]
    },
    {
     "name": "stdout",
     "output_type": "stream",
     "text": [
      "--------------------------\n",
      "Number of dates 108\n",
      "Number of opinions 108 \n",
      "Number of embeddings 108\n",
      "--------------------------\n",
      "--------------------------\n",
      "Working on LGBT\n",
      "--------------------------\n",
      "--------------------------\n",
      "Reading /Users/annabellepurnomo/git/kokkai_analysis/data_prepping/params/../data/data_repr/自民/永岡桂子/LGBT/1.json\n",
      "--------------------------\n"
     ]
    },
    {
     "name": "stderr",
     "output_type": "stream",
     "text": [
      "Batches: 100%|██████████| 1/1 [00:06<00:00,  6.20s/it]\n"
     ]
    },
    {
     "name": "stdout",
     "output_type": "stream",
     "text": [
      "--------------------------\n",
      "Number of dates 11\n",
      "Number of opinions 11 \n",
      "Number of embeddings 11\n",
      "--------------------------\n",
      "--------------------------\n",
      "自民 ----- 鈴木英敬\n",
      "--------------------------\n",
      "--------------------------\n",
      "自民 ----- 堀内詔子\n",
      "--------------------------\n",
      "--------------------------\n",
      "Working on 少子化\n",
      "--------------------------\n",
      "--------------------------\n",
      "Reading /Users/annabellepurnomo/git/kokkai_analysis/data_prepping/params/../data/data_repr/自民/堀内詔子/少子化/1.json\n",
      "--------------------------\n"
     ]
    },
    {
     "name": "stderr",
     "output_type": "stream",
     "text": [
      "Batches: 100%|██████████| 2/2 [00:11<00:00,  5.62s/it]\n"
     ]
    },
    {
     "name": "stdout",
     "output_type": "stream",
     "text": [
      "--------------------------\n",
      "Number of dates 35\n",
      "Number of opinions 35 \n",
      "Number of embeddings 35\n",
      "--------------------------\n",
      "--------------------------\n",
      "自民 ----- 盛山正仁\n",
      "--------------------------\n",
      "--------------------------\n",
      "Working on 少子化\n",
      "--------------------------\n",
      "--------------------------\n",
      "Reading /Users/annabellepurnomo/git/kokkai_analysis/data_prepping/params/../data/data_repr/自民/盛山正仁/少子化/1.json\n",
      "--------------------------\n"
     ]
    },
    {
     "name": "stderr",
     "output_type": "stream",
     "text": [
      "Batches: 100%|██████████| 1/1 [00:09<00:00,  9.05s/it]\n"
     ]
    },
    {
     "name": "stdout",
     "output_type": "stream",
     "text": [
      "--------------------------\n",
      "Number of dates 18\n",
      "Number of opinions 18 \n",
      "Number of embeddings 18\n",
      "--------------------------\n",
      "--------------------------\n",
      "自民 ----- 佐藤勉\n",
      "--------------------------\n",
      "--------------------------\n",
      "Working on 少子化\n",
      "--------------------------\n",
      "--------------------------\n",
      "Reading /Users/annabellepurnomo/git/kokkai_analysis/data_prepping/params/../data/data_repr/自民/佐藤勉/少子化/1.json\n",
      "--------------------------\n"
     ]
    },
    {
     "name": "stderr",
     "output_type": "stream",
     "text": [
      "Batches: 100%|██████████| 1/1 [00:04<00:00,  4.31s/it]\n"
     ]
    },
    {
     "name": "stdout",
     "output_type": "stream",
     "text": [
      "--------------------------\n",
      "Number of dates 8\n",
      "Number of opinions 8 \n",
      "Number of embeddings 8\n",
      "--------------------------\n",
      "--------------------------\n",
      "自民 ----- 泉田裕彦\n",
      "--------------------------\n",
      "--------------------------\n",
      "Working on 少子化\n",
      "--------------------------\n",
      "--------------------------\n",
      "Reading /Users/annabellepurnomo/git/kokkai_analysis/data_prepping/params/../data/data_repr/自民/泉田裕彦/少子化/1.json\n",
      "--------------------------\n"
     ]
    },
    {
     "name": "stderr",
     "output_type": "stream",
     "text": [
      "Batches: 100%|██████████| 2/2 [00:13<00:00,  6.74s/it]\n"
     ]
    },
    {
     "name": "stdout",
     "output_type": "stream",
     "text": [
      "--------------------------\n",
      "Number of dates 39\n",
      "Number of opinions 39 \n",
      "Number of embeddings 39\n",
      "--------------------------\n",
      "--------------------------\n",
      "自民 ----- 上川陽子\n",
      "--------------------------\n",
      "--------------------------\n",
      "Working on 少子化\n",
      "--------------------------\n",
      "--------------------------\n",
      "Reading /Users/annabellepurnomo/git/kokkai_analysis/data_prepping/params/../data/data_repr/自民/上川陽子/少子化/1.json\n",
      "--------------------------\n"
     ]
    },
    {
     "name": "stderr",
     "output_type": "stream",
     "text": [
      "Batches: 100%|██████████| 6/6 [01:20<00:00, 13.50s/it]\n"
     ]
    },
    {
     "name": "stdout",
     "output_type": "stream",
     "text": [
      "--------------------------\n",
      "Number of dates 166\n",
      "Number of opinions 166 \n",
      "Number of embeddings 166\n",
      "--------------------------\n",
      "--------------------------\n",
      "Working on LGBT\n",
      "--------------------------\n",
      "--------------------------\n",
      "Reading /Users/annabellepurnomo/git/kokkai_analysis/data_prepping/params/../data/data_repr/自民/上川陽子/LGBT/1.json\n",
      "--------------------------\n"
     ]
    },
    {
     "name": "stderr",
     "output_type": "stream",
     "text": [
      "Batches: 100%|██████████| 1/1 [00:00<00:00,  1.36it/s]\n"
     ]
    },
    {
     "name": "stdout",
     "output_type": "stream",
     "text": [
      "--------------------------\n",
      "Number of dates 1\n",
      "Number of opinions 1 \n",
      "Number of embeddings 1\n",
      "--------------------------\n",
      "--------------------------\n",
      "自民 ----- 関芳弘\n",
      "--------------------------\n",
      "--------------------------\n",
      "自民 ----- 山田美樹\n",
      "--------------------------\n",
      "--------------------------\n",
      "Working on 少子化\n",
      "--------------------------\n",
      "--------------------------\n",
      "Reading /Users/annabellepurnomo/git/kokkai_analysis/data_prepping/params/../data/data_repr/自民/山田美樹/少子化/1.json\n",
      "--------------------------\n"
     ]
    },
    {
     "name": "stderr",
     "output_type": "stream",
     "text": [
      "Batches: 100%|██████████| 1/1 [00:00<00:00,  1.24it/s]\n"
     ]
    },
    {
     "name": "stdout",
     "output_type": "stream",
     "text": [
      "--------------------------\n",
      "Number of dates 3\n",
      "Number of opinions 3 \n",
      "Number of embeddings 3\n",
      "--------------------------\n",
      "--------------------------\n",
      "自民 ----- 笹川博義\n",
      "--------------------------\n",
      "--------------------------\n",
      "自民 ----- 長島昭久\n",
      "--------------------------\n",
      "--------------------------\n",
      "Working on 少子化\n",
      "--------------------------\n",
      "--------------------------\n",
      "Reading /Users/annabellepurnomo/git/kokkai_analysis/data_prepping/params/../data/data_repr/自民/長島昭久/少子化/1.json\n",
      "--------------------------\n"
     ]
    },
    {
     "name": "stderr",
     "output_type": "stream",
     "text": [
      "Batches: 100%|██████████| 1/1 [00:02<00:00,  2.11s/it]\n"
     ]
    },
    {
     "name": "stdout",
     "output_type": "stream",
     "text": [
      "--------------------------\n",
      "Number of dates 5\n",
      "Number of opinions 5 \n",
      "Number of embeddings 5\n",
      "--------------------------\n",
      "--------------------------\n",
      "自民 ----- 中川貴元\n",
      "--------------------------\n",
      "--------------------------\n",
      "自民 ----- 勝俣孝明\n",
      "--------------------------\n",
      "--------------------------\n",
      "自民 ----- 小林鷹之\n",
      "--------------------------\n",
      "--------------------------\n",
      "Working on 少子化\n",
      "--------------------------\n",
      "--------------------------\n",
      "Reading /Users/annabellepurnomo/git/kokkai_analysis/data_prepping/params/../data/data_repr/自民/小林鷹之/少子化/1.json\n",
      "--------------------------\n"
     ]
    },
    {
     "name": "stderr",
     "output_type": "stream",
     "text": [
      "Batches: 100%|██████████| 1/1 [00:00<00:00,  2.32it/s]\n"
     ]
    },
    {
     "name": "stdout",
     "output_type": "stream",
     "text": [
      "--------------------------\n",
      "Number of dates 1\n",
      "Number of opinions 1 \n",
      "Number of embeddings 1\n",
      "--------------------------\n",
      "--------------------------\n",
      "自民 ----- 田中英之\n",
      "--------------------------\n",
      "--------------------------\n",
      "Working on 少子化\n",
      "--------------------------\n",
      "--------------------------\n",
      "Reading /Users/annabellepurnomo/git/kokkai_analysis/data_prepping/params/../data/data_repr/自民/田中英之/少子化/1.json\n",
      "--------------------------\n"
     ]
    },
    {
     "name": "stderr",
     "output_type": "stream",
     "text": [
      "Batches: 100%|██████████| 1/1 [00:06<00:00,  6.62s/it]\n"
     ]
    },
    {
     "name": "stdout",
     "output_type": "stream",
     "text": [
      "--------------------------\n",
      "Number of dates 11\n",
      "Number of opinions 11 \n",
      "Number of embeddings 11\n",
      "--------------------------\n",
      "--------------------------\n",
      "自民 ----- 神田潤一\n",
      "--------------------------\n",
      "--------------------------\n",
      "自民 ----- 青山周平\n",
      "--------------------------\n",
      "--------------------------\n",
      "Working on 少子化\n",
      "--------------------------\n",
      "--------------------------\n",
      "Reading /Users/annabellepurnomo/git/kokkai_analysis/data_prepping/params/../data/data_repr/自民/青山周平/少子化/1.json\n",
      "--------------------------\n"
     ]
    },
    {
     "name": "stderr",
     "output_type": "stream",
     "text": [
      "Batches: 100%|██████████| 2/2 [00:17<00:00,  8.71s/it]\n"
     ]
    },
    {
     "name": "stdout",
     "output_type": "stream",
     "text": [
      "--------------------------\n",
      "Number of dates 38\n",
      "Number of opinions 38 \n",
      "Number of embeddings 38\n",
      "--------------------------\n",
      "--------------------------\n",
      "自民 ----- 根本幸典\n",
      "--------------------------\n",
      "--------------------------\n",
      "Working on 少子化\n",
      "--------------------------\n",
      "--------------------------\n",
      "Reading /Users/annabellepurnomo/git/kokkai_analysis/data_prepping/params/../data/data_repr/自民/根本幸典/少子化/1.json\n",
      "--------------------------\n"
     ]
    },
    {
     "name": "stderr",
     "output_type": "stream",
     "text": [
      "Batches: 100%|██████████| 1/1 [00:04<00:00,  4.64s/it]\n"
     ]
    },
    {
     "name": "stdout",
     "output_type": "stream",
     "text": [
      "--------------------------\n",
      "Number of dates 10\n",
      "Number of opinions 10 \n",
      "Number of embeddings 10\n",
      "--------------------------\n",
      "--------------------------\n",
      "自民 ----- 池田佳隆\n",
      "--------------------------\n",
      "--------------------------\n",
      "Working on 少子化\n",
      "--------------------------\n",
      "--------------------------\n",
      "Reading /Users/annabellepurnomo/git/kokkai_analysis/data_prepping/params/../data/data_repr/自民/池田佳隆/少子化/1.json\n",
      "--------------------------\n"
     ]
    },
    {
     "name": "stderr",
     "output_type": "stream",
     "text": [
      "Batches: 100%|██████████| 1/1 [00:02<00:00,  2.47s/it]\n"
     ]
    },
    {
     "name": "stdout",
     "output_type": "stream",
     "text": [
      "--------------------------\n",
      "Number of dates 6\n",
      "Number of opinions 6 \n",
      "Number of embeddings 6\n",
      "--------------------------\n",
      "--------------------------\n",
      "自民 ----- 小林茂樹\n",
      "--------------------------\n",
      "--------------------------\n",
      "Working on 少子化\n",
      "--------------------------\n",
      "--------------------------\n",
      "Reading /Users/annabellepurnomo/git/kokkai_analysis/data_prepping/params/../data/data_repr/自民/小林茂樹/少子化/1.json\n",
      "--------------------------\n"
     ]
    },
    {
     "name": "stderr",
     "output_type": "stream",
     "text": [
      "Batches: 100%|██████████| 1/1 [00:00<00:00,  1.09it/s]\n"
     ]
    },
    {
     "name": "stdout",
     "output_type": "stream",
     "text": [
      "--------------------------\n",
      "Number of dates 3\n",
      "Number of opinions 3 \n",
      "Number of embeddings 3\n",
      "--------------------------\n",
      "--------------------------\n",
      "自民 ----- 星野剛士\n",
      "--------------------------\n",
      "--------------------------\n",
      "自民 ----- 杉田水脈\n",
      "--------------------------\n",
      "--------------------------\n",
      "Working on 少子化\n",
      "--------------------------\n",
      "--------------------------\n",
      "Reading /Users/annabellepurnomo/git/kokkai_analysis/data_prepping/params/../data/data_repr/自民/杉田水脈/少子化/1.json\n",
      "--------------------------\n"
     ]
    },
    {
     "name": "stderr",
     "output_type": "stream",
     "text": [
      "Batches: 100%|██████████| 2/2 [00:19<00:00,  9.63s/it]\n"
     ]
    },
    {
     "name": "stdout",
     "output_type": "stream",
     "text": [
      "--------------------------\n",
      "Number of dates 44\n",
      "Number of opinions 44 \n",
      "Number of embeddings 44\n",
      "--------------------------\n",
      "--------------------------\n",
      "Working on LGBT\n",
      "--------------------------\n",
      "--------------------------\n",
      "Reading /Users/annabellepurnomo/git/kokkai_analysis/data_prepping/params/../data/data_repr/自民/杉田水脈/LGBT/1.json\n",
      "--------------------------\n"
     ]
    },
    {
     "name": "stderr",
     "output_type": "stream",
     "text": [
      "Batches: 100%|██████████| 2/2 [00:20<00:00, 10.36s/it]\n"
     ]
    },
    {
     "name": "stdout",
     "output_type": "stream",
     "text": [
      "--------------------------\n",
      "Number of dates 34\n",
      "Number of opinions 34 \n",
      "Number of embeddings 34\n",
      "--------------------------\n",
      "--------------------------\n",
      "自民 ----- 鬼木誠\n",
      "--------------------------\n",
      "--------------------------\n",
      "Working on LGBT\n",
      "--------------------------\n",
      "--------------------------\n",
      "Reading /Users/annabellepurnomo/git/kokkai_analysis/data_prepping/params/../data/data_repr/自民/鬼木誠/LGBT/1.json\n",
      "--------------------------\n"
     ]
    },
    {
     "name": "stderr",
     "output_type": "stream",
     "text": [
      "Batches: 100%|██████████| 1/1 [00:05<00:00,  5.29s/it]\n"
     ]
    },
    {
     "name": "stdout",
     "output_type": "stream",
     "text": [
      "--------------------------\n",
      "Number of dates 7\n",
      "Number of opinions 7 \n",
      "Number of embeddings 7\n",
      "--------------------------\n",
      "--------------------------\n",
      "自民 ----- 鈴木隼人\n",
      "--------------------------\n",
      "--------------------------\n",
      "Working on 少子化\n",
      "--------------------------\n",
      "--------------------------\n",
      "Reading /Users/annabellepurnomo/git/kokkai_analysis/data_prepping/params/../data/data_repr/自民/鈴木隼人/少子化/1.json\n",
      "--------------------------\n"
     ]
    },
    {
     "name": "stderr",
     "output_type": "stream",
     "text": [
      "Batches: 100%|██████████| 1/1 [00:02<00:00,  2.50s/it]\n"
     ]
    },
    {
     "name": "stdout",
     "output_type": "stream",
     "text": [
      "--------------------------\n",
      "Number of dates 10\n",
      "Number of opinions 10 \n",
      "Number of embeddings 10\n",
      "--------------------------\n",
      "--------------------------\n",
      "自民 ----- 藤井比早之\n",
      "--------------------------\n",
      "--------------------------\n",
      "Working on 少子化\n",
      "--------------------------\n",
      "--------------------------\n",
      "Reading /Users/annabellepurnomo/git/kokkai_analysis/data_prepping/params/../data/data_repr/自民/藤井比早之/少子化/1.json\n",
      "--------------------------\n"
     ]
    },
    {
     "name": "stderr",
     "output_type": "stream",
     "text": [
      "Batches: 100%|██████████| 1/1 [00:05<00:00,  5.36s/it]\n"
     ]
    },
    {
     "name": "stdout",
     "output_type": "stream",
     "text": [
      "--------------------------\n",
      "Number of dates 11\n",
      "Number of opinions 11 \n",
      "Number of embeddings 11\n",
      "--------------------------\n",
      "--------------------------\n",
      "自民 ----- 井出庸生\n",
      "--------------------------\n",
      "--------------------------\n",
      "Working on 少子化\n",
      "--------------------------\n",
      "--------------------------\n",
      "Reading /Users/annabellepurnomo/git/kokkai_analysis/data_prepping/params/../data/data_repr/自民/井出庸生/少子化/1.json\n",
      "--------------------------\n"
     ]
    },
    {
     "name": "stderr",
     "output_type": "stream",
     "text": [
      "Batches: 100%|██████████| 1/1 [00:10<00:00, 10.16s/it]\n"
     ]
    },
    {
     "name": "stdout",
     "output_type": "stream",
     "text": [
      "--------------------------\n",
      "Number of dates 18\n",
      "Number of opinions 18 \n",
      "Number of embeddings 18\n",
      "--------------------------\n",
      "--------------------------\n",
      "Working on LGBT\n",
      "--------------------------\n",
      "--------------------------\n",
      "Reading /Users/annabellepurnomo/git/kokkai_analysis/data_prepping/params/../data/data_repr/自民/井出庸生/LGBT/1.json\n",
      "--------------------------\n"
     ]
    },
    {
     "name": "stderr",
     "output_type": "stream",
     "text": [
      "Batches: 100%|██████████| 1/1 [00:09<00:00,  9.23s/it]\n"
     ]
    },
    {
     "name": "stdout",
     "output_type": "stream",
     "text": [
      "--------------------------\n",
      "Number of dates 16\n",
      "Number of opinions 16 \n",
      "Number of embeddings 16\n",
      "--------------------------\n",
      "--------------------------\n",
      "自民 ----- 中野英幸\n",
      "--------------------------\n",
      "--------------------------\n",
      "自民 ----- 根本匠\n",
      "--------------------------\n",
      "--------------------------\n",
      "Working on 少子化\n",
      "--------------------------\n",
      "--------------------------\n",
      "Reading /Users/annabellepurnomo/git/kokkai_analysis/data_prepping/params/../data/data_repr/自民/根本匠/少子化/1.json\n",
      "--------------------------\n"
     ]
    },
    {
     "name": "stderr",
     "output_type": "stream",
     "text": [
      "Batches: 100%|██████████| 2/2 [00:24<00:00, 12.48s/it]\n"
     ]
    },
    {
     "name": "stdout",
     "output_type": "stream",
     "text": [
      "--------------------------\n",
      "Number of dates 61\n",
      "Number of opinions 61 \n",
      "Number of embeddings 61\n",
      "--------------------------\n",
      "--------------------------\n",
      "Working on LGBT\n",
      "--------------------------\n",
      "--------------------------\n",
      "Reading /Users/annabellepurnomo/git/kokkai_analysis/data_prepping/params/../data/data_repr/自民/根本匠/LGBT/1.json\n",
      "--------------------------\n"
     ]
    },
    {
     "name": "stderr",
     "output_type": "stream",
     "text": [
      "Batches: 100%|██████████| 1/1 [00:13<00:00, 13.31s/it]\n"
     ]
    },
    {
     "name": "stdout",
     "output_type": "stream",
     "text": [
      "--------------------------\n",
      "Number of dates 28\n",
      "Number of opinions 28 \n",
      "Number of embeddings 28\n",
      "--------------------------\n",
      "--------------------------\n",
      "自民 ----- 野中厚\n",
      "--------------------------\n",
      "--------------------------\n",
      "自民 ----- 小田原潔\n",
      "--------------------------\n",
      "--------------------------\n",
      "自民 ----- 藤原崇\n",
      "--------------------------\n",
      "--------------------------\n",
      "Working on 少子化\n",
      "--------------------------\n",
      "--------------------------\n",
      "Reading /Users/annabellepurnomo/git/kokkai_analysis/data_prepping/params/../data/data_repr/自民/藤原崇/少子化/1.json\n",
      "--------------------------\n"
     ]
    },
    {
     "name": "stderr",
     "output_type": "stream",
     "text": [
      "Batches: 100%|██████████| 1/1 [00:02<00:00,  2.04s/it]\n"
     ]
    },
    {
     "name": "stdout",
     "output_type": "stream",
     "text": [
      "--------------------------\n",
      "Number of dates 7\n",
      "Number of opinions 7 \n",
      "Number of embeddings 7\n",
      "--------------------------\n",
      "--------------------------\n",
      "自民 ----- 秋葉賢也\n",
      "--------------------------\n",
      "--------------------------\n",
      "Working on 少子化\n",
      "--------------------------\n",
      "--------------------------\n",
      "Reading /Users/annabellepurnomo/git/kokkai_analysis/data_prepping/params/../data/data_repr/自民/秋葉賢也/少子化/1.json\n",
      "--------------------------\n"
     ]
    },
    {
     "name": "stderr",
     "output_type": "stream",
     "text": [
      "Batches: 100%|██████████| 1/1 [00:01<00:00,  1.09s/it]\n"
     ]
    },
    {
     "name": "stdout",
     "output_type": "stream",
     "text": [
      "--------------------------\n",
      "Number of dates 3\n",
      "Number of opinions 3 \n",
      "Number of embeddings 3\n",
      "--------------------------\n",
      "--------------------------\n",
      "自民 ----- 平口洋\n",
      "--------------------------\n",
      "--------------------------\n",
      "Working on 少子化\n",
      "--------------------------\n",
      "--------------------------\n",
      "Reading /Users/annabellepurnomo/git/kokkai_analysis/data_prepping/params/../data/data_repr/自民/平口洋/少子化/1.json\n",
      "--------------------------\n"
     ]
    },
    {
     "name": "stderr",
     "output_type": "stream",
     "text": [
      "Batches: 100%|██████████| 1/1 [00:02<00:00,  2.88s/it]\n"
     ]
    },
    {
     "name": "stdout",
     "output_type": "stream",
     "text": [
      "--------------------------\n",
      "Number of dates 4\n",
      "Number of opinions 4 \n",
      "Number of embeddings 4\n",
      "--------------------------\n",
      "--------------------------\n",
      "自民 ----- 伊藤忠彦\n",
      "--------------------------\n",
      "--------------------------\n",
      "自民 ----- 八木哲也\n",
      "--------------------------\n",
      "--------------------------\n",
      "Working on 少子化\n",
      "--------------------------\n",
      "--------------------------\n",
      "Reading /Users/annabellepurnomo/git/kokkai_analysis/data_prepping/params/../data/data_repr/自民/八木哲也/少子化/1.json\n",
      "--------------------------\n"
     ]
    },
    {
     "name": "stderr",
     "output_type": "stream",
     "text": [
      "Batches: 100%|██████████| 1/1 [00:00<00:00,  1.39it/s]\n"
     ]
    },
    {
     "name": "stdout",
     "output_type": "stream",
     "text": [
      "--------------------------\n",
      "Number of dates 2\n",
      "Number of opinions 2 \n",
      "Number of embeddings 2\n",
      "--------------------------\n",
      "--------------------------\n",
      "自民 ----- 川崎ひでと\n",
      "--------------------------\n",
      "--------------------------\n",
      "Working on 少子化\n",
      "--------------------------\n",
      "--------------------------\n",
      "Reading /Users/annabellepurnomo/git/kokkai_analysis/data_prepping/params/../data/data_repr/自民/川崎ひでと/少子化/1.json\n",
      "--------------------------\n"
     ]
    },
    {
     "name": "stderr",
     "output_type": "stream",
     "text": [
      "Batches: 100%|██████████| 1/1 [00:07<00:00,  7.36s/it]\n"
     ]
    },
    {
     "name": "stdout",
     "output_type": "stream",
     "text": [
      "--------------------------\n",
      "Number of dates 24\n",
      "Number of opinions 24 \n",
      "Number of embeddings 24\n",
      "--------------------------\n",
      "--------------------------\n",
      "自民 ----- 石原宏高\n",
      "--------------------------\n",
      "--------------------------\n",
      "Working on 少子化\n",
      "--------------------------\n",
      "--------------------------\n",
      "Reading /Users/annabellepurnomo/git/kokkai_analysis/data_prepping/params/../data/data_repr/自民/石原宏高/少子化/1.json\n",
      "--------------------------\n"
     ]
    },
    {
     "name": "stderr",
     "output_type": "stream",
     "text": [
      "Batches: 100%|██████████| 1/1 [00:09<00:00,  9.40s/it]\n"
     ]
    },
    {
     "name": "stdout",
     "output_type": "stream",
     "text": [
      "--------------------------\n",
      "Number of dates 20\n",
      "Number of opinions 20 \n",
      "Number of embeddings 20\n",
      "--------------------------\n",
      "--------------------------\n",
      "自民 ----- 宮澤博行\n",
      "--------------------------\n",
      "--------------------------\n",
      "自民 ----- 渡辺孝一\n",
      "--------------------------\n",
      "--------------------------\n",
      "Working on 少子化\n",
      "--------------------------\n",
      "--------------------------\n",
      "Reading /Users/annabellepurnomo/git/kokkai_analysis/data_prepping/params/../data/data_repr/自民/渡辺孝一/少子化/1.json\n",
      "--------------------------\n"
     ]
    },
    {
     "name": "stderr",
     "output_type": "stream",
     "text": [
      "Batches: 100%|██████████| 1/1 [00:12<00:00, 12.62s/it]\n"
     ]
    },
    {
     "name": "stdout",
     "output_type": "stream",
     "text": [
      "--------------------------\n",
      "Number of dates 15\n",
      "Number of opinions 15 \n",
      "Number of embeddings 15\n",
      "--------------------------\n",
      "--------------------------\n",
      "自民 ----- 塚田一郎\n",
      "--------------------------\n",
      "--------------------------\n",
      "自民 ----- 林芳正\n",
      "--------------------------\n",
      "--------------------------\n",
      "Working on 少子化\n",
      "--------------------------\n",
      "--------------------------\n",
      "Reading /Users/annabellepurnomo/git/kokkai_analysis/data_prepping/params/../data/data_repr/自民/林芳正/少子化/1.json\n",
      "--------------------------\n"
     ]
    },
    {
     "name": "stderr",
     "output_type": "stream",
     "text": [
      "Batches: 100%|██████████| 1/1 [00:24<00:00, 24.51s/it]\n"
     ]
    },
    {
     "name": "stdout",
     "output_type": "stream",
     "text": [
      "--------------------------\n",
      "Number of dates 32\n",
      "Number of opinions 32 \n",
      "Number of embeddings 32\n",
      "--------------------------\n",
      "--------------------------\n",
      "Working on LGBT\n",
      "--------------------------\n",
      "--------------------------\n",
      "Reading /Users/annabellepurnomo/git/kokkai_analysis/data_prepping/params/../data/data_repr/自民/林芳正/LGBT/1.json\n",
      "--------------------------\n"
     ]
    },
    {
     "name": "stderr",
     "output_type": "stream",
     "text": [
      "Batches: 100%|██████████| 1/1 [00:03<00:00,  3.91s/it]\n"
     ]
    },
    {
     "name": "stdout",
     "output_type": "stream",
     "text": [
      "--------------------------\n",
      "Number of dates 8\n",
      "Number of opinions 8 \n",
      "Number of embeddings 8\n",
      "--------------------------\n",
      "--------------------------\n",
      "自民 ----- 岸信千世\n",
      "--------------------------\n",
      "--------------------------\n",
      "Working on 少子化\n",
      "--------------------------\n",
      "--------------------------\n",
      "Reading /Users/annabellepurnomo/git/kokkai_analysis/data_prepping/params/../data/data_repr/自民/岸信千世/少子化/1.json\n",
      "--------------------------\n"
     ]
    },
    {
     "name": "stderr",
     "output_type": "stream",
     "text": [
      "Batches: 100%|██████████| 1/1 [00:02<00:00,  2.26s/it]\n"
     ]
    },
    {
     "name": "stdout",
     "output_type": "stream",
     "text": [
      "--------------------------\n",
      "Number of dates 5\n",
      "Number of opinions 5 \n",
      "Number of embeddings 5\n",
      "--------------------------\n",
      "--------------------------\n",
      "自民 ----- 小森卓郎\n",
      "--------------------------\n",
      "--------------------------\n",
      "Working on 少子化\n",
      "--------------------------\n",
      "--------------------------\n",
      "Reading /Users/annabellepurnomo/git/kokkai_analysis/data_prepping/params/../data/data_repr/自民/小森卓郎/少子化/1.json\n",
      "--------------------------\n"
     ]
    },
    {
     "name": "stderr",
     "output_type": "stream",
     "text": [
      "Batches: 100%|██████████| 1/1 [00:01<00:00,  1.47s/it]\n"
     ]
    },
    {
     "name": "stdout",
     "output_type": "stream",
     "text": [
      "--------------------------\n",
      "Number of dates 4\n",
      "Number of opinions 4 \n",
      "Number of embeddings 4\n",
      "--------------------------\n",
      "--------------------------\n",
      "自民 ----- 高見康裕\n",
      "--------------------------\n",
      "--------------------------\n",
      "Working on 少子化\n",
      "--------------------------\n",
      "--------------------------\n",
      "Reading /Users/annabellepurnomo/git/kokkai_analysis/data_prepping/params/../data/data_repr/自民/高見康裕/少子化/1.json\n",
      "--------------------------\n"
     ]
    },
    {
     "name": "stderr",
     "output_type": "stream",
     "text": [
      "Batches: 100%|██████████| 1/1 [00:00<00:00,  4.76it/s]\n"
     ]
    },
    {
     "name": "stdout",
     "output_type": "stream",
     "text": [
      "--------------------------\n",
      "Number of dates 1\n",
      "Number of opinions 1 \n",
      "Number of embeddings 1\n",
      "--------------------------\n",
      "--------------------------\n",
      "自民 ----- 金子俊平\n",
      "--------------------------\n",
      "--------------------------\n",
      "自民 ----- 齋藤健\n",
      "--------------------------\n",
      "--------------------------\n",
      "Working on 少子化\n",
      "--------------------------\n",
      "--------------------------\n",
      "Reading /Users/annabellepurnomo/git/kokkai_analysis/data_prepping/params/../data/data_repr/自民/齋藤健/少子化/1.json\n",
      "--------------------------\n"
     ]
    },
    {
     "name": "stderr",
     "output_type": "stream",
     "text": [
      "Batches: 100%|██████████| 1/1 [00:00<00:00,  1.01it/s]\n"
     ]
    },
    {
     "name": "stdout",
     "output_type": "stream",
     "text": [
      "--------------------------\n",
      "Number of dates 2\n",
      "Number of opinions 2 \n",
      "Number of embeddings 2\n",
      "--------------------------\n",
      "--------------------------\n",
      "Working on LGBT\n",
      "--------------------------\n",
      "--------------------------\n",
      "Reading /Users/annabellepurnomo/git/kokkai_analysis/data_prepping/params/../data/data_repr/自民/齋藤健/LGBT/1.json\n",
      "--------------------------\n"
     ]
    },
    {
     "name": "stderr",
     "output_type": "stream",
     "text": [
      "Batches: 100%|██████████| 1/1 [00:02<00:00,  2.76s/it]\n"
     ]
    },
    {
     "name": "stdout",
     "output_type": "stream",
     "text": [
      "--------------------------\n",
      "Number of dates 7\n",
      "Number of opinions 7 \n",
      "Number of embeddings 7\n",
      "--------------------------\n",
      "--------------------------\n",
      "自民 ----- 加藤鮎子\n",
      "--------------------------\n",
      "--------------------------\n",
      "Working on 少子化\n",
      "--------------------------\n",
      "--------------------------\n",
      "Reading /Users/annabellepurnomo/git/kokkai_analysis/data_prepping/params/../data/data_repr/自民/加藤鮎子/少子化/1.json\n",
      "--------------------------\n"
     ]
    },
    {
     "name": "stderr",
     "output_type": "stream",
     "text": [
      "Batches: 100%|██████████| 2/2 [00:29<00:00, 14.96s/it]\n"
     ]
    },
    {
     "name": "stdout",
     "output_type": "stream",
     "text": [
      "--------------------------\n",
      "Number of dates 35\n",
      "Number of opinions 35 \n",
      "Number of embeddings 35\n",
      "--------------------------\n",
      "--------------------------\n",
      "自民 ----- 小島敏文\n",
      "--------------------------\n",
      "--------------------------\n",
      "Working on 少子化\n",
      "--------------------------\n",
      "--------------------------\n",
      "Reading /Users/annabellepurnomo/git/kokkai_analysis/data_prepping/params/../data/data_repr/自民/小島敏文/少子化/1.json\n",
      "--------------------------\n"
     ]
    },
    {
     "name": "stderr",
     "output_type": "stream",
     "text": [
      "Batches: 100%|██████████| 1/1 [00:00<00:00,  2.42it/s]\n"
     ]
    },
    {
     "name": "stdout",
     "output_type": "stream",
     "text": [
      "--------------------------\n",
      "Number of dates 2\n",
      "Number of opinions 2 \n",
      "Number of embeddings 2\n",
      "--------------------------\n",
      "--------------------------\n",
      "自民 ----- あべ俊子\n",
      "--------------------------\n",
      "--------------------------\n",
      "Working on 少子化\n",
      "--------------------------\n",
      "--------------------------\n",
      "Reading /Users/annabellepurnomo/git/kokkai_analysis/data_prepping/params/../data/data_repr/自民/あべ俊子/少子化/1.json\n",
      "--------------------------\n"
     ]
    },
    {
     "name": "stderr",
     "output_type": "stream",
     "text": [
      "Batches: 100%|██████████| 1/1 [00:06<00:00,  6.82s/it]\n"
     ]
    },
    {
     "name": "stdout",
     "output_type": "stream",
     "text": [
      "--------------------------\n",
      "Number of dates 13\n",
      "Number of opinions 13 \n",
      "Number of embeddings 13\n",
      "--------------------------\n",
      "--------------------------\n",
      "自民 ----- 畦元将吾\n",
      "--------------------------\n",
      "--------------------------\n",
      "自民 ----- 金田勝年\n",
      "--------------------------\n",
      "--------------------------\n",
      "Working on 少子化\n",
      "--------------------------\n",
      "--------------------------\n",
      "Reading /Users/annabellepurnomo/git/kokkai_analysis/data_prepping/params/../data/data_repr/自民/金田勝年/少子化/1.json\n",
      "--------------------------\n"
     ]
    },
    {
     "name": "stderr",
     "output_type": "stream",
     "text": [
      "Batches: 100%|██████████| 1/1 [00:01<00:00,  1.80s/it]\n"
     ]
    },
    {
     "name": "stdout",
     "output_type": "stream",
     "text": [
      "--------------------------\n",
      "Number of dates 6\n",
      "Number of opinions 6 \n",
      "Number of embeddings 6\n",
      "--------------------------\n",
      "--------------------------\n",
      "自民 ----- 国光あやの\n",
      "--------------------------\n",
      "--------------------------\n",
      "Working on 少子化\n",
      "--------------------------\n",
      "--------------------------\n",
      "Reading /Users/annabellepurnomo/git/kokkai_analysis/data_prepping/params/../data/data_repr/自民/国光あやの/少子化/1.json\n",
      "--------------------------\n"
     ]
    },
    {
     "name": "stderr",
     "output_type": "stream",
     "text": [
      "Batches: 100%|██████████| 1/1 [00:15<00:00, 15.62s/it]\n"
     ]
    },
    {
     "name": "stdout",
     "output_type": "stream",
     "text": [
      "--------------------------\n",
      "Number of dates 22\n",
      "Number of opinions 22 \n",
      "Number of embeddings 22\n",
      "--------------------------\n",
      "--------------------------\n",
      "自民 ----- 上田英俊\n",
      "--------------------------\n",
      "--------------------------\n",
      "Working on 少子化\n",
      "--------------------------\n",
      "--------------------------\n",
      "Reading /Users/annabellepurnomo/git/kokkai_analysis/data_prepping/params/../data/data_repr/自民/上田英俊/少子化/1.json\n",
      "--------------------------\n"
     ]
    },
    {
     "name": "stderr",
     "output_type": "stream",
     "text": [
      "Batches: 100%|██████████| 1/1 [00:01<00:00,  1.39s/it]\n"
     ]
    },
    {
     "name": "stdout",
     "output_type": "stream",
     "text": [
      "--------------------------\n",
      "Number of dates 7\n",
      "Number of opinions 7 \n",
      "Number of embeddings 7\n",
      "--------------------------\n",
      "--------------------------\n",
      "自民 ----- 宮路拓馬\n",
      "--------------------------\n",
      "--------------------------\n",
      "Working on 少子化\n",
      "--------------------------\n",
      "--------------------------\n",
      "Reading /Users/annabellepurnomo/git/kokkai_analysis/data_prepping/params/../data/data_repr/自民/宮路拓馬/少子化/1.json\n",
      "--------------------------\n"
     ]
    },
    {
     "name": "stderr",
     "output_type": "stream",
     "text": [
      "Batches: 100%|██████████| 2/2 [00:26<00:00, 13.24s/it]\n"
     ]
    },
    {
     "name": "stdout",
     "output_type": "stream",
     "text": [
      "--------------------------\n",
      "Number of dates 40\n",
      "Number of opinions 40 \n",
      "Number of embeddings 40\n",
      "--------------------------\n",
      "--------------------------\n",
      "Working on LGBT\n",
      "--------------------------\n",
      "--------------------------\n",
      "Reading /Users/annabellepurnomo/git/kokkai_analysis/data_prepping/params/../data/data_repr/自民/宮路拓馬/LGBT/1.json\n",
      "--------------------------\n"
     ]
    },
    {
     "name": "stderr",
     "output_type": "stream",
     "text": [
      "Batches: 100%|██████████| 1/1 [06:28<00:00, 388.73s/it]\n"
     ]
    },
    {
     "name": "stdout",
     "output_type": "stream",
     "text": [
      "--------------------------\n",
      "Number of dates 31\n",
      "Number of opinions 31 \n",
      "Number of embeddings 31\n",
      "--------------------------\n",
      "--------------------------\n",
      "自民 ----- 塩谷立\n",
      "--------------------------\n",
      "--------------------------\n",
      "Working on 少子化\n",
      "--------------------------\n",
      "--------------------------\n",
      "Reading /Users/annabellepurnomo/git/kokkai_analysis/data_prepping/params/../data/data_repr/自民/塩谷立/少子化/1.json\n",
      "--------------------------\n"
     ]
    },
    {
     "name": "stderr",
     "output_type": "stream",
     "text": [
      "Batches: 100%|██████████| 3/3 [00:45<00:00, 15.12s/it]\n"
     ]
    },
    {
     "name": "stdout",
     "output_type": "stream",
     "text": [
      "--------------------------\n",
      "Number of dates 89\n",
      "Number of opinions 89 \n",
      "Number of embeddings 89\n",
      "--------------------------\n",
      "--------------------------\n",
      "自民 ----- 麻生太郎\n",
      "--------------------------\n",
      "--------------------------\n",
      "Working on 少子化\n",
      "--------------------------\n",
      "--------------------------\n",
      "Reading /Users/annabellepurnomo/git/kokkai_analysis/data_prepping/params/../data/data_repr/自民/麻生太郎/少子化/1.json\n",
      "--------------------------\n",
      "--------------------------\n",
      "Reading /Users/annabellepurnomo/git/kokkai_analysis/data_prepping/params/../data/data_repr/自民/麻生太郎/少子化/2.json\n",
      "--------------------------\n"
     ]
    },
    {
     "name": "stderr",
     "output_type": "stream",
     "text": [
      "Batches: 100%|██████████| 21/21 [03:13<00:00,  9.20s/it]\n"
     ]
    },
    {
     "name": "stdout",
     "output_type": "stream",
     "text": [
      "--------------------------\n",
      "Number of dates 651\n",
      "Number of opinions 651 \n",
      "Number of embeddings 651\n",
      "--------------------------\n",
      "--------------------------\n",
      "自民 ----- 大野敬太郎\n",
      "--------------------------\n",
      "--------------------------\n",
      "Working on 少子化\n",
      "--------------------------\n",
      "--------------------------\n",
      "Reading /Users/annabellepurnomo/git/kokkai_analysis/data_prepping/params/../data/data_repr/自民/大野敬太郎/少子化/1.json\n",
      "--------------------------\n"
     ]
    },
    {
     "name": "stderr",
     "output_type": "stream",
     "text": [
      "Batches: 100%|██████████| 1/1 [00:12<00:00, 12.43s/it]\n"
     ]
    },
    {
     "name": "stdout",
     "output_type": "stream",
     "text": [
      "--------------------------\n",
      "Number of dates 19\n",
      "Number of opinions 19 \n",
      "Number of embeddings 19\n",
      "--------------------------\n",
      "--------------------------\n",
      "自民 ----- 尾崎正直\n",
      "--------------------------\n",
      "--------------------------\n",
      "自民 ----- 加藤竜祥\n",
      "--------------------------\n",
      "--------------------------\n",
      "Working on 少子化\n",
      "--------------------------\n",
      "--------------------------\n",
      "Reading /Users/annabellepurnomo/git/kokkai_analysis/data_prepping/params/../data/data_repr/自民/加藤竜祥/少子化/1.json\n",
      "--------------------------\n"
     ]
    },
    {
     "name": "stderr",
     "output_type": "stream",
     "text": [
      "Batches: 100%|██████████| 1/1 [00:03<00:00,  3.87s/it]\n"
     ]
    },
    {
     "name": "stdout",
     "output_type": "stream",
     "text": [
      "--------------------------\n",
      "Number of dates 13\n",
      "Number of opinions 13 \n",
      "Number of embeddings 13\n",
      "--------------------------\n",
      "--------------------------\n",
      "自民 ----- 寺田稔\n",
      "--------------------------\n",
      "--------------------------\n",
      "Working on 少子化\n",
      "--------------------------\n",
      "--------------------------\n",
      "Reading /Users/annabellepurnomo/git/kokkai_analysis/data_prepping/params/../data/data_repr/自民/寺田稔/少子化/1.json\n",
      "--------------------------\n"
     ]
    },
    {
     "name": "stderr",
     "output_type": "stream",
     "text": [
      "Batches: 100%|██████████| 1/1 [00:14<00:00, 14.91s/it]\n"
     ]
    },
    {
     "name": "stdout",
     "output_type": "stream",
     "text": [
      "--------------------------\n",
      "Number of dates 25\n",
      "Number of opinions 25 \n",
      "Number of embeddings 25\n",
      "--------------------------\n",
      "--------------------------\n",
      "自民 ----- 小泉龍司\n",
      "--------------------------\n",
      "--------------------------\n",
      "自民 ----- 山本左近\n",
      "--------------------------\n",
      "--------------------------\n",
      "自民 ----- 葉梨康弘\n",
      "--------------------------\n",
      "--------------------------\n",
      "Working on 少子化\n",
      "--------------------------\n",
      "--------------------------\n",
      "Reading /Users/annabellepurnomo/git/kokkai_analysis/data_prepping/params/../data/data_repr/自民/葉梨康弘/少子化/1.json\n",
      "--------------------------\n"
     ]
    },
    {
     "name": "stderr",
     "output_type": "stream",
     "text": [
      "Batches: 100%|██████████| 1/1 [00:09<00:00,  9.74s/it]\n"
     ]
    },
    {
     "name": "stdout",
     "output_type": "stream",
     "text": [
      "--------------------------\n",
      "Number of dates 18\n",
      "Number of opinions 18 \n",
      "Number of embeddings 18\n",
      "--------------------------\n",
      "--------------------------\n",
      "自民 ----- 古川康\n",
      "--------------------------\n",
      "--------------------------\n",
      "自民 ----- 遠藤利明\n",
      "--------------------------\n",
      "--------------------------\n",
      "Working on 少子化\n",
      "--------------------------\n",
      "--------------------------\n",
      "Reading /Users/annabellepurnomo/git/kokkai_analysis/data_prepping/params/../data/data_repr/自民/遠藤利明/少子化/1.json\n",
      "--------------------------\n"
     ]
    },
    {
     "name": "stderr",
     "output_type": "stream",
     "text": [
      "Batches: 100%|██████████| 1/1 [00:04<00:00,  4.66s/it]\n"
     ]
    },
    {
     "name": "stdout",
     "output_type": "stream",
     "text": [
      "--------------------------\n",
      "Number of dates 10\n",
      "Number of opinions 10 \n",
      "Number of embeddings 10\n",
      "--------------------------\n",
      "--------------------------\n",
      "Working on LGBT\n",
      "--------------------------\n",
      "--------------------------\n",
      "Reading /Users/annabellepurnomo/git/kokkai_analysis/data_prepping/params/../data/data_repr/自民/遠藤利明/LGBT/1.json\n",
      "--------------------------\n"
     ]
    },
    {
     "name": "stderr",
     "output_type": "stream",
     "text": [
      "Batches: 100%|██████████| 1/1 [00:00<00:00,  1.67it/s]\n"
     ]
    },
    {
     "name": "stdout",
     "output_type": "stream",
     "text": [
      "--------------------------\n",
      "Number of dates 2\n",
      "Number of opinions 2 \n",
      "Number of embeddings 2\n",
      "--------------------------\n",
      "--------------------------\n",
      "自民 ----- 小野寺五典\n",
      "--------------------------\n",
      "--------------------------\n",
      "Working on 少子化\n",
      "--------------------------\n",
      "--------------------------\n",
      "Reading /Users/annabellepurnomo/git/kokkai_analysis/data_prepping/params/../data/data_repr/自民/小野寺五典/少子化/1.json\n",
      "--------------------------\n"
     ]
    },
    {
     "name": "stderr",
     "output_type": "stream",
     "text": [
      "Batches: 100%|██████████| 1/1 [00:06<00:00,  6.55s/it]\n"
     ]
    },
    {
     "name": "stdout",
     "output_type": "stream",
     "text": [
      "--------------------------\n",
      "Number of dates 14\n",
      "Number of opinions 14 \n",
      "Number of embeddings 14\n",
      "--------------------------\n",
      "--------------------------\n",
      "自民 ----- 武村展英\n",
      "--------------------------\n",
      "--------------------------\n",
      "自民 ----- 冨樫博之\n",
      "--------------------------\n",
      "--------------------------\n",
      "自民 ----- 今村雅弘\n",
      "--------------------------\n",
      "--------------------------\n",
      "Working on 少子化\n",
      "--------------------------\n",
      "--------------------------\n",
      "Reading /Users/annabellepurnomo/git/kokkai_analysis/data_prepping/params/../data/data_repr/自民/今村雅弘/少子化/1.json\n",
      "--------------------------\n"
     ]
    },
    {
     "name": "stderr",
     "output_type": "stream",
     "text": [
      "Batches: 100%|██████████| 1/1 [00:05<00:00,  5.67s/it]\n"
     ]
    },
    {
     "name": "stdout",
     "output_type": "stream",
     "text": [
      "--------------------------\n",
      "Number of dates 12\n",
      "Number of opinions 12 \n",
      "Number of embeddings 12\n",
      "--------------------------\n",
      "--------------------------\n",
      "自民 ----- 武井俊輔\n",
      "--------------------------\n",
      "--------------------------\n",
      "Working on 少子化\n",
      "--------------------------\n",
      "--------------------------\n",
      "Reading /Users/annabellepurnomo/git/kokkai_analysis/data_prepping/params/../data/data_repr/自民/武井俊輔/少子化/1.json\n",
      "--------------------------\n"
     ]
    },
    {
     "name": "stderr",
     "output_type": "stream",
     "text": [
      "Batches: 100%|██████████| 1/1 [00:01<00:00,  1.40s/it]\n"
     ]
    },
    {
     "name": "stdout",
     "output_type": "stream",
     "text": [
      "--------------------------\n",
      "Number of dates 4\n",
      "Number of opinions 4 \n",
      "Number of embeddings 4\n",
      "--------------------------\n",
      "--------------------------\n",
      "自民 ----- 穂坂泰\n",
      "--------------------------\n",
      "--------------------------\n",
      "Working on 少子化\n",
      "--------------------------\n",
      "--------------------------\n",
      "Reading /Users/annabellepurnomo/git/kokkai_analysis/data_prepping/params/../data/data_repr/自民/穂坂泰/少子化/1.json\n",
      "--------------------------\n"
     ]
    },
    {
     "name": "stderr",
     "output_type": "stream",
     "text": [
      "Batches: 100%|██████████| 2/2 [00:22<00:00, 11.02s/it]\n"
     ]
    },
    {
     "name": "stdout",
     "output_type": "stream",
     "text": [
      "--------------------------\n",
      "Number of dates 41\n",
      "Number of opinions 41 \n",
      "Number of embeddings 41\n",
      "--------------------------\n",
      "--------------------------\n",
      "自民 ----- 菅家一郎\n",
      "--------------------------\n",
      "--------------------------\n",
      "Working on 少子化\n",
      "--------------------------\n",
      "--------------------------\n",
      "Reading /Users/annabellepurnomo/git/kokkai_analysis/data_prepping/params/../data/data_repr/自民/菅家一郎/少子化/1.json\n",
      "--------------------------\n"
     ]
    },
    {
     "name": "stderr",
     "output_type": "stream",
     "text": [
      "Batches: 100%|██████████| 1/1 [00:08<00:00,  8.07s/it]\n"
     ]
    },
    {
     "name": "stdout",
     "output_type": "stream",
     "text": [
      "--------------------------\n",
      "Number of dates 13\n",
      "Number of opinions 13 \n",
      "Number of embeddings 13\n",
      "--------------------------\n",
      "--------------------------\n",
      "自民 ----- 高市早苗\n",
      "--------------------------\n",
      "--------------------------\n",
      "Working on 少子化\n",
      "--------------------------\n",
      "--------------------------\n",
      "Reading /Users/annabellepurnomo/git/kokkai_analysis/data_prepping/params/../data/data_repr/自民/高市早苗/少子化/1.json\n",
      "--------------------------\n",
      "--------------------------\n",
      "Reading /Users/annabellepurnomo/git/kokkai_analysis/data_prepping/params/../data/data_repr/自民/高市早苗/少子化/2.json\n",
      "--------------------------\n"
     ]
    },
    {
     "name": "stderr",
     "output_type": "stream",
     "text": [
      "Batches: 100%|██████████| 5/5 [00:56<00:00, 11.34s/it]\n"
     ]
    },
    {
     "name": "stdout",
     "output_type": "stream",
     "text": [
      "--------------------------\n",
      "Number of dates 159\n",
      "Number of opinions 159 \n",
      "Number of embeddings 159\n",
      "--------------------------\n",
      "--------------------------\n",
      "Working on LGBT\n",
      "--------------------------\n",
      "--------------------------\n",
      "Reading /Users/annabellepurnomo/git/kokkai_analysis/data_prepping/params/../data/data_repr/自民/高市早苗/LGBT/1.json\n",
      "--------------------------\n"
     ]
    },
    {
     "name": "stderr",
     "output_type": "stream",
     "text": [
      "Batches: 100%|██████████| 1/1 [00:03<00:00,  3.72s/it]\n"
     ]
    },
    {
     "name": "stdout",
     "output_type": "stream",
     "text": [
      "--------------------------\n",
      "Number of dates 8\n",
      "Number of opinions 8 \n",
      "Number of embeddings 8\n",
      "--------------------------\n",
      "--------------------------\n",
      "自民 ----- 井上貴博\n",
      "--------------------------\n",
      "--------------------------\n",
      "Working on 少子化\n",
      "--------------------------\n",
      "--------------------------\n",
      "Reading /Users/annabellepurnomo/git/kokkai_analysis/data_prepping/params/../data/data_repr/自民/井上貴博/少子化/1.json\n",
      "--------------------------\n"
     ]
    },
    {
     "name": "stderr",
     "output_type": "stream",
     "text": [
      "Batches: 100%|██████████| 1/1 [00:10<00:00, 10.64s/it]\n"
     ]
    },
    {
     "name": "stdout",
     "output_type": "stream",
     "text": [
      "--------------------------\n",
      "Number of dates 19\n",
      "Number of opinions 19 \n",
      "Number of embeddings 19\n",
      "--------------------------\n",
      "--------------------------\n",
      "自民 ----- 柳本顕\n",
      "--------------------------\n",
      "--------------------------\n",
      "自民 ----- 三谷英弘\n",
      "--------------------------\n",
      "--------------------------\n",
      "Working on 少子化\n",
      "--------------------------\n",
      "--------------------------\n",
      "Reading /Users/annabellepurnomo/git/kokkai_analysis/data_prepping/params/../data/data_repr/自民/三谷英弘/少子化/1.json\n",
      "--------------------------\n"
     ]
    },
    {
     "name": "stderr",
     "output_type": "stream",
     "text": [
      "Batches: 100%|██████████| 1/1 [00:02<00:00,  2.30s/it]\n"
     ]
    },
    {
     "name": "stdout",
     "output_type": "stream",
     "text": [
      "--------------------------\n",
      "Number of dates 6\n",
      "Number of opinions 6 \n",
      "Number of embeddings 6\n",
      "--------------------------\n",
      "--------------------------\n",
      "Working on LGBT\n",
      "--------------------------\n",
      "--------------------------\n",
      "Reading /Users/annabellepurnomo/git/kokkai_analysis/data_prepping/params/../data/data_repr/自民/三谷英弘/LGBT/1.json\n",
      "--------------------------\n"
     ]
    },
    {
     "name": "stderr",
     "output_type": "stream",
     "text": [
      "Batches: 100%|██████████| 1/1 [00:00<00:00,  1.01it/s]\n"
     ]
    },
    {
     "name": "stdout",
     "output_type": "stream",
     "text": [
      "--------------------------\n",
      "Number of dates 3\n",
      "Number of opinions 3 \n",
      "Number of embeddings 3\n",
      "--------------------------\n",
      "--------------------------\n",
      "自民 ----- 村井英樹\n",
      "--------------------------\n",
      "--------------------------\n",
      "Working on 少子化\n",
      "--------------------------\n",
      "--------------------------\n",
      "Reading /Users/annabellepurnomo/git/kokkai_analysis/data_prepping/params/../data/data_repr/自民/村井英樹/少子化/1.json\n",
      "--------------------------\n"
     ]
    },
    {
     "name": "stderr",
     "output_type": "stream",
     "text": [
      "Batches: 100%|██████████| 1/1 [00:06<00:00,  6.42s/it]\n"
     ]
    },
    {
     "name": "stdout",
     "output_type": "stream",
     "text": [
      "--------------------------\n",
      "Number of dates 11\n",
      "Number of opinions 11 \n",
      "Number of embeddings 11\n",
      "--------------------------\n",
      "--------------------------\n",
      "自民 ----- 山田賢司\n",
      "--------------------------\n",
      "--------------------------\n",
      "Working on 少子化\n",
      "--------------------------\n",
      "--------------------------\n",
      "Reading /Users/annabellepurnomo/git/kokkai_analysis/data_prepping/params/../data/data_repr/自民/山田賢司/少子化/1.json\n",
      "--------------------------\n"
     ]
    },
    {
     "name": "stderr",
     "output_type": "stream",
     "text": [
      "Batches: 100%|██████████| 1/1 [00:03<00:00,  3.34s/it]\n"
     ]
    },
    {
     "name": "stdout",
     "output_type": "stream",
     "text": [
      "--------------------------\n",
      "Number of dates 9\n",
      "Number of opinions 9 \n",
      "Number of embeddings 9\n",
      "--------------------------\n",
      "--------------------------\n",
      "Working on LGBT\n",
      "--------------------------\n",
      "--------------------------\n",
      "Reading /Users/annabellepurnomo/git/kokkai_analysis/data_prepping/params/../data/data_repr/自民/山田賢司/LGBT/1.json\n",
      "--------------------------\n"
     ]
    },
    {
     "name": "stderr",
     "output_type": "stream",
     "text": [
      "Batches: 100%|██████████| 1/1 [00:03<00:00,  3.03s/it]\n"
     ]
    },
    {
     "name": "stdout",
     "output_type": "stream",
     "text": [
      "--------------------------\n",
      "Number of dates 4\n",
      "Number of opinions 4 \n",
      "Number of embeddings 4\n",
      "--------------------------\n",
      "--------------------------\n",
      "自民 ----- 岩屋毅\n",
      "--------------------------\n",
      "--------------------------\n",
      "Working on 少子化\n",
      "--------------------------\n",
      "--------------------------\n",
      "Reading /Users/annabellepurnomo/git/kokkai_analysis/data_prepping/params/../data/data_repr/自民/岩屋毅/少子化/1.json\n",
      "--------------------------\n"
     ]
    },
    {
     "name": "stderr",
     "output_type": "stream",
     "text": [
      "Batches: 100%|██████████| 1/1 [00:12<00:00, 12.25s/it]\n"
     ]
    },
    {
     "name": "stdout",
     "output_type": "stream",
     "text": [
      "--------------------------\n",
      "Number of dates 24\n",
      "Number of opinions 24 \n",
      "Number of embeddings 24\n",
      "--------------------------\n",
      "--------------------------\n",
      "自民 ----- 今枝宗一郎\n",
      "--------------------------\n",
      "--------------------------\n",
      "Working on 少子化\n",
      "--------------------------\n",
      "--------------------------\n",
      "Reading /Users/annabellepurnomo/git/kokkai_analysis/data_prepping/params/../data/data_repr/自民/今枝宗一郎/少子化/1.json\n",
      "--------------------------\n"
     ]
    },
    {
     "name": "stderr",
     "output_type": "stream",
     "text": [
      "Batches: 100%|██████████| 1/1 [00:04<00:00,  4.23s/it]\n"
     ]
    },
    {
     "name": "stdout",
     "output_type": "stream",
     "text": [
      "--------------------------\n",
      "Number of dates 6\n",
      "Number of opinions 6 \n",
      "Number of embeddings 6\n",
      "--------------------------\n",
      "--------------------------\n",
      "自民 ----- 中根一幸\n",
      "--------------------------\n",
      "--------------------------\n",
      "Working on 少子化\n",
      "--------------------------\n",
      "--------------------------\n",
      "Reading /Users/annabellepurnomo/git/kokkai_analysis/data_prepping/params/../data/data_repr/自民/中根一幸/少子化/1.json\n",
      "--------------------------\n"
     ]
    },
    {
     "name": "stderr",
     "output_type": "stream",
     "text": [
      "Batches: 100%|██████████| 1/1 [00:00<00:00,  1.98it/s]\n"
     ]
    },
    {
     "name": "stdout",
     "output_type": "stream",
     "text": [
      "--------------------------\n",
      "Number of dates 2\n",
      "Number of opinions 2 \n",
      "Number of embeddings 2\n",
      "--------------------------\n",
      "--------------------------\n",
      "自民 ----- 長坂康正\n",
      "--------------------------\n",
      "--------------------------\n",
      "Working on 少子化\n",
      "--------------------------\n",
      "--------------------------\n",
      "Reading /Users/annabellepurnomo/git/kokkai_analysis/data_prepping/params/../data/data_repr/自民/長坂康正/少子化/1.json\n",
      "--------------------------\n"
     ]
    },
    {
     "name": "stderr",
     "output_type": "stream",
     "text": [
      "Batches: 100%|██████████| 1/1 [00:08<00:00,  8.16s/it]\n"
     ]
    },
    {
     "name": "stdout",
     "output_type": "stream",
     "text": [
      "--------------------------\n",
      "Number of dates 19\n",
      "Number of opinions 19 \n",
      "Number of embeddings 19\n",
      "--------------------------\n",
      "--------------------------\n",
      "自民 ----- 土井亨\n",
      "--------------------------\n",
      "--------------------------\n",
      "自民 ----- 松本洋平\n",
      "--------------------------\n",
      "--------------------------\n",
      "Working on 少子化\n",
      "--------------------------\n",
      "--------------------------\n",
      "Reading /Users/annabellepurnomo/git/kokkai_analysis/data_prepping/params/../data/data_repr/自民/松本洋平/少子化/1.json\n",
      "--------------------------\n"
     ]
    },
    {
     "name": "stderr",
     "output_type": "stream",
     "text": [
      "Batches: 100%|██████████| 1/1 [00:03<00:00,  3.35s/it]\n"
     ]
    },
    {
     "name": "stdout",
     "output_type": "stream",
     "text": [
      "--------------------------\n",
      "Number of dates 5\n",
      "Number of opinions 5 \n",
      "Number of embeddings 5\n",
      "--------------------------\n",
      "--------------------------\n",
      "自民 ----- 山口壯\n",
      "--------------------------\n",
      "--------------------------\n",
      "Working on 少子化\n",
      "--------------------------\n",
      "--------------------------\n",
      "Reading /Users/annabellepurnomo/git/kokkai_analysis/data_prepping/params/../data/data_repr/自民/山口壯/少子化/1.json\n",
      "--------------------------\n"
     ]
    },
    {
     "name": "stderr",
     "output_type": "stream",
     "text": [
      "Batches: 100%|██████████| 1/1 [00:03<00:00,  3.36s/it]\n"
     ]
    },
    {
     "name": "stdout",
     "output_type": "stream",
     "text": [
      "--------------------------\n",
      "Number of dates 10\n",
      "Number of opinions 10 \n",
      "Number of embeddings 10\n",
      "--------------------------\n",
      "--------------------------\n",
      "自民 ----- 國場幸之助\n",
      "--------------------------\n",
      "--------------------------\n",
      "Working on 少子化\n",
      "--------------------------\n",
      "--------------------------\n",
      "Reading /Users/annabellepurnomo/git/kokkai_analysis/data_prepping/params/../data/data_repr/自民/國場幸之助/少子化/1.json\n",
      "--------------------------\n"
     ]
    },
    {
     "name": "stderr",
     "output_type": "stream",
     "text": [
      "Batches: 100%|██████████| 1/1 [00:06<00:00,  6.46s/it]\n"
     ]
    },
    {
     "name": "stdout",
     "output_type": "stream",
     "text": [
      "--------------------------\n",
      "Number of dates 11\n",
      "Number of opinions 11 \n",
      "Number of embeddings 11\n",
      "--------------------------\n",
      "--------------------------\n",
      "自民 ----- 後藤茂之\n",
      "--------------------------\n",
      "--------------------------\n",
      "Working on 少子化\n",
      "--------------------------\n",
      "--------------------------\n",
      "Reading /Users/annabellepurnomo/git/kokkai_analysis/data_prepping/params/../data/data_repr/自民/後藤茂之/少子化/1.json\n",
      "--------------------------\n"
     ]
    },
    {
     "name": "stderr",
     "output_type": "stream",
     "text": [
      "Batches: 100%|██████████| 3/3 [00:33<00:00, 11.20s/it]\n"
     ]
    },
    {
     "name": "stdout",
     "output_type": "stream",
     "text": [
      "--------------------------\n",
      "Number of dates 74\n",
      "Number of opinions 74 \n",
      "Number of embeddings 74\n",
      "--------------------------\n",
      "--------------------------\n",
      "自民 ----- 田中良生\n",
      "--------------------------\n",
      "--------------------------\n",
      "Working on 少子化\n",
      "--------------------------\n",
      "--------------------------\n",
      "Reading /Users/annabellepurnomo/git/kokkai_analysis/data_prepping/params/../data/data_repr/自民/田中良生/少子化/1.json\n",
      "--------------------------\n"
     ]
    },
    {
     "name": "stderr",
     "output_type": "stream",
     "text": [
      "Batches: 100%|██████████| 1/1 [00:08<00:00,  8.58s/it]\n"
     ]
    },
    {
     "name": "stdout",
     "output_type": "stream",
     "text": [
      "--------------------------\n",
      "Number of dates 26\n",
      "Number of opinions 26 \n",
      "Number of embeddings 26\n",
      "--------------------------\n",
      "--------------------------\n",
      "自民 ----- 宮崎政久\n",
      "--------------------------\n",
      "--------------------------\n",
      "Working on 少子化\n",
      "--------------------------\n",
      "--------------------------\n",
      "Reading /Users/annabellepurnomo/git/kokkai_analysis/data_prepping/params/../data/data_repr/自民/宮崎政久/少子化/1.json\n",
      "--------------------------\n"
     ]
    },
    {
     "name": "stderr",
     "output_type": "stream",
     "text": [
      "Batches: 100%|██████████| 1/1 [00:03<00:00,  3.53s/it]\n"
     ]
    },
    {
     "name": "stdout",
     "output_type": "stream",
     "text": [
      "--------------------------\n",
      "Number of dates 11\n",
      "Number of opinions 11 \n",
      "Number of embeddings 11\n",
      "--------------------------\n",
      "--------------------------\n",
      "自民 ----- 江渡聡徳\n",
      "--------------------------\n",
      "--------------------------\n",
      "Working on 少子化\n",
      "--------------------------\n",
      "--------------------------\n",
      "Reading /Users/annabellepurnomo/git/kokkai_analysis/data_prepping/params/../data/data_repr/自民/江渡聡徳/少子化/1.json\n",
      "--------------------------\n"
     ]
    },
    {
     "name": "stderr",
     "output_type": "stream",
     "text": [
      "Batches: 100%|██████████| 1/1 [00:01<00:00,  1.56s/it]\n"
     ]
    },
    {
     "name": "stdout",
     "output_type": "stream",
     "text": [
      "--------------------------\n",
      "Number of dates 3\n",
      "Number of opinions 3 \n",
      "Number of embeddings 3\n",
      "--------------------------\n",
      "--------------------------\n",
      "自民 ----- 渡辺博道\n",
      "--------------------------\n",
      "--------------------------\n",
      "Working on 少子化\n",
      "--------------------------\n",
      "--------------------------\n",
      "Reading /Users/annabellepurnomo/git/kokkai_analysis/data_prepping/params/../data/data_repr/自民/渡辺博道/少子化/1.json\n",
      "--------------------------\n"
     ]
    },
    {
     "name": "stderr",
     "output_type": "stream",
     "text": [
      "Batches: 100%|██████████| 1/1 [00:05<00:00,  5.05s/it]\n"
     ]
    },
    {
     "name": "stdout",
     "output_type": "stream",
     "text": [
      "--------------------------\n",
      "Number of dates 10\n",
      "Number of opinions 10 \n",
      "Number of embeddings 10\n",
      "--------------------------\n",
      "--------------------------\n",
      "自民 ----- 勝目康\n",
      "--------------------------\n",
      "--------------------------\n",
      "Working on 少子化\n",
      "--------------------------\n",
      "--------------------------\n",
      "Reading /Users/annabellepurnomo/git/kokkai_analysis/data_prepping/params/../data/data_repr/自民/勝目康/少子化/1.json\n",
      "--------------------------\n"
     ]
    },
    {
     "name": "stderr",
     "output_type": "stream",
     "text": [
      "Batches: 100%|██████████| 1/1 [00:05<00:00,  5.14s/it]\n"
     ]
    },
    {
     "name": "stdout",
     "output_type": "stream",
     "text": [
      "--------------------------\n",
      "Number of dates 10\n",
      "Number of opinions 10 \n",
      "Number of embeddings 10\n",
      "--------------------------\n",
      "--------------------------\n",
      "自民 ----- 西田昭二\n",
      "--------------------------\n",
      "--------------------------\n",
      "Working on 少子化\n",
      "--------------------------\n",
      "--------------------------\n",
      "Reading /Users/annabellepurnomo/git/kokkai_analysis/data_prepping/params/../data/data_repr/自民/西田昭二/少子化/1.json\n",
      "--------------------------\n"
     ]
    },
    {
     "name": "stderr",
     "output_type": "stream",
     "text": [
      "Batches: 100%|██████████| 1/1 [00:02<00:00,  2.71s/it]\n"
     ]
    },
    {
     "name": "stdout",
     "output_type": "stream",
     "text": [
      "--------------------------\n",
      "Number of dates 6\n",
      "Number of opinions 6 \n",
      "Number of embeddings 6\n",
      "--------------------------\n",
      "--------------------------\n",
      "自民 ----- 柿沢未途\n",
      "--------------------------\n",
      "--------------------------\n",
      "Working on 少子化\n",
      "--------------------------\n",
      "--------------------------\n",
      "Reading /Users/annabellepurnomo/git/kokkai_analysis/data_prepping/params/../data/data_repr/自民/柿沢未途/少子化/1.json\n",
      "--------------------------\n"
     ]
    },
    {
     "name": "stderr",
     "output_type": "stream",
     "text": [
      "Batches: 100%|██████████| 1/1 [00:04<00:00,  4.17s/it]\n"
     ]
    },
    {
     "name": "stdout",
     "output_type": "stream",
     "text": [
      "--------------------------\n",
      "Number of dates 10\n",
      "Number of opinions 10 \n",
      "Number of embeddings 10\n",
      "--------------------------\n",
      "--------------------------\n",
      "自民 ----- 木村次郎\n",
      "--------------------------\n",
      "--------------------------\n",
      "Working on 少子化\n",
      "--------------------------\n",
      "--------------------------\n",
      "Reading /Users/annabellepurnomo/git/kokkai_analysis/data_prepping/params/../data/data_repr/自民/木村次郎/少子化/1.json\n",
      "--------------------------\n"
     ]
    },
    {
     "name": "stderr",
     "output_type": "stream",
     "text": [
      "Batches: 100%|██████████| 1/1 [00:02<00:00,  2.61s/it]\n"
     ]
    },
    {
     "name": "stdout",
     "output_type": "stream",
     "text": [
      "--------------------------\n",
      "Number of dates 6\n",
      "Number of opinions 6 \n",
      "Number of embeddings 6\n",
      "--------------------------\n",
      "--------------------------\n",
      "自民 ----- 西村明宏\n",
      "--------------------------\n",
      "--------------------------\n",
      "Working on 少子化\n",
      "--------------------------\n",
      "--------------------------\n",
      "Reading /Users/annabellepurnomo/git/kokkai_analysis/data_prepping/params/../data/data_repr/自民/西村明宏/少子化/1.json\n",
      "--------------------------\n"
     ]
    },
    {
     "name": "stderr",
     "output_type": "stream",
     "text": [
      "Batches: 100%|██████████| 1/1 [00:07<00:00,  7.64s/it]\n"
     ]
    },
    {
     "name": "stdout",
     "output_type": "stream",
     "text": [
      "--------------------------\n",
      "Number of dates 9\n",
      "Number of opinions 9 \n",
      "Number of embeddings 9\n",
      "--------------------------\n",
      "--------------------------\n",
      "自民 ----- 中曽根康隆\n",
      "--------------------------\n",
      "--------------------------\n",
      "Working on 少子化\n",
      "--------------------------\n",
      "--------------------------\n",
      "Reading /Users/annabellepurnomo/git/kokkai_analysis/data_prepping/params/../data/data_repr/自民/中曽根康隆/少子化/1.json\n",
      "--------------------------\n"
     ]
    },
    {
     "name": "stderr",
     "output_type": "stream",
     "text": [
      "Batches: 100%|██████████| 2/2 [00:19<00:00,  9.97s/it]\n"
     ]
    },
    {
     "name": "stdout",
     "output_type": "stream",
     "text": [
      "--------------------------\n",
      "Number of dates 49\n",
      "Number of opinions 49 \n",
      "Number of embeddings 49\n",
      "--------------------------\n",
      "--------------------------\n",
      "自民 ----- 古川禎久\n",
      "--------------------------\n",
      "--------------------------\n",
      "Working on LGBT\n",
      "--------------------------\n",
      "--------------------------\n",
      "Reading /Users/annabellepurnomo/git/kokkai_analysis/data_prepping/params/../data/data_repr/自民/古川禎久/LGBT/1.json\n",
      "--------------------------\n"
     ]
    },
    {
     "name": "stderr",
     "output_type": "stream",
     "text": [
      "Batches: 100%|██████████| 1/1 [00:00<00:00,  4.95it/s]\n"
     ]
    },
    {
     "name": "stdout",
     "output_type": "stream",
     "text": [
      "--------------------------\n",
      "Number of dates 1\n",
      "Number of opinions 1 \n",
      "Number of embeddings 1\n",
      "--------------------------\n",
      "--------------------------\n",
      "自民 ----- 細野豪志\n",
      "--------------------------\n",
      "--------------------------\n",
      "Working on LGBT\n",
      "--------------------------\n",
      "--------------------------\n",
      "Reading /Users/annabellepurnomo/git/kokkai_analysis/data_prepping/params/../data/data_repr/自民/細野豪志/LGBT/1.json\n",
      "--------------------------\n"
     ]
    },
    {
     "name": "stderr",
     "output_type": "stream",
     "text": [
      "Batches: 100%|██████████| 1/1 [00:04<00:00,  4.93s/it]\n"
     ]
    },
    {
     "name": "stdout",
     "output_type": "stream",
     "text": [
      "--------------------------\n",
      "Number of dates 10\n",
      "Number of opinions 10 \n",
      "Number of embeddings 10\n",
      "--------------------------\n",
      "--------------------------\n",
      "自民 ----- 谷川弥一\n",
      "--------------------------\n",
      "--------------------------\n",
      "Working on 少子化\n",
      "--------------------------\n",
      "--------------------------\n",
      "Reading /Users/annabellepurnomo/git/kokkai_analysis/data_prepping/params/../data/data_repr/自民/谷川弥一/少子化/1.json\n",
      "--------------------------\n"
     ]
    },
    {
     "name": "stderr",
     "output_type": "stream",
     "text": [
      "Batches: 100%|██████████| 1/1 [00:01<00:00,  1.84s/it]\n"
     ]
    },
    {
     "name": "stdout",
     "output_type": "stream",
     "text": [
      "--------------------------\n",
      "Number of dates 8\n",
      "Number of opinions 8 \n",
      "Number of embeddings 8\n",
      "--------------------------\n",
      "--------------------------\n",
      "自民 ----- 瀬戸隆一\n",
      "--------------------------\n",
      "--------------------------\n",
      "自民 ----- 高木宏壽\n",
      "--------------------------\n",
      "--------------------------\n",
      "Working on 少子化\n",
      "--------------------------\n",
      "--------------------------\n",
      "Reading /Users/annabellepurnomo/git/kokkai_analysis/data_prepping/params/../data/data_repr/自民/高木宏壽/少子化/1.json\n",
      "--------------------------\n"
     ]
    },
    {
     "name": "stderr",
     "output_type": "stream",
     "text": [
      "Batches: 100%|██████████| 1/1 [00:06<00:00,  6.62s/it]\n"
     ]
    },
    {
     "name": "stdout",
     "output_type": "stream",
     "text": [
      "--------------------------\n",
      "Number of dates 16\n",
      "Number of opinions 16 \n",
      "Number of embeddings 16\n",
      "--------------------------\n",
      "--------------------------\n",
      "自民 ----- 野田聖子\n",
      "--------------------------\n",
      "--------------------------\n",
      "Working on 少子化\n",
      "--------------------------\n",
      "--------------------------\n",
      "Reading /Users/annabellepurnomo/git/kokkai_analysis/data_prepping/params/../data/data_repr/自民/野田聖子/少子化/1.json\n",
      "--------------------------\n",
      "--------------------------\n",
      "Reading /Users/annabellepurnomo/git/kokkai_analysis/data_prepping/params/../data/data_repr/自民/野田聖子/少子化/2.json\n",
      "--------------------------\n",
      "--------------------------\n",
      "Reading /Users/annabellepurnomo/git/kokkai_analysis/data_prepping/params/../data/data_repr/自民/野田聖子/少子化/3.json\n",
      "--------------------------\n",
      "--------------------------\n",
      "Reading /Users/annabellepurnomo/git/kokkai_analysis/data_prepping/params/../data/data_repr/自民/野田聖子/少子化/4.json\n",
      "--------------------------\n",
      "--------------------------\n",
      "Reading /Users/annabellepurnomo/git/kokkai_analysis/data_prepping/params/../data/data_repr/自民/野田聖子/少子化/5.json\n",
      "--------------------------\n"
     ]
    },
    {
     "name": "stderr",
     "output_type": "stream",
     "text": [
      "Batches: 100%|██████████| 22/22 [03:29<00:00,  9.51s/it]\n"
     ]
    },
    {
     "name": "stdout",
     "output_type": "stream",
     "text": [
      "--------------------------\n",
      "Number of dates 675\n",
      "Number of opinions 675 \n",
      "Number of embeddings 675\n",
      "--------------------------\n",
      "--------------------------\n",
      "Working on LGBT\n",
      "--------------------------\n",
      "--------------------------\n",
      "Reading /Users/annabellepurnomo/git/kokkai_analysis/data_prepping/params/../data/data_repr/自民/野田聖子/LGBT/1.json\n",
      "--------------------------\n"
     ]
    },
    {
     "name": "stderr",
     "output_type": "stream",
     "text": [
      "Batches: 100%|██████████| 1/1 [00:04<00:00,  4.57s/it]\n"
     ]
    },
    {
     "name": "stdout",
     "output_type": "stream",
     "text": [
      "--------------------------\n",
      "Number of dates 12\n",
      "Number of opinions 12 \n",
      "Number of embeddings 12\n",
      "--------------------------\n",
      "--------------------------\n",
      "自民 ----- 平井卓也\n",
      "--------------------------\n",
      "--------------------------\n",
      "Working on 少子化\n",
      "--------------------------\n",
      "--------------------------\n",
      "Reading /Users/annabellepurnomo/git/kokkai_analysis/data_prepping/params/../data/data_repr/自民/平井卓也/少子化/1.json\n",
      "--------------------------\n"
     ]
    },
    {
     "name": "stderr",
     "output_type": "stream",
     "text": [
      "Batches: 100%|██████████| 1/1 [00:15<00:00, 15.26s/it]\n"
     ]
    },
    {
     "name": "stdout",
     "output_type": "stream",
     "text": [
      "--------------------------\n",
      "Number of dates 30\n",
      "Number of opinions 30 \n",
      "Number of embeddings 30\n",
      "--------------------------\n",
      "--------------------------\n",
      "自民 ----- 田村憲久\n",
      "--------------------------\n",
      "--------------------------\n",
      "Working on 少子化\n",
      "--------------------------\n",
      "--------------------------\n",
      "Reading /Users/annabellepurnomo/git/kokkai_analysis/data_prepping/params/../data/data_repr/自民/田村憲久/少子化/1.json\n",
      "--------------------------\n",
      "--------------------------\n",
      "Reading /Users/annabellepurnomo/git/kokkai_analysis/data_prepping/params/../data/data_repr/自民/田村憲久/少子化/2.json\n",
      "--------------------------\n",
      "--------------------------\n",
      "Reading /Users/annabellepurnomo/git/kokkai_analysis/data_prepping/params/../data/data_repr/自民/田村憲久/少子化/3.json\n",
      "--------------------------\n"
     ]
    },
    {
     "name": "stderr",
     "output_type": "stream",
     "text": [
      "Batches: 100%|██████████| 14/14 [02:15<00:00,  9.70s/it]\n"
     ]
    },
    {
     "name": "stdout",
     "output_type": "stream",
     "text": [
      "--------------------------\n",
      "Number of dates 432\n",
      "Number of opinions 432 \n",
      "Number of embeddings 432\n",
      "--------------------------\n",
      "--------------------------\n",
      "Working on LGBT\n",
      "--------------------------\n",
      "--------------------------\n",
      "Reading /Users/annabellepurnomo/git/kokkai_analysis/data_prepping/params/../data/data_repr/自民/田村憲久/LGBT/1.json\n",
      "--------------------------\n"
     ]
    },
    {
     "name": "stderr",
     "output_type": "stream",
     "text": [
      "Batches: 100%|██████████| 1/1 [00:03<00:00,  3.61s/it]\n"
     ]
    },
    {
     "name": "stdout",
     "output_type": "stream",
     "text": [
      "--------------------------\n",
      "Number of dates 4\n",
      "Number of opinions 4 \n",
      "Number of embeddings 4\n",
      "--------------------------\n",
      "--------------------------\n",
      "自民 ----- 鷲尾英一郎\n",
      "--------------------------\n",
      "--------------------------\n",
      "Working on 少子化\n",
      "--------------------------\n",
      "--------------------------\n",
      "Reading /Users/annabellepurnomo/git/kokkai_analysis/data_prepping/params/../data/data_repr/自民/鷲尾英一郎/少子化/1.json\n",
      "--------------------------\n"
     ]
    },
    {
     "name": "stderr",
     "output_type": "stream",
     "text": [
      "Batches: 100%|██████████| 1/1 [00:07<00:00,  7.23s/it]\n"
     ]
    },
    {
     "name": "stdout",
     "output_type": "stream",
     "text": [
      "--------------------------\n",
      "Number of dates 11\n",
      "Number of opinions 11 \n",
      "Number of embeddings 11\n",
      "--------------------------\n",
      "--------------------------\n",
      "自民 ----- 加藤勝信\n",
      "--------------------------\n",
      "--------------------------\n",
      "Working on 少子化\n",
      "--------------------------\n",
      "--------------------------\n",
      "Reading /Users/annabellepurnomo/git/kokkai_analysis/data_prepping/params/../data/data_repr/自民/加藤勝信/少子化/1.json\n",
      "--------------------------\n",
      "--------------------------\n",
      "Reading /Users/annabellepurnomo/git/kokkai_analysis/data_prepping/params/../data/data_repr/自民/加藤勝信/少子化/2.json\n",
      "--------------------------\n",
      "--------------------------\n",
      "Reading /Users/annabellepurnomo/git/kokkai_analysis/data_prepping/params/../data/data_repr/自民/加藤勝信/少子化/3.json\n",
      "--------------------------\n"
     ]
    },
    {
     "name": "stderr",
     "output_type": "stream",
     "text": [
      "Batches: 100%|██████████| 11/11 [02:12<00:00, 12.06s/it]\n"
     ]
    },
    {
     "name": "stdout",
     "output_type": "stream",
     "text": [
      "--------------------------\n",
      "Number of dates 346\n",
      "Number of opinions 346 \n",
      "Number of embeddings 346\n",
      "--------------------------\n",
      "--------------------------\n",
      "Working on LGBT\n",
      "--------------------------\n",
      "--------------------------\n",
      "Reading /Users/annabellepurnomo/git/kokkai_analysis/data_prepping/params/../data/data_repr/自民/加藤勝信/LGBT/1.json\n",
      "--------------------------\n"
     ]
    },
    {
     "name": "stderr",
     "output_type": "stream",
     "text": [
      "Batches: 100%|██████████| 1/1 [05:41<00:00, 341.27s/it]\n"
     ]
    },
    {
     "name": "stdout",
     "output_type": "stream",
     "text": [
      "--------------------------\n",
      "Number of dates 8\n",
      "Number of opinions 8 \n",
      "Number of embeddings 8\n",
      "--------------------------\n",
      "--------------------------\n",
      "自民 ----- 宮内秀樹\n",
      "--------------------------\n",
      "--------------------------\n",
      "自民 ----- 島尻安伊子\n",
      "--------------------------\n",
      "--------------------------\n",
      "Working on 少子化\n",
      "--------------------------\n",
      "--------------------------\n",
      "Reading /Users/annabellepurnomo/git/kokkai_analysis/data_prepping/params/../data/data_repr/自民/島尻安伊子/少子化/1.json\n",
      "--------------------------\n"
     ]
    },
    {
     "name": "stderr",
     "output_type": "stream",
     "text": [
      "Batches: 100%|██████████| 1/1 [00:03<00:00,  3.37s/it]\n"
     ]
    },
    {
     "name": "stdout",
     "output_type": "stream",
     "text": [
      "--------------------------\n",
      "Number of dates 5\n",
      "Number of opinions 5 \n",
      "Number of embeddings 5\n",
      "--------------------------\n",
      "--------------------------\n",
      "自民 ----- 牧島かれん\n",
      "--------------------------\n",
      "--------------------------\n",
      "Working on 少子化\n",
      "--------------------------\n",
      "--------------------------\n",
      "Reading /Users/annabellepurnomo/git/kokkai_analysis/data_prepping/params/../data/data_repr/自民/牧島かれん/少子化/1.json\n",
      "--------------------------\n"
     ]
    },
    {
     "name": "stderr",
     "output_type": "stream",
     "text": [
      "Batches: 100%|██████████| 1/1 [08:57<00:00, 537.40s/it]\n"
     ]
    },
    {
     "name": "stdout",
     "output_type": "stream",
     "text": [
      "--------------------------\n",
      "Number of dates 15\n",
      "Number of opinions 15 \n",
      "Number of embeddings 15\n",
      "--------------------------\n",
      "--------------------------\n",
      "自民 ----- 国定勇人\n",
      "--------------------------\n",
      "--------------------------\n",
      "自民 ----- 平沢勝栄\n",
      "--------------------------\n",
      "--------------------------\n",
      "Working on 少子化\n",
      "--------------------------\n",
      "--------------------------\n",
      "Reading /Users/annabellepurnomo/git/kokkai_analysis/data_prepping/params/../data/data_repr/自民/平沢勝栄/少子化/1.json\n",
      "--------------------------\n"
     ]
    },
    {
     "name": "stderr",
     "output_type": "stream",
     "text": [
      "Batches: 100%|██████████| 1/1 [00:02<00:00,  2.03s/it]\n"
     ]
    },
    {
     "name": "stdout",
     "output_type": "stream",
     "text": [
      "--------------------------\n",
      "Number of dates 3\n",
      "Number of opinions 3 \n",
      "Number of embeddings 3\n",
      "--------------------------\n",
      "--------------------------\n",
      "自民 ----- 村上誠一郎\n",
      "--------------------------\n",
      "--------------------------\n",
      "Working on 少子化\n",
      "--------------------------\n",
      "--------------------------\n",
      "Reading /Users/annabellepurnomo/git/kokkai_analysis/data_prepping/params/../data/data_repr/自民/村上誠一郎/少子化/1.json\n",
      "--------------------------\n"
     ]
    },
    {
     "name": "stderr",
     "output_type": "stream",
     "text": [
      "Batches: 100%|██████████| 2/2 [17:58<00:00, 539.11s/it] \n"
     ]
    },
    {
     "name": "stdout",
     "output_type": "stream",
     "text": [
      "--------------------------\n",
      "Number of dates 52\n",
      "Number of opinions 52 \n",
      "Number of embeddings 52\n",
      "--------------------------\n",
      "--------------------------\n",
      "自民 ----- 御法川信英\n",
      "--------------------------\n",
      "--------------------------\n",
      "Working on 少子化\n",
      "--------------------------\n",
      "--------------------------\n",
      "Reading /Users/annabellepurnomo/git/kokkai_analysis/data_prepping/params/../data/data_repr/自民/御法川信英/少子化/1.json\n",
      "--------------------------\n"
     ]
    },
    {
     "name": "stderr",
     "output_type": "stream",
     "text": [
      "Batches: 100%|██████████| 1/1 [09:00<00:00, 540.51s/it]\n"
     ]
    },
    {
     "name": "stdout",
     "output_type": "stream",
     "text": [
      "--------------------------\n",
      "Number of dates 14\n",
      "Number of opinions 14 \n",
      "Number of embeddings 14\n",
      "--------------------------\n",
      "--------------------------\n",
      "自民 ----- 西野太亮\n",
      "--------------------------\n",
      "--------------------------\n",
      "自民 ----- 佐々木紀\n",
      "--------------------------\n",
      "--------------------------\n",
      "Working on 少子化\n",
      "--------------------------\n",
      "--------------------------\n",
      "Reading /Users/annabellepurnomo/git/kokkai_analysis/data_prepping/params/../data/data_repr/自民/佐々木紀/少子化/1.json\n",
      "--------------------------\n"
     ]
    },
    {
     "name": "stderr",
     "output_type": "stream",
     "text": [
      "Batches: 100%|██████████| 1/1 [00:04<00:00,  4.30s/it]\n"
     ]
    },
    {
     "name": "stdout",
     "output_type": "stream",
     "text": [
      "--------------------------\n",
      "Number of dates 11\n",
      "Number of opinions 11 \n",
      "Number of embeddings 11\n",
      "--------------------------\n",
      "--------------------------\n",
      "自民 ----- 菅義偉\n",
      "--------------------------\n",
      "--------------------------\n",
      "Working on 少子化\n",
      "--------------------------\n",
      "--------------------------\n",
      "Reading /Users/annabellepurnomo/git/kokkai_analysis/data_prepping/params/../data/data_repr/自民/菅義偉/少子化/1.json\n",
      "--------------------------\n",
      "--------------------------\n",
      "Reading /Users/annabellepurnomo/git/kokkai_analysis/data_prepping/params/../data/data_repr/自民/菅義偉/少子化/2.json\n",
      "--------------------------\n"
     ]
    },
    {
     "name": "stderr",
     "output_type": "stream",
     "text": [
      "Batches: 100%|██████████| 14/14 [1:06:01<00:00, 282.98s/it]\n"
     ]
    },
    {
     "name": "stdout",
     "output_type": "stream",
     "text": [
      "--------------------------\n",
      "Number of dates 446\n",
      "Number of opinions 446 \n",
      "Number of embeddings 446\n",
      "--------------------------\n",
      "--------------------------\n",
      "Working on LGBT\n",
      "--------------------------\n",
      "--------------------------\n",
      "Reading /Users/annabellepurnomo/git/kokkai_analysis/data_prepping/params/../data/data_repr/自民/菅義偉/LGBT/1.json\n",
      "--------------------------\n"
     ]
    },
    {
     "name": "stderr",
     "output_type": "stream",
     "text": [
      "Batches: 100%|██████████| 1/1 [00:01<00:00,  1.96s/it]\n"
     ]
    },
    {
     "name": "stdout",
     "output_type": "stream",
     "text": [
      "--------------------------\n",
      "Number of dates 7\n",
      "Number of opinions 7 \n",
      "Number of embeddings 7\n",
      "--------------------------\n",
      "--------------------------\n",
      "自民 ----- 土田慎\n",
      "--------------------------\n",
      "--------------------------\n",
      "自民 ----- 高鳥修一\n",
      "--------------------------\n",
      "--------------------------\n",
      "Working on 少子化\n",
      "--------------------------\n",
      "--------------------------\n",
      "Reading /Users/annabellepurnomo/git/kokkai_analysis/data_prepping/params/../data/data_repr/自民/高鳥修一/少子化/1.json\n",
      "--------------------------\n"
     ]
    },
    {
     "name": "stderr",
     "output_type": "stream",
     "text": [
      "Batches: 100%|██████████| 1/1 [00:00<00:00,  1.01it/s]\n"
     ]
    },
    {
     "name": "stdout",
     "output_type": "stream",
     "text": [
      "--------------------------\n",
      "Number of dates 3\n",
      "Number of opinions 3 \n",
      "Number of embeddings 3\n",
      "--------------------------\n",
      "--------------------------\n",
      "自民 ----- 東国幹\n",
      "--------------------------\n",
      "--------------------------\n",
      "自民 ----- 藤丸敏\n",
      "--------------------------\n",
      "--------------------------\n",
      "自民 ----- 若林健太\n",
      "--------------------------\n",
      "--------------------------\n",
      "Working on 少子化\n",
      "--------------------------\n",
      "--------------------------\n",
      "Reading /Users/annabellepurnomo/git/kokkai_analysis/data_prepping/params/../data/data_repr/自民/若林健太/少子化/1.json\n",
      "--------------------------\n"
     ]
    },
    {
     "name": "stderr",
     "output_type": "stream",
     "text": [
      "Batches: 100%|██████████| 1/1 [00:01<00:00,  1.92s/it]\n"
     ]
    },
    {
     "name": "stdout",
     "output_type": "stream",
     "text": [
      "--------------------------\n",
      "Number of dates 8\n",
      "Number of opinions 8 \n",
      "Number of embeddings 8\n",
      "--------------------------\n",
      "--------------------------\n",
      "自民 ----- 松本剛明\n",
      "--------------------------\n",
      "--------------------------\n",
      "Working on 少子化\n",
      "--------------------------\n",
      "--------------------------\n",
      "Reading /Users/annabellepurnomo/git/kokkai_analysis/data_prepping/params/../data/data_repr/自民/松本剛明/少子化/1.json\n",
      "--------------------------\n"
     ]
    },
    {
     "name": "stderr",
     "output_type": "stream",
     "text": [
      "Batches: 100%|██████████| 3/3 [25:28<00:00, 509.45s/it]\n"
     ]
    },
    {
     "name": "stdout",
     "output_type": "stream",
     "text": [
      "--------------------------\n",
      "Number of dates 94\n",
      "Number of opinions 94 \n",
      "Number of embeddings 94\n",
      "--------------------------\n",
      "--------------------------\n",
      "Working on LGBT\n",
      "--------------------------\n",
      "--------------------------\n",
      "Reading /Users/annabellepurnomo/git/kokkai_analysis/data_prepping/params/../data/data_repr/自民/松本剛明/LGBT/1.json\n",
      "--------------------------\n"
     ]
    },
    {
     "name": "stderr",
     "output_type": "stream",
     "text": [
      "Batches: 100%|██████████| 1/1 [09:06<00:00, 546.18s/it]\n"
     ]
    },
    {
     "name": "stdout",
     "output_type": "stream",
     "text": [
      "--------------------------\n",
      "Number of dates 16\n",
      "Number of opinions 16 \n",
      "Number of embeddings 16\n",
      "--------------------------\n",
      "--------------------------\n",
      "自民 ----- 浜田靖一\n",
      "--------------------------\n",
      "--------------------------\n",
      "Working on 少子化\n",
      "--------------------------\n",
      "--------------------------\n",
      "Reading /Users/annabellepurnomo/git/kokkai_analysis/data_prepping/params/../data/data_repr/自民/浜田靖一/少子化/1.json\n",
      "--------------------------\n"
     ]
    },
    {
     "name": "stderr",
     "output_type": "stream",
     "text": [
      "Batches: 100%|██████████| 1/1 [00:01<00:00,  1.12s/it]\n"
     ]
    },
    {
     "name": "stdout",
     "output_type": "stream",
     "text": [
      "--------------------------\n",
      "Number of dates 2\n",
      "Number of opinions 2 \n",
      "Number of embeddings 2\n",
      "--------------------------\n",
      "--------------------------\n",
      "自民 ----- 古屋圭司\n",
      "--------------------------\n",
      "--------------------------\n",
      "自民 ----- 伊藤達也\n",
      "--------------------------\n",
      "--------------------------\n",
      "Working on 少子化\n",
      "--------------------------\n",
      "--------------------------\n",
      "Reading /Users/annabellepurnomo/git/kokkai_analysis/data_prepping/params/../data/data_repr/自民/伊藤達也/少子化/1.json\n",
      "--------------------------\n"
     ]
    },
    {
     "name": "stderr",
     "output_type": "stream",
     "text": [
      "Batches: 100%|██████████| 1/1 [17:57<00:00, 1077.65s/it]\n"
     ]
    },
    {
     "name": "stdout",
     "output_type": "stream",
     "text": [
      "--------------------------\n",
      "Number of dates 28\n",
      "Number of opinions 28 \n",
      "Number of embeddings 28\n",
      "--------------------------\n",
      "--------------------------\n",
      "自民 ----- 古賀篤\n",
      "--------------------------\n",
      "--------------------------\n",
      "Working on 少子化\n",
      "--------------------------\n",
      "--------------------------\n",
      "Reading /Users/annabellepurnomo/git/kokkai_analysis/data_prepping/params/../data/data_repr/自民/古賀篤/少子化/1.json\n",
      "--------------------------\n"
     ]
    },
    {
     "name": "stderr",
     "output_type": "stream",
     "text": [
      "Batches: 100%|██████████| 1/1 [08:59<00:00, 539.30s/it]\n"
     ]
    },
    {
     "name": "stdout",
     "output_type": "stream",
     "text": [
      "--------------------------\n",
      "Number of dates 14\n",
      "Number of opinions 14 \n",
      "Number of embeddings 14\n",
      "--------------------------\n",
      "--------------------------\n",
      "自民 ----- 三反園訓\n",
      "--------------------------\n",
      "--------------------------\n",
      "自民 ----- 塩崎彰久\n",
      "--------------------------\n",
      "--------------------------\n",
      "Working on 少子化\n",
      "--------------------------\n",
      "--------------------------\n",
      "Reading /Users/annabellepurnomo/git/kokkai_analysis/data_prepping/params/../data/data_repr/自民/塩崎彰久/少子化/1.json\n",
      "--------------------------\n"
     ]
    },
    {
     "name": "stderr",
     "output_type": "stream",
     "text": [
      "Batches: 100%|██████████| 1/1 [00:02<00:00,  2.06s/it]\n"
     ]
    },
    {
     "name": "stdout",
     "output_type": "stream",
     "text": [
      "--------------------------\n",
      "Number of dates 3\n",
      "Number of opinions 3 \n",
      "Number of embeddings 3\n",
      "--------------------------\n",
      "--------------------------\n",
      "自民 ----- 石破茂\n",
      "--------------------------\n",
      "--------------------------\n",
      "Working on 少子化\n",
      "--------------------------\n",
      "--------------------------\n",
      "Reading /Users/annabellepurnomo/git/kokkai_analysis/data_prepping/params/../data/data_repr/自民/石破茂/少子化/1.json\n",
      "--------------------------\n"
     ]
    },
    {
     "name": "stderr",
     "output_type": "stream",
     "text": [
      "Batches: 100%|██████████| 8/8 [25:47<00:00, 193.43s/it]\n"
     ]
    },
    {
     "name": "stdout",
     "output_type": "stream",
     "text": [
      "--------------------------\n",
      "Number of dates 251\n",
      "Number of opinions 251 \n",
      "Number of embeddings 251\n",
      "--------------------------\n",
      "--------------------------\n",
      "自民 ----- 額賀福志郎\n",
      "--------------------------\n",
      "--------------------------\n",
      "Working on 少子化\n",
      "--------------------------\n",
      "--------------------------\n",
      "Reading /Users/annabellepurnomo/git/kokkai_analysis/data_prepping/params/../data/data_repr/自民/額賀福志郎/少子化/1.json\n",
      "--------------------------\n"
     ]
    },
    {
     "name": "stderr",
     "output_type": "stream",
     "text": [
      "Batches: 100%|██████████| 3/3 [23:13<00:00, 464.50s/it]\n"
     ]
    },
    {
     "name": "stdout",
     "output_type": "stream",
     "text": [
      "--------------------------\n",
      "Number of dates 74\n",
      "Number of opinions 74 \n",
      "Number of embeddings 74\n",
      "--------------------------\n",
      "--------------------------\n",
      "自民 ----- 下村博文\n",
      "--------------------------\n",
      "--------------------------\n",
      "Working on 少子化\n",
      "--------------------------\n",
      "--------------------------\n",
      "Reading /Users/annabellepurnomo/git/kokkai_analysis/data_prepping/params/../data/data_repr/自民/下村博文/少子化/1.json\n",
      "--------------------------\n",
      "--------------------------\n",
      "Reading /Users/annabellepurnomo/git/kokkai_analysis/data_prepping/params/../data/data_repr/自民/下村博文/少子化/2.json\n",
      "--------------------------\n"
     ]
    },
    {
     "name": "stderr",
     "output_type": "stream",
     "text": [
      "Batches: 100%|██████████| 11/11 [1:24:01<00:00, 458.28s/it] \n"
     ]
    },
    {
     "name": "stdout",
     "output_type": "stream",
     "text": [
      "--------------------------\n",
      "Number of dates 345\n",
      "Number of opinions 345 \n",
      "Number of embeddings 345\n",
      "--------------------------\n",
      "--------------------------\n",
      "自民 ----- 奥野信亮\n",
      "--------------------------\n",
      "--------------------------\n",
      "Working on 少子化\n",
      "--------------------------\n",
      "--------------------------\n",
      "Reading /Users/annabellepurnomo/git/kokkai_analysis/data_prepping/params/../data/data_repr/自民/奥野信亮/少子化/1.json\n",
      "--------------------------\n"
     ]
    },
    {
     "name": "stderr",
     "output_type": "stream",
     "text": [
      "Batches: 100%|██████████| 1/1 [09:00<00:00, 540.68s/it]\n"
     ]
    },
    {
     "name": "stdout",
     "output_type": "stream",
     "text": [
      "--------------------------\n",
      "Number of dates 9\n",
      "Number of opinions 9 \n",
      "Number of embeddings 9\n",
      "--------------------------\n",
      "--------------------------\n",
      "自民 ----- 伊東良孝\n",
      "--------------------------\n",
      "--------------------------\n",
      "Working on 少子化\n",
      "--------------------------\n",
      "--------------------------\n",
      "Reading /Users/annabellepurnomo/git/kokkai_analysis/data_prepping/params/../data/data_repr/自民/伊東良孝/少子化/1.json\n",
      "--------------------------\n"
     ]
    },
    {
     "name": "stderr",
     "output_type": "stream",
     "text": [
      "Batches: 100%|██████████| 1/1 [16:53<00:00, 1013.65s/it]\n"
     ]
    },
    {
     "name": "stdout",
     "output_type": "stream",
     "text": [
      "--------------------------\n",
      "Number of dates 31\n",
      "Number of opinions 31 \n",
      "Number of embeddings 31\n",
      "--------------------------\n",
      "--------------------------\n",
      "無 ----- 吉川赳\n",
      "--------------------------\n",
      "--------------------------\n",
      "Working on 少子化\n",
      "--------------------------\n",
      "--------------------------\n",
      "Reading /Users/annabellepurnomo/git/kokkai_analysis/data_prepping/params/../data/data_repr/無/吉川赳/少子化/1.json\n",
      "--------------------------\n"
     ]
    },
    {
     "name": "stderr",
     "output_type": "stream",
     "text": [
      "Batches: 100%|██████████| 1/1 [09:00<00:00, 540.99s/it]\n"
     ]
    },
    {
     "name": "stdout",
     "output_type": "stream",
     "text": [
      "--------------------------\n",
      "Number of dates 12\n",
      "Number of opinions 12 \n",
      "Number of embeddings 12\n",
      "--------------------------\n",
      "--------------------------\n",
      "無 ----- 細田博之\n",
      "--------------------------\n",
      "--------------------------\n",
      "Working on 少子化\n",
      "--------------------------\n",
      "--------------------------\n",
      "Reading /Users/annabellepurnomo/git/kokkai_analysis/data_prepping/params/../data/data_repr/無/細田博之/少子化/1.json\n",
      "--------------------------\n"
     ]
    },
    {
     "name": "stderr",
     "output_type": "stream",
     "text": [
      "Batches: 100%|██████████| 7/7 [1:02:50<00:00, 538.66s/it] \n"
     ]
    },
    {
     "name": "stdout",
     "output_type": "stream",
     "text": [
      "--------------------------\n",
      "Number of dates 223\n",
      "Number of opinions 223 \n",
      "Number of embeddings 223\n",
      "--------------------------\n",
      "--------------------------\n",
      "無 ----- 海江田万里\n",
      "--------------------------\n",
      "--------------------------\n",
      "Working on 少子化\n",
      "--------------------------\n",
      "--------------------------\n",
      "Reading /Users/annabellepurnomo/git/kokkai_analysis/data_prepping/params/../data/data_repr/無/海江田万里/少子化/1.json\n",
      "--------------------------\n"
     ]
    },
    {
     "name": "stderr",
     "output_type": "stream",
     "text": [
      "Batches: 100%|██████████| 2/2 [18:20<00:00, 550.37s/it] \n"
     ]
    },
    {
     "name": "stdout",
     "output_type": "stream",
     "text": [
      "--------------------------\n",
      "Number of dates 50\n",
      "Number of opinions 50 \n",
      "Number of embeddings 50\n",
      "--------------------------\n",
      "--------------------------\n",
      "無 ----- 吉田豊史\n",
      "--------------------------\n",
      "--------------------------\n",
      "Working on 少子化\n",
      "--------------------------\n",
      "--------------------------\n",
      "Reading /Users/annabellepurnomo/git/kokkai_analysis/data_prepping/params/../data/data_repr/無/吉田豊史/少子化/1.json\n",
      "--------------------------\n"
     ]
    },
    {
     "name": "stderr",
     "output_type": "stream",
     "text": [
      "Batches: 100%|██████████| 2/2 [07:28<00:00, 224.01s/it]\n"
     ]
    },
    {
     "name": "stdout",
     "output_type": "stream",
     "text": [
      "--------------------------\n",
      "Number of dates 35\n",
      "Number of opinions 35 \n",
      "Number of embeddings 35\n",
      "--------------------------\n",
      "--------------------------\n",
      "国民 ----- 浅野哲\n",
      "--------------------------\n",
      "--------------------------\n",
      "Working on 少子化\n",
      "--------------------------\n",
      "--------------------------\n",
      "Reading /Users/annabellepurnomo/git/kokkai_analysis/data_prepping/params/../data/data_repr/国民/浅野哲/少子化/1.json\n",
      "--------------------------\n"
     ]
    },
    {
     "name": "stderr",
     "output_type": "stream",
     "text": [
      "Batches: 100%|██████████| 2/2 [11:27<00:00, 343.89s/it]\n"
     ]
    },
    {
     "name": "stdout",
     "output_type": "stream",
     "text": [
      "--------------------------\n",
      "Number of dates 62\n",
      "Number of opinions 62 \n",
      "Number of embeddings 62\n",
      "--------------------------\n",
      "--------------------------\n",
      "国民 ----- 玉木雄一郎\n",
      "--------------------------\n",
      "--------------------------\n",
      "Working on 少子化\n",
      "--------------------------\n",
      "--------------------------\n",
      "Reading /Users/annabellepurnomo/git/kokkai_analysis/data_prepping/params/../data/data_repr/国民/玉木雄一郎/少子化/1.json\n",
      "--------------------------\n"
     ]
    },
    {
     "name": "stderr",
     "output_type": "stream",
     "text": [
      "Batches: 100%|██████████| 11/11 [55:25<00:00, 302.27s/it]  \n"
     ]
    },
    {
     "name": "stdout",
     "output_type": "stream",
     "text": [
      "--------------------------\n",
      "Number of dates 328\n",
      "Number of opinions 328 \n",
      "Number of embeddings 328\n",
      "--------------------------\n",
      "--------------------------\n",
      "国民 ----- 田中健\n",
      "--------------------------\n",
      "--------------------------\n",
      "Working on 少子化\n",
      "--------------------------\n",
      "--------------------------\n",
      "Reading /Users/annabellepurnomo/git/kokkai_analysis/data_prepping/params/../data/data_repr/国民/田中健/少子化/1.json\n",
      "--------------------------\n"
     ]
    },
    {
     "name": "stderr",
     "output_type": "stream",
     "text": [
      "Batches: 100%|██████████| 1/1 [09:00<00:00, 540.20s/it]\n"
     ]
    },
    {
     "name": "stdout",
     "output_type": "stream",
     "text": [
      "--------------------------\n",
      "Number of dates 16\n",
      "Number of opinions 16 \n",
      "Number of embeddings 16\n",
      "--------------------------\n",
      "--------------------------\n",
      "国民 ----- 鈴木義弘\n",
      "--------------------------\n",
      "--------------------------\n",
      "Working on 少子化\n",
      "--------------------------\n",
      "--------------------------\n",
      "Reading /Users/annabellepurnomo/git/kokkai_analysis/data_prepping/params/../data/data_repr/国民/鈴木義弘/少子化/1.json\n",
      "--------------------------\n"
     ]
    },
    {
     "name": "stderr",
     "output_type": "stream",
     "text": [
      "Batches: 100%|██████████| 1/1 [17:58<00:00, 1078.57s/it]\n"
     ]
    },
    {
     "name": "stdout",
     "output_type": "stream",
     "text": [
      "--------------------------\n",
      "Number of dates 22\n",
      "Number of opinions 22 \n",
      "Number of embeddings 22\n",
      "--------------------------\n",
      "--------------------------\n",
      "国民 ----- 古川元久\n",
      "--------------------------\n",
      "--------------------------\n",
      "Working on 少子化\n",
      "--------------------------\n",
      "--------------------------\n",
      "Reading /Users/annabellepurnomo/git/kokkai_analysis/data_prepping/params/../data/data_repr/国民/古川元久/少子化/1.json\n",
      "--------------------------\n"
     ]
    },
    {
     "name": "stderr",
     "output_type": "stream",
     "text": [
      "Batches: 100%|██████████| 2/2 [27:06<00:00, 813.48s/it] \n"
     ]
    },
    {
     "name": "stdout",
     "output_type": "stream",
     "text": [
      "--------------------------\n",
      "Number of dates 63\n",
      "Number of opinions 63 \n",
      "Number of embeddings 63\n",
      "--------------------------\n",
      "--------------------------\n",
      "国民 ----- 長友慎治\n",
      "--------------------------\n",
      "--------------------------\n",
      "Working on 少子化\n",
      "--------------------------\n",
      "--------------------------\n",
      "Reading /Users/annabellepurnomo/git/kokkai_analysis/data_prepping/params/../data/data_repr/国民/長友慎治/少子化/1.json\n",
      "--------------------------\n"
     ]
    },
    {
     "name": "stderr",
     "output_type": "stream",
     "text": [
      "Batches: 100%|██████████| 1/1 [01:54<00:00, 114.86s/it]\n"
     ]
    },
    {
     "name": "stdout",
     "output_type": "stream",
     "text": [
      "--------------------------\n",
      "Number of dates 16\n",
      "Number of opinions 16 \n",
      "Number of embeddings 16\n",
      "--------------------------\n",
      "--------------------------\n",
      "国民 ----- 前原誠司\n",
      "--------------------------\n",
      "--------------------------\n",
      "Working on 少子化\n",
      "--------------------------\n",
      "--------------------------\n",
      "Reading /Users/annabellepurnomo/git/kokkai_analysis/data_prepping/params/../data/data_repr/国民/前原誠司/少子化/1.json\n",
      "--------------------------\n",
      "--------------------------\n",
      "Reading /Users/annabellepurnomo/git/kokkai_analysis/data_prepping/params/../data/data_repr/国民/前原誠司/少子化/2.json\n",
      "--------------------------\n"
     ]
    },
    {
     "name": "stderr",
     "output_type": "stream",
     "text": [
      "Batches: 100%|██████████| 13/13 [1:18:32<00:00, 362.52s/it] \n"
     ]
    },
    {
     "name": "stdout",
     "output_type": "stream",
     "text": [
      "--------------------------\n",
      "Number of dates 402\n",
      "Number of opinions 402 \n",
      "Number of embeddings 402\n",
      "--------------------------\n",
      "--------------------------\n",
      "国民 ----- 鈴木敦\n",
      "--------------------------\n",
      "--------------------------\n",
      "Working on LGBT\n",
      "--------------------------\n",
      "--------------------------\n",
      "Embeddings already exist for LGBT in /Users/annabellepurnomo/git/kokkai_analysis/data_prepping/params/../data/data_repr/国民/鈴木敦\n",
      "--------------------------\n",
      "--------------------------\n",
      "国民 ----- 斎藤アレックス\n",
      "--------------------------\n",
      "--------------------------\n",
      "Working on 少子化\n",
      "--------------------------\n",
      "--------------------------\n",
      "Reading /Users/annabellepurnomo/git/kokkai_analysis/data_prepping/params/../data/data_repr/国民/斎藤アレックス/少子化/1.json\n",
      "--------------------------\n"
     ]
    },
    {
     "name": "stderr",
     "output_type": "stream",
     "text": [
      "Batches: 100%|██████████| 3/3 [36:04<00:00, 721.50s/it] \n"
     ]
    },
    {
     "name": "stdout",
     "output_type": "stream",
     "text": [
      "--------------------------\n",
      "Number of dates 68\n",
      "Number of opinions 68 \n",
      "Number of embeddings 68\n",
      "--------------------------\n",
      "--------------------------\n",
      "国民 ----- 西岡秀子\n",
      "--------------------------\n",
      "--------------------------\n",
      "Working on 少子化\n",
      "--------------------------\n",
      "--------------------------\n",
      "Reading /Users/annabellepurnomo/git/kokkai_analysis/data_prepping/params/../data/data_repr/国民/西岡秀子/少子化/1.json\n",
      "--------------------------\n"
     ]
    },
    {
     "name": "stderr",
     "output_type": "stream",
     "text": [
      "Batches: 100%|██████████| 2/2 [08:51<00:00, 265.81s/it]"
     ]
    },
    {
     "name": "stdout",
     "output_type": "stream",
     "text": [
      "--------------------------\n",
      "Number of dates 55\n",
      "Number of opinions 55 \n",
      "Number of embeddings 55\n",
      "--------------------------\n"
     ]
    },
    {
     "name": "stderr",
     "output_type": "stream",
     "text": [
      "\n"
     ]
    }
   ],
   "source": [
    "def embed_speeches(speeches):\n",
    "\tencoded_opinions = st.encode(speeches, convert_to_tensor=True, show_progress_bar=True)\n",
    "\treturn encoded_opinions\n",
    "\n",
    "def read_opinion_sentences_and_dates(file_path):\n",
    "\tlogger.message(f'Reading {file_path}')\n",
    "\ttarget_dict = read_json(file_path)\n",
    "\topinion_sentences = []\n",
    "\tdates = []\n",
    "\tfor speech in target_dict['speeches']:\n",
    "\t\tdate = [speech['date'] for _ in range(len(speech['extracted_opinions']))]\n",
    "\t\topinions = speech['extracted_opinions']\n",
    "\t\topinion_sentences.extend(opinions)\n",
    "\t\tdates.extend(date)\n",
    "\t\n",
    "\treturn opinion_sentences, dates\n",
    "\n",
    "def iterate_topics_for_repr(repr_path, topics=[]):\n",
    "\tfor topic in os.listdir(repr_path):\n",
    "\t\tif topic not in topics and topics:\n",
    "\t\t\tcontinue\n",
    "\t\tlogger.message(f'Working on {topic}')\n",
    "\t\ttopic_path = os.path.join(repr_path, topic)\n",
    "\t\tif os.path.exists(os.path.join(topic_path, 'embeddings.hdf5')):\n",
    "\t\t\tlogger.message(f'Embeddings already exist for {topic} in {repr_path}')\n",
    "\t\t\tcontinue\n",
    "\t\tfile_paths = [os.path.join(topic_path, file) for file in os.listdir(topic_path) if file.endswith('.json')]\n",
    "\t\ttopic_opinions = []\n",
    "\t\ttopic_dates = []\n",
    "\t\tfor file_path in file_paths:\n",
    "\t\t\topinion_sentences, dates = read_opinion_sentences_and_dates(file_path)\n",
    "\t\t\ttopic_opinions.extend(opinion_sentences)\n",
    "\t\t\ttopic_dates.extend(dates)\n",
    "\t\tembeddings = embed_speeches(topic_opinions)\n",
    "\t\tembeddings = [embedding.cpu() for embedding in embeddings]\n",
    "\t\tlogger.message(f'Number of dates {len(topic_dates)}\\nNumber of opinions {len(topic_opinions)} \\nNumber of embeddings {len(embeddings)}')\n",
    "\t\tembeddings = torch.stack(embeddings)\n",
    "\t\twith h5py.File(os.path.join(topic_path, 'embeddings.hdf5'), 'w') as f:\n",
    "\t\t\tf.create_dataset('embeddings', data=embeddings)\n",
    "\t\t\tf.create_dataset('dates', data=topic_dates, dtype=h5py.string_dtype(encoding='utf-8'))\n",
    "\t\t\tf.create_dataset('opinions', data=topic_opinions, dtype=h5py.string_dtype(encoding='utf-8'))\n",
    "\n",
    "TOPICS_TO_CREATE_EMBEDDINGS = ['防衛予算', 'エネルギー', '消費税', '移民', '原発','国債']\n",
    "for party in PARTIES:\n",
    "\tparty_path = os.path.join(DATA_REPR_SPEECHES_DIR, party)\n",
    "\trepr_names = os.listdir(party_path)\n",
    "\tfor repr_name in repr_names:\n",
    "\t\tlogger.message(f'{party} ----- {repr_name}')\n",
    "\t\trepr_path = os.path.join(party_path, repr_name)\n",
    "\t\titerate_topics_for_repr(repr_path, topics=TOPICS_TO_CREATE_EMBEDDINGS)"
   ]
  },
  {
   "cell_type": "markdown",
   "metadata": {},
   "source": [
    "## 2. Create one single \"opinion-embedding\" for each politician and store it in a retrievable manner."
   ]
  },
  {
   "cell_type": "code",
   "execution_count": 4,
   "metadata": {},
   "outputs": [],
   "source": [
    "class EmbeddingHandler:\n",
    "\tdef __init__(self, data_dir=DATA_DIR, speeches_dir = DATA_REPR_SPEECHES_DIR, parties=PARTIES):\n",
    "\t\tself.data_dir = data_dir\n",
    "\t\tself.speeches_dir = speeches_dir\n",
    "\t\tself.parties = parties\n",
    "\t\tself.reprs = []\n",
    "\t\tself.repr2party = {}\n",
    "\t\tfor party in self.parties:\n",
    "\t\t\treprs = os.listdir(os.path.join(self.speeches_dir, party))\n",
    "\t\t\tself.reprs.extend(reprs)\n",
    "\t\t\tfor repr in reprs:\n",
    "\t\t\t\tself.repr2party[repr] = party\n",
    "\n",
    "\tdef check_party_exists(self, party):\n",
    "\t\tif party not in self.parties:\n",
    "\t\t\traise ValueError(f'{party} not in {self.parties}')\n",
    "\t\t\n",
    "\tdef get_reprs_for_party(self, party):\n",
    "\t\tself.check_party_exists(party)\n",
    "\t\treturn os.listdir(os.path.join(self.speeches_dir, party))\n",
    "\n",
    "\tdef get_topics_for_repr(self, party, repr_name):\n",
    "\t\tself.check_party_exists(party)\n",
    "\t\treturn os.listdir(os.path.join(self.speeches_dir, party, repr_name))\n",
    "\n",
    "\tdef get_embeddings_for_repr_for_topic(self,repr_name, topic, party=None):\n",
    "\t\tif party is None:\n",
    "\t\t\tparty = self.repr2party[repr_name]\n",
    "\t\tpath = os.path.join(self.speeches_dir, party, repr_name, topic, 'embeddings.hdf5')\n",
    "\t\tif not os.path.exists(path):\n",
    "\t\t\traise ValueError(f'{path} does not exist')\n",
    "\t\t\n",
    "\t\twith h5py.File(path, 'r') as f:\n",
    "\t\t\tembeddings = f['embeddings'][:]\n",
    "\t\t\tdates = [date.decode('utf-8') for date in f['dates'][:]]\n",
    "\t\t\topinions = [opinion.decode('utf-8') for opinion in f['opinions'][:]]\n",
    "\t\t\treturn embeddings, dates, opinions\n",
    "\t\t\n",
    "\tdef get_average_embedding_for_repr_for_topic(self, repr_name, topic, party=None):\n",
    "\t\tif party is None:\n",
    "\t\t\tparty = self.repr2party[repr_name]\n",
    "\t\tembeddings, _, _= self.get_embeddings_for_repr_for_topic(repr_name, topic, party=party)\n",
    "\t\treturn np.mean(embeddings, axis=0)\n",
    "\t\n",
    "\tdef create_summary_hdf5_file_for_average_embeddings(self, path, topic, reprs=None):\n",
    "\t\tif reprs is None:\n",
    "\t\t\treprs = self.reprs\n",
    "\t\tembeddings = []\n",
    "\t\treprs_with_embeddings = []\n",
    "\t\tfor repr in reprs:\n",
    "\t\t\ttry:\n",
    "\t\t\t\taverage_embedding = self.get_average_embedding_for_repr_for_topic(repr, topic)\n",
    "\t\t\t\tembeddings.append(average_embedding)\n",
    "\t\t\t\treprs_with_embeddings.append(repr)\n",
    "\t\t\texcept ValueError:\n",
    "\t\t\t\tlogger.message(f'No embeddings for {repr} for {topic}')\n",
    "\t\t\t\tcontinue\n",
    "\n",
    "\t\tembeddings = np.array(embeddings)\n",
    "\t\twith h5py.File(path, 'w') as f:\n",
    "\t\t\tf.create_dataset('embeddings', data=embeddings)\n",
    "\t\t\tf.create_dataset('reprs', data=reprs_with_embeddings, dtype=h5py.string_dtype(encoding='utf-8'))"
   ]
  },
  {
   "cell_type": "code",
   "execution_count": 5,
   "metadata": {},
   "outputs": [
    {
     "name": "stdout",
     "output_type": "stream",
     "text": [
      "all reprs\n",
      "['斉藤鉄夫', '佐藤茂樹', '浮島智子', '佐藤英道', '日下正喜', '吉田宣弘', '福重隆浩', '吉田久美子', '岡本三成', '輿水恵一', '角田秀穂', '河西宏一', '國重徹', '大口善徳', '浜地雅一', '金城泰邦', '石井啓一', '鰐淵洋子', '竹内譲', '中野洋昌', '中川康洋', '庄子賢一', '赤羽一嘉', '伊佐進一', '稲津久', '平林晃', '高木陽介', '中川宏昌', '山崎正恭', '古屋範子', '伊藤渉', '北側一雄', '玄葉光一郎', '白石洋一', '大串博志', '牧義夫', '岡田克也', '岡本あき子', '梅谷守', '江田憲司', '谷田川元', '大河原まさこ', '小熊慎司', '中谷一馬', '緑川貴士', '野間健', '山崎誠', '重徳和彦', '城井崇', '吉田はるみ', '馬淵澄夫', '後藤祐一', 'おおつき紅葉', '篠原豪', '金子恵美', '渡辺周', '松原仁', '坂本祐之輔', '柚木道義', '小宮山泰子', '堤かなめ', '大西健介', '近藤昭一', '落合貴之', '下条みつ', '西村智奈美', '井坂信彦', '伴野豊', '泉健太', '吉田統彦', '福田昭夫', '田嶋要', '小川淳也', '末次精一', '山岸一生', '小沢一郎', '伊藤俊輔', '野田佳彦', '石川香織', '篠原孝', '菅直人', '湯原俊二', '吉川元', '藤岡隆雄', '山井和則', '稲富修二', '大島敦', '太栄志', '渡辺創', '森山浩行', '長妻昭', '鈴木庸介', '神津たけし', '菊田真紀子', '鎌田さゆり', '新垣邦男', '青山大人', '安住淳', '米山隆一', '近藤和也', '逢坂誠二', '阿部知子', '中島克仁', '寺田学', '森田俊和', '佐藤公治', '青柳陽一郎', '枝野幸男', '小山展弘', '奥野総一郎', '中村喜四郎', '手塚仁雄', '階猛', '徳永久志', '松木けんこう', '櫻井周', '早稲田ゆき', '道下大樹', '山田勝彦', '神谷裕', '中川正春', '山岡達丸', '馬場雄基', '荒井優', '源馬謙太郎', '本庄知史', '原口一博', '末松義規', '笠浩史', '緒方林太郎', '北神圭朗', '仁木博文', '福島伸享', '吉良州司', '本村伸子', '穀田恵二', '宮本岳志', '田村貴昭', '宮本徹', '塩川鉄也', '高橋千鶴子', '赤嶺政賢', '志位和夫', '笠井亮', '前川清成', '守島正', '足立康史', '岬麻紀', '岩谷良平', '遠藤良太', '住吉寛紀', '池下卓', '阿部弘樹', '山本剛正', '堀場幸子', '馬場伸幸', '金村龍那', '浅川義治', '井上英孝', '和田有一朗', '浦野靖人', '掘井健智', '奥下剛光', '赤木正幸', '早坂敦', '吉田とも代', '杉本和巳', '中司宏', '沢田良', '高橋英明', '藤巻健太', '空本誠喜', '美延映夫', '阿部司', '伊東信久', '市村浩一郎', '遠藤敬', '藤田文武', '三木圭恵', '小野泰輔', '漆間譲司', '一谷勇一郎', '青柳仁士', '池畑浩太朗', '大石あきこ', '櫛渕万里', 'たがや亮', '神田憲次', '中谷真一', '細田健一', '谷公一', '熊田裕通', '山本有二', '二階俊博', '新谷正義', '井野俊郎', '義家弘介', '高階恵美子', '梶山弘志', '大岡敏孝', '井上信治', '石井拓', '小倉將信', '小泉進次郎', '金子恭之', '山口俊一', '船田元', '大西英男', '大串正樹', '井林辰憲', '林幹雄', '土屋品子', '五十嵐清', '石原正敬', '木原稔', '山下貴司', '宮下一郎', '伊藤信太郎', '中山展宏', '橘慶一郎', '柴山昌彦', '西村康稔', '田中和徳', '坂本哲志', '谷川とむ', '棚橋泰文', '森山裕', '三ッ林裕巳', '松本尚', '簗和生', '田畑裕明', '斎藤洋明', '堀井学', '高木啓', 'あかま二郎', '高木毅', '中西健治', '若宮健嗣', '田野瀬太道', '稲田朋美', '務台俊介', '門山宏哲', '岩田和親', '木原誠二', '田所嘉徳', '深澤陽一', '武部新', '坂井学', '赤澤亮正', '山口晋', '武田良太', '中村裕之', '牧原秀樹', '工藤彰三', '保岡宏武', '武藤容治', '越智隆雄', '河野太郎', '西銘恒三郎', '大塚拓', '橋本岳', '黄川田仁志', '小里泰弘', '尾身朝子', '古川直季', '本田太郎', '森英介', '渡海紀三朗', '鈴木貴子', '平将明', '丹羽秀樹', '中谷元', '鈴木馨祐', '萩生田光一', '山本ともひろ', '福田達夫', '江藤拓', '亀岡偉民', '辻清人', '井原巧', '小林史明', '衛藤征士郎', '秋本真利', '城内実', '岸田文雄', '松島みどり', '中川郁子', '吉野正芳', '江崎鐵磨', '新藤義孝', '甘利明', '鈴木憲和', '平沼正二郎', '山際大志郎', '和田義明', '上杉謙太郎', '小寺裕雄', '小渕優子', '津島淳', '松野博一', '逢沢一郎', '石田真敏', '高村正大', '鈴木淳司', '上野賢一郎', '石川昭政', '宗清皇一', '櫻田義孝', '鈴木俊一', '茂木敏充', '永岡桂子', '鈴木英敬', '堀内詔子', '盛山正仁', '佐藤勉', '泉田裕彦', '上川陽子', '関芳弘', '山田美樹', '笹川博義', '長島昭久', '中川貴元', '勝俣孝明', '小林鷹之', '田中英之', '神田潤一', '青山周平', '根本幸典', '池田佳隆', '小林茂樹', '星野剛士', '杉田水脈', '鬼木誠', '鈴木隼人', '藤井比早之', '井出庸生', '中野英幸', '根本匠', '野中厚', '小田原潔', '藤原崇', '秋葉賢也', '平口洋', '伊藤忠彦', '八木哲也', '川崎ひでと', '石原宏高', '宮澤博行', '渡辺孝一', '塚田一郎', '林芳正', '岸信千世', '小森卓郎', '高見康裕', '金子俊平', '齋藤健', '加藤鮎子', '小島敏文', 'あべ俊子', '畦元将吾', '金田勝年', '国光あやの', '上田英俊', '宮路拓馬', '塩谷立', '麻生太郎', '大野敬太郎', '尾崎正直', '加藤竜祥', '寺田稔', '小泉龍司', '山本左近', '葉梨康弘', '古川康', '遠藤利明', '小野寺五典', '武村展英', '冨樫博之', '今村雅弘', '武井俊輔', '穂坂泰', '菅家一郎', '高市早苗', '井上貴博', '柳本顕', '三谷英弘', '村井英樹', '山田賢司', '岩屋毅', '今枝宗一郎', '中根一幸', '長坂康正', '土井亨', '松本洋平', '山口壯', '國場幸之助', '後藤茂之', '田中良生', '宮崎政久', '江渡聡徳', '渡辺博道', '勝目康', '西田昭二', '柿沢未途', '木村次郎', '西村明宏', '中曽根康隆', '古川禎久', '細野豪志', '谷川弥一', '瀬戸隆一', '高木宏壽', '野田聖子', '平井卓也', '田村憲久', '鷲尾英一郎', '加藤勝信', '宮内秀樹', '島尻安伊子', '牧島かれん', '国定勇人', '平沢勝栄', '村上誠一郎', '御法川信英', '西野太亮', '佐々木紀', '菅義偉', '土田慎', '高鳥修一', '東国幹', '藤丸敏', '若林健太', '松本剛明', '浜田靖一', '古屋圭司', '伊藤達也', '古賀篤', '三反園訓', '塩崎彰久', '石破茂', '額賀福志郎', '下村博文', '奥野信亮', '伊東良孝', '吉川赳', '細田博之', '海江田万里', '吉田豊史', '浅野哲', '玉木雄一郎', '田中健', '鈴木義弘', '古川元久', '長友慎治', '前原誠司', '鈴木敦', '斎藤アレックス', '西岡秀子']\n",
      "repr2party\n",
      "{'斉藤鉄夫': '公明', '佐藤茂樹': '公明', '浮島智子': '公明', '佐藤英道': '公明', '日下正喜': '公明', '吉田宣弘': '公明', '福重隆浩': '公明', '吉田久美子': '公明', '岡本三成': '公明', '輿水恵一': '公明', '角田秀穂': '公明', '河西宏一': '公明', '國重徹': '公明', '大口善徳': '公明', '浜地雅一': '公明', '金城泰邦': '公明', '石井啓一': '公明', '鰐淵洋子': '公明', '竹内譲': '公明', '中野洋昌': '公明', '中川康洋': '公明', '庄子賢一': '公明', '赤羽一嘉': '公明', '伊佐進一': '公明', '稲津久': '公明', '平林晃': '公明', '高木陽介': '公明', '中川宏昌': '公明', '山崎正恭': '公明', '古屋範子': '公明', '伊藤渉': '公明', '北側一雄': '公明', '玄葉光一郎': '立憲', '白石洋一': '立憲', '大串博志': '立憲', '牧義夫': '立憲', '岡田克也': '立憲', '岡本あき子': '立憲', '梅谷守': '立憲', '江田憲司': '立憲', '谷田川元': '立憲', '大河原まさこ': '立憲', '小熊慎司': '立憲', '中谷一馬': '立憲', '緑川貴士': '立憲', '野間健': '立憲', '山崎誠': '立憲', '重徳和彦': '立憲', '城井崇': '立憲', '吉田はるみ': '立憲', '馬淵澄夫': '立憲', '後藤祐一': '立憲', 'おおつき紅葉': '立憲', '篠原豪': '立憲', '金子恵美': '立憲', '渡辺周': '立憲', '松原仁': '立憲', '坂本祐之輔': '立憲', '柚木道義': '立憲', '小宮山泰子': '立憲', '堤かなめ': '立憲', '大西健介': '立憲', '近藤昭一': '立憲', '落合貴之': '立憲', '下条みつ': '立憲', '西村智奈美': '立憲', '井坂信彦': '立憲', '伴野豊': '立憲', '泉健太': '立憲', '吉田統彦': '立憲', '福田昭夫': '立憲', '田嶋要': '立憲', '小川淳也': '立憲', '末次精一': '立憲', '山岸一生': '立憲', '小沢一郎': '立憲', '伊藤俊輔': '立憲', '野田佳彦': '立憲', '石川香織': '立憲', '篠原孝': '立憲', '菅直人': '立憲', '湯原俊二': '立憲', '吉川元': '立憲', '藤岡隆雄': '立憲', '山井和則': '立憲', '稲富修二': '立憲', '大島敦': '立憲', '太栄志': '立憲', '渡辺創': '立憲', '森山浩行': '立憲', '長妻昭': '立憲', '鈴木庸介': '立憲', '神津たけし': '立憲', '菊田真紀子': '立憲', '鎌田さゆり': '立憲', '新垣邦男': '立憲', '青山大人': '立憲', '安住淳': '立憲', '米山隆一': '立憲', '近藤和也': '立憲', '逢坂誠二': '立憲', '阿部知子': '立憲', '中島克仁': '立憲', '寺田学': '立憲', '森田俊和': '立憲', '佐藤公治': '立憲', '青柳陽一郎': '立憲', '枝野幸男': '立憲', '小山展弘': '立憲', '奥野総一郎': '立憲', '中村喜四郎': '立憲', '手塚仁雄': '立憲', '階猛': '立憲', '徳永久志': '立憲', '松木けんこう': '立憲', '櫻井周': '立憲', '早稲田ゆき': '立憲', '道下大樹': '立憲', '山田勝彦': '立憲', '神谷裕': '立憲', '中川正春': '立憲', '山岡達丸': '立憲', '馬場雄基': '立憲', '荒井優': '立憲', '源馬謙太郎': '立憲', '本庄知史': '立憲', '原口一博': '立憲', '末松義規': '立憲', '笠浩史': '立憲', '緒方林太郎': '有志', '北神圭朗': '有志', '仁木博文': '有志', '福島伸享': '有志', '吉良州司': '有志', '本村伸子': '共産', '穀田恵二': '共産', '宮本岳志': '共産', '田村貴昭': '共産', '宮本徹': '共産', '塩川鉄也': '共産', '高橋千鶴子': '共産', '赤嶺政賢': '共産', '志位和夫': '共産', '笠井亮': '共産', '前川清成': '維新', '守島正': '維新', '足立康史': '維新', '岬麻紀': '維新', '岩谷良平': '維新', '遠藤良太': '維新', '住吉寛紀': '維新', '池下卓': '維新', '阿部弘樹': '維新', '山本剛正': '維新', '堀場幸子': '維新', '馬場伸幸': '維新', '金村龍那': '維新', '浅川義治': '維新', '井上英孝': '維新', '和田有一朗': '維新', '浦野靖人': '維新', '掘井健智': '維新', '奥下剛光': '維新', '赤木正幸': '維新', '早坂敦': '維新', '吉田とも代': '維新', '杉本和巳': '維新', '中司宏': '維新', '沢田良': '維新', '高橋英明': '維新', '藤巻健太': '維新', '空本誠喜': '維新', '美延映夫': '維新', '阿部司': '維新', '伊東信久': '維新', '市村浩一郎': '維新', '遠藤敬': '維新', '藤田文武': '維新', '三木圭恵': '維新', '小野泰輔': '維新', '漆間譲司': '維新', '一谷勇一郎': '維新', '青柳仁士': '維新', '池畑浩太朗': '維新', '大石あきこ': 'れ新', '櫛渕万里': 'れ新', 'たがや亮': 'れ新', '神田憲次': '自民', '中谷真一': '自民', '細田健一': '自民', '谷公一': '自民', '熊田裕通': '自民', '山本有二': '自民', '二階俊博': '自民', '新谷正義': '自民', '井野俊郎': '自民', '義家弘介': '自民', '高階恵美子': '自民', '梶山弘志': '自民', '大岡敏孝': '自民', '井上信治': '自民', '石井拓': '自民', '小倉將信': '自民', '小泉進次郎': '自民', '金子恭之': '自民', '山口俊一': '自民', '船田元': '自民', '大西英男': '自民', '大串正樹': '自民', '井林辰憲': '自民', '林幹雄': '自民', '土屋品子': '自民', '五十嵐清': '自民', '石原正敬': '自民', '木原稔': '自民', '山下貴司': '自民', '宮下一郎': '自民', '伊藤信太郎': '自民', '中山展宏': '自民', '橘慶一郎': '自民', '柴山昌彦': '自民', '西村康稔': '自民', '田中和徳': '自民', '坂本哲志': '自民', '谷川とむ': '自民', '棚橋泰文': '自民', '森山裕': '自民', '三ッ林裕巳': '自民', '松本尚': '自民', '簗和生': '自民', '田畑裕明': '自民', '斎藤洋明': '自民', '堀井学': '自民', '高木啓': '自民', 'あかま二郎': '自民', '高木毅': '自民', '中西健治': '自民', '若宮健嗣': '自民', '田野瀬太道': '自民', '稲田朋美': '自民', '務台俊介': '自民', '門山宏哲': '自民', '岩田和親': '自民', '木原誠二': '自民', '田所嘉徳': '自民', '深澤陽一': '自民', '武部新': '自民', '坂井学': '自民', '赤澤亮正': '自民', '山口晋': '自民', '武田良太': '自民', '中村裕之': '自民', '牧原秀樹': '自民', '工藤彰三': '自民', '保岡宏武': '自民', '武藤容治': '自民', '越智隆雄': '自民', '河野太郎': '自民', '西銘恒三郎': '自民', '大塚拓': '自民', '橋本岳': '自民', '黄川田仁志': '自民', '小里泰弘': '自民', '尾身朝子': '自民', '古川直季': '自民', '本田太郎': '自民', '森英介': '自民', '渡海紀三朗': '自民', '鈴木貴子': '自民', '平将明': '自民', '丹羽秀樹': '自民', '中谷元': '自民', '鈴木馨祐': '自民', '萩生田光一': '自民', '山本ともひろ': '自民', '福田達夫': '自民', '江藤拓': '自民', '亀岡偉民': '自民', '辻清人': '自民', '井原巧': '自民', '小林史明': '自民', '衛藤征士郎': '自民', '秋本真利': '自民', '城内実': '自民', '岸田文雄': '自民', '松島みどり': '自民', '中川郁子': '自民', '吉野正芳': '自民', '江崎鐵磨': '自民', '新藤義孝': '自民', '甘利明': '自民', '鈴木憲和': '自民', '平沼正二郎': '自民', '山際大志郎': '自民', '和田義明': '自民', '上杉謙太郎': '自民', '小寺裕雄': '自民', '小渕優子': '自民', '津島淳': '自民', '松野博一': '自民', '逢沢一郎': '自民', '石田真敏': '自民', '高村正大': '自民', '鈴木淳司': '自民', '上野賢一郎': '自民', '石川昭政': '自民', '宗清皇一': '自民', '櫻田義孝': '自民', '鈴木俊一': '自民', '茂木敏充': '自民', '永岡桂子': '自民', '鈴木英敬': '自民', '堀内詔子': '自民', '盛山正仁': '自民', '佐藤勉': '自民', '泉田裕彦': '自民', '上川陽子': '自民', '関芳弘': '自民', '山田美樹': '自民', '笹川博義': '自民', '長島昭久': '自民', '中川貴元': '自民', '勝俣孝明': '自民', '小林鷹之': '自民', '田中英之': '自民', '神田潤一': '自民', '青山周平': '自民', '根本幸典': '自民', '池田佳隆': '自民', '小林茂樹': '自民', '星野剛士': '自民', '杉田水脈': '自民', '鬼木誠': '自民', '鈴木隼人': '自民', '藤井比早之': '自民', '井出庸生': '自民', '中野英幸': '自民', '根本匠': '自民', '野中厚': '自民', '小田原潔': '自民', '藤原崇': '自民', '秋葉賢也': '自民', '平口洋': '自民', '伊藤忠彦': '自民', '八木哲也': '自民', '川崎ひでと': '自民', '石原宏高': '自民', '宮澤博行': '自民', '渡辺孝一': '自民', '塚田一郎': '自民', '林芳正': '自民', '岸信千世': '自民', '小森卓郎': '自民', '高見康裕': '自民', '金子俊平': '自民', '齋藤健': '自民', '加藤鮎子': '自民', '小島敏文': '自民', 'あべ俊子': '自民', '畦元将吾': '自民', '金田勝年': '自民', '国光あやの': '自民', '上田英俊': '自民', '宮路拓馬': '自民', '塩谷立': '自民', '麻生太郎': '自民', '大野敬太郎': '自民', '尾崎正直': '自民', '加藤竜祥': '自民', '寺田稔': '自民', '小泉龍司': '自民', '山本左近': '自民', '葉梨康弘': '自民', '古川康': '自民', '遠藤利明': '自民', '小野寺五典': '自民', '武村展英': '自民', '冨樫博之': '自民', '今村雅弘': '自民', '武井俊輔': '自民', '穂坂泰': '自民', '菅家一郎': '自民', '高市早苗': '自民', '井上貴博': '自民', '柳本顕': '自民', '三谷英弘': '自民', '村井英樹': '自民', '山田賢司': '自民', '岩屋毅': '自民', '今枝宗一郎': '自民', '中根一幸': '自民', '長坂康正': '自民', '土井亨': '自民', '松本洋平': '自民', '山口壯': '自民', '國場幸之助': '自民', '後藤茂之': '自民', '田中良生': '自民', '宮崎政久': '自民', '江渡聡徳': '自民', '渡辺博道': '自民', '勝目康': '自民', '西田昭二': '自民', '柿沢未途': '自民', '木村次郎': '自民', '西村明宏': '自民', '中曽根康隆': '自民', '古川禎久': '自民', '細野豪志': '自民', '谷川弥一': '自民', '瀬戸隆一': '自民', '高木宏壽': '自民', '野田聖子': '自民', '平井卓也': '自民', '田村憲久': '自民', '鷲尾英一郎': '自民', '加藤勝信': '自民', '宮内秀樹': '自民', '島尻安伊子': '自民', '牧島かれん': '自民', '国定勇人': '自民', '平沢勝栄': '自民', '村上誠一郎': '自民', '御法川信英': '自民', '西野太亮': '自民', '佐々木紀': '自民', '菅義偉': '自民', '土田慎': '自民', '高鳥修一': '自民', '東国幹': '自民', '藤丸敏': '自民', '若林健太': '自民', '松本剛明': '自民', '浜田靖一': '自民', '古屋圭司': '自民', '伊藤達也': '自民', '古賀篤': '自民', '三反園訓': '自民', '塩崎彰久': '自民', '石破茂': '自民', '額賀福志郎': '自民', '下村博文': '自民', '奥野信亮': '自民', '伊東良孝': '自民', '吉川赳': '無', '細田博之': '無', '海江田万里': '無', '吉田豊史': '無', '浅野哲': '国民', '玉木雄一郎': '国民', '田中健': '国民', '鈴木義弘': '国民', '古川元久': '国民', '長友慎治': '国民', '前原誠司': '国民', '鈴木敦': '国民', '斎藤アレックス': '国民', '西岡秀子': '国民'}\n",
      "reprs for 自民\n",
      "['神田憲次', '中谷真一', '細田健一', '谷公一', '熊田裕通', '山本有二', '二階俊博', '新谷正義', '井野俊郎', '義家弘介', '高階恵美子', '梶山弘志', '大岡敏孝', '井上信治', '石井拓', '小倉將信', '小泉進次郎', '金子恭之', '山口俊一', '船田元', '大西英男', '大串正樹', '井林辰憲', '林幹雄', '土屋品子', '五十嵐清', '石原正敬', '木原稔', '山下貴司', '宮下一郎', '伊藤信太郎', '中山展宏', '橘慶一郎', '柴山昌彦', '西村康稔', '田中和徳', '坂本哲志', '谷川とむ', '棚橋泰文', '森山裕', '三ッ林裕巳', '松本尚', '簗和生', '田畑裕明', '斎藤洋明', '堀井学', '高木啓', 'あかま二郎', '高木毅', '中西健治', '若宮健嗣', '田野瀬太道', '稲田朋美', '務台俊介', '門山宏哲', '岩田和親', '木原誠二', '田所嘉徳', '深澤陽一', '武部新', '坂井学', '赤澤亮正', '山口晋', '武田良太', '中村裕之', '牧原秀樹', '工藤彰三', '保岡宏武', '武藤容治', '越智隆雄', '河野太郎', '西銘恒三郎', '大塚拓', '橋本岳', '黄川田仁志', '小里泰弘', '尾身朝子', '古川直季', '本田太郎', '森英介', '渡海紀三朗', '鈴木貴子', '平将明', '丹羽秀樹', '中谷元', '鈴木馨祐', '萩生田光一', '山本ともひろ', '福田達夫', '江藤拓', '亀岡偉民', '辻清人', '井原巧', '小林史明', '衛藤征士郎', '秋本真利', '城内実', '岸田文雄', '松島みどり', '中川郁子', '吉野正芳', '江崎鐵磨', '新藤義孝', '甘利明', '鈴木憲和', '平沼正二郎', '山際大志郎', '和田義明', '上杉謙太郎', '小寺裕雄', '小渕優子', '津島淳', '松野博一', '逢沢一郎', '石田真敏', '高村正大', '鈴木淳司', '上野賢一郎', '石川昭政', '宗清皇一', '櫻田義孝', '鈴木俊一', '茂木敏充', '永岡桂子', '鈴木英敬', '堀内詔子', '盛山正仁', '佐藤勉', '泉田裕彦', '上川陽子', '関芳弘', '山田美樹', '笹川博義', '長島昭久', '中川貴元', '勝俣孝明', '小林鷹之', '田中英之', '神田潤一', '青山周平', '根本幸典', '池田佳隆', '小林茂樹', '星野剛士', '杉田水脈', '鬼木誠', '鈴木隼人', '藤井比早之', '井出庸生', '中野英幸', '根本匠', '野中厚', '小田原潔', '藤原崇', '秋葉賢也', '平口洋', '伊藤忠彦', '八木哲也', '川崎ひでと', '石原宏高', '宮澤博行', '渡辺孝一', '塚田一郎', '林芳正', '岸信千世', '小森卓郎', '高見康裕', '金子俊平', '齋藤健', '加藤鮎子', '小島敏文', 'あべ俊子', '畦元将吾', '金田勝年', '国光あやの', '上田英俊', '宮路拓馬', '塩谷立', '麻生太郎', '大野敬太郎', '尾崎正直', '加藤竜祥', '寺田稔', '小泉龍司', '山本左近', '葉梨康弘', '古川康', '遠藤利明', '小野寺五典', '武村展英', '冨樫博之', '今村雅弘', '武井俊輔', '穂坂泰', '菅家一郎', '高市早苗', '井上貴博', '柳本顕', '三谷英弘', '村井英樹', '山田賢司', '岩屋毅', '今枝宗一郎', '中根一幸', '長坂康正', '土井亨', '松本洋平', '山口壯', '國場幸之助', '後藤茂之', '田中良生', '宮崎政久', '江渡聡徳', '渡辺博道', '勝目康', '西田昭二', '柿沢未途', '木村次郎', '西村明宏', '中曽根康隆', '古川禎久', '細野豪志', '谷川弥一', '瀬戸隆一', '高木宏壽', '野田聖子', '平井卓也', '田村憲久', '鷲尾英一郎', '加藤勝信', '宮内秀樹', '島尻安伊子', '牧島かれん', '国定勇人', '平沢勝栄', '村上誠一郎', '御法川信英', '西野太亮', '佐々木紀', '菅義偉', '土田慎', '高鳥修一', '東国幹', '藤丸敏', '若林健太', '松本剛明', '浜田靖一', '古屋圭司', '伊藤達也', '古賀篤', '三反園訓', '塩崎彰久', '石破茂', '額賀福志郎', '下村博文', '奥野信亮', '伊東良孝']\n",
      "topics for 自民 and 新藤義孝\n",
      "['防衛', 'エネルギー', '原発', '少子化', 'LGBT', '国債', '消費税', '防衛予算']\n",
      "embeddings shape (96, 768)\n",
      "96 dates ---- sample: 2014-10-31\n",
      "96 opinions ---- sample: \n",
      "　この際に、では、国の横串を刺す体制ができたとしても、今度は地方に対してばらまきになってはいけない\n",
      "mean embedding shape (768,)\n",
      "Creating summary hdf5 file for all embeddings for one topic 防衛予算\n",
      "--------------------------\n",
      "No embeddings for 斉藤鉄夫 for 防衛予算\n",
      "--------------------------\n",
      "--------------------------\n",
      "No embeddings for 佐藤茂樹 for 防衛予算\n",
      "--------------------------\n",
      "--------------------------\n",
      "No embeddings for 浮島智子 for 防衛予算\n",
      "--------------------------\n",
      "--------------------------\n",
      "No embeddings for 佐藤英道 for 防衛予算\n",
      "--------------------------\n",
      "--------------------------\n",
      "No embeddings for 日下正喜 for 防衛予算\n",
      "--------------------------\n",
      "--------------------------\n",
      "No embeddings for 吉田宣弘 for 防衛予算\n",
      "--------------------------\n",
      "--------------------------\n",
      "No embeddings for 福重隆浩 for 防衛予算\n",
      "--------------------------\n",
      "--------------------------\n",
      "No embeddings for 吉田久美子 for 防衛予算\n",
      "--------------------------\n",
      "--------------------------\n",
      "No embeddings for 岡本三成 for 防衛予算\n",
      "--------------------------\n",
      "--------------------------\n",
      "No embeddings for 輿水恵一 for 防衛予算\n",
      "--------------------------\n",
      "--------------------------\n",
      "No embeddings for 角田秀穂 for 防衛予算\n",
      "--------------------------\n",
      "--------------------------\n",
      "No embeddings for 河西宏一 for 防衛予算\n",
      "--------------------------\n",
      "--------------------------\n",
      "No embeddings for 國重徹 for 防衛予算\n",
      "--------------------------\n",
      "--------------------------\n",
      "No embeddings for 大口善徳 for 防衛予算\n",
      "--------------------------\n",
      "--------------------------\n",
      "No embeddings for 浜地雅一 for 防衛予算\n",
      "--------------------------\n",
      "--------------------------\n",
      "No embeddings for 金城泰邦 for 防衛予算\n",
      "--------------------------\n",
      "--------------------------\n",
      "No embeddings for 石井啓一 for 防衛予算\n",
      "--------------------------\n",
      "--------------------------\n",
      "No embeddings for 鰐淵洋子 for 防衛予算\n",
      "--------------------------\n",
      "--------------------------\n",
      "No embeddings for 竹内譲 for 防衛予算\n",
      "--------------------------\n",
      "--------------------------\n",
      "No embeddings for 中野洋昌 for 防衛予算\n",
      "--------------------------\n",
      "--------------------------\n",
      "No embeddings for 中川康洋 for 防衛予算\n",
      "--------------------------\n",
      "--------------------------\n",
      "No embeddings for 庄子賢一 for 防衛予算\n",
      "--------------------------\n",
      "--------------------------\n",
      "No embeddings for 赤羽一嘉 for 防衛予算\n",
      "--------------------------\n",
      "--------------------------\n",
      "No embeddings for 伊佐進一 for 防衛予算\n",
      "--------------------------\n",
      "--------------------------\n",
      "No embeddings for 稲津久 for 防衛予算\n",
      "--------------------------\n",
      "--------------------------\n",
      "No embeddings for 平林晃 for 防衛予算\n",
      "--------------------------\n",
      "--------------------------\n",
      "No embeddings for 高木陽介 for 防衛予算\n",
      "--------------------------\n",
      "--------------------------\n",
      "No embeddings for 中川宏昌 for 防衛予算\n",
      "--------------------------\n",
      "--------------------------\n",
      "No embeddings for 山崎正恭 for 防衛予算\n",
      "--------------------------\n",
      "--------------------------\n",
      "No embeddings for 古屋範子 for 防衛予算\n",
      "--------------------------\n",
      "--------------------------\n",
      "No embeddings for 伊藤渉 for 防衛予算\n",
      "--------------------------\n",
      "--------------------------\n",
      "No embeddings for 北側一雄 for 防衛予算\n",
      "--------------------------\n",
      "--------------------------\n",
      "No embeddings for 玄葉光一郎 for 防衛予算\n",
      "--------------------------\n",
      "--------------------------\n",
      "No embeddings for 白石洋一 for 防衛予算\n",
      "--------------------------\n",
      "--------------------------\n",
      "No embeddings for 大串博志 for 防衛予算\n",
      "--------------------------\n",
      "--------------------------\n",
      "No embeddings for 牧義夫 for 防衛予算\n",
      "--------------------------\n",
      "--------------------------\n",
      "No embeddings for 岡田克也 for 防衛予算\n",
      "--------------------------\n",
      "--------------------------\n",
      "No embeddings for 岡本あき子 for 防衛予算\n",
      "--------------------------\n",
      "--------------------------\n",
      "No embeddings for 梅谷守 for 防衛予算\n",
      "--------------------------\n",
      "--------------------------\n",
      "No embeddings for 江田憲司 for 防衛予算\n",
      "--------------------------\n",
      "--------------------------\n",
      "No embeddings for 谷田川元 for 防衛予算\n",
      "--------------------------\n",
      "--------------------------\n",
      "No embeddings for 大河原まさこ for 防衛予算\n",
      "--------------------------\n",
      "--------------------------\n",
      "No embeddings for 小熊慎司 for 防衛予算\n",
      "--------------------------\n",
      "--------------------------\n",
      "No embeddings for 中谷一馬 for 防衛予算\n",
      "--------------------------\n",
      "--------------------------\n",
      "No embeddings for 緑川貴士 for 防衛予算\n",
      "--------------------------\n",
      "--------------------------\n",
      "No embeddings for 野間健 for 防衛予算\n",
      "--------------------------\n",
      "--------------------------\n",
      "No embeddings for 山崎誠 for 防衛予算\n",
      "--------------------------\n",
      "--------------------------\n",
      "No embeddings for 重徳和彦 for 防衛予算\n",
      "--------------------------\n",
      "--------------------------\n",
      "No embeddings for 城井崇 for 防衛予算\n",
      "--------------------------\n",
      "--------------------------\n",
      "No embeddings for 吉田はるみ for 防衛予算\n",
      "--------------------------\n",
      "--------------------------\n",
      "No embeddings for 馬淵澄夫 for 防衛予算\n",
      "--------------------------\n",
      "--------------------------\n",
      "No embeddings for 後藤祐一 for 防衛予算\n",
      "--------------------------\n",
      "--------------------------\n",
      "No embeddings for おおつき紅葉 for 防衛予算\n",
      "--------------------------\n",
      "--------------------------\n",
      "No embeddings for 篠原豪 for 防衛予算\n",
      "--------------------------\n",
      "--------------------------\n",
      "No embeddings for 金子恵美 for 防衛予算\n",
      "--------------------------\n",
      "--------------------------\n",
      "No embeddings for 渡辺周 for 防衛予算\n",
      "--------------------------\n",
      "--------------------------\n",
      "No embeddings for 松原仁 for 防衛予算\n",
      "--------------------------\n",
      "--------------------------\n",
      "No embeddings for 坂本祐之輔 for 防衛予算\n",
      "--------------------------\n",
      "--------------------------\n",
      "No embeddings for 柚木道義 for 防衛予算\n",
      "--------------------------\n",
      "--------------------------\n",
      "No embeddings for 小宮山泰子 for 防衛予算\n",
      "--------------------------\n",
      "--------------------------\n",
      "No embeddings for 堤かなめ for 防衛予算\n",
      "--------------------------\n",
      "--------------------------\n",
      "No embeddings for 大西健介 for 防衛予算\n",
      "--------------------------\n",
      "--------------------------\n",
      "No embeddings for 近藤昭一 for 防衛予算\n",
      "--------------------------\n",
      "--------------------------\n",
      "No embeddings for 落合貴之 for 防衛予算\n",
      "--------------------------\n",
      "--------------------------\n",
      "No embeddings for 下条みつ for 防衛予算\n",
      "--------------------------\n",
      "--------------------------\n",
      "No embeddings for 西村智奈美 for 防衛予算\n",
      "--------------------------\n",
      "--------------------------\n",
      "No embeddings for 井坂信彦 for 防衛予算\n",
      "--------------------------\n",
      "--------------------------\n",
      "No embeddings for 伴野豊 for 防衛予算\n",
      "--------------------------\n",
      "--------------------------\n",
      "No embeddings for 泉健太 for 防衛予算\n",
      "--------------------------\n",
      "--------------------------\n",
      "No embeddings for 吉田統彦 for 防衛予算\n",
      "--------------------------\n",
      "--------------------------\n",
      "No embeddings for 福田昭夫 for 防衛予算\n",
      "--------------------------\n",
      "--------------------------\n",
      "No embeddings for 田嶋要 for 防衛予算\n",
      "--------------------------\n",
      "--------------------------\n",
      "No embeddings for 小川淳也 for 防衛予算\n",
      "--------------------------\n",
      "--------------------------\n",
      "No embeddings for 末次精一 for 防衛予算\n",
      "--------------------------\n",
      "--------------------------\n",
      "No embeddings for 山岸一生 for 防衛予算\n",
      "--------------------------\n",
      "--------------------------\n",
      "No embeddings for 小沢一郎 for 防衛予算\n",
      "--------------------------\n",
      "--------------------------\n",
      "No embeddings for 伊藤俊輔 for 防衛予算\n",
      "--------------------------\n",
      "--------------------------\n",
      "No embeddings for 野田佳彦 for 防衛予算\n",
      "--------------------------\n",
      "--------------------------\n",
      "No embeddings for 石川香織 for 防衛予算\n",
      "--------------------------\n",
      "--------------------------\n",
      "No embeddings for 篠原孝 for 防衛予算\n",
      "--------------------------\n",
      "--------------------------\n",
      "No embeddings for 菅直人 for 防衛予算\n",
      "--------------------------\n",
      "--------------------------\n",
      "No embeddings for 湯原俊二 for 防衛予算\n",
      "--------------------------\n",
      "--------------------------\n",
      "No embeddings for 吉川元 for 防衛予算\n",
      "--------------------------\n",
      "--------------------------\n",
      "No embeddings for 藤岡隆雄 for 防衛予算\n",
      "--------------------------\n",
      "--------------------------\n",
      "No embeddings for 山井和則 for 防衛予算\n",
      "--------------------------\n",
      "--------------------------\n",
      "No embeddings for 稲富修二 for 防衛予算\n",
      "--------------------------\n",
      "--------------------------\n",
      "No embeddings for 大島敦 for 防衛予算\n",
      "--------------------------\n",
      "--------------------------\n",
      "No embeddings for 太栄志 for 防衛予算\n",
      "--------------------------\n",
      "--------------------------\n",
      "No embeddings for 渡辺創 for 防衛予算\n",
      "--------------------------\n",
      "--------------------------\n",
      "No embeddings for 森山浩行 for 防衛予算\n",
      "--------------------------\n",
      "--------------------------\n",
      "No embeddings for 長妻昭 for 防衛予算\n",
      "--------------------------\n",
      "--------------------------\n",
      "No embeddings for 鈴木庸介 for 防衛予算\n",
      "--------------------------\n",
      "--------------------------\n",
      "No embeddings for 神津たけし for 防衛予算\n",
      "--------------------------\n",
      "--------------------------\n",
      "No embeddings for 菊田真紀子 for 防衛予算\n",
      "--------------------------\n",
      "--------------------------\n",
      "No embeddings for 鎌田さゆり for 防衛予算\n",
      "--------------------------\n",
      "--------------------------\n",
      "No embeddings for 新垣邦男 for 防衛予算\n",
      "--------------------------\n",
      "--------------------------\n",
      "No embeddings for 青山大人 for 防衛予算\n",
      "--------------------------\n",
      "--------------------------\n",
      "No embeddings for 安住淳 for 防衛予算\n",
      "--------------------------\n",
      "--------------------------\n",
      "No embeddings for 米山隆一 for 防衛予算\n",
      "--------------------------\n",
      "--------------------------\n",
      "No embeddings for 近藤和也 for 防衛予算\n",
      "--------------------------\n",
      "--------------------------\n",
      "No embeddings for 逢坂誠二 for 防衛予算\n",
      "--------------------------\n",
      "--------------------------\n",
      "No embeddings for 阿部知子 for 防衛予算\n",
      "--------------------------\n",
      "--------------------------\n",
      "No embeddings for 中島克仁 for 防衛予算\n",
      "--------------------------\n",
      "--------------------------\n",
      "No embeddings for 寺田学 for 防衛予算\n",
      "--------------------------\n",
      "--------------------------\n",
      "No embeddings for 森田俊和 for 防衛予算\n",
      "--------------------------\n",
      "--------------------------\n",
      "No embeddings for 佐藤公治 for 防衛予算\n",
      "--------------------------\n",
      "--------------------------\n",
      "No embeddings for 青柳陽一郎 for 防衛予算\n",
      "--------------------------\n",
      "--------------------------\n",
      "No embeddings for 枝野幸男 for 防衛予算\n",
      "--------------------------\n",
      "--------------------------\n",
      "No embeddings for 小山展弘 for 防衛予算\n",
      "--------------------------\n",
      "--------------------------\n",
      "No embeddings for 奥野総一郎 for 防衛予算\n",
      "--------------------------\n",
      "--------------------------\n",
      "No embeddings for 中村喜四郎 for 防衛予算\n",
      "--------------------------\n",
      "--------------------------\n",
      "No embeddings for 手塚仁雄 for 防衛予算\n",
      "--------------------------\n",
      "--------------------------\n",
      "No embeddings for 階猛 for 防衛予算\n",
      "--------------------------\n",
      "--------------------------\n",
      "No embeddings for 徳永久志 for 防衛予算\n",
      "--------------------------\n",
      "--------------------------\n",
      "No embeddings for 松木けんこう for 防衛予算\n",
      "--------------------------\n",
      "--------------------------\n",
      "No embeddings for 櫻井周 for 防衛予算\n",
      "--------------------------\n",
      "--------------------------\n",
      "No embeddings for 早稲田ゆき for 防衛予算\n",
      "--------------------------\n",
      "--------------------------\n",
      "No embeddings for 道下大樹 for 防衛予算\n",
      "--------------------------\n",
      "--------------------------\n",
      "No embeddings for 山田勝彦 for 防衛予算\n",
      "--------------------------\n",
      "--------------------------\n",
      "No embeddings for 神谷裕 for 防衛予算\n",
      "--------------------------\n",
      "--------------------------\n",
      "No embeddings for 中川正春 for 防衛予算\n",
      "--------------------------\n",
      "--------------------------\n",
      "No embeddings for 山岡達丸 for 防衛予算\n",
      "--------------------------\n",
      "--------------------------\n",
      "No embeddings for 馬場雄基 for 防衛予算\n",
      "--------------------------\n",
      "--------------------------\n",
      "No embeddings for 荒井優 for 防衛予算\n",
      "--------------------------\n",
      "--------------------------\n",
      "No embeddings for 源馬謙太郎 for 防衛予算\n",
      "--------------------------\n",
      "--------------------------\n",
      "No embeddings for 本庄知史 for 防衛予算\n",
      "--------------------------\n",
      "--------------------------\n",
      "No embeddings for 原口一博 for 防衛予算\n",
      "--------------------------\n",
      "--------------------------\n",
      "No embeddings for 末松義規 for 防衛予算\n",
      "--------------------------\n",
      "--------------------------\n",
      "No embeddings for 笠浩史 for 防衛予算\n",
      "--------------------------\n",
      "--------------------------\n",
      "No embeddings for 緒方林太郎 for 防衛予算\n",
      "--------------------------\n",
      "--------------------------\n",
      "No embeddings for 北神圭朗 for 防衛予算\n",
      "--------------------------\n",
      "--------------------------\n",
      "No embeddings for 仁木博文 for 防衛予算\n",
      "--------------------------\n",
      "--------------------------\n",
      "No embeddings for 福島伸享 for 防衛予算\n",
      "--------------------------\n",
      "--------------------------\n",
      "No embeddings for 吉良州司 for 防衛予算\n",
      "--------------------------\n",
      "--------------------------\n",
      "No embeddings for 本村伸子 for 防衛予算\n",
      "--------------------------\n",
      "--------------------------\n",
      "No embeddings for 穀田恵二 for 防衛予算\n",
      "--------------------------\n",
      "--------------------------\n",
      "No embeddings for 宮本岳志 for 防衛予算\n",
      "--------------------------\n",
      "--------------------------\n",
      "No embeddings for 田村貴昭 for 防衛予算\n",
      "--------------------------\n",
      "--------------------------\n",
      "No embeddings for 宮本徹 for 防衛予算\n",
      "--------------------------\n",
      "--------------------------\n",
      "No embeddings for 塩川鉄也 for 防衛予算\n",
      "--------------------------\n",
      "--------------------------\n",
      "No embeddings for 高橋千鶴子 for 防衛予算\n",
      "--------------------------\n",
      "--------------------------\n",
      "No embeddings for 赤嶺政賢 for 防衛予算\n",
      "--------------------------\n",
      "--------------------------\n",
      "No embeddings for 志位和夫 for 防衛予算\n",
      "--------------------------\n",
      "--------------------------\n",
      "No embeddings for 笠井亮 for 防衛予算\n",
      "--------------------------\n",
      "--------------------------\n",
      "No embeddings for 前川清成 for 防衛予算\n",
      "--------------------------\n",
      "--------------------------\n",
      "No embeddings for 守島正 for 防衛予算\n",
      "--------------------------\n",
      "--------------------------\n",
      "No embeddings for 足立康史 for 防衛予算\n",
      "--------------------------\n",
      "--------------------------\n",
      "No embeddings for 岬麻紀 for 防衛予算\n",
      "--------------------------\n",
      "--------------------------\n",
      "No embeddings for 岩谷良平 for 防衛予算\n",
      "--------------------------\n",
      "--------------------------\n",
      "No embeddings for 遠藤良太 for 防衛予算\n",
      "--------------------------\n",
      "--------------------------\n",
      "No embeddings for 住吉寛紀 for 防衛予算\n",
      "--------------------------\n",
      "--------------------------\n",
      "No embeddings for 池下卓 for 防衛予算\n",
      "--------------------------\n",
      "--------------------------\n",
      "No embeddings for 阿部弘樹 for 防衛予算\n",
      "--------------------------\n",
      "--------------------------\n",
      "No embeddings for 山本剛正 for 防衛予算\n",
      "--------------------------\n",
      "--------------------------\n",
      "No embeddings for 堀場幸子 for 防衛予算\n",
      "--------------------------\n",
      "--------------------------\n",
      "No embeddings for 馬場伸幸 for 防衛予算\n",
      "--------------------------\n",
      "--------------------------\n",
      "No embeddings for 金村龍那 for 防衛予算\n",
      "--------------------------\n",
      "--------------------------\n",
      "No embeddings for 浅川義治 for 防衛予算\n",
      "--------------------------\n",
      "--------------------------\n",
      "No embeddings for 井上英孝 for 防衛予算\n",
      "--------------------------\n",
      "--------------------------\n",
      "No embeddings for 和田有一朗 for 防衛予算\n",
      "--------------------------\n",
      "--------------------------\n",
      "No embeddings for 浦野靖人 for 防衛予算\n",
      "--------------------------\n",
      "--------------------------\n",
      "No embeddings for 掘井健智 for 防衛予算\n",
      "--------------------------\n",
      "--------------------------\n",
      "No embeddings for 奥下剛光 for 防衛予算\n",
      "--------------------------\n",
      "--------------------------\n",
      "No embeddings for 赤木正幸 for 防衛予算\n",
      "--------------------------\n",
      "--------------------------\n",
      "No embeddings for 早坂敦 for 防衛予算\n",
      "--------------------------\n",
      "--------------------------\n",
      "No embeddings for 吉田とも代 for 防衛予算\n",
      "--------------------------\n",
      "--------------------------\n",
      "No embeddings for 杉本和巳 for 防衛予算\n",
      "--------------------------\n",
      "--------------------------\n",
      "No embeddings for 中司宏 for 防衛予算\n",
      "--------------------------\n",
      "--------------------------\n",
      "No embeddings for 沢田良 for 防衛予算\n",
      "--------------------------\n",
      "--------------------------\n",
      "No embeddings for 高橋英明 for 防衛予算\n",
      "--------------------------\n",
      "--------------------------\n",
      "No embeddings for 藤巻健太 for 防衛予算\n",
      "--------------------------\n",
      "--------------------------\n",
      "No embeddings for 空本誠喜 for 防衛予算\n",
      "--------------------------\n",
      "--------------------------\n",
      "No embeddings for 美延映夫 for 防衛予算\n",
      "--------------------------\n",
      "--------------------------\n",
      "No embeddings for 阿部司 for 防衛予算\n",
      "--------------------------\n",
      "--------------------------\n",
      "No embeddings for 伊東信久 for 防衛予算\n",
      "--------------------------\n",
      "--------------------------\n",
      "No embeddings for 市村浩一郎 for 防衛予算\n",
      "--------------------------\n",
      "--------------------------\n",
      "No embeddings for 遠藤敬 for 防衛予算\n",
      "--------------------------\n",
      "--------------------------\n",
      "No embeddings for 藤田文武 for 防衛予算\n",
      "--------------------------\n",
      "--------------------------\n",
      "No embeddings for 三木圭恵 for 防衛予算\n",
      "--------------------------\n",
      "--------------------------\n",
      "No embeddings for 小野泰輔 for 防衛予算\n",
      "--------------------------\n",
      "--------------------------\n",
      "No embeddings for 漆間譲司 for 防衛予算\n",
      "--------------------------\n",
      "--------------------------\n",
      "No embeddings for 一谷勇一郎 for 防衛予算\n",
      "--------------------------\n",
      "--------------------------\n",
      "No embeddings for 青柳仁士 for 防衛予算\n",
      "--------------------------\n",
      "--------------------------\n",
      "No embeddings for 池畑浩太朗 for 防衛予算\n",
      "--------------------------\n",
      "--------------------------\n",
      "No embeddings for 大石あきこ for 防衛予算\n",
      "--------------------------\n",
      "--------------------------\n",
      "No embeddings for 櫛渕万里 for 防衛予算\n",
      "--------------------------\n",
      "--------------------------\n",
      "No embeddings for たがや亮 for 防衛予算\n",
      "--------------------------\n",
      "--------------------------\n",
      "No embeddings for 神田憲次 for 防衛予算\n",
      "--------------------------\n",
      "--------------------------\n",
      "No embeddings for 中谷真一 for 防衛予算\n",
      "--------------------------\n",
      "--------------------------\n",
      "No embeddings for 細田健一 for 防衛予算\n",
      "--------------------------\n",
      "--------------------------\n",
      "No embeddings for 谷公一 for 防衛予算\n",
      "--------------------------\n",
      "--------------------------\n",
      "No embeddings for 熊田裕通 for 防衛予算\n",
      "--------------------------\n",
      "--------------------------\n",
      "No embeddings for 山本有二 for 防衛予算\n",
      "--------------------------\n",
      "--------------------------\n",
      "No embeddings for 二階俊博 for 防衛予算\n",
      "--------------------------\n",
      "--------------------------\n",
      "No embeddings for 新谷正義 for 防衛予算\n",
      "--------------------------\n",
      "--------------------------\n",
      "No embeddings for 井野俊郎 for 防衛予算\n",
      "--------------------------\n",
      "--------------------------\n",
      "No embeddings for 義家弘介 for 防衛予算\n",
      "--------------------------\n",
      "--------------------------\n",
      "No embeddings for 高階恵美子 for 防衛予算\n",
      "--------------------------\n",
      "--------------------------\n",
      "No embeddings for 梶山弘志 for 防衛予算\n",
      "--------------------------\n",
      "--------------------------\n",
      "No embeddings for 大岡敏孝 for 防衛予算\n",
      "--------------------------\n",
      "--------------------------\n",
      "No embeddings for 井上信治 for 防衛予算\n",
      "--------------------------\n",
      "--------------------------\n",
      "No embeddings for 石井拓 for 防衛予算\n",
      "--------------------------\n",
      "--------------------------\n",
      "No embeddings for 小倉將信 for 防衛予算\n",
      "--------------------------\n",
      "--------------------------\n",
      "No embeddings for 小泉進次郎 for 防衛予算\n",
      "--------------------------\n",
      "--------------------------\n",
      "No embeddings for 金子恭之 for 防衛予算\n",
      "--------------------------\n",
      "--------------------------\n",
      "No embeddings for 山口俊一 for 防衛予算\n",
      "--------------------------\n",
      "--------------------------\n",
      "No embeddings for 船田元 for 防衛予算\n",
      "--------------------------\n",
      "--------------------------\n",
      "No embeddings for 大西英男 for 防衛予算\n",
      "--------------------------\n",
      "--------------------------\n",
      "No embeddings for 大串正樹 for 防衛予算\n",
      "--------------------------\n",
      "--------------------------\n",
      "No embeddings for 井林辰憲 for 防衛予算\n",
      "--------------------------\n",
      "--------------------------\n",
      "No embeddings for 林幹雄 for 防衛予算\n",
      "--------------------------\n",
      "--------------------------\n",
      "No embeddings for 土屋品子 for 防衛予算\n",
      "--------------------------\n",
      "--------------------------\n",
      "No embeddings for 五十嵐清 for 防衛予算\n",
      "--------------------------\n",
      "--------------------------\n",
      "No embeddings for 石原正敬 for 防衛予算\n",
      "--------------------------\n",
      "--------------------------\n",
      "No embeddings for 木原稔 for 防衛予算\n",
      "--------------------------\n",
      "--------------------------\n",
      "No embeddings for 山下貴司 for 防衛予算\n",
      "--------------------------\n",
      "--------------------------\n",
      "No embeddings for 宮下一郎 for 防衛予算\n",
      "--------------------------\n",
      "--------------------------\n",
      "No embeddings for 伊藤信太郎 for 防衛予算\n",
      "--------------------------\n",
      "--------------------------\n",
      "No embeddings for 中山展宏 for 防衛予算\n",
      "--------------------------\n",
      "--------------------------\n",
      "No embeddings for 橘慶一郎 for 防衛予算\n",
      "--------------------------\n",
      "--------------------------\n",
      "No embeddings for 柴山昌彦 for 防衛予算\n",
      "--------------------------\n",
      "--------------------------\n",
      "No embeddings for 西村康稔 for 防衛予算\n",
      "--------------------------\n",
      "--------------------------\n",
      "No embeddings for 田中和徳 for 防衛予算\n",
      "--------------------------\n",
      "--------------------------\n",
      "No embeddings for 坂本哲志 for 防衛予算\n",
      "--------------------------\n",
      "--------------------------\n",
      "No embeddings for 谷川とむ for 防衛予算\n",
      "--------------------------\n",
      "--------------------------\n",
      "No embeddings for 棚橋泰文 for 防衛予算\n",
      "--------------------------\n",
      "--------------------------\n",
      "No embeddings for 森山裕 for 防衛予算\n",
      "--------------------------\n",
      "--------------------------\n",
      "No embeddings for 三ッ林裕巳 for 防衛予算\n",
      "--------------------------\n",
      "--------------------------\n",
      "No embeddings for 松本尚 for 防衛予算\n",
      "--------------------------\n",
      "--------------------------\n",
      "No embeddings for 簗和生 for 防衛予算\n",
      "--------------------------\n",
      "--------------------------\n",
      "No embeddings for 田畑裕明 for 防衛予算\n",
      "--------------------------\n",
      "--------------------------\n",
      "No embeddings for 斎藤洋明 for 防衛予算\n",
      "--------------------------\n",
      "--------------------------\n",
      "No embeddings for 堀井学 for 防衛予算\n",
      "--------------------------\n",
      "--------------------------\n",
      "No embeddings for 高木啓 for 防衛予算\n",
      "--------------------------\n",
      "--------------------------\n",
      "No embeddings for あかま二郎 for 防衛予算\n",
      "--------------------------\n",
      "--------------------------\n",
      "No embeddings for 高木毅 for 防衛予算\n",
      "--------------------------\n",
      "--------------------------\n",
      "No embeddings for 中西健治 for 防衛予算\n",
      "--------------------------\n",
      "--------------------------\n",
      "No embeddings for 若宮健嗣 for 防衛予算\n",
      "--------------------------\n",
      "--------------------------\n",
      "No embeddings for 田野瀬太道 for 防衛予算\n",
      "--------------------------\n",
      "--------------------------\n",
      "No embeddings for 稲田朋美 for 防衛予算\n",
      "--------------------------\n",
      "--------------------------\n",
      "No embeddings for 務台俊介 for 防衛予算\n",
      "--------------------------\n",
      "--------------------------\n",
      "No embeddings for 門山宏哲 for 防衛予算\n",
      "--------------------------\n",
      "--------------------------\n",
      "No embeddings for 岩田和親 for 防衛予算\n",
      "--------------------------\n",
      "--------------------------\n",
      "No embeddings for 木原誠二 for 防衛予算\n",
      "--------------------------\n",
      "--------------------------\n",
      "No embeddings for 田所嘉徳 for 防衛予算\n",
      "--------------------------\n",
      "--------------------------\n",
      "No embeddings for 深澤陽一 for 防衛予算\n",
      "--------------------------\n",
      "--------------------------\n",
      "No embeddings for 武部新 for 防衛予算\n",
      "--------------------------\n",
      "--------------------------\n",
      "No embeddings for 坂井学 for 防衛予算\n",
      "--------------------------\n",
      "--------------------------\n",
      "No embeddings for 赤澤亮正 for 防衛予算\n",
      "--------------------------\n",
      "--------------------------\n",
      "No embeddings for 山口晋 for 防衛予算\n",
      "--------------------------\n",
      "--------------------------\n",
      "No embeddings for 武田良太 for 防衛予算\n",
      "--------------------------\n",
      "--------------------------\n",
      "No embeddings for 中村裕之 for 防衛予算\n",
      "--------------------------\n",
      "--------------------------\n",
      "No embeddings for 牧原秀樹 for 防衛予算\n",
      "--------------------------\n",
      "--------------------------\n",
      "No embeddings for 工藤彰三 for 防衛予算\n",
      "--------------------------\n",
      "--------------------------\n",
      "No embeddings for 保岡宏武 for 防衛予算\n",
      "--------------------------\n",
      "--------------------------\n",
      "No embeddings for 武藤容治 for 防衛予算\n",
      "--------------------------\n",
      "--------------------------\n",
      "No embeddings for 越智隆雄 for 防衛予算\n",
      "--------------------------\n",
      "--------------------------\n",
      "No embeddings for 河野太郎 for 防衛予算\n",
      "--------------------------\n",
      "--------------------------\n",
      "No embeddings for 西銘恒三郎 for 防衛予算\n",
      "--------------------------\n",
      "--------------------------\n",
      "No embeddings for 大塚拓 for 防衛予算\n",
      "--------------------------\n",
      "--------------------------\n",
      "No embeddings for 橋本岳 for 防衛予算\n",
      "--------------------------\n",
      "--------------------------\n",
      "No embeddings for 黄川田仁志 for 防衛予算\n",
      "--------------------------\n",
      "--------------------------\n",
      "No embeddings for 小里泰弘 for 防衛予算\n",
      "--------------------------\n",
      "--------------------------\n",
      "No embeddings for 尾身朝子 for 防衛予算\n",
      "--------------------------\n",
      "--------------------------\n",
      "No embeddings for 古川直季 for 防衛予算\n",
      "--------------------------\n",
      "--------------------------\n",
      "No embeddings for 本田太郎 for 防衛予算\n",
      "--------------------------\n",
      "--------------------------\n",
      "No embeddings for 森英介 for 防衛予算\n",
      "--------------------------\n",
      "--------------------------\n",
      "No embeddings for 渡海紀三朗 for 防衛予算\n",
      "--------------------------\n",
      "--------------------------\n",
      "No embeddings for 鈴木貴子 for 防衛予算\n",
      "--------------------------\n",
      "--------------------------\n",
      "No embeddings for 平将明 for 防衛予算\n",
      "--------------------------\n",
      "--------------------------\n",
      "No embeddings for 丹羽秀樹 for 防衛予算\n",
      "--------------------------\n",
      "--------------------------\n",
      "No embeddings for 中谷元 for 防衛予算\n",
      "--------------------------\n",
      "--------------------------\n",
      "No embeddings for 鈴木馨祐 for 防衛予算\n",
      "--------------------------\n",
      "--------------------------\n",
      "No embeddings for 萩生田光一 for 防衛予算\n",
      "--------------------------\n",
      "--------------------------\n",
      "No embeddings for 山本ともひろ for 防衛予算\n",
      "--------------------------\n",
      "--------------------------\n",
      "No embeddings for 福田達夫 for 防衛予算\n",
      "--------------------------\n",
      "--------------------------\n",
      "No embeddings for 江藤拓 for 防衛予算\n",
      "--------------------------\n",
      "--------------------------\n",
      "No embeddings for 亀岡偉民 for 防衛予算\n",
      "--------------------------\n",
      "--------------------------\n",
      "No embeddings for 辻清人 for 防衛予算\n",
      "--------------------------\n",
      "--------------------------\n",
      "No embeddings for 井原巧 for 防衛予算\n",
      "--------------------------\n",
      "--------------------------\n",
      "No embeddings for 小林史明 for 防衛予算\n",
      "--------------------------\n",
      "--------------------------\n",
      "No embeddings for 衛藤征士郎 for 防衛予算\n",
      "--------------------------\n",
      "--------------------------\n",
      "No embeddings for 秋本真利 for 防衛予算\n",
      "--------------------------\n",
      "--------------------------\n",
      "No embeddings for 城内実 for 防衛予算\n",
      "--------------------------\n",
      "--------------------------\n",
      "No embeddings for 岸田文雄 for 防衛予算\n",
      "--------------------------\n",
      "--------------------------\n",
      "No embeddings for 松島みどり for 防衛予算\n",
      "--------------------------\n",
      "--------------------------\n",
      "No embeddings for 中川郁子 for 防衛予算\n",
      "--------------------------\n",
      "--------------------------\n",
      "No embeddings for 吉野正芳 for 防衛予算\n",
      "--------------------------\n",
      "--------------------------\n",
      "No embeddings for 江崎鐵磨 for 防衛予算\n",
      "--------------------------\n",
      "--------------------------\n",
      "No embeddings for 新藤義孝 for 防衛予算\n",
      "--------------------------\n",
      "--------------------------\n",
      "No embeddings for 甘利明 for 防衛予算\n",
      "--------------------------\n",
      "--------------------------\n",
      "No embeddings for 鈴木憲和 for 防衛予算\n",
      "--------------------------\n",
      "--------------------------\n",
      "No embeddings for 平沼正二郎 for 防衛予算\n",
      "--------------------------\n",
      "--------------------------\n",
      "No embeddings for 山際大志郎 for 防衛予算\n",
      "--------------------------\n",
      "--------------------------\n",
      "No embeddings for 和田義明 for 防衛予算\n",
      "--------------------------\n",
      "--------------------------\n",
      "No embeddings for 上杉謙太郎 for 防衛予算\n",
      "--------------------------\n",
      "--------------------------\n",
      "No embeddings for 小寺裕雄 for 防衛予算\n",
      "--------------------------\n",
      "--------------------------\n",
      "No embeddings for 小渕優子 for 防衛予算\n",
      "--------------------------\n",
      "--------------------------\n",
      "No embeddings for 津島淳 for 防衛予算\n",
      "--------------------------\n",
      "--------------------------\n",
      "No embeddings for 松野博一 for 防衛予算\n",
      "--------------------------\n",
      "--------------------------\n",
      "No embeddings for 逢沢一郎 for 防衛予算\n",
      "--------------------------\n",
      "--------------------------\n",
      "No embeddings for 石田真敏 for 防衛予算\n",
      "--------------------------\n",
      "--------------------------\n",
      "No embeddings for 高村正大 for 防衛予算\n",
      "--------------------------\n",
      "--------------------------\n",
      "No embeddings for 鈴木淳司 for 防衛予算\n",
      "--------------------------\n",
      "--------------------------\n",
      "No embeddings for 上野賢一郎 for 防衛予算\n",
      "--------------------------\n",
      "--------------------------\n",
      "No embeddings for 石川昭政 for 防衛予算\n",
      "--------------------------\n",
      "--------------------------\n",
      "No embeddings for 宗清皇一 for 防衛予算\n",
      "--------------------------\n",
      "--------------------------\n",
      "No embeddings for 櫻田義孝 for 防衛予算\n",
      "--------------------------\n",
      "--------------------------\n",
      "No embeddings for 鈴木俊一 for 防衛予算\n",
      "--------------------------\n",
      "--------------------------\n",
      "No embeddings for 茂木敏充 for 防衛予算\n",
      "--------------------------\n",
      "--------------------------\n",
      "No embeddings for 永岡桂子 for 防衛予算\n",
      "--------------------------\n",
      "--------------------------\n",
      "No embeddings for 鈴木英敬 for 防衛予算\n",
      "--------------------------\n",
      "--------------------------\n",
      "No embeddings for 堀内詔子 for 防衛予算\n",
      "--------------------------\n",
      "--------------------------\n",
      "No embeddings for 盛山正仁 for 防衛予算\n",
      "--------------------------\n",
      "--------------------------\n",
      "No embeddings for 佐藤勉 for 防衛予算\n",
      "--------------------------\n",
      "--------------------------\n",
      "No embeddings for 泉田裕彦 for 防衛予算\n",
      "--------------------------\n",
      "--------------------------\n",
      "No embeddings for 上川陽子 for 防衛予算\n",
      "--------------------------\n",
      "--------------------------\n",
      "No embeddings for 関芳弘 for 防衛予算\n",
      "--------------------------\n",
      "--------------------------\n",
      "No embeddings for 山田美樹 for 防衛予算\n",
      "--------------------------\n",
      "--------------------------\n",
      "No embeddings for 笹川博義 for 防衛予算\n",
      "--------------------------\n",
      "--------------------------\n",
      "No embeddings for 長島昭久 for 防衛予算\n",
      "--------------------------\n",
      "--------------------------\n",
      "No embeddings for 中川貴元 for 防衛予算\n",
      "--------------------------\n",
      "--------------------------\n",
      "No embeddings for 勝俣孝明 for 防衛予算\n",
      "--------------------------\n",
      "--------------------------\n",
      "No embeddings for 小林鷹之 for 防衛予算\n",
      "--------------------------\n",
      "--------------------------\n",
      "No embeddings for 田中英之 for 防衛予算\n",
      "--------------------------\n",
      "--------------------------\n",
      "No embeddings for 神田潤一 for 防衛予算\n",
      "--------------------------\n",
      "--------------------------\n",
      "No embeddings for 青山周平 for 防衛予算\n",
      "--------------------------\n",
      "--------------------------\n",
      "No embeddings for 根本幸典 for 防衛予算\n",
      "--------------------------\n",
      "--------------------------\n",
      "No embeddings for 池田佳隆 for 防衛予算\n",
      "--------------------------\n",
      "--------------------------\n",
      "No embeddings for 小林茂樹 for 防衛予算\n",
      "--------------------------\n",
      "--------------------------\n",
      "No embeddings for 星野剛士 for 防衛予算\n",
      "--------------------------\n",
      "--------------------------\n",
      "No embeddings for 杉田水脈 for 防衛予算\n",
      "--------------------------\n",
      "--------------------------\n",
      "No embeddings for 鬼木誠 for 防衛予算\n",
      "--------------------------\n",
      "--------------------------\n",
      "No embeddings for 鈴木隼人 for 防衛予算\n",
      "--------------------------\n",
      "--------------------------\n",
      "No embeddings for 藤井比早之 for 防衛予算\n",
      "--------------------------\n",
      "--------------------------\n",
      "No embeddings for 井出庸生 for 防衛予算\n",
      "--------------------------\n",
      "--------------------------\n",
      "No embeddings for 中野英幸 for 防衛予算\n",
      "--------------------------\n",
      "--------------------------\n",
      "No embeddings for 根本匠 for 防衛予算\n",
      "--------------------------\n",
      "--------------------------\n",
      "No embeddings for 野中厚 for 防衛予算\n",
      "--------------------------\n",
      "--------------------------\n",
      "No embeddings for 小田原潔 for 防衛予算\n",
      "--------------------------\n",
      "--------------------------\n",
      "No embeddings for 藤原崇 for 防衛予算\n",
      "--------------------------\n",
      "--------------------------\n",
      "No embeddings for 秋葉賢也 for 防衛予算\n",
      "--------------------------\n",
      "--------------------------\n",
      "No embeddings for 平口洋 for 防衛予算\n",
      "--------------------------\n",
      "--------------------------\n",
      "No embeddings for 伊藤忠彦 for 防衛予算\n",
      "--------------------------\n",
      "--------------------------\n",
      "No embeddings for 八木哲也 for 防衛予算\n",
      "--------------------------\n",
      "--------------------------\n",
      "No embeddings for 川崎ひでと for 防衛予算\n",
      "--------------------------\n",
      "--------------------------\n",
      "No embeddings for 石原宏高 for 防衛予算\n",
      "--------------------------\n",
      "--------------------------\n",
      "No embeddings for 宮澤博行 for 防衛予算\n",
      "--------------------------\n",
      "--------------------------\n",
      "No embeddings for 渡辺孝一 for 防衛予算\n",
      "--------------------------\n",
      "--------------------------\n",
      "No embeddings for 塚田一郎 for 防衛予算\n",
      "--------------------------\n",
      "--------------------------\n",
      "No embeddings for 林芳正 for 防衛予算\n",
      "--------------------------\n",
      "--------------------------\n",
      "No embeddings for 岸信千世 for 防衛予算\n",
      "--------------------------\n",
      "--------------------------\n",
      "No embeddings for 小森卓郎 for 防衛予算\n",
      "--------------------------\n",
      "--------------------------\n",
      "No embeddings for 高見康裕 for 防衛予算\n",
      "--------------------------\n",
      "--------------------------\n",
      "No embeddings for 金子俊平 for 防衛予算\n",
      "--------------------------\n",
      "--------------------------\n",
      "No embeddings for 齋藤健 for 防衛予算\n",
      "--------------------------\n",
      "--------------------------\n",
      "No embeddings for 加藤鮎子 for 防衛予算\n",
      "--------------------------\n",
      "--------------------------\n",
      "No embeddings for 小島敏文 for 防衛予算\n",
      "--------------------------\n",
      "--------------------------\n",
      "No embeddings for あべ俊子 for 防衛予算\n",
      "--------------------------\n",
      "--------------------------\n",
      "No embeddings for 畦元将吾 for 防衛予算\n",
      "--------------------------\n",
      "--------------------------\n",
      "No embeddings for 金田勝年 for 防衛予算\n",
      "--------------------------\n",
      "--------------------------\n",
      "No embeddings for 国光あやの for 防衛予算\n",
      "--------------------------\n",
      "--------------------------\n",
      "No embeddings for 上田英俊 for 防衛予算\n",
      "--------------------------\n",
      "--------------------------\n",
      "No embeddings for 宮路拓馬 for 防衛予算\n",
      "--------------------------\n",
      "--------------------------\n",
      "No embeddings for 塩谷立 for 防衛予算\n",
      "--------------------------\n",
      "--------------------------\n",
      "No embeddings for 麻生太郎 for 防衛予算\n",
      "--------------------------\n",
      "--------------------------\n",
      "No embeddings for 大野敬太郎 for 防衛予算\n",
      "--------------------------\n",
      "--------------------------\n",
      "No embeddings for 尾崎正直 for 防衛予算\n",
      "--------------------------\n",
      "--------------------------\n",
      "No embeddings for 加藤竜祥 for 防衛予算\n",
      "--------------------------\n",
      "--------------------------\n",
      "No embeddings for 寺田稔 for 防衛予算\n",
      "--------------------------\n",
      "--------------------------\n",
      "No embeddings for 小泉龍司 for 防衛予算\n",
      "--------------------------\n",
      "--------------------------\n",
      "No embeddings for 山本左近 for 防衛予算\n",
      "--------------------------\n",
      "--------------------------\n",
      "No embeddings for 葉梨康弘 for 防衛予算\n",
      "--------------------------\n",
      "--------------------------\n",
      "No embeddings for 古川康 for 防衛予算\n",
      "--------------------------\n",
      "--------------------------\n",
      "No embeddings for 遠藤利明 for 防衛予算\n",
      "--------------------------\n",
      "--------------------------\n",
      "No embeddings for 小野寺五典 for 防衛予算\n",
      "--------------------------\n",
      "--------------------------\n",
      "No embeddings for 武村展英 for 防衛予算\n",
      "--------------------------\n",
      "--------------------------\n",
      "No embeddings for 冨樫博之 for 防衛予算\n",
      "--------------------------\n",
      "--------------------------\n",
      "No embeddings for 今村雅弘 for 防衛予算\n",
      "--------------------------\n",
      "--------------------------\n",
      "No embeddings for 武井俊輔 for 防衛予算\n",
      "--------------------------\n",
      "--------------------------\n",
      "No embeddings for 穂坂泰 for 防衛予算\n",
      "--------------------------\n",
      "--------------------------\n",
      "No embeddings for 菅家一郎 for 防衛予算\n",
      "--------------------------\n",
      "--------------------------\n",
      "No embeddings for 高市早苗 for 防衛予算\n",
      "--------------------------\n",
      "--------------------------\n",
      "No embeddings for 井上貴博 for 防衛予算\n",
      "--------------------------\n",
      "--------------------------\n",
      "No embeddings for 柳本顕 for 防衛予算\n",
      "--------------------------\n",
      "--------------------------\n",
      "No embeddings for 三谷英弘 for 防衛予算\n",
      "--------------------------\n",
      "--------------------------\n",
      "No embeddings for 村井英樹 for 防衛予算\n",
      "--------------------------\n",
      "--------------------------\n",
      "No embeddings for 山田賢司 for 防衛予算\n",
      "--------------------------\n",
      "--------------------------\n",
      "No embeddings for 岩屋毅 for 防衛予算\n",
      "--------------------------\n",
      "--------------------------\n",
      "No embeddings for 今枝宗一郎 for 防衛予算\n",
      "--------------------------\n",
      "--------------------------\n",
      "No embeddings for 中根一幸 for 防衛予算\n",
      "--------------------------\n",
      "--------------------------\n",
      "No embeddings for 長坂康正 for 防衛予算\n",
      "--------------------------\n",
      "--------------------------\n",
      "No embeddings for 土井亨 for 防衛予算\n",
      "--------------------------\n",
      "--------------------------\n",
      "No embeddings for 松本洋平 for 防衛予算\n",
      "--------------------------\n",
      "--------------------------\n",
      "No embeddings for 山口壯 for 防衛予算\n",
      "--------------------------\n",
      "--------------------------\n",
      "No embeddings for 國場幸之助 for 防衛予算\n",
      "--------------------------\n",
      "--------------------------\n",
      "No embeddings for 後藤茂之 for 防衛予算\n",
      "--------------------------\n",
      "--------------------------\n",
      "No embeddings for 田中良生 for 防衛予算\n",
      "--------------------------\n",
      "--------------------------\n",
      "No embeddings for 宮崎政久 for 防衛予算\n",
      "--------------------------\n",
      "--------------------------\n",
      "No embeddings for 江渡聡徳 for 防衛予算\n",
      "--------------------------\n",
      "--------------------------\n",
      "No embeddings for 渡辺博道 for 防衛予算\n",
      "--------------------------\n",
      "--------------------------\n",
      "No embeddings for 勝目康 for 防衛予算\n",
      "--------------------------\n",
      "--------------------------\n",
      "No embeddings for 西田昭二 for 防衛予算\n",
      "--------------------------\n",
      "--------------------------\n",
      "No embeddings for 柿沢未途 for 防衛予算\n",
      "--------------------------\n",
      "--------------------------\n",
      "No embeddings for 木村次郎 for 防衛予算\n",
      "--------------------------\n",
      "--------------------------\n",
      "No embeddings for 西村明宏 for 防衛予算\n",
      "--------------------------\n",
      "--------------------------\n",
      "No embeddings for 中曽根康隆 for 防衛予算\n",
      "--------------------------\n",
      "--------------------------\n",
      "No embeddings for 古川禎久 for 防衛予算\n",
      "--------------------------\n",
      "--------------------------\n",
      "No embeddings for 細野豪志 for 防衛予算\n",
      "--------------------------\n",
      "--------------------------\n",
      "No embeddings for 谷川弥一 for 防衛予算\n",
      "--------------------------\n",
      "--------------------------\n",
      "No embeddings for 瀬戸隆一 for 防衛予算\n",
      "--------------------------\n",
      "--------------------------\n",
      "No embeddings for 高木宏壽 for 防衛予算\n",
      "--------------------------\n",
      "--------------------------\n",
      "No embeddings for 野田聖子 for 防衛予算\n",
      "--------------------------\n",
      "--------------------------\n",
      "No embeddings for 平井卓也 for 防衛予算\n",
      "--------------------------\n",
      "--------------------------\n",
      "No embeddings for 田村憲久 for 防衛予算\n",
      "--------------------------\n",
      "--------------------------\n",
      "No embeddings for 鷲尾英一郎 for 防衛予算\n",
      "--------------------------\n",
      "--------------------------\n",
      "No embeddings for 加藤勝信 for 防衛予算\n",
      "--------------------------\n",
      "--------------------------\n",
      "No embeddings for 宮内秀樹 for 防衛予算\n",
      "--------------------------\n",
      "--------------------------\n",
      "No embeddings for 島尻安伊子 for 防衛予算\n",
      "--------------------------\n",
      "--------------------------\n",
      "No embeddings for 牧島かれん for 防衛予算\n",
      "--------------------------\n",
      "--------------------------\n",
      "No embeddings for 国定勇人 for 防衛予算\n",
      "--------------------------\n",
      "--------------------------\n",
      "No embeddings for 平沢勝栄 for 防衛予算\n",
      "--------------------------\n",
      "--------------------------\n",
      "No embeddings for 村上誠一郎 for 防衛予算\n",
      "--------------------------\n",
      "--------------------------\n",
      "No embeddings for 御法川信英 for 防衛予算\n",
      "--------------------------\n",
      "--------------------------\n",
      "No embeddings for 西野太亮 for 防衛予算\n",
      "--------------------------\n",
      "--------------------------\n",
      "No embeddings for 佐々木紀 for 防衛予算\n",
      "--------------------------\n",
      "--------------------------\n",
      "No embeddings for 菅義偉 for 防衛予算\n",
      "--------------------------\n",
      "--------------------------\n",
      "No embeddings for 土田慎 for 防衛予算\n",
      "--------------------------\n",
      "--------------------------\n",
      "No embeddings for 高鳥修一 for 防衛予算\n",
      "--------------------------\n",
      "--------------------------\n",
      "No embeddings for 東国幹 for 防衛予算\n",
      "--------------------------\n",
      "--------------------------\n",
      "No embeddings for 藤丸敏 for 防衛予算\n",
      "--------------------------\n",
      "--------------------------\n",
      "No embeddings for 若林健太 for 防衛予算\n",
      "--------------------------\n",
      "--------------------------\n",
      "No embeddings for 松本剛明 for 防衛予算\n",
      "--------------------------\n",
      "--------------------------\n",
      "No embeddings for 浜田靖一 for 防衛予算\n",
      "--------------------------\n",
      "--------------------------\n",
      "No embeddings for 古屋圭司 for 防衛予算\n",
      "--------------------------\n",
      "--------------------------\n",
      "No embeddings for 伊藤達也 for 防衛予算\n",
      "--------------------------\n",
      "--------------------------\n",
      "No embeddings for 古賀篤 for 防衛予算\n",
      "--------------------------\n",
      "--------------------------\n",
      "No embeddings for 三反園訓 for 防衛予算\n",
      "--------------------------\n",
      "--------------------------\n",
      "No embeddings for 塩崎彰久 for 防衛予算\n",
      "--------------------------\n",
      "--------------------------\n",
      "No embeddings for 石破茂 for 防衛予算\n",
      "--------------------------\n",
      "--------------------------\n",
      "No embeddings for 額賀福志郎 for 防衛予算\n",
      "--------------------------\n",
      "--------------------------\n",
      "No embeddings for 下村博文 for 防衛予算\n",
      "--------------------------\n",
      "--------------------------\n",
      "No embeddings for 奥野信亮 for 防衛予算\n",
      "--------------------------\n",
      "--------------------------\n",
      "No embeddings for 伊東良孝 for 防衛予算\n",
      "--------------------------\n",
      "--------------------------\n",
      "No embeddings for 吉川赳 for 防衛予算\n",
      "--------------------------\n",
      "--------------------------\n",
      "No embeddings for 細田博之 for 防衛予算\n",
      "--------------------------\n",
      "--------------------------\n",
      "No embeddings for 海江田万里 for 防衛予算\n",
      "--------------------------\n",
      "--------------------------\n",
      "No embeddings for 吉田豊史 for 防衛予算\n",
      "--------------------------\n",
      "--------------------------\n",
      "No embeddings for 浅野哲 for 防衛予算\n",
      "--------------------------\n",
      "--------------------------\n",
      "No embeddings for 玉木雄一郎 for 防衛予算\n",
      "--------------------------\n",
      "--------------------------\n",
      "No embeddings for 田中健 for 防衛予算\n",
      "--------------------------\n",
      "--------------------------\n",
      "No embeddings for 鈴木義弘 for 防衛予算\n",
      "--------------------------\n",
      "--------------------------\n",
      "No embeddings for 古川元久 for 防衛予算\n",
      "--------------------------\n",
      "--------------------------\n",
      "No embeddings for 長友慎治 for 防衛予算\n",
      "--------------------------\n",
      "--------------------------\n",
      "No embeddings for 前原誠司 for 防衛予算\n",
      "--------------------------\n",
      "--------------------------\n",
      "No embeddings for 鈴木敦 for 防衛予算\n",
      "--------------------------\n",
      "--------------------------\n",
      "No embeddings for 斎藤アレックス for 防衛予算\n",
      "--------------------------\n",
      "--------------------------\n",
      "No embeddings for 西岡秀子 for 防衛予算\n",
      "--------------------------\n",
      "keys dict_keys(['embeddings', 'reprs'])\n",
      "embeddings shape (0,)\n",
      "reprs []\n",
      "reprs shape (0,)\n"
     ]
    }
   ],
   "source": [
    "#example usage\n",
    "eh = EmbeddingHandler()\n",
    "print('all reprs')\n",
    "print(eh.reprs)\n",
    "print('repr2party')\n",
    "print(eh.repr2party)\n",
    "print('reprs for 自民')\n",
    "print(eh.get_reprs_for_party('自民'))\n",
    "print('topics for 自民 and 新藤義孝')\n",
    "print(eh.get_topics_for_repr('自民', '新藤義孝'))\n",
    "embeddings, dates, opinions = eh.get_embeddings_for_repr_for_topic('新藤義孝', '少子化')\n",
    "print('embeddings shape', embeddings.shape)\n",
    "print(f\"{len(dates)} dates ---- sample: {dates[0]}\")\n",
    "print(f\"{len(opinions)} opinions ---- sample: {opinions[0]}\")\n",
    "mean_embedding = eh.get_average_embedding_for_repr_for_topic('新藤義孝', '少子化')\n",
    "print('mean embedding shape', mean_embedding.shape)\n",
    "\n",
    "#nh creating a summary hdf5 file for all embeddings for one topic\n",
    "\n",
    "print('Creating summary hdf5 file for all embeddings for one topic 防衛予算')\n",
    "eh.create_summary_hdf5_file_for_average_embeddings(path = os.path.join(DATA_REPR_SPEECHES_DIR, '防衛予算.hdf5'),\n",
    "\t\t\t\t\t\t\t\t\t\t\t\t   topic = '防衛予算')\n",
    "##checking the file just created\n",
    "hdf5_dict = read_hdf5_file(os.path.join(DATA_REPR_SPEECHES_DIR, '防衛予算.hdf5'))\n",
    "print('keys', hdf5_dict.keys())\n",
    "print('embeddings shape', hdf5_dict['embeddings'].shape)\n",
    "print('reprs', [repr.decode('utf-8') for repr in hdf5_dict['reprs'][:]])\n",
    "print('reprs shape', hdf5_dict['reprs'].shape)"
   ]
  },
  {
   "cell_type": "code",
   "execution_count": 21,
   "metadata": {},
   "outputs": [
    {
     "name": "stdout",
     "output_type": "stream",
     "text": [
      "--------------------------\n",
      "No embeddings for 福重隆浩 for 少子化\n",
      "--------------------------\n",
      "--------------------------\n",
      "No embeddings for 金城泰邦 for 少子化\n",
      "--------------------------\n",
      "--------------------------\n",
      "No embeddings for 庄子賢一 for 少子化\n",
      "--------------------------\n",
      "--------------------------\n",
      "No embeddings for 松原仁 for 少子化\n",
      "--------------------------\n",
      "--------------------------\n",
      "No embeddings for 伊藤俊輔 for 少子化\n",
      "--------------------------\n",
      "--------------------------\n",
      "No embeddings for 鈴木庸介 for 少子化\n",
      "--------------------------\n",
      "--------------------------\n",
      "No embeddings for 神津たけし for 少子化\n",
      "--------------------------\n",
      "--------------------------\n",
      "No embeddings for 新垣邦男 for 少子化\n",
      "--------------------------\n",
      "--------------------------\n",
      "No embeddings for 小山展弘 for 少子化\n",
      "--------------------------\n",
      "--------------------------\n",
      "No embeddings for 中村喜四郎 for 少子化\n",
      "--------------------------\n",
      "--------------------------\n",
      "No embeddings for 手塚仁雄 for 少子化\n",
      "--------------------------\n",
      "--------------------------\n",
      "No embeddings for 徳永久志 for 少子化\n",
      "--------------------------\n",
      "--------------------------\n",
      "No embeddings for 神谷裕 for 少子化\n",
      "--------------------------\n",
      "--------------------------\n",
      "No embeddings for 本庄知史 for 少子化\n",
      "--------------------------\n",
      "--------------------------\n",
      "No embeddings for 赤嶺政賢 for 少子化\n",
      "--------------------------\n",
      "--------------------------\n",
      "No embeddings for 守島正 for 少子化\n",
      "--------------------------\n",
      "--------------------------\n",
      "No embeddings for 阿部弘樹 for 少子化\n",
      "--------------------------\n",
      "--------------------------\n",
      "No embeddings for 浅川義治 for 少子化\n",
      "--------------------------\n",
      "--------------------------\n",
      "No embeddings for 奥下剛光 for 少子化\n",
      "--------------------------\n",
      "--------------------------\n",
      "No embeddings for 赤木正幸 for 少子化\n",
      "--------------------------\n",
      "--------------------------\n",
      "No embeddings for 藤巻健太 for 少子化\n",
      "--------------------------\n",
      "--------------------------\n",
      "No embeddings for 空本誠喜 for 少子化\n",
      "--------------------------\n",
      "--------------------------\n",
      "No embeddings for たがや亮 for 少子化\n",
      "--------------------------\n",
      "--------------------------\n",
      "No embeddings for 神田憲次 for 少子化\n",
      "--------------------------\n",
      "--------------------------\n",
      "No embeddings for 中谷真一 for 少子化\n",
      "--------------------------\n",
      "--------------------------\n",
      "No embeddings for 谷公一 for 少子化\n",
      "--------------------------\n",
      "--------------------------\n",
      "No embeddings for 熊田裕通 for 少子化\n",
      "--------------------------\n",
      "--------------------------\n",
      "No embeddings for 石井拓 for 少子化\n",
      "--------------------------\n",
      "--------------------------\n",
      "No embeddings for 五十嵐清 for 少子化\n",
      "--------------------------\n",
      "--------------------------\n",
      "No embeddings for 伊藤信太郎 for 少子化\n",
      "--------------------------\n",
      "--------------------------\n",
      "No embeddings for 谷川とむ for 少子化\n",
      "--------------------------\n",
      "--------------------------\n",
      "No embeddings for 松本尚 for 少子化\n",
      "--------------------------\n",
      "--------------------------\n",
      "No embeddings for 中西健治 for 少子化\n",
      "--------------------------\n",
      "--------------------------\n",
      "No embeddings for 岩田和親 for 少子化\n",
      "--------------------------\n",
      "--------------------------\n",
      "No embeddings for 武部新 for 少子化\n",
      "--------------------------\n",
      "--------------------------\n",
      "No embeddings for 坂井学 for 少子化\n",
      "--------------------------\n",
      "--------------------------\n",
      "No embeddings for 山口晋 for 少子化\n",
      "--------------------------\n",
      "--------------------------\n",
      "No embeddings for 西銘恒三郎 for 少子化\n",
      "--------------------------\n",
      "--------------------------\n",
      "No embeddings for 小里泰弘 for 少子化\n",
      "--------------------------\n",
      "--------------------------\n",
      "No embeddings for 本田太郎 for 少子化\n",
      "--------------------------\n",
      "--------------------------\n",
      "No embeddings for 平将明 for 少子化\n",
      "--------------------------\n",
      "--------------------------\n",
      "No embeddings for 鈴木馨祐 for 少子化\n",
      "--------------------------\n",
      "--------------------------\n",
      "No embeddings for 山本ともひろ for 少子化\n",
      "--------------------------\n",
      "--------------------------\n",
      "No embeddings for 辻清人 for 少子化\n",
      "--------------------------\n",
      "--------------------------\n",
      "No embeddings for 小林史明 for 少子化\n",
      "--------------------------\n",
      "--------------------------\n",
      "No embeddings for 衛藤征士郎 for 少子化\n",
      "--------------------------\n",
      "--------------------------\n",
      "No embeddings for 秋本真利 for 少子化\n",
      "--------------------------\n",
      "--------------------------\n",
      "No embeddings for 城内実 for 少子化\n",
      "--------------------------\n",
      "--------------------------\n",
      "No embeddings for 江崎鐵磨 for 少子化\n",
      "--------------------------\n",
      "--------------------------\n",
      "No embeddings for 鈴木憲和 for 少子化\n",
      "--------------------------\n",
      "--------------------------\n",
      "No embeddings for 鈴木淳司 for 少子化\n",
      "--------------------------\n",
      "--------------------------\n",
      "No embeddings for 石川昭政 for 少子化\n",
      "--------------------------\n",
      "--------------------------\n",
      "No embeddings for 鈴木英敬 for 少子化\n",
      "--------------------------\n",
      "--------------------------\n",
      "No embeddings for 関芳弘 for 少子化\n",
      "--------------------------\n",
      "--------------------------\n",
      "No embeddings for 笹川博義 for 少子化\n",
      "--------------------------\n",
      "--------------------------\n",
      "No embeddings for 中川貴元 for 少子化\n",
      "--------------------------\n",
      "--------------------------\n",
      "No embeddings for 勝俣孝明 for 少子化\n",
      "--------------------------\n",
      "--------------------------\n",
      "No embeddings for 神田潤一 for 少子化\n",
      "--------------------------\n",
      "--------------------------\n",
      "No embeddings for 星野剛士 for 少子化\n",
      "--------------------------\n",
      "--------------------------\n",
      "No embeddings for 鬼木誠 for 少子化\n",
      "--------------------------\n",
      "--------------------------\n",
      "No embeddings for 中野英幸 for 少子化\n",
      "--------------------------\n",
      "--------------------------\n",
      "No embeddings for 野中厚 for 少子化\n",
      "--------------------------\n",
      "--------------------------\n",
      "No embeddings for 小田原潔 for 少子化\n",
      "--------------------------\n",
      "--------------------------\n",
      "No embeddings for 伊藤忠彦 for 少子化\n",
      "--------------------------\n",
      "--------------------------\n",
      "No embeddings for 宮澤博行 for 少子化\n",
      "--------------------------\n",
      "--------------------------\n",
      "No embeddings for 塚田一郎 for 少子化\n",
      "--------------------------\n",
      "--------------------------\n",
      "No embeddings for 金子俊平 for 少子化\n",
      "--------------------------\n",
      "--------------------------\n",
      "No embeddings for 畦元将吾 for 少子化\n",
      "--------------------------\n",
      "--------------------------\n",
      "No embeddings for 尾崎正直 for 少子化\n",
      "--------------------------\n",
      "--------------------------\n",
      "No embeddings for 小泉龍司 for 少子化\n",
      "--------------------------\n",
      "--------------------------\n",
      "No embeddings for 山本左近 for 少子化\n",
      "--------------------------\n",
      "--------------------------\n",
      "No embeddings for 古川康 for 少子化\n",
      "--------------------------\n",
      "--------------------------\n",
      "No embeddings for 武村展英 for 少子化\n",
      "--------------------------\n",
      "--------------------------\n",
      "No embeddings for 冨樫博之 for 少子化\n",
      "--------------------------\n",
      "--------------------------\n",
      "No embeddings for 柳本顕 for 少子化\n",
      "--------------------------\n",
      "--------------------------\n",
      "No embeddings for 土井亨 for 少子化\n",
      "--------------------------\n",
      "--------------------------\n",
      "No embeddings for 古川禎久 for 少子化\n",
      "--------------------------\n",
      "--------------------------\n",
      "No embeddings for 細野豪志 for 少子化\n",
      "--------------------------\n",
      "--------------------------\n",
      "No embeddings for 瀬戸隆一 for 少子化\n",
      "--------------------------\n",
      "--------------------------\n",
      "No embeddings for 宮内秀樹 for 少子化\n",
      "--------------------------\n",
      "--------------------------\n",
      "No embeddings for 国定勇人 for 少子化\n",
      "--------------------------\n",
      "--------------------------\n",
      "No embeddings for 西野太亮 for 少子化\n",
      "--------------------------\n",
      "--------------------------\n",
      "No embeddings for 土田慎 for 少子化\n",
      "--------------------------\n",
      "--------------------------\n",
      "No embeddings for 東国幹 for 少子化\n",
      "--------------------------\n",
      "--------------------------\n",
      "No embeddings for 藤丸敏 for 少子化\n",
      "--------------------------\n",
      "--------------------------\n",
      "No embeddings for 古屋圭司 for 少子化\n",
      "--------------------------\n",
      "--------------------------\n",
      "No embeddings for 三反園訓 for 少子化\n",
      "--------------------------\n",
      "--------------------------\n",
      "No embeddings for 鈴木敦 for 少子化\n",
      "--------------------------\n"
     ]
    }
   ],
   "source": [
    "# creating summary hdf5 file for average embeddings for some topics for reprs where the data is available\n",
    "TOPICS_TO_CREATE_AVERAGE_EMBEDDINGS = ['国債']\n",
    "for topic in TOPICS_TO_CREATE_AVERAGE_EMBEDDINGS:\n",
    "\tprint(f'Creating summary hdf5 file for all embeddings for one topic {topic}')\n",
    "\teh.create_summary_hdf5_file_for_average_embeddings(path = os.path.join(DATA_REPR_SPEECHES_DIR, f'{topic}.hdf5'),\n",
    "\t\t\t\t\t\t\t\t\t\t\t\t\ttopic = topic)"
   ]
  },
  {
   "cell_type": "markdown",
   "metadata": {},
   "source": [
    "## 3. Create a stance axis vector by either generating two reference points or picking two points \"opinion-embeddings\" from the data"
   ]
  },
  {
   "cell_type": "code",
   "execution_count": 7,
   "metadata": {},
   "outputs": [],
   "source": [
    "import numpy as np\n",
    "import matplotlib.pyplot as plt\n",
    "\n",
    "class VectorOperator:\n",
    "\tdef __init__(self):\n",
    "\t\tself.embedding_handler = EmbeddingHandler()\n",
    "\t\n",
    "\tdef project_vector(vector, onto_vector):\n",
    "\t\tnormalized_onto_vector = onto_vector / np.linalg.norm(onto_vector)\n",
    "\t\tscaling = np.dot(vector, normalized_onto_vector)\n",
    "\t\tprojection = scaling * normalized_onto_vector\n",
    "\t\treturn projection, scaling\n",
    "\t\n",
    "\tdef get_embeddings_and_reprs(self, summary_hdf5_path):\n",
    "\t\thdf5_dict = read_hdf5_file(summary_hdf5_path)\n",
    "\t\tembeddings = hdf5_dict['embeddings'][:]\n",
    "\t\treprs = [repr.decode('utf-8') for repr in hdf5_dict['reprs'][:]]\n",
    "\t\treturn embeddings, reprs\n",
    "\t\n",
    "\tdef collapse_vectors_onto_two_ref_reprs(self, summary_hdf5_path, topic, ref_repr1, ref_repr2):\n",
    "\t\tembeddings, reprs = self.get_embeddings_and_reprs(summary_hdf5_path)\n",
    "\t\tif ref_repr1 not in reprs:\n",
    "\t\t\traise ValueError(f'{ref_repr1} not in {reprs}')\n",
    "\t\tif ref_repr2 not in reprs:\n",
    "\t\t\traise ValueError(f'{ref_repr2} not in {reprs}')\n",
    "\t\tref1_embedding = self.embedding_handler.get_average_embedding_for_repr_for_topic(ref_repr1, topic)\n",
    "\t\tref2_embedding = self.embedding_handler.get_average_embedding_for_repr_for_topic(ref_repr2, topic)\n",
    "\t\tref1_to_ref2 = ref2_embedding - ref1_embedding\n",
    "\t\tprojections = embeddings @ ref1_to_ref2\n",
    "\t\tprojections = projections / np.linalg.norm(ref1_to_ref2)\n",
    "\t\treturn projections, reprs\n",
    "\t\n",
    "class PoliticalStanceVisualizer:\n",
    "\tdef __init__(self):\n",
    "\t\tpass\n",
    "\n",
    "\tdef plot_grouped_bar_chart(self, ax, xs, party, xmax, xmin, title, xlabel='', ylabel=\"\", color=\"blue\"):\n",
    "\t\tax.set_title(title)\n",
    "\t\tax.set_xlabel(xlabel)\n",
    "\t\tax.set_ylabel(ylabel)\n",
    "\t\tax.set_xlim(int(xmin-1), int(xmax+1))\n",
    "\t\tys = []\n",
    "\t\txticks = []\n",
    "\t\tstep_size = 0.25\n",
    "\t\tfor xtick in np.arange(np.floor(xmin), np.ceil(xmax), step_size):\n",
    "\t\t\txticks.append(xtick)\n",
    "\t\t\tys.append(len([x for x in xs if (xtick-step_size/2<x<=xtick+step_size/2)]))\n",
    "\t\tax.bar(xticks, ys, color=color, alpha=0.3, width=step_size)\n",
    "\t\t\n",
    "\tdef visualize(self, xs, labels, colors, parties, title, xlabel):\n",
    "\t\tunique_parties = set(parties)\n",
    "\t\tmax_x = max(xs)\n",
    "\t\tmin_x = min(xs)\n",
    "\t\tfig, axs = plt.subplots(5,2, figsize=(10,20))\n",
    "\t\taxs[0,0].scatter(xs, [PARTY_TO_IDX[party] for party in parties], c =colors, alpha=0.3)\n",
    "\t\taxs[0,0].set_title(title)\n",
    "\t\taxs[0,0].set_xlabel(xlabel)\n",
    "\t\taxs[0,0].set_xlim(int(min_x-1), int(max_x+1))\n",
    "\t\ty_ticks = axs[0,0].get_yticks()\n",
    "\t\ty_ticks_text = []\n",
    "\t\tfor y_tick in y_ticks:\n",
    "\t\t\tif y_tick in IDX_TO_PARTY.keys():\n",
    "\t\t\t\ty_ticks_text.append(IDX_TO_PARTY[y_tick])\n",
    "\t\t\telse:\n",
    "\t\t\t\ty_ticks_text.append('')\n",
    "\t\taxs[0,0].set_yticklabels(y_ticks_text)\n",
    "\t\t#Flatten axis\n",
    "\t\taxs = axs.reshape(-1)\n",
    "\t\tfor idx, party in enumerate(unique_parties):\n",
    "\t\t\tself.plot_grouped_bar_chart(axs[idx+1],\n",
    "\t\t\t\t\t\t\t   xs=[x for x, p in zip(xs, parties) if p == party],\n",
    "\t\t\t\t\t\t\t   party=party,\n",
    "\t\t\t\t\t\t\t   xmax=max_x,\n",
    "\t\t\t\t\t\t\t   xmin=min_x,\n",
    "\t\t\t\t\t\t\t   title=party,\n",
    "\t\t\t\t\t\t\t   xlabel='',\n",
    "\t\t\t\t\t\t\t   ylabel='',\n",
    "\t\t\t\t\t\t\t   color=PARTY_TO_COLOR[party])\n",
    "\n",
    "\t\tfig.tight_layout()\n",
    "\t\tplt.show()"
   ]
  },
  {
   "cell_type": "code",
   "execution_count": 14,
   "metadata": {},
   "outputs": [],
   "source": [
    "# # testing above code\n",
    "# vo = VectorOperator()\n",
    "# psv = PoliticalStanceVisualizer()\n",
    "# projections, reprs = vo.collapse_vectors_onto_two_ref_reprs(summary_hdf5_path = os.path.join(DATA_REPR_SPEECHES_DIR, '防衛予算.hdf5'),\n",
    "# \t\t\t\t\t\t\t\t\t\t\t\t\t\t\ttopic='防衛',\n",
    "# \t\t\t\t\t\t\t\t\t\t\t\t\t\t\tref_repr1='石破茂',\n",
    "# \t\t\t\t\t\t\t\t\t\t\t\t\t\t\tref_repr2='志位和夫')\n",
    "# parties = [vo.embedding_handler.repr2party[repr] for repr in reprs]\n",
    "# print('parties', parties)\n",
    "# print('projections shape', projections.shape)\n",
    "# print('Number of reprs', len(reprs))\n",
    "# print('projections', projections)\n",
    "\n",
    "# psv.visualize(xs=projections,\n",
    "# \t\t\t  labels=reprs,\n",
    "# \t\t\t  colors=[PARTY_TO_COLOR[party] for party in parties],\n",
    "# \t\t\t  parties=parties,\n",
    "# \t\t\t  title='防衛',\n",
    "# \t\t\t  xlabel='石破茂 -> 志位和夫')\n"
   ]
  },
  {
   "cell_type": "markdown",
   "metadata": {},
   "source": [
    "## 4. Collapse all the other vectors onto this axis by projecting them onto the axis\n",
    "\n",
    "## 5. Create a scalar measurement for how far each politician is from the two reference points"
   ]
  },
  {
   "cell_type": "code",
   "execution_count": 32,
   "metadata": {},
   "outputs": [
    {
     "data": {
      "image/png": "[encoded data removed]",
      "text/plain": [
       "<Figure size 1000x1000 with 10 Axes>"
      ]
     },
     "metadata": {},
     "output_type": "display_data"
    }
   ],
   "source": [
    "vo = VectorOperator()\n",
    "psv = PoliticalStanceVisualizer()\n",
    "topic = '国債'\n",
    "ref_repr1 = '岸田文雄'\n",
    "ref_repr2 = '野田佳彦'\n",
    "projections, reprs = vo.collapse_vectors_onto_two_ref_reprs(summary_hdf5_path = os.path.join(DATA_REPR_SPEECHES_DIR, f'{topic}.hdf5'),\n",
    "\t\t\t\t\t\t\t\t\t\t\t\t\t\t\ttopic=topic,\n",
    "\t\t\t\t\t\t\t\t\t\t\t\t\t\t\tref_repr1=ref_repr1,\n",
    "\t\t\t\t\t\t\t\t\t\t\t\t\t\t\tref_repr2=ref_repr2)\n",
    "parties = [vo.embedding_handler.repr2party[repr] for repr in reprs]\n",
    "\n",
    "psv.visualize(xs=projections,\n",
    "\t\t\t  labels=reprs,\n",
    "\t\t\t  colors=[PARTY_TO_COLOR[party] for party in parties],\n",
    "\t\t\t  parties=parties,\n",
    "\t\t\t  title=topic,\n",
    "\t\t\t  xlabel=f'{ref_repr1} -> {ref_repr2}')"
   ]
  },
  {
   "cell_type": "markdown",
   "metadata": {},
   "source": [
    "# Topic Modelling on Politicians "
   ]
  },
  {
   "cell_type": "markdown",
   "metadata": {},
   "source": [
    "## 1. Group politicians based on position on the axis  "
   ]
  },
  {
   "cell_type": "code",
   "execution_count": 256,
   "metadata": {},
   "outputs": [
    {
     "data": {
      "text/plain": [
       "{1: {'politicians': ['谷田川元',\n",
       "   '松木けんこう',\n",
       "   '末松義規',\n",
       "   '細田健一',\n",
       "   '金子恭之',\n",
       "   '柴山昌彦',\n",
       "   'あかま二郎',\n",
       "   '高木毅',\n",
       "   '武藤容治',\n",
       "   '大塚拓',\n",
       "   '長島昭久',\n",
       "   '小林鷹之',\n",
       "   '渡辺孝一',\n",
       "   '齋藤健',\n",
       "   '今村雅弘',\n",
       "   '松本洋平',\n",
       "   '浜田靖一'],\n",
       "  'parties': {'立憲', '自民'}},\n",
       " 2: {'politicians': ['斉藤鉄夫',\n",
       "   '佐藤茂樹',\n",
       "   '浮島智子',\n",
       "   '佐藤英道',\n",
       "   '日下正喜',\n",
       "   '吉田宣弘',\n",
       "   '吉田久美子',\n",
       "   '岡本三成',\n",
       "   '輿水恵一',\n",
       "   '角田秀穂',\n",
       "   '大口善徳',\n",
       "   '浜地雅一',\n",
       "   '石井啓一',\n",
       "   '鰐淵洋子',\n",
       "   '竹内譲',\n",
       "   '中野洋昌',\n",
       "   '中川康洋',\n",
       "   '赤羽一嘉',\n",
       "   '伊佐進一',\n",
       "   '稲津久',\n",
       "   '平林晃',\n",
       "   '高木陽介',\n",
       "   '中川宏昌',\n",
       "   '山崎正恭',\n",
       "   '北側一雄',\n",
       "   '玄葉光一郎',\n",
       "   '白石洋一',\n",
       "   '大串博志',\n",
       "   '牧義夫',\n",
       "   '梅谷守',\n",
       "   '江田憲司',\n",
       "   '大河原まさこ',\n",
       "   '小熊慎司',\n",
       "   '中谷一馬',\n",
       "   '緑川貴士',\n",
       "   '重徳和彦',\n",
       "   '城井崇',\n",
       "   '馬淵澄夫',\n",
       "   '後藤祐一',\n",
       "   '篠原豪',\n",
       "   '渡辺周',\n",
       "   '坂本祐之輔',\n",
       "   '柚木道義',\n",
       "   '小宮山泰子',\n",
       "   '下条みつ',\n",
       "   '西村智奈美',\n",
       "   '伴野豊',\n",
       "   '福田昭夫',\n",
       "   '田嶋要',\n",
       "   '末次精一',\n",
       "   '小沢一郎',\n",
       "   '野田佳彦',\n",
       "   '石川香織',\n",
       "   '菅直人',\n",
       "   '湯原俊二',\n",
       "   '吉川元',\n",
       "   '山井和則',\n",
       "   '大島敦',\n",
       "   '森山浩行',\n",
       "   '長妻昭',\n",
       "   '鎌田さゆり',\n",
       "   '青山大人',\n",
       "   '安住淳',\n",
       "   '中島克仁',\n",
       "   '森田俊和',\n",
       "   '佐藤公治',\n",
       "   '青柳陽一郎',\n",
       "   '枝野幸男',\n",
       "   '奥野総一郎',\n",
       "   '階猛',\n",
       "   '道下大樹',\n",
       "   '山田勝彦',\n",
       "   '中川正春',\n",
       "   '山岡達丸',\n",
       "   '荒井優',\n",
       "   '笠浩史',\n",
       "   '緒方林太郎',\n",
       "   '北神圭朗',\n",
       "   '仁木博文',\n",
       "   '福島伸享',\n",
       "   '吉良州司',\n",
       "   '穀田恵二',\n",
       "   '宮本岳志',\n",
       "   '塩川鉄也',\n",
       "   '笠井亮',\n",
       "   '前川清成',\n",
       "   '足立康史',\n",
       "   '岬麻紀',\n",
       "   '遠藤良太',\n",
       "   '池下卓',\n",
       "   '金村龍那',\n",
       "   '井上英孝',\n",
       "   '和田有一朗',\n",
       "   '浦野靖人',\n",
       "   '杉本和巳',\n",
       "   '沢田良',\n",
       "   '高橋英明',\n",
       "   '美延映夫',\n",
       "   '阿部司',\n",
       "   '伊東信久',\n",
       "   '市村浩一郎',\n",
       "   '遠藤敬',\n",
       "   '藤田文武',\n",
       "   '小野泰輔',\n",
       "   '一谷勇一郎',\n",
       "   '青柳仁士',\n",
       "   '大石あきこ',\n",
       "   '山本有二',\n",
       "   '二階俊博',\n",
       "   '新谷正義',\n",
       "   '義家弘介',\n",
       "   '高階恵美子',\n",
       "   '梶山弘志',\n",
       "   '大岡敏孝',\n",
       "   '井上信治',\n",
       "   '小倉將信',\n",
       "   '小泉進次郎',\n",
       "   '山口俊一',\n",
       "   '船田元',\n",
       "   '大西英男',\n",
       "   '大串正樹',\n",
       "   '井林辰憲',\n",
       "   '林幹雄',\n",
       "   '土屋品子',\n",
       "   '石原正敬',\n",
       "   '木原稔',\n",
       "   '山下貴司',\n",
       "   '宮下一郎',\n",
       "   '中山展宏',\n",
       "   '西村康稔',\n",
       "   '田中和徳',\n",
       "   '坂本哲志',\n",
       "   '棚橋泰文',\n",
       "   '森山裕',\n",
       "   '三ッ林裕巳',\n",
       "   '簗和生',\n",
       "   '田畑裕明',\n",
       "   '高木啓',\n",
       "   '若宮健嗣',\n",
       "   '田野瀬太道',\n",
       "   '稲田朋美',\n",
       "   '門山宏哲',\n",
       "   '木原誠二',\n",
       "   '田所嘉徳',\n",
       "   '深澤陽一',\n",
       "   '赤澤亮正',\n",
       "   '武田良太',\n",
       "   '中村裕之',\n",
       "   '牧原秀樹',\n",
       "   '保岡宏武',\n",
       "   '越智隆雄',\n",
       "   '河野太郎',\n",
       "   '橋本岳',\n",
       "   '黄川田仁志',\n",
       "   '尾身朝子',\n",
       "   '古川直季',\n",
       "   '森英介',\n",
       "   '渡海紀三朗',\n",
       "   '鈴木貴子',\n",
       "   '丹羽秀樹',\n",
       "   '中谷元',\n",
       "   '萩生田光一',\n",
       "   '福田達夫',\n",
       "   '江藤拓',\n",
       "   '井原巧',\n",
       "   '岸田文雄',\n",
       "   '松島みどり',\n",
       "   '中川郁子',\n",
       "   '新藤義孝',\n",
       "   '甘利明',\n",
       "   '平沼正二郎',\n",
       "   '和田義明',\n",
       "   '上杉謙太郎',\n",
       "   '小寺裕雄',\n",
       "   '小渕優子',\n",
       "   '津島淳',\n",
       "   '松野博一',\n",
       "   '逢沢一郎',\n",
       "   '石田真敏',\n",
       "   '高村正大',\n",
       "   '上野賢一郎',\n",
       "   '宗清皇一',\n",
       "   '櫻田義孝',\n",
       "   '鈴木俊一',\n",
       "   '茂木敏充',\n",
       "   '永岡桂子',\n",
       "   '佐藤勉',\n",
       "   '泉田裕彦',\n",
       "   '上川陽子',\n",
       "   '山田美樹',\n",
       "   '田中英之',\n",
       "   '青山周平',\n",
       "   '根本幸典',\n",
       "   '池田佳隆',\n",
       "   '藤井比早之',\n",
       "   '井出庸生',\n",
       "   '根本匠',\n",
       "   '藤原崇',\n",
       "   '秋葉賢也',\n",
       "   '平口洋',\n",
       "   '石原宏高',\n",
       "   '林芳正',\n",
       "   '岸信千世',\n",
       "   '小森卓郎',\n",
       "   '加藤鮎子',\n",
       "   '小島敏文',\n",
       "   'あべ俊子',\n",
       "   '金田勝年',\n",
       "   '上田英俊',\n",
       "   '塩谷立',\n",
       "   '麻生太郎',\n",
       "   '大野敬太郎',\n",
       "   '加藤竜祥',\n",
       "   '寺田稔',\n",
       "   '遠藤利明',\n",
       "   '小野寺五典',\n",
       "   '武井俊輔',\n",
       "   '菅家一郎',\n",
       "   '高市早苗',\n",
       "   '井上貴博',\n",
       "   '三谷英弘',\n",
       "   '村井英樹',\n",
       "   '山田賢司',\n",
       "   '岩屋毅',\n",
       "   '今枝宗一郎',\n",
       "   '長坂康正',\n",
       "   '山口壯',\n",
       "   '國場幸之助',\n",
       "   '後藤茂之',\n",
       "   '田中良生',\n",
       "   '江渡聡徳',\n",
       "   '渡辺博道',\n",
       "   '勝目康',\n",
       "   '柿沢未途',\n",
       "   '木村次郎',\n",
       "   '西村明宏',\n",
       "   '高木宏壽',\n",
       "   '野田聖子',\n",
       "   '田村憲久',\n",
       "   '鷲尾英一郎',\n",
       "   '加藤勝信',\n",
       "   '島尻安伊子',\n",
       "   '平沢勝栄',\n",
       "   '御法川信英',\n",
       "   '佐々木紀',\n",
       "   '若林健太',\n",
       "   '伊藤達也',\n",
       "   '古賀篤',\n",
       "   '塩崎彰久',\n",
       "   '石破茂',\n",
       "   '額賀福志郎',\n",
       "   '下村博文',\n",
       "   '奥野信亮',\n",
       "   '伊東良孝',\n",
       "   '吉川赳',\n",
       "   '細田博之',\n",
       "   '海江田万里',\n",
       "   '吉田豊史',\n",
       "   '浅野哲',\n",
       "   '田中健',\n",
       "   '鈴木義弘',\n",
       "   '古川元久',\n",
       "   '前原誠司',\n",
       "   '斎藤アレックス',\n",
       "   '西岡秀子'],\n",
       "  'parties': {'れ新', '公明', '共産', '国民', '有志', '無', '立憲', '維新', '自民'}},\n",
       " 3: {'politicians': ['河西宏一',\n",
       "   '國重徹',\n",
       "   '古屋範子',\n",
       "   '伊藤渉',\n",
       "   '岡田克也',\n",
       "   '岡本あき子',\n",
       "   '野間健',\n",
       "   '山崎誠',\n",
       "   '吉田はるみ',\n",
       "   'おおつき紅葉',\n",
       "   '金子恵美',\n",
       "   '堤かなめ',\n",
       "   '大西健介',\n",
       "   '近藤昭一',\n",
       "   '落合貴之',\n",
       "   '井坂信彦',\n",
       "   '泉健太',\n",
       "   '吉田統彦',\n",
       "   '小川淳也',\n",
       "   '山岸一生',\n",
       "   '篠原孝',\n",
       "   '藤岡隆雄',\n",
       "   '稲富修二',\n",
       "   '太栄志',\n",
       "   '渡辺創',\n",
       "   '菊田真紀子',\n",
       "   '米山隆一',\n",
       "   '近藤和也',\n",
       "   '逢坂誠二',\n",
       "   '阿部知子',\n",
       "   '寺田学',\n",
       "   '櫻井周',\n",
       "   '早稲田ゆき',\n",
       "   '馬場雄基',\n",
       "   '源馬謙太郎',\n",
       "   '原口一博',\n",
       "   '本村伸子',\n",
       "   '田村貴昭',\n",
       "   '宮本徹',\n",
       "   '高橋千鶴子',\n",
       "   '志位和夫',\n",
       "   '岩谷良平',\n",
       "   '住吉寛紀',\n",
       "   '山本剛正',\n",
       "   '堀場幸子',\n",
       "   '馬場伸幸',\n",
       "   '掘井健智',\n",
       "   '早坂敦',\n",
       "   '吉田とも代',\n",
       "   '中司宏',\n",
       "   '三木圭恵',\n",
       "   '漆間譲司',\n",
       "   '池畑浩太朗',\n",
       "   '櫛渕万里',\n",
       "   '井野俊郎',\n",
       "   '橘慶一郎',\n",
       "   '斎藤洋明',\n",
       "   '堀井学',\n",
       "   '務台俊介',\n",
       "   '工藤彰三',\n",
       "   '亀岡偉民',\n",
       "   '吉野正芳',\n",
       "   '山際大志郎',\n",
       "   '堀内詔子',\n",
       "   '盛山正仁',\n",
       "   '小林茂樹',\n",
       "   '杉田水脈',\n",
       "   '鈴木隼人',\n",
       "   '八木哲也',\n",
       "   '川崎ひでと',\n",
       "   '高見康裕',\n",
       "   '国光あやの',\n",
       "   '宮路拓馬',\n",
       "   '葉梨康弘',\n",
       "   '穂坂泰',\n",
       "   '中根一幸',\n",
       "   '宮崎政久',\n",
       "   '西田昭二',\n",
       "   '中曽根康隆',\n",
       "   '谷川弥一',\n",
       "   '平井卓也',\n",
       "   '牧島かれん',\n",
       "   '村上誠一郎',\n",
       "   '菅義偉',\n",
       "   '高鳥修一',\n",
       "   '松本剛明',\n",
       "   '玉木雄一郎',\n",
       "   '長友慎治'],\n",
       "  'parties': {'れ新', '公明', '共産', '国民', '立憲', '維新', '自民'}}}"
      ]
     },
     "execution_count": 256,
     "metadata": {},
     "output_type": "execute_result"
    }
   ],
   "source": [
    "# definitions \n",
    "    # group is the part of the axes \n",
    "    # party is the political party\n",
    "    # rep is the representative (i.e., politician name)\n",
    "\n",
    "# a. Divide the axis into n parts\n",
    "n = 3\n",
    "\n",
    "axis_range = np.max(projections) - np.min(projections) # TODO: possibly re-adjust the range to reflect the range in the viz?\n",
    "portion_size = axis_range / n\n",
    "dividing_points = [np.min(projections) + i * portion_size for i in range(1, 3)]\n",
    "\n",
    "# b. Group politicians based on their position on the axis \n",
    "groups = np.digitize(projections, dividing_points)\n",
    "\n",
    "# c. Add politician and party to dict # group 1, 2, 3 (from left to right)\n",
    "group_dict = {group_num: {'politicians': [], 'parties': set()} for group_num in range(1, 4)}\n",
    "\n",
    "for rep, group, party in zip(reprs, groups, parties):\n",
    "    group_dict[group + 1]['politicians'].append(rep) # added +1 because of zero indexing \n",
    "    group_dict[group + 1]['parties'].add(party)\n",
    "\n",
    "group_dict"
   ]
  },
  {
   "cell_type": "markdown",
   "metadata": {},
   "source": [
    "## 2. Get the opinion sentences of each group on the axes"
   ]
  },
  {
   "cell_type": "code",
   "execution_count": 188,
   "metadata": {},
   "outputs": [],
   "source": [
    "from bertopic import BERTopic\n",
    "\n",
    "topic = '少子化'\n",
    "\n",
    "def text_preprocessing(texts):\n",
    "    processed_texts = []\n",
    "    for text in texts:\n",
    "        # remove specific characters using re.sub\n",
    "        text = re.sub('[、\\r\\n\\u3000]', '', text)\n",
    "        processed_texts.append(text)\n",
    "    return processed_texts\n",
    "\n",
    "group_topics = {}\n",
    "group_dict_2 = group_dict.copy() # copy because cannot change size while we iterate\n",
    "\n",
    "for group_num, group_info in group_dict.items():\n",
    "    opinion_sentences = []\n",
    "    \n",
    "    for politician in group_info['politicians']:\n",
    "        embeddings, dates, opinions = eh.get_embeddings_for_repr_for_topic(politician, topic)\n",
    "        opinion_sentences.extend(opinions)\n",
    "\n",
    "    #preprocess\n",
    "    preprocessed_opinions = text_preprocessing(opinion_sentences)\n",
    "    group_dict_2[group_num]['opinions_text'] = preprocessed_opinions"
   ]
  },
  {
   "cell_type": "markdown",
   "metadata": {},
   "source": [
    "## 3. Topic Model"
   ]
  },
  {
   "cell_type": "markdown",
   "metadata": {},
   "source": [
    "### BERTopic"
   ]
  },
  {
   "cell_type": "code",
   "execution_count": 258,
   "metadata": {},
   "outputs": [
    {
     "name": "stderr",
     "output_type": "stream",
     "text": [
      "Batches: 100%|██████████| 8/8 [01:40<00:00, 12.61s/it]\n",
      "2023-11-30 19:00:10,012 - BERTopic - Transformed documents to Embeddings\n",
      "2023-11-30 19:00:11,713 - BERTopic - Reduced dimensionality\n",
      "2023-11-30 19:00:11,730 - BERTopic - Clustered reduced embeddings\n",
      "2023-11-30 19:00:11,844 - BERTopic - Reduced number of topics from 7 to 7\n"
     ]
    }
   ],
   "source": [
    "# TODO: fixing stopwords to get rid of unwanted common ideas\n",
    "\n",
    "import MeCab\n",
    "from sklearn.feature_extraction.text import CountVectorizer\n",
    "\n",
    "mecab = MeCab.Tagger('-Owakati')\n",
    "\n",
    "def tokenize_jp(text):\n",
    "    text = re.sub('[、\\r\\n\\u3000]', '', text)\n",
    "\n",
    "    # Read stopwords from file\n",
    "    with open('stopwords-ja.txt', encoding='utf-8') as f:\n",
    "        stopwords = set(f.read().split())\n",
    "    \n",
    "    words = MeCab.Tagger(\"-Owakati\").parse(text).split()\n",
    "    \n",
    "    # Remove stopwords from words\n",
    "    words = [w for w in words if w not in stopwords] # TODO: find a comprehensive list of jp stopwords to make sure we get more sensical topic outputs\n",
    "    \n",
    "    return words\n",
    "\n",
    "## test tockenizer \n",
    "# test = \"今後も言語モデルの発展に伴って付け替え可能。文書のクラスタリングUMAPで次元削減した後、 HDBSCANでクラスタリング。次元削減手法やクラスタリング手法も付け替え可能。\"\n",
    "# tokenize_jp(test)\n",
    "\n",
    "def apply_bertopic(group_dict: dict, group_num: int, nr_topics: int): # \"cl-tohoku/bert-base-japanese-v3\" has sentence embeddings as st\n",
    "    MODEL_NAME = st #\"sentence-transformers/paraphrase-multilingual-mpnet-base-v2\"  # smaller model: \"paraphrase-multilingual-MiniLM-L12-v2\"\n",
    "    vectorizer_model = CountVectorizer(tokenizer=tokenize_jp)\n",
    "    model = BERTopic(verbose=\"True\", embedding_model=MODEL_NAME, nr_topics=nr_topics, vectorizer_model=vectorizer_model) \n",
    "    \n",
    "    topics, probs  = model.fit_transform(group_dict[group_num]['opinions_text'])\n",
    "    \n",
    "    return model\n",
    "\n",
    "group_1 = apply_bertopic(group_dict_2, 1, 10)\n",
    "# group_2 = apply_bertopic(2, 10)\n",
    "# group_3 = apply_bertopic(3, 10)"
   ]
  },
  {
   "cell_type": "code",
   "execution_count": 259,
   "metadata": {},
   "outputs": [
    {
     "data": {
      "text/html": [
       "<div>\n",
       "<style scoped>\n",
       "    .dataframe tbody tr th:only-of-type {\n",
       "        vertical-align: middle;\n",
       "    }\n",
       "\n",
       "    .dataframe tbody tr th {\n",
       "        vertical-align: top;\n",
       "    }\n",
       "\n",
       "    .dataframe thead th {\n",
       "        text-align: right;\n",
       "    }\n",
       "</style>\n",
       "<table border=\"1\" class=\"dataframe\">\n",
       "  <thead>\n",
       "    <tr style=\"text-align: right;\">\n",
       "      <th></th>\n",
       "      <th>Topic</th>\n",
       "      <th>Count</th>\n",
       "      <th>Name</th>\n",
       "      <th>Representation</th>\n",
       "      <th>Representative_Docs</th>\n",
       "    </tr>\n",
       "  </thead>\n",
       "  <tbody>\n",
       "    <tr>\n",
       "      <th>0</th>\n",
       "      <td>-1</td>\n",
       "      <td>61</td>\n",
       "      <td>-1_化_学校_教育_考え</td>\n",
       "      <td>[化, 学校, 教育, 考え, 等, 少子, 中, 重要, 日本, 大学]</td>\n",
       "      <td>[○柴山国務大臣今委員が御指摘になられたとおり少子化が今後更に進展をしていくことによって学校...</td>\n",
       "    </tr>\n",
       "    <tr>\n",
       "      <th>1</th>\n",
       "      <td>0</td>\n",
       "      <td>44</td>\n",
       "      <td>0_大学_等_進学_教育</td>\n",
       "      <td>[大学, 等, 進学, 教育, 考え, 化, 所得, 子供, 社会, 必要]</td>\n",
       "      <td>[次に少子化の進展への対処にどのように寄与するのか具体的な目算や目標値等はあるのかなぜ授業料...</td>\n",
       "    </tr>\n",
       "    <tr>\n",
       "      <th>2</th>\n",
       "      <td>1</td>\n",
       "      <td>33</td>\n",
       "      <td>1_支援_大学_考え_案</td>\n",
       "      <td>[支援, 大学, 考え, 案, 金, つい, 今回, 者, 奨学, 法]</td>\n",
       "      <td>[いずれにいたしましても文部科学省としてはこの新たな制度により真に支援が必要な学生に対し確実...</td>\n",
       "    </tr>\n",
       "    <tr>\n",
       "      <th>3</th>\n",
       "      <td>2</td>\n",
       "      <td>18</td>\n",
       "      <td>2_文化_研究_改革_教育</td>\n",
       "      <td>[文化, 研究, 改革, 教育, 大学, 芸術, イニシアティブ, 高等, まいり, 連携]</td>\n",
       "      <td>[このような観点から先日高等教育・研究改革イニシアティブ柴山イニシアティブを発表したところで...</td>\n",
       "    </tr>\n",
       "    <tr>\n",
       "      <th>4</th>\n",
       "      <td>3</td>\n",
       "      <td>34</td>\n",
       "      <td>3_そう_あるいは_ふう_やはり</td>\n",
       "      <td>[そう, あるいは, ふう, やはり, いっ, まし, じゃ, いく, ござい, もう]</td>\n",
       "      <td>[ですからそういう状況を踏まえたときにもうちょっと政府としてあるいは総務省としてしっかり国の...</td>\n",
       "    </tr>\n",
       "    <tr>\n",
       "      <th>5</th>\n",
       "      <td>4</td>\n",
       "      <td>11</td>\n",
       "      <td>4_党_御_国民_政党</td>\n",
       "      <td>[党, 御, 国民, 政党, 問題, とおり, 方々, 府, 考え, つい]</td>\n",
       "      <td>[しかし先ほど申し上げたとおり一定の問題点については喫緊の改正の課題として全国民的合意を得ら...</td>\n",
       "    </tr>\n",
       "    <tr>\n",
       "      <th>6</th>\n",
       "      <td>5</td>\n",
       "      <td>39</td>\n",
       "      <td>5_思い_そう_けれど_ござい</td>\n",
       "      <td>[思い, そう, けれど, ござい, ふう, まし, 地方, 中, 大変, 思っ]</td>\n",
       "      <td>[そういうところがやっぱりちょっと違うんじゃないかなというふうに思っておりましてまたいろんな...</td>\n",
       "    </tr>\n",
       "  </tbody>\n",
       "</table>\n",
       "</div>"
      ],
      "text/plain": [
       "   Topic  Count              Name  \\\n",
       "0     -1     61     -1_化_学校_教育_考え   \n",
       "1      0     44      0_大学_等_進学_教育   \n",
       "2      1     33      1_支援_大学_考え_案   \n",
       "3      2     18     2_文化_研究_改革_教育   \n",
       "4      3     34  3_そう_あるいは_ふう_やはり   \n",
       "5      4     11       4_党_御_国民_政党   \n",
       "6      5     39   5_思い_そう_けれど_ござい   \n",
       "\n",
       "                                   Representation  \\\n",
       "0           [化, 学校, 教育, 考え, 等, 少子, 中, 重要, 日本, 大学]   \n",
       "1          [大学, 等, 進学, 教育, 考え, 化, 所得, 子供, 社会, 必要]   \n",
       "2            [支援, 大学, 考え, 案, 金, つい, 今回, 者, 奨学, 法]   \n",
       "3  [文化, 研究, 改革, 教育, 大学, 芸術, イニシアティブ, 高等, まいり, 連携]   \n",
       "4    [そう, あるいは, ふう, やはり, いっ, まし, じゃ, いく, ござい, もう]   \n",
       "5          [党, 御, 国民, 政党, 問題, とおり, 方々, 府, 考え, つい]   \n",
       "6       [思い, そう, けれど, ござい, ふう, まし, 地方, 中, 大変, 思っ]   \n",
       "\n",
       "                                 Representative_Docs  \n",
       "0  [○柴山国務大臣今委員が御指摘になられたとおり少子化が今後更に進展をしていくことによって学校...  \n",
       "1  [次に少子化の進展への対処にどのように寄与するのか具体的な目算や目標値等はあるのかなぜ授業料...  \n",
       "2  [いずれにいたしましても文部科学省としてはこの新たな制度により真に支援が必要な学生に対し確実...  \n",
       "3  [このような観点から先日高等教育・研究改革イニシアティブ柴山イニシアティブを発表したところで...  \n",
       "4  [ですからそういう状況を踏まえたときにもうちょっと政府としてあるいは総務省としてしっかり国の...  \n",
       "5  [しかし先ほど申し上げたとおり一定の問題点については喫緊の改正の課題として全国民的合意を得ら...  \n",
       "6  [そういうところがやっぱりちょっと違うんじゃないかなというふうに思っておりましてまたいろんな...  "
      ]
     },
     "metadata": {},
     "output_type": "display_data"
    }
   ],
   "source": [
    "display(group_1.get_topic_info())\n",
    "# display(group_2.get_topic_info())\n",
    "# display(group_3.get_topic_info())"
   ]
  },
  {
   "cell_type": "code",
   "execution_count": 249,
   "metadata": {},
   "outputs": [
    {
     "ename": "ValueError",
     "evalue": "Mime type rendering requires nbformat>=4.2.0 but it is not installed",
     "output_type": "error",
     "traceback": [
      "\u001b[0;31m---------------------------------------------------------------------------\u001b[0m",
      "\u001b[0;31mValueError\u001b[0m                                Traceback (most recent call last)",
      "File \u001b[0;32m~/miniforge3/envs/torch-nightly/lib/python3.8/site-packages/IPython/core/formatters.py:922\u001b[0m, in \u001b[0;36mIPythonDisplayFormatter.__call__\u001b[0;34m(self, obj)\u001b[0m\n\u001b[1;32m    920\u001b[0m method \u001b[39m=\u001b[39m get_real_method(obj, \u001b[39mself\u001b[39m\u001b[39m.\u001b[39mprint_method)\n\u001b[1;32m    921\u001b[0m \u001b[39mif\u001b[39;00m method \u001b[39mis\u001b[39;00m \u001b[39mnot\u001b[39;00m \u001b[39mNone\u001b[39;00m:\n\u001b[0;32m--> 922\u001b[0m     method()\n\u001b[1;32m    923\u001b[0m     \u001b[39mreturn\u001b[39;00m \u001b[39mTrue\u001b[39;00m\n",
      "File \u001b[0;32m~/miniforge3/envs/torch-nightly/lib/python3.8/site-packages/plotly/basedatatypes.py:832\u001b[0m, in \u001b[0;36mBaseFigure._ipython_display_\u001b[0;34m(self)\u001b[0m\n\u001b[1;32m    829\u001b[0m \u001b[39mimport\u001b[39;00m \u001b[39mplotly\u001b[39;00m\u001b[39m.\u001b[39;00m\u001b[39mio\u001b[39;00m \u001b[39mas\u001b[39;00m \u001b[39mpio\u001b[39;00m\n\u001b[1;32m    831\u001b[0m \u001b[39mif\u001b[39;00m pio\u001b[39m.\u001b[39mrenderers\u001b[39m.\u001b[39mrender_on_display \u001b[39mand\u001b[39;00m pio\u001b[39m.\u001b[39mrenderers\u001b[39m.\u001b[39mdefault:\n\u001b[0;32m--> 832\u001b[0m     pio\u001b[39m.\u001b[39;49mshow(\u001b[39mself\u001b[39;49m)\n\u001b[1;32m    833\u001b[0m \u001b[39melse\u001b[39;00m:\n\u001b[1;32m    834\u001b[0m     \u001b[39mprint\u001b[39m(\u001b[39mrepr\u001b[39m(\u001b[39mself\u001b[39m))\n",
      "File \u001b[0;32m~/miniforge3/envs/torch-nightly/lib/python3.8/site-packages/plotly/io/_renderers.py:394\u001b[0m, in \u001b[0;36mshow\u001b[0;34m(fig, renderer, validate, **kwargs)\u001b[0m\n\u001b[1;32m    389\u001b[0m         \u001b[39mraise\u001b[39;00m \u001b[39mValueError\u001b[39;00m(\n\u001b[1;32m    390\u001b[0m             \u001b[39m\"\u001b[39m\u001b[39mMime type rendering requires ipython but it is not installed\u001b[39m\u001b[39m\"\u001b[39m\n\u001b[1;32m    391\u001b[0m         )\n\u001b[1;32m    393\u001b[0m     \u001b[39mif\u001b[39;00m \u001b[39mnot\u001b[39;00m nbformat \u001b[39mor\u001b[39;00m Version(nbformat\u001b[39m.\u001b[39m__version__) \u001b[39m<\u001b[39m Version(\u001b[39m\"\u001b[39m\u001b[39m4.2.0\u001b[39m\u001b[39m\"\u001b[39m):\n\u001b[0;32m--> 394\u001b[0m         \u001b[39mraise\u001b[39;00m \u001b[39mValueError\u001b[39;00m(\n\u001b[1;32m    395\u001b[0m             \u001b[39m\"\u001b[39m\u001b[39mMime type rendering requires nbformat>=4.2.0 but it is not installed\u001b[39m\u001b[39m\"\u001b[39m\n\u001b[1;32m    396\u001b[0m         )\n\u001b[1;32m    398\u001b[0m     ipython_display\u001b[39m.\u001b[39mdisplay(bundle, raw\u001b[39m=\u001b[39m\u001b[39mTrue\u001b[39;00m)\n\u001b[1;32m    400\u001b[0m \u001b[39m# external renderers\u001b[39;00m\n",
      "\u001b[0;31mValueError\u001b[0m: Mime type rendering requires nbformat>=4.2.0 but it is not installed"
     ]
    },
    {
     "data": {
      "application/vnd.plotly.v1+json": {
       "config": {
        "plotlyServerURL": "https://plot.ly"
       },
       "data": [
        {
         "marker": {
          "color": "#D55E00"
         },
         "orientation": "h",
         "type": "bar",
         "x": [
          0.03604853843719889,
          0.03748194361491471,
          0.037884585758588905,
          0.03812914866308834,
          0.040035768699138115,
          0.0409525597905248,
          0.04131612723085087,
          0.04446415763880185,
          0.052537765395658825,
          0.05639918411213384
         ],
         "xaxis": "x",
         "y": [
          "いく  ",
          "あるいは  ",
          "ござい  ",
          "けれど  ",
          "思い  ",
          "いっ  ",
          "化  ",
          "中  ",
          "まし  ",
          "そう  "
         ],
         "yaxis": "y"
        },
        {
         "marker": {
          "color": "#0072B2"
         },
         "orientation": "h",
         "type": "bar",
         "x": [
          0.035641063943536125,
          0.03989250377067592,
          0.04126452024559768,
          0.048122401515959944,
          0.05390821558487618,
          0.05816267624501129,
          0.058345262710396244,
          0.06789632929761096,
          0.07578744279840585,
          0.09094479031639104
         ],
         "xaxis": "x2",
         "y": [
          "必要  ",
          "つい  ",
          "進学  ",
          "学校  ",
          "支援  ",
          "化  ",
          "等  ",
          "考え  ",
          "教育  ",
          "大学  "
         ],
         "yaxis": "y2"
        }
       ],
       "layout": {
        "annotations": [
         {
          "font": {
           "size": 16
          },
          "showarrow": false,
          "text": "Topic 0",
          "x": 0.0875,
          "xanchor": "center",
          "xref": "paper",
          "y": 1,
          "yanchor": "bottom",
          "yref": "paper"
         },
         {
          "font": {
           "size": 16
          },
          "showarrow": false,
          "text": "Topic 1",
          "x": 0.36250000000000004,
          "xanchor": "center",
          "xref": "paper",
          "y": 1,
          "yanchor": "bottom",
          "yref": "paper"
         }
        ],
        "height": 325,
        "hoverlabel": {
         "bgcolor": "white",
         "font": {
          "family": "Rockwell",
          "size": 16
         }
        },
        "showlegend": false,
        "template": {
         "data": {
          "bar": [
           {
            "error_x": {
             "color": "#2a3f5f"
            },
            "error_y": {
             "color": "#2a3f5f"
            },
            "marker": {
             "line": {
              "color": "white",
              "width": 0.5
             },
             "pattern": {
              "fillmode": "overlay",
              "size": 10,
              "solidity": 0.2
             }
            },
            "type": "bar"
           }
          ],
          "barpolar": [
           {
            "marker": {
             "line": {
              "color": "white",
              "width": 0.5
             },
             "pattern": {
              "fillmode": "overlay",
              "size": 10,
              "solidity": 0.2
             }
            },
            "type": "barpolar"
           }
          ],
          "carpet": [
           {
            "aaxis": {
             "endlinecolor": "#2a3f5f",
             "gridcolor": "#C8D4E3",
             "linecolor": "#C8D4E3",
             "minorgridcolor": "#C8D4E3",
             "startlinecolor": "#2a3f5f"
            },
            "baxis": {
             "endlinecolor": "#2a3f5f",
             "gridcolor": "#C8D4E3",
             "linecolor": "#C8D4E3",
             "minorgridcolor": "#C8D4E3",
             "startlinecolor": "#2a3f5f"
            },
            "type": "carpet"
           }
          ],
          "choropleth": [
           {
            "colorbar": {
             "outlinewidth": 0,
             "ticks": ""
            },
            "type": "choropleth"
           }
          ],
          "contour": [
           {
            "colorbar": {
             "outlinewidth": 0,
             "ticks": ""
            },
            "colorscale": [
             [
              0,
              "#0d0887"
             ],
             [
              0.1111111111111111,
              "#46039f"
             ],
             [
              0.2222222222222222,
              "#7201a8"
             ],
             [
              0.3333333333333333,
              "#9c179e"
             ],
             [
              0.4444444444444444,
              "#bd3786"
             ],
             [
              0.5555555555555556,
              "#d8576b"
             ],
             [
              0.6666666666666666,
              "#ed7953"
             ],
             [
              0.7777777777777778,
              "#fb9f3a"
             ],
             [
              0.8888888888888888,
              "#fdca26"
             ],
             [
              1,
              "#f0f921"
             ]
            ],
            "type": "contour"
           }
          ],
          "contourcarpet": [
           {
            "colorbar": {
             "outlinewidth": 0,
             "ticks": ""
            },
            "type": "contourcarpet"
           }
          ],
          "heatmap": [
           {
            "colorbar": {
             "outlinewidth": 0,
             "ticks": ""
            },
            "colorscale": [
             [
              0,
              "#0d0887"
             ],
             [
              0.1111111111111111,
              "#46039f"
             ],
             [
              0.2222222222222222,
              "#7201a8"
             ],
             [
              0.3333333333333333,
              "#9c179e"
             ],
             [
              0.4444444444444444,
              "#bd3786"
             ],
             [
              0.5555555555555556,
              "#d8576b"
             ],
             [
              0.6666666666666666,
              "#ed7953"
             ],
             [
              0.7777777777777778,
              "#fb9f3a"
             ],
             [
              0.8888888888888888,
              "#fdca26"
             ],
             [
              1,
              "#f0f921"
             ]
            ],
            "type": "heatmap"
           }
          ],
          "heatmapgl": [
           {
            "colorbar": {
             "outlinewidth": 0,
             "ticks": ""
            },
            "colorscale": [
             [
              0,
              "#0d0887"
             ],
             [
              0.1111111111111111,
              "#46039f"
             ],
             [
              0.2222222222222222,
              "#7201a8"
             ],
             [
              0.3333333333333333,
              "#9c179e"
             ],
             [
              0.4444444444444444,
              "#bd3786"
             ],
             [
              0.5555555555555556,
              "#d8576b"
             ],
             [
              0.6666666666666666,
              "#ed7953"
             ],
             [
              0.7777777777777778,
              "#fb9f3a"
             ],
             [
              0.8888888888888888,
              "#fdca26"
             ],
             [
              1,
              "#f0f921"
             ]
            ],
            "type": "heatmapgl"
           }
          ],
          "histogram": [
           {
            "marker": {
             "pattern": {
              "fillmode": "overlay",
              "size": 10,
              "solidity": 0.2
             }
            },
            "type": "histogram"
           }
          ],
          "histogram2d": [
           {
            "colorbar": {
             "outlinewidth": 0,
             "ticks": ""
            },
            "colorscale": [
             [
              0,
              "#0d0887"
             ],
             [
              0.1111111111111111,
              "#46039f"
             ],
             [
              0.2222222222222222,
              "#7201a8"
             ],
             [
              0.3333333333333333,
              "#9c179e"
             ],
             [
              0.4444444444444444,
              "#bd3786"
             ],
             [
              0.5555555555555556,
              "#d8576b"
             ],
             [
              0.6666666666666666,
              "#ed7953"
             ],
             [
              0.7777777777777778,
              "#fb9f3a"
             ],
             [
              0.8888888888888888,
              "#fdca26"
             ],
             [
              1,
              "#f0f921"
             ]
            ],
            "type": "histogram2d"
           }
          ],
          "histogram2dcontour": [
           {
            "colorbar": {
             "outlinewidth": 0,
             "ticks": ""
            },
            "colorscale": [
             [
              0,
              "#0d0887"
             ],
             [
              0.1111111111111111,
              "#46039f"
             ],
             [
              0.2222222222222222,
              "#7201a8"
             ],
             [
              0.3333333333333333,
              "#9c179e"
             ],
             [
              0.4444444444444444,
              "#bd3786"
             ],
             [
              0.5555555555555556,
              "#d8576b"
             ],
             [
              0.6666666666666666,
              "#ed7953"
             ],
             [
              0.7777777777777778,
              "#fb9f3a"
             ],
             [
              0.8888888888888888,
              "#fdca26"
             ],
             [
              1,
              "#f0f921"
             ]
            ],
            "type": "histogram2dcontour"
           }
          ],
          "mesh3d": [
           {
            "colorbar": {
             "outlinewidth": 0,
             "ticks": ""
            },
            "type": "mesh3d"
           }
          ],
          "parcoords": [
           {
            "line": {
             "colorbar": {
              "outlinewidth": 0,
              "ticks": ""
             }
            },
            "type": "parcoords"
           }
          ],
          "pie": [
           {
            "automargin": true,
            "type": "pie"
           }
          ],
          "scatter": [
           {
            "fillpattern": {
             "fillmode": "overlay",
             "size": 10,
             "solidity": 0.2
            },
            "type": "scatter"
           }
          ],
          "scatter3d": [
           {
            "line": {
             "colorbar": {
              "outlinewidth": 0,
              "ticks": ""
             }
            },
            "marker": {
             "colorbar": {
              "outlinewidth": 0,
              "ticks": ""
             }
            },
            "type": "scatter3d"
           }
          ],
          "scattercarpet": [
           {
            "marker": {
             "colorbar": {
              "outlinewidth": 0,
              "ticks": ""
             }
            },
            "type": "scattercarpet"
           }
          ],
          "scattergeo": [
           {
            "marker": {
             "colorbar": {
              "outlinewidth": 0,
              "ticks": ""
             }
            },
            "type": "scattergeo"
           }
          ],
          "scattergl": [
           {
            "marker": {
             "colorbar": {
              "outlinewidth": 0,
              "ticks": ""
             }
            },
            "type": "scattergl"
           }
          ],
          "scattermapbox": [
           {
            "marker": {
             "colorbar": {
              "outlinewidth": 0,
              "ticks": ""
             }
            },
            "type": "scattermapbox"
           }
          ],
          "scatterpolar": [
           {
            "marker": {
             "colorbar": {
              "outlinewidth": 0,
              "ticks": ""
             }
            },
            "type": "scatterpolar"
           }
          ],
          "scatterpolargl": [
           {
            "marker": {
             "colorbar": {
              "outlinewidth": 0,
              "ticks": ""
             }
            },
            "type": "scatterpolargl"
           }
          ],
          "scatterternary": [
           {
            "marker": {
             "colorbar": {
              "outlinewidth": 0,
              "ticks": ""
             }
            },
            "type": "scatterternary"
           }
          ],
          "surface": [
           {
            "colorbar": {
             "outlinewidth": 0,
             "ticks": ""
            },
            "colorscale": [
             [
              0,
              "#0d0887"
             ],
             [
              0.1111111111111111,
              "#46039f"
             ],
             [
              0.2222222222222222,
              "#7201a8"
             ],
             [
              0.3333333333333333,
              "#9c179e"
             ],
             [
              0.4444444444444444,
              "#bd3786"
             ],
             [
              0.5555555555555556,
              "#d8576b"
             ],
             [
              0.6666666666666666,
              "#ed7953"
             ],
             [
              0.7777777777777778,
              "#fb9f3a"
             ],
             [
              0.8888888888888888,
              "#fdca26"
             ],
             [
              1,
              "#f0f921"
             ]
            ],
            "type": "surface"
           }
          ],
          "table": [
           {
            "cells": {
             "fill": {
              "color": "#EBF0F8"
             },
             "line": {
              "color": "white"
             }
            },
            "header": {
             "fill": {
              "color": "#C8D4E3"
             },
             "line": {
              "color": "white"
             }
            },
            "type": "table"
           }
          ]
         },
         "layout": {
          "annotationdefaults": {
           "arrowcolor": "#2a3f5f",
           "arrowhead": 0,
           "arrowwidth": 1
          },
          "autotypenumbers": "strict",
          "coloraxis": {
           "colorbar": {
            "outlinewidth": 0,
            "ticks": ""
           }
          },
          "colorscale": {
           "diverging": [
            [
             0,
             "#8e0152"
            ],
            [
             0.1,
             "#c51b7d"
            ],
            [
             0.2,
             "#de77ae"
            ],
            [
             0.3,
             "#f1b6da"
            ],
            [
             0.4,
             "#fde0ef"
            ],
            [
             0.5,
             "#f7f7f7"
            ],
            [
             0.6,
             "#e6f5d0"
            ],
            [
             0.7,
             "#b8e186"
            ],
            [
             0.8,
             "#7fbc41"
            ],
            [
             0.9,
             "#4d9221"
            ],
            [
             1,
             "#276419"
            ]
           ],
           "sequential": [
            [
             0,
             "#0d0887"
            ],
            [
             0.1111111111111111,
             "#46039f"
            ],
            [
             0.2222222222222222,
             "#7201a8"
            ],
            [
             0.3333333333333333,
             "#9c179e"
            ],
            [
             0.4444444444444444,
             "#bd3786"
            ],
            [
             0.5555555555555556,
             "#d8576b"
            ],
            [
             0.6666666666666666,
             "#ed7953"
            ],
            [
             0.7777777777777778,
             "#fb9f3a"
            ],
            [
             0.8888888888888888,
             "#fdca26"
            ],
            [
             1,
             "#f0f921"
            ]
           ],
           "sequentialminus": [
            [
             0,
             "#0d0887"
            ],
            [
             0.1111111111111111,
             "#46039f"
            ],
            [
             0.2222222222222222,
             "#7201a8"
            ],
            [
             0.3333333333333333,
             "#9c179e"
            ],
            [
             0.4444444444444444,
             "#bd3786"
            ],
            [
             0.5555555555555556,
             "#d8576b"
            ],
            [
             0.6666666666666666,
             "#ed7953"
            ],
            [
             0.7777777777777778,
             "#fb9f3a"
            ],
            [
             0.8888888888888888,
             "#fdca26"
            ],
            [
             1,
             "#f0f921"
            ]
           ]
          },
          "colorway": [
           "#636efa",
           "#EF553B",
           "#00cc96",
           "#ab63fa",
           "#FFA15A",
           "#19d3f3",
           "#FF6692",
           "#B6E880",
           "#FF97FF",
           "#FECB52"
          ],
          "font": {
           "color": "#2a3f5f"
          },
          "geo": {
           "bgcolor": "white",
           "lakecolor": "white",
           "landcolor": "white",
           "showlakes": true,
           "showland": true,
           "subunitcolor": "#C8D4E3"
          },
          "hoverlabel": {
           "align": "left"
          },
          "hovermode": "closest",
          "mapbox": {
           "style": "light"
          },
          "paper_bgcolor": "white",
          "plot_bgcolor": "white",
          "polar": {
           "angularaxis": {
            "gridcolor": "#EBF0F8",
            "linecolor": "#EBF0F8",
            "ticks": ""
           },
           "bgcolor": "white",
           "radialaxis": {
            "gridcolor": "#EBF0F8",
            "linecolor": "#EBF0F8",
            "ticks": ""
           }
          },
          "scene": {
           "xaxis": {
            "backgroundcolor": "white",
            "gridcolor": "#DFE8F3",
            "gridwidth": 2,
            "linecolor": "#EBF0F8",
            "showbackground": true,
            "ticks": "",
            "zerolinecolor": "#EBF0F8"
           },
           "yaxis": {
            "backgroundcolor": "white",
            "gridcolor": "#DFE8F3",
            "gridwidth": 2,
            "linecolor": "#EBF0F8",
            "showbackground": true,
            "ticks": "",
            "zerolinecolor": "#EBF0F8"
           },
           "zaxis": {
            "backgroundcolor": "white",
            "gridcolor": "#DFE8F3",
            "gridwidth": 2,
            "linecolor": "#EBF0F8",
            "showbackground": true,
            "ticks": "",
            "zerolinecolor": "#EBF0F8"
           }
          },
          "shapedefaults": {
           "line": {
            "color": "#2a3f5f"
           }
          },
          "ternary": {
           "aaxis": {
            "gridcolor": "#DFE8F3",
            "linecolor": "#A2B1C6",
            "ticks": ""
           },
           "baxis": {
            "gridcolor": "#DFE8F3",
            "linecolor": "#A2B1C6",
            "ticks": ""
           },
           "bgcolor": "white",
           "caxis": {
            "gridcolor": "#DFE8F3",
            "linecolor": "#A2B1C6",
            "ticks": ""
           }
          },
          "title": {
           "x": 0.05
          },
          "xaxis": {
           "automargin": true,
           "gridcolor": "#EBF0F8",
           "linecolor": "#EBF0F8",
           "ticks": "",
           "title": {
            "standoff": 15
           },
           "zerolinecolor": "#EBF0F8",
           "zerolinewidth": 2
          },
          "yaxis": {
           "automargin": true,
           "gridcolor": "#EBF0F8",
           "linecolor": "#EBF0F8",
           "ticks": "",
           "title": {
            "standoff": 15
           },
           "zerolinecolor": "#EBF0F8",
           "zerolinewidth": 2
          }
         }
        },
        "title": {
         "font": {
          "color": "Black",
          "size": 22
         },
         "text": "Topic Word Scores",
         "x": 0.5,
         "xanchor": "center",
         "yanchor": "top"
        },
        "width": 1000,
        "xaxis": {
         "anchor": "y",
         "domain": [
          0,
          0.175
         ],
         "showgrid": true
        },
        "xaxis2": {
         "anchor": "y2",
         "domain": [
          0.275,
          0.45
         ],
         "showgrid": true
        },
        "xaxis3": {
         "anchor": "y3",
         "domain": [
          0.55,
          0.7250000000000001
         ],
         "showgrid": true
        },
        "xaxis4": {
         "anchor": "y4",
         "domain": [
          0.825,
          1
         ],
         "showgrid": true
        },
        "yaxis": {
         "anchor": "x",
         "domain": [
          0,
          1
         ],
         "showgrid": true
        },
        "yaxis2": {
         "anchor": "x2",
         "domain": [
          0,
          1
         ],
         "showgrid": true
        },
        "yaxis3": {
         "anchor": "x3",
         "domain": [
          0,
          1
         ],
         "showgrid": true
        },
        "yaxis4": {
         "anchor": "x4",
         "domain": [
          0,
          1
         ],
         "showgrid": true
        }
       }
      },
      "text/html": [
       "<div>                        <script type=\"text/javascript\">window.PlotlyConfig = {MathJaxConfig: 'local'};</script>\n",
       "        <script charset=\"utf-8\" src=\"https://cdn.plot.ly/plotly-2.27.0.min.js\"></script>                <div id=\"ea3d2bb6-a75e-48fe-8105-93055e36fa89\" class=\"plotly-graph-div\" style=\"height:325.0px; width:1000px;\"></div>            <script type=\"text/javascript\">                                    window.PLOTLYENV=window.PLOTLYENV || {};                                    if (document.getElementById(\"ea3d2bb6-a75e-48fe-8105-93055e36fa89\")) {                    Plotly.newPlot(                        \"ea3d2bb6-a75e-48fe-8105-93055e36fa89\",                        [{\"marker\":{\"color\":\"#D55E00\"},\"orientation\":\"h\",\"x\":[0.03604853843719889,0.03748194361491471,0.037884585758588905,0.03812914866308834,0.040035768699138115,0.0409525597905248,0.04131612723085087,0.04446415763880185,0.052537765395658825,0.05639918411213384],\"y\":[\"\\u3044\\u304f  \",\"\\u3042\\u308b\\u3044\\u306f  \",\"\\u3054\\u3056\\u3044  \",\"\\u3051\\u308c\\u3069  \",\"\\u601d\\u3044  \",\"\\u3044\\u3063  \",\"\\u5316  \",\"\\u4e2d  \",\"\\u307e\\u3057  \",\"\\u305d\\u3046  \"],\"type\":\"bar\",\"xaxis\":\"x\",\"yaxis\":\"y\"},{\"marker\":{\"color\":\"#0072B2\"},\"orientation\":\"h\",\"x\":[0.035641063943536125,0.03989250377067592,0.04126452024559768,0.048122401515959944,0.05390821558487618,0.05816267624501129,0.058345262710396244,0.06789632929761096,0.07578744279840585,0.09094479031639104],\"y\":[\"\\u5fc5\\u8981  \",\"\\u3064\\u3044  \",\"\\u9032\\u5b66  \",\"\\u5b66\\u6821  \",\"\\u652f\\u63f4  \",\"\\u5316  \",\"\\u7b49  \",\"\\u8003\\u3048  \",\"\\u6559\\u80b2  \",\"\\u5927\\u5b66  \"],\"type\":\"bar\",\"xaxis\":\"x2\",\"yaxis\":\"y2\"}],                        {\"template\":{\"data\":{\"barpolar\":[{\"marker\":{\"line\":{\"color\":\"white\",\"width\":0.5},\"pattern\":{\"fillmode\":\"overlay\",\"size\":10,\"solidity\":0.2}},\"type\":\"barpolar\"}],\"bar\":[{\"error_x\":{\"color\":\"#2a3f5f\"},\"error_y\":{\"color\":\"#2a3f5f\"},\"marker\":{\"line\":{\"color\":\"white\",\"width\":0.5},\"pattern\":{\"fillmode\":\"overlay\",\"size\":10,\"solidity\":0.2}},\"type\":\"bar\"}],\"carpet\":[{\"aaxis\":{\"endlinecolor\":\"#2a3f5f\",\"gridcolor\":\"#C8D4E3\",\"linecolor\":\"#C8D4E3\",\"minorgridcolor\":\"#C8D4E3\",\"startlinecolor\":\"#2a3f5f\"},\"baxis\":{\"endlinecolor\":\"#2a3f5f\",\"gridcolor\":\"#C8D4E3\",\"linecolor\":\"#C8D4E3\",\"minorgridcolor\":\"#C8D4E3\",\"startlinecolor\":\"#2a3f5f\"},\"type\":\"carpet\"}],\"choropleth\":[{\"colorbar\":{\"outlinewidth\":0,\"ticks\":\"\"},\"type\":\"choropleth\"}],\"contourcarpet\":[{\"colorbar\":{\"outlinewidth\":0,\"ticks\":\"\"},\"type\":\"contourcarpet\"}],\"contour\":[{\"colorbar\":{\"outlinewidth\":0,\"ticks\":\"\"},\"colorscale\":[[0.0,\"#0d0887\"],[0.1111111111111111,\"#46039f\"],[0.2222222222222222,\"#7201a8\"],[0.3333333333333333,\"#9c179e\"],[0.4444444444444444,\"#bd3786\"],[0.5555555555555556,\"#d8576b\"],[0.6666666666666666,\"#ed7953\"],[0.7777777777777778,\"#fb9f3a\"],[0.8888888888888888,\"#fdca26\"],[1.0,\"#f0f921\"]],\"type\":\"contour\"}],\"heatmapgl\":[{\"colorbar\":{\"outlinewidth\":0,\"ticks\":\"\"},\"colorscale\":[[0.0,\"#0d0887\"],[0.1111111111111111,\"#46039f\"],[0.2222222222222222,\"#7201a8\"],[0.3333333333333333,\"#9c179e\"],[0.4444444444444444,\"#bd3786\"],[0.5555555555555556,\"#d8576b\"],[0.6666666666666666,\"#ed7953\"],[0.7777777777777778,\"#fb9f3a\"],[0.8888888888888888,\"#fdca26\"],[1.0,\"#f0f921\"]],\"type\":\"heatmapgl\"}],\"heatmap\":[{\"colorbar\":{\"outlinewidth\":0,\"ticks\":\"\"},\"colorscale\":[[0.0,\"#0d0887\"],[0.1111111111111111,\"#46039f\"],[0.2222222222222222,\"#7201a8\"],[0.3333333333333333,\"#9c179e\"],[0.4444444444444444,\"#bd3786\"],[0.5555555555555556,\"#d8576b\"],[0.6666666666666666,\"#ed7953\"],[0.7777777777777778,\"#fb9f3a\"],[0.8888888888888888,\"#fdca26\"],[1.0,\"#f0f921\"]],\"type\":\"heatmap\"}],\"histogram2dcontour\":[{\"colorbar\":{\"outlinewidth\":0,\"ticks\":\"\"},\"colorscale\":[[0.0,\"#0d0887\"],[0.1111111111111111,\"#46039f\"],[0.2222222222222222,\"#7201a8\"],[0.3333333333333333,\"#9c179e\"],[0.4444444444444444,\"#bd3786\"],[0.5555555555555556,\"#d8576b\"],[0.6666666666666666,\"#ed7953\"],[0.7777777777777778,\"#fb9f3a\"],[0.8888888888888888,\"#fdca26\"],[1.0,\"#f0f921\"]],\"type\":\"histogram2dcontour\"}],\"histogram2d\":[{\"colorbar\":{\"outlinewidth\":0,\"ticks\":\"\"},\"colorscale\":[[0.0,\"#0d0887\"],[0.1111111111111111,\"#46039f\"],[0.2222222222222222,\"#7201a8\"],[0.3333333333333333,\"#9c179e\"],[0.4444444444444444,\"#bd3786\"],[0.5555555555555556,\"#d8576b\"],[0.6666666666666666,\"#ed7953\"],[0.7777777777777778,\"#fb9f3a\"],[0.8888888888888888,\"#fdca26\"],[1.0,\"#f0f921\"]],\"type\":\"histogram2d\"}],\"histogram\":[{\"marker\":{\"pattern\":{\"fillmode\":\"overlay\",\"size\":10,\"solidity\":0.2}},\"type\":\"histogram\"}],\"mesh3d\":[{\"colorbar\":{\"outlinewidth\":0,\"ticks\":\"\"},\"type\":\"mesh3d\"}],\"parcoords\":[{\"line\":{\"colorbar\":{\"outlinewidth\":0,\"ticks\":\"\"}},\"type\":\"parcoords\"}],\"pie\":[{\"automargin\":true,\"type\":\"pie\"}],\"scatter3d\":[{\"line\":{\"colorbar\":{\"outlinewidth\":0,\"ticks\":\"\"}},\"marker\":{\"colorbar\":{\"outlinewidth\":0,\"ticks\":\"\"}},\"type\":\"scatter3d\"}],\"scattercarpet\":[{\"marker\":{\"colorbar\":{\"outlinewidth\":0,\"ticks\":\"\"}},\"type\":\"scattercarpet\"}],\"scattergeo\":[{\"marker\":{\"colorbar\":{\"outlinewidth\":0,\"ticks\":\"\"}},\"type\":\"scattergeo\"}],\"scattergl\":[{\"marker\":{\"colorbar\":{\"outlinewidth\":0,\"ticks\":\"\"}},\"type\":\"scattergl\"}],\"scattermapbox\":[{\"marker\":{\"colorbar\":{\"outlinewidth\":0,\"ticks\":\"\"}},\"type\":\"scattermapbox\"}],\"scatterpolargl\":[{\"marker\":{\"colorbar\":{\"outlinewidth\":0,\"ticks\":\"\"}},\"type\":\"scatterpolargl\"}],\"scatterpolar\":[{\"marker\":{\"colorbar\":{\"outlinewidth\":0,\"ticks\":\"\"}},\"type\":\"scatterpolar\"}],\"scatter\":[{\"fillpattern\":{\"fillmode\":\"overlay\",\"size\":10,\"solidity\":0.2},\"type\":\"scatter\"}],\"scatterternary\":[{\"marker\":{\"colorbar\":{\"outlinewidth\":0,\"ticks\":\"\"}},\"type\":\"scatterternary\"}],\"surface\":[{\"colorbar\":{\"outlinewidth\":0,\"ticks\":\"\"},\"colorscale\":[[0.0,\"#0d0887\"],[0.1111111111111111,\"#46039f\"],[0.2222222222222222,\"#7201a8\"],[0.3333333333333333,\"#9c179e\"],[0.4444444444444444,\"#bd3786\"],[0.5555555555555556,\"#d8576b\"],[0.6666666666666666,\"#ed7953\"],[0.7777777777777778,\"#fb9f3a\"],[0.8888888888888888,\"#fdca26\"],[1.0,\"#f0f921\"]],\"type\":\"surface\"}],\"table\":[{\"cells\":{\"fill\":{\"color\":\"#EBF0F8\"},\"line\":{\"color\":\"white\"}},\"header\":{\"fill\":{\"color\":\"#C8D4E3\"},\"line\":{\"color\":\"white\"}},\"type\":\"table\"}]},\"layout\":{\"annotationdefaults\":{\"arrowcolor\":\"#2a3f5f\",\"arrowhead\":0,\"arrowwidth\":1},\"autotypenumbers\":\"strict\",\"coloraxis\":{\"colorbar\":{\"outlinewidth\":0,\"ticks\":\"\"}},\"colorscale\":{\"diverging\":[[0,\"#8e0152\"],[0.1,\"#c51b7d\"],[0.2,\"#de77ae\"],[0.3,\"#f1b6da\"],[0.4,\"#fde0ef\"],[0.5,\"#f7f7f7\"],[0.6,\"#e6f5d0\"],[0.7,\"#b8e186\"],[0.8,\"#7fbc41\"],[0.9,\"#4d9221\"],[1,\"#276419\"]],\"sequential\":[[0.0,\"#0d0887\"],[0.1111111111111111,\"#46039f\"],[0.2222222222222222,\"#7201a8\"],[0.3333333333333333,\"#9c179e\"],[0.4444444444444444,\"#bd3786\"],[0.5555555555555556,\"#d8576b\"],[0.6666666666666666,\"#ed7953\"],[0.7777777777777778,\"#fb9f3a\"],[0.8888888888888888,\"#fdca26\"],[1.0,\"#f0f921\"]],\"sequentialminus\":[[0.0,\"#0d0887\"],[0.1111111111111111,\"#46039f\"],[0.2222222222222222,\"#7201a8\"],[0.3333333333333333,\"#9c179e\"],[0.4444444444444444,\"#bd3786\"],[0.5555555555555556,\"#d8576b\"],[0.6666666666666666,\"#ed7953\"],[0.7777777777777778,\"#fb9f3a\"],[0.8888888888888888,\"#fdca26\"],[1.0,\"#f0f921\"]]},\"colorway\":[\"#636efa\",\"#EF553B\",\"#00cc96\",\"#ab63fa\",\"#FFA15A\",\"#19d3f3\",\"#FF6692\",\"#B6E880\",\"#FF97FF\",\"#FECB52\"],\"font\":{\"color\":\"#2a3f5f\"},\"geo\":{\"bgcolor\":\"white\",\"lakecolor\":\"white\",\"landcolor\":\"white\",\"showlakes\":true,\"showland\":true,\"subunitcolor\":\"#C8D4E3\"},\"hoverlabel\":{\"align\":\"left\"},\"hovermode\":\"closest\",\"mapbox\":{\"style\":\"light\"},\"paper_bgcolor\":\"white\",\"plot_bgcolor\":\"white\",\"polar\":{\"angularaxis\":{\"gridcolor\":\"#EBF0F8\",\"linecolor\":\"#EBF0F8\",\"ticks\":\"\"},\"bgcolor\":\"white\",\"radialaxis\":{\"gridcolor\":\"#EBF0F8\",\"linecolor\":\"#EBF0F8\",\"ticks\":\"\"}},\"scene\":{\"xaxis\":{\"backgroundcolor\":\"white\",\"gridcolor\":\"#DFE8F3\",\"gridwidth\":2,\"linecolor\":\"#EBF0F8\",\"showbackground\":true,\"ticks\":\"\",\"zerolinecolor\":\"#EBF0F8\"},\"yaxis\":{\"backgroundcolor\":\"white\",\"gridcolor\":\"#DFE8F3\",\"gridwidth\":2,\"linecolor\":\"#EBF0F8\",\"showbackground\":true,\"ticks\":\"\",\"zerolinecolor\":\"#EBF0F8\"},\"zaxis\":{\"backgroundcolor\":\"white\",\"gridcolor\":\"#DFE8F3\",\"gridwidth\":2,\"linecolor\":\"#EBF0F8\",\"showbackground\":true,\"ticks\":\"\",\"zerolinecolor\":\"#EBF0F8\"}},\"shapedefaults\":{\"line\":{\"color\":\"#2a3f5f\"}},\"ternary\":{\"aaxis\":{\"gridcolor\":\"#DFE8F3\",\"linecolor\":\"#A2B1C6\",\"ticks\":\"\"},\"baxis\":{\"gridcolor\":\"#DFE8F3\",\"linecolor\":\"#A2B1C6\",\"ticks\":\"\"},\"bgcolor\":\"white\",\"caxis\":{\"gridcolor\":\"#DFE8F3\",\"linecolor\":\"#A2B1C6\",\"ticks\":\"\"}},\"title\":{\"x\":0.05},\"xaxis\":{\"automargin\":true,\"gridcolor\":\"#EBF0F8\",\"linecolor\":\"#EBF0F8\",\"ticks\":\"\",\"title\":{\"standoff\":15},\"zerolinecolor\":\"#EBF0F8\",\"zerolinewidth\":2},\"yaxis\":{\"automargin\":true,\"gridcolor\":\"#EBF0F8\",\"linecolor\":\"#EBF0F8\",\"ticks\":\"\",\"title\":{\"standoff\":15},\"zerolinecolor\":\"#EBF0F8\",\"zerolinewidth\":2}}},\"xaxis\":{\"anchor\":\"y\",\"domain\":[0.0,0.175],\"showgrid\":true},\"yaxis\":{\"anchor\":\"x\",\"domain\":[0.0,1.0],\"showgrid\":true},\"xaxis2\":{\"anchor\":\"y2\",\"domain\":[0.275,0.45],\"showgrid\":true},\"yaxis2\":{\"anchor\":\"x2\",\"domain\":[0.0,1.0],\"showgrid\":true},\"xaxis3\":{\"anchor\":\"y3\",\"domain\":[0.55,0.7250000000000001],\"showgrid\":true},\"yaxis3\":{\"anchor\":\"x3\",\"domain\":[0.0,1.0],\"showgrid\":true},\"xaxis4\":{\"anchor\":\"y4\",\"domain\":[0.825,1.0],\"showgrid\":true},\"yaxis4\":{\"anchor\":\"x4\",\"domain\":[0.0,1.0],\"showgrid\":true},\"annotations\":[{\"font\":{\"size\":16},\"showarrow\":false,\"text\":\"Topic 0\",\"x\":0.0875,\"xanchor\":\"center\",\"xref\":\"paper\",\"y\":1.0,\"yanchor\":\"bottom\",\"yref\":\"paper\"},{\"font\":{\"size\":16},\"showarrow\":false,\"text\":\"Topic 1\",\"x\":0.36250000000000004,\"xanchor\":\"center\",\"xref\":\"paper\",\"y\":1.0,\"yanchor\":\"bottom\",\"yref\":\"paper\"}],\"title\":{\"font\":{\"size\":22,\"color\":\"Black\"},\"text\":\"Topic Word Scores\",\"x\":0.5,\"xanchor\":\"center\",\"yanchor\":\"top\"},\"hoverlabel\":{\"font\":{\"size\":16,\"family\":\"Rockwell\"},\"bgcolor\":\"white\"},\"showlegend\":false,\"width\":1000,\"height\":325.0},                        {\"responsive\": true}                    )                };                            </script>        </div>"
      ],
      "text/plain": [
       "Figure({\n",
       "    'data': [{'marker': {'color': '#D55E00'},\n",
       "              'orientation': 'h',\n",
       "              'type': 'bar',\n",
       "              'x': [0.03604853843719889, 0.03748194361491471,\n",
       "                    0.037884585758588905, 0.03812914866308834,\n",
       "                    0.040035768699138115, 0.0409525597905248, 0.04131612723085087,\n",
       "                    0.04446415763880185, 0.052537765395658825, 0.05639918411213384],\n",
       "              'xaxis': 'x',\n",
       "              'y': [いく  , あるいは  , ござい  , けれど  , 思い  , いっ  , 化  , 中  , まし  , そう  ],\n",
       "              'yaxis': 'y'},\n",
       "             {'marker': {'color': '#0072B2'},\n",
       "              'orientation': 'h',\n",
       "              'type': 'bar',\n",
       "              'x': [0.035641063943536125, 0.03989250377067592,\n",
       "                    0.04126452024559768, 0.048122401515959944, 0.05390821558487618,\n",
       "                    0.05816267624501129, 0.058345262710396244, 0.06789632929761096,\n",
       "                    0.07578744279840585, 0.09094479031639104],\n",
       "              'xaxis': 'x2',\n",
       "              'y': [必要  , つい  , 進学  , 学校  , 支援  , 化  , 等  , 考え  , 教育  , 大学  ],\n",
       "              'yaxis': 'y2'}],\n",
       "    'layout': {'annotations': [{'font': {'size': 16},\n",
       "                                'showarrow': False,\n",
       "                                'text': 'Topic 0',\n",
       "                                'x': 0.0875,\n",
       "                                'xanchor': 'center',\n",
       "                                'xref': 'paper',\n",
       "                                'y': 1.0,\n",
       "                                'yanchor': 'bottom',\n",
       "                                'yref': 'paper'},\n",
       "                               {'font': {'size': 16},\n",
       "                                'showarrow': False,\n",
       "                                'text': 'Topic 1',\n",
       "                                'x': 0.36250000000000004,\n",
       "                                'xanchor': 'center',\n",
       "                                'xref': 'paper',\n",
       "                                'y': 1.0,\n",
       "                                'yanchor': 'bottom',\n",
       "                                'yref': 'paper'}],\n",
       "               'height': 325.0,\n",
       "               'hoverlabel': {'bgcolor': 'white', 'font': {'family': 'Rockwell', 'size': 16}},\n",
       "               'showlegend': False,\n",
       "               'template': '...',\n",
       "               'title': {'font': {'color': 'Black', 'size': 22},\n",
       "                         'text': 'Topic Word Scores',\n",
       "                         'x': 0.5,\n",
       "                         'xanchor': 'center',\n",
       "                         'yanchor': 'top'},\n",
       "               'width': 1000,\n",
       "               'xaxis': {'anchor': 'y', 'domain': [0.0, 0.175], 'showgrid': True},\n",
       "               'xaxis2': {'anchor': 'y2', 'domain': [0.275, 0.45], 'showgrid': True},\n",
       "               'xaxis3': {'anchor': 'y3', 'domain': [0.55, 0.7250000000000001], 'showgrid': True},\n",
       "               'xaxis4': {'anchor': 'y4', 'domain': [0.825, 1.0], 'showgrid': True},\n",
       "               'yaxis': {'anchor': 'x', 'domain': [0.0, 1.0], 'showgrid': True},\n",
       "               'yaxis2': {'anchor': 'x2', 'domain': [0.0, 1.0], 'showgrid': True},\n",
       "               'yaxis3': {'anchor': 'x3', 'domain': [0.0, 1.0], 'showgrid': True},\n",
       "               'yaxis4': {'anchor': 'x4', 'domain': [0.0, 1.0], 'showgrid': True}}\n",
       "})"
      ]
     },
     "execution_count": 249,
     "metadata": {},
     "output_type": "execute_result"
    }
   ],
   "source": [
    "group_1.visualize_barchart(n_words=10)\n",
    "# group_1.visualize_topics()\n",
    "# group_1.get_topics()\n",
    "# group_1.get_topic(3)"
   ]
  },
  {
   "cell_type": "markdown",
   "metadata": {},
   "source": [
    "### LDA (would need fixing)"
   ]
  },
  {
   "cell_type": "code",
   "execution_count": 260,
   "metadata": {},
   "outputs": [],
   "source": [
    "# import re \n",
    "# from sklearn.decomposition import LatentDirichletAllocation\n",
    "# from sklearn.feature_extraction.text import CountVectorizer\n",
    "# from sklearn.pipeline import make_pipeline\n",
    "\n",
    "# topic = '少子化'\n",
    "\n",
    "# num_topics = 5 \n",
    "\n",
    "\n",
    "# mecab = MeCab.Tagger('-Owakati')\n",
    "# def tokenize_jp(text):\n",
    "#     text = re.sub('[、\\r\\n\\u3000]', '', text)\n",
    "\n",
    "#     # Read stopwords from file\n",
    "#     with open('stopwords-ja.txt', encoding='utf-8') as f:\n",
    "#         stopwords = set(f.read().split())\n",
    "    \n",
    "#     words = MeCab.Tagger(\"-Owakati\").parse(text).split()\n",
    "    \n",
    "#     # Remove stopwords from words\n",
    "#     words = [w for w in words if w not in stopwords]\n",
    "    \n",
    "#     return words\n",
    "\n",
    "\n",
    "# lda_model = make_pipeline(CountVectorizer(analyzer=tokenize_jp), LatentDirichletAllocation(n_components=num_topics, random_state=42))\n",
    "\n",
    "# group_topics = {}\n",
    "\n",
    "# # retrieve opinion sentences\n",
    "# for group_num, group_info in group_dict.items():\n",
    "#     opinion_sentences = []\n",
    "    \n",
    "#     for politician in group_info['politicians']:\n",
    "#         embeddings, dates, opinions = eh.get_embeddings_for_repr_for_topic(politician, '少子化')\n",
    "#         opinion_sentences.extend(opinions)\n",
    "\n",
    "#     # fit LDA on the opinion sentences\n",
    "#     lda_model.fit(opinion_sentences)\n",
    "    \n",
    "#     # get topics and their associated words\n",
    "#     feature_names = lda_model.named_steps['countvectorizer'].get_feature_names_out()\n",
    "#     topics = []\n",
    "#     for topic_idx, topic in enumerate(lda_model.named_steps['latentdirichletallocation'].components_):\n",
    "#         topic_words = [feature_names[i] for i in topic.argsort()[:-10 - 1:-1]]\n",
    "#         topics.append(topic_words)\n",
    "    \n",
    "#     group_topics[group_num] = topics"
   ]
  },
  {
   "cell_type": "code",
   "execution_count": 251,
   "metadata": {},
   "outputs": [
    {
     "data": {
      "text/plain": [
       "{1: [['考え', 'つい', '大学', '化', '御', 'たい', 'まし', 'けれど', '改革', '少子'],\n",
       "  ['教育', '考え', '化', '大学', '少子', '支援', '経済', '進学', '等', 'まし'],\n",
       "  ['地域', '大学', '社会', '省', '地方', '等', '連携', '支援', '科学', '国'],\n",
       "  ['中', 'そう', 'いっ', '人', '日本', '国', '学校', 'いく', 'まし', 'つい'],\n",
       "  ['化', '考え', '学校', '等', '教育', '大学', '文化', 'つい', '必要', '強化']],\n",
       " 2: [['そう', '思い', 'けれど', '化', '思っ', 'ふう', 'やはり', 'まし', '少子', '今'],\n",
       "  ['社会', '考え', '制度', '子供', '負担', 'いく', '経済', '保障', '世代', 'つい'],\n",
       "  ['国民', '法', '党', '案', 'ませ', 'つい', '改革', '政府', '考え', 'べき'],\n",
       "  ['年', '一', '二', 'ませ', '円', '五', '三', 'まし', '大臣', '〇'],\n",
       "  ['化', '考え', '支援', '対策', '少子', 'まいり', '重要', '等', '地域', '社会']],\n",
       " 3: [['化', '少子', '対策', '社会', '思い', '日本', '一', '国', '問題', 'ませ'],\n",
       "  ['国会', '党', '国民', 'ませ', 'べき', '思い', '議論', 'まし', '会', '民主'],\n",
       "  ['ませ', 'べき', '国民', '総理', '防衛', '内閣', 'す', '予算', '考え', 'でしょう'],\n",
       "  ['思い', '子供', 'たい', 'ませ', 'そう', '方', 'けれど', '子育て', 'まし', '化'],\n",
       "  ['考え', '思い', 'そう', 'ふう', 'こう', '地方', 'いく', '国', '政策', 'べき']]}"
      ]
     },
     "execution_count": 251,
     "metadata": {},
     "output_type": "execute_result"
    }
   ],
   "source": [
    "group_topics"
   ]
  },
  {
   "cell_type": "code",
   "execution_count": null,
   "metadata": {},
   "outputs": [],
   "source": []
  }
 ],
 "metadata": {
  "kernelspec": {
   "display_name": "Python 3",
   "language": "python",
   "name": "python3"
  },
  "language_info": {
   "codemirror_mode": {
    "name": "ipython",
    "version": 3
   },
   "file_extension": ".py",
   "mimetype": "text/x-python",
   "name": "python",
   "nbconvert_exporter": "python",
   "pygments_lexer": "ipython3",
   "version": "3.8.18"
  }
 },
 "nbformat": 4,
 "nbformat_minor": 2
}
